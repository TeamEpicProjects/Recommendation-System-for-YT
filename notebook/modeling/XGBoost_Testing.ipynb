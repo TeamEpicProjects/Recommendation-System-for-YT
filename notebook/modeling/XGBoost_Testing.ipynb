{
 "cells": [
  {
   "cell_type": "markdown",
   "metadata": {
    "id": "9nFlr6kPBbem"
   },
   "source": [
    "# Import Libraries"
   ]
  },
  {
   "cell_type": "code",
   "execution_count": 1,
   "metadata": {
    "id": "E4G71ohyBbep"
   },
   "outputs": [],
   "source": [
    "import pandas as pd\n",
    "from sklearn.feature_extraction.text import TfidfVectorizer"
   ]
  },
  {
   "cell_type": "markdown",
   "metadata": {
    "id": "EYwKjCzHBbes"
   },
   "source": [
    "# Read the dataset "
   ]
  },
  {
   "cell_type": "code",
   "execution_count": 135,
   "metadata": {
    "colab": {
     "base_uri": "https://localhost:8080/"
    },
    "id": "_4qXQFEPBbes",
    "outputId": "41b3d2ad-8724-4adc-e931-de905e29f5a6"
   },
   "outputs": [
    {
     "name": "stderr",
     "output_type": "stream",
     "text": [
      "/home/shivshaurya/anaconda3/lib/python3.8/site-packages/IPython/core/interactiveshell.py:3331: DtypeWarning: Columns (0,3,7) have mixed types.Specify dtype option on import or set low_memory=False.\n",
      "  exec(code_obj, self.user_global_ns, self.user_ns)\n"
     ]
    }
   ],
   "source": [
    "df = pd.read_csv(\"youTubeSearchListChattishgarh.csv\",index_col=[0])"
   ]
  },
  {
   "cell_type": "code",
   "execution_count": 136,
   "metadata": {
    "colab": {
     "base_uri": "https://localhost:8080/",
     "height": 289
    },
    "id": "NMP7aME6Bbet",
    "outputId": "bbc2bdb5-7461-4665-fcfe-413afdadef7c"
   },
   "outputs": [
    {
     "data": {
      "text/html": [
       "<div>\n",
       "<style scoped>\n",
       "    .dataframe tbody tr th:only-of-type {\n",
       "        vertical-align: middle;\n",
       "    }\n",
       "\n",
       "    .dataframe tbody tr th {\n",
       "        vertical-align: top;\n",
       "    }\n",
       "\n",
       "    .dataframe thead th {\n",
       "        text-align: right;\n",
       "    }\n",
       "</style>\n",
       "<table border=\"1\" class=\"dataframe\">\n",
       "  <thead>\n",
       "    <tr style=\"text-align: right;\">\n",
       "      <th></th>\n",
       "      <th>ContentId</th>\n",
       "      <th>title</th>\n",
       "      <th>viewCount</th>\n",
       "      <th>likeCount</th>\n",
       "      <th>dislikeCount</th>\n",
       "      <th>commentCount</th>\n",
       "      <th>favoriteCount</th>\n",
       "      <th>publishedAt</th>\n",
       "      <th>description</th>\n",
       "      <th>duration</th>\n",
       "      <th>tags</th>\n",
       "    </tr>\n",
       "  </thead>\n",
       "  <tbody>\n",
       "    <tr>\n",
       "      <th>0</th>\n",
       "      <td>lBvknjH3MF0</td>\n",
       "      <td>Akash Chopra Hindi Commentary</td>\n",
       "      <td>1092</td>\n",
       "      <td>83</td>\n",
       "      <td>0</td>\n",
       "      <td>0</td>\n",
       "      <td>0</td>\n",
       "      <td>2021-05-05T10:04:48Z</td>\n",
       "      <td>Follow for more on Insta \\n\\nhttps://www.insta...</td>\n",
       "      <td>PT30S</td>\n",
       "      <td>['Cricket', 'India', 'Commentary', 'Hindijokes...</td>\n",
       "    </tr>\n",
       "    <tr>\n",
       "      <th>1</th>\n",
       "      <td>qlReo1HxJpE</td>\n",
       "      <td>THE LAUGH CLUB OPEN MIC VLOG 2</td>\n",
       "      <td>14702</td>\n",
       "      <td>749</td>\n",
       "      <td>3</td>\n",
       "      <td>19</td>\n",
       "      <td>0</td>\n",
       "      <td>2021-02-13T06:19:39Z</td>\n",
       "      <td>#STANDUPCOMEDY #COMEDY #LAUGHCLUB\\n\\nTHIS VIDE...</td>\n",
       "      <td>PT6M42S</td>\n",
       "      <td>[]</td>\n",
       "    </tr>\n",
       "    <tr>\n",
       "      <th>2</th>\n",
       "      <td>b0SnJGhuSFQ</td>\n",
       "      <td>FUNNY ROAST OF APPLE 🔥</td>\n",
       "      <td>10370</td>\n",
       "      <td>388</td>\n",
       "      <td>3</td>\n",
       "      <td>19</td>\n",
       "      <td>0</td>\n",
       "      <td>2021-02-04T01:34:45Z</td>\n",
       "      <td>#ROAST #APPLE #IPHONE #AIRPOD\\n\\nITS A MICRO -...</td>\n",
       "      <td>PT3M5S</td>\n",
       "      <td>['Roast', 'Apple', 'iPhone', 'Airpod', 'Jokes'...</td>\n",
       "    </tr>\n",
       "    <tr>\n",
       "      <th>3</th>\n",
       "      <td>nfBqb5ZEPys</td>\n",
       "      <td>Stand Up Comedy Homey B</td>\n",
       "      <td>1211</td>\n",
       "      <td>21</td>\n",
       "      <td>0</td>\n",
       "      <td>9</td>\n",
       "      <td>0</td>\n",
       "      <td>2020-12-12T10:35:18Z</td>\n",
       "      <td>Crowd work stand up comedy by HomeyB\\n\\nhttps:...</td>\n",
       "      <td>PT29S</td>\n",
       "      <td>['Standupcomedy', 'Standup', 'Jokes', 'Haha', ...</td>\n",
       "    </tr>\n",
       "    <tr>\n",
       "      <th>4</th>\n",
       "      <td>ZbOQhsNS87s</td>\n",
       "      <td>TIKTOK ZINDA HAI | NEW CLEAR FAMILY | FAMILY C...</td>\n",
       "      <td>32404</td>\n",
       "      <td>6003</td>\n",
       "      <td>23</td>\n",
       "      <td>344</td>\n",
       "      <td>0</td>\n",
       "      <td>2020-07-19T23:35:01Z</td>\n",
       "      <td>Link first episode EK THA TIKTOK -https://yout...</td>\n",
       "      <td>PT8M18S</td>\n",
       "      <td>['TIKTOKROAST', 'TIKTOK', 'TIKTOKZINDAHAI', 'E...</td>\n",
       "    </tr>\n",
       "  </tbody>\n",
       "</table>\n",
       "</div>"
      ],
      "text/plain": [
       "     ContentId                                              title viewCount  \\\n",
       "0  lBvknjH3MF0                      Akash Chopra Hindi Commentary      1092   \n",
       "1  qlReo1HxJpE                     THE LAUGH CLUB OPEN MIC VLOG 2     14702   \n",
       "2  b0SnJGhuSFQ                             FUNNY ROAST OF APPLE 🔥     10370   \n",
       "3  nfBqb5ZEPys                            Stand Up Comedy Homey B      1211   \n",
       "4  ZbOQhsNS87s  TIKTOK ZINDA HAI | NEW CLEAR FAMILY | FAMILY C...     32404   \n",
       "\n",
       "  likeCount dislikeCount commentCount favoriteCount           publishedAt  \\\n",
       "0        83            0            0             0  2021-05-05T10:04:48Z   \n",
       "1       749            3           19             0  2021-02-13T06:19:39Z   \n",
       "2       388            3           19             0  2021-02-04T01:34:45Z   \n",
       "3        21            0            9             0  2020-12-12T10:35:18Z   \n",
       "4      6003           23          344             0  2020-07-19T23:35:01Z   \n",
       "\n",
       "                                         description duration  \\\n",
       "0  Follow for more on Insta \\n\\nhttps://www.insta...    PT30S   \n",
       "1  #STANDUPCOMEDY #COMEDY #LAUGHCLUB\\n\\nTHIS VIDE...  PT6M42S   \n",
       "2  #ROAST #APPLE #IPHONE #AIRPOD\\n\\nITS A MICRO -...   PT3M5S   \n",
       "3  Crowd work stand up comedy by HomeyB\\n\\nhttps:...    PT29S   \n",
       "4  Link first episode EK THA TIKTOK -https://yout...  PT8M18S   \n",
       "\n",
       "                                                tags  \n",
       "0  ['Cricket', 'India', 'Commentary', 'Hindijokes...  \n",
       "1                                                 []  \n",
       "2  ['Roast', 'Apple', 'iPhone', 'Airpod', 'Jokes'...  \n",
       "3  ['Standupcomedy', 'Standup', 'Jokes', 'Haha', ...  \n",
       "4  ['TIKTOKROAST', 'TIKTOK', 'TIKTOKZINDAHAI', 'E...  "
      ]
     },
     "execution_count": 136,
     "metadata": {},
     "output_type": "execute_result"
    }
   ],
   "source": [
    "df.head()"
   ]
  },
  {
   "cell_type": "code",
   "execution_count": 137,
   "metadata": {
    "colab": {
     "base_uri": "https://localhost:8080/"
    },
    "id": "jiVFJVojBbeu",
    "outputId": "d4c8a22b-3368-49ec-d246-973aa19a5424"
   },
   "outputs": [
    {
     "data": {
      "text/plain": [
       "(145233, 11)"
      ]
     },
     "execution_count": 137,
     "metadata": {},
     "output_type": "execute_result"
    }
   ],
   "source": [
    "df.shape"
   ]
  },
  {
   "cell_type": "markdown",
   "metadata": {
    "id": "s4TEPRGeBbeu"
   },
   "source": [
    "# Check for null value count"
   ]
  },
  {
   "cell_type": "code",
   "execution_count": 138,
   "metadata": {
    "colab": {
     "base_uri": "https://localhost:8080/"
    },
    "id": "lWf-65itBbev",
    "outputId": "89ba0ec4-a769-4ffd-f9f9-14a6534e5b1e"
   },
   "outputs": [
    {
     "data": {
      "text/plain": [
       "ContentId            0\n",
       "title                0\n",
       "viewCount        36052\n",
       "likeCount        36052\n",
       "dislikeCount     36052\n",
       "commentCount     36052\n",
       "favoriteCount    36052\n",
       "publishedAt      36052\n",
       "description      39628\n",
       "duration         36053\n",
       "tags             36053\n",
       "dtype: int64"
      ]
     },
     "execution_count": 138,
     "metadata": {},
     "output_type": "execute_result"
    }
   ],
   "source": [
    "df.isnull().sum()"
   ]
  },
  {
   "cell_type": "code",
   "execution_count": 139,
   "metadata": {
    "colab": {
     "base_uri": "https://localhost:8080/"
    },
    "id": "Co0UucEDBbew",
    "outputId": "cd8a2fef-739e-4ac6-8fe1-ffc19ac25f67"
   },
   "outputs": [
    {
     "name": "stdout",
     "output_type": "stream",
     "text": [
      "<class 'pandas.core.frame.DataFrame'>\n",
      "Index: 145233 entries, 0 to 109180\n",
      "Data columns (total 11 columns):\n",
      " #   Column         Non-Null Count   Dtype \n",
      "---  ------         --------------   ----- \n",
      " 0   ContentId      145233 non-null  object\n",
      " 1   title          145233 non-null  object\n",
      " 2   viewCount      109181 non-null  object\n",
      " 3   likeCount      109181 non-null  object\n",
      " 4   dislikeCount   109181 non-null  object\n",
      " 5   commentCount   109181 non-null  object\n",
      " 6   favoriteCount  109181 non-null  object\n",
      " 7   publishedAt    109181 non-null  object\n",
      " 8   description    105605 non-null  object\n",
      " 9   duration       109180 non-null  object\n",
      " 10  tags           109180 non-null  object\n",
      "dtypes: object(11)\n",
      "memory usage: 13.3+ MB\n"
     ]
    }
   ],
   "source": [
    "df.info()"
   ]
  },
  {
   "cell_type": "markdown",
   "metadata": {
    "id": "_TIGSe2ABbew"
   },
   "source": [
    "# Converting Object dtype to strings"
   ]
  },
  {
   "cell_type": "code",
   "execution_count": 140,
   "metadata": {
    "id": "uhEr7YTuBbew"
   },
   "outputs": [],
   "source": [
    "df['title'] = df['title'].convert_dtypes()\n",
    "df['description'] = df['description'].convert_dtypes()\n",
    "df['tags'] = df['tags'].convert_dtypes()"
   ]
  },
  {
   "cell_type": "code",
   "execution_count": 141,
   "metadata": {
    "colab": {
     "base_uri": "https://localhost:8080/"
    },
    "id": "DUt0GW8OBbex",
    "outputId": "98ba3b3a-12da-463d-b5f2-e01e044d617b"
   },
   "outputs": [
    {
     "name": "stdout",
     "output_type": "stream",
     "text": [
      "<class 'pandas.core.frame.DataFrame'>\n",
      "Index: 145233 entries, 0 to 109180\n",
      "Data columns (total 11 columns):\n",
      " #   Column         Non-Null Count   Dtype \n",
      "---  ------         --------------   ----- \n",
      " 0   ContentId      145233 non-null  object\n",
      " 1   title          145233 non-null  string\n",
      " 2   viewCount      109181 non-null  object\n",
      " 3   likeCount      109181 non-null  object\n",
      " 4   dislikeCount   109181 non-null  object\n",
      " 5   commentCount   109181 non-null  object\n",
      " 6   favoriteCount  109181 non-null  object\n",
      " 7   publishedAt    109181 non-null  object\n",
      " 8   description    105605 non-null  string\n",
      " 9   duration       109180 non-null  object\n",
      " 10  tags           109180 non-null  string\n",
      "dtypes: object(8), string(3)\n",
      "memory usage: 13.3+ MB\n"
     ]
    }
   ],
   "source": [
    "df.info()"
   ]
  },
  {
   "cell_type": "markdown",
   "metadata": {
    "id": "NmuMZPNjBbex"
   },
   "source": [
    "# Dropping Null Values"
   ]
  },
  {
   "cell_type": "code",
   "execution_count": 142,
   "metadata": {
    "id": "Fpixjh10Bbex"
   },
   "outputs": [],
   "source": [
    "df = df.dropna()\n",
    "df = df.reset_index(drop=True)"
   ]
  },
  {
   "cell_type": "code",
   "execution_count": 143,
   "metadata": {
    "colab": {
     "base_uri": "https://localhost:8080/"
    },
    "id": "SAsXxjG1Bbex",
    "outputId": "6a22d599-3b94-4377-e460-ad9979e380d0"
   },
   "outputs": [
    {
     "name": "stdout",
     "output_type": "stream",
     "text": [
      "<class 'pandas.core.frame.DataFrame'>\n",
      "RangeIndex: 105604 entries, 0 to 105603\n",
      "Data columns (total 11 columns):\n",
      " #   Column         Non-Null Count   Dtype \n",
      "---  ------         --------------   ----- \n",
      " 0   ContentId      105604 non-null  object\n",
      " 1   title          105604 non-null  string\n",
      " 2   viewCount      105604 non-null  object\n",
      " 3   likeCount      105604 non-null  object\n",
      " 4   dislikeCount   105604 non-null  object\n",
      " 5   commentCount   105604 non-null  object\n",
      " 6   favoriteCount  105604 non-null  object\n",
      " 7   publishedAt    105604 non-null  object\n",
      " 8   description    105604 non-null  string\n",
      " 9   duration       105604 non-null  object\n",
      " 10  tags           105604 non-null  string\n",
      "dtypes: object(8), string(3)\n",
      "memory usage: 8.9+ MB\n"
     ]
    }
   ],
   "source": [
    "df.info()"
   ]
  },
  {
   "cell_type": "code",
   "execution_count": 144,
   "metadata": {
    "colab": {
     "base_uri": "https://localhost:8080/"
    },
    "id": "eJrqBiWOBbex",
    "outputId": "fe48070b-62b3-456c-bc5b-dd9656f8ef63"
   },
   "outputs": [
    {
     "data": {
      "text/plain": [
       "ContentId        0\n",
       "title            0\n",
       "viewCount        0\n",
       "likeCount        0\n",
       "dislikeCount     0\n",
       "commentCount     0\n",
       "favoriteCount    0\n",
       "publishedAt      0\n",
       "description      0\n",
       "duration         0\n",
       "tags             0\n",
       "dtype: int64"
      ]
     },
     "execution_count": 144,
     "metadata": {},
     "output_type": "execute_result"
    }
   ],
   "source": [
    "df.isnull().sum()"
   ]
  },
  {
   "cell_type": "markdown",
   "metadata": {
    "id": "D8s3OecMBbex"
   },
   "source": [
    "# Removing tags, special characters and digits, convert to lower case"
   ]
  },
  {
   "cell_type": "code",
   "execution_count": 145,
   "metadata": {
    "colab": {
     "base_uri": "https://localhost:8080/",
     "height": 0
    },
    "id": "1sHuTNYFBbey",
    "outputId": "38ec1274-783e-4fbb-bc96-f4c1008e1672"
   },
   "outputs": [
    {
     "data": {
      "text/plain": [
       "'funny roast of apple roast apple iphone airpod its a micro roast this video was made for pure entertainment purpose follow me here instagram https www instagram com homeybvibe fb https www facebook com homeybvibe twitter https twitter com homeybvibe roast apple iphone airpod jokes funny indian comedy roasting roastvideoindia standup comedy '"
      ]
     },
     "execution_count": 145,
     "metadata": {},
     "output_type": "execute_result"
    }
   ],
   "source": [
    "import re\n",
    "def pre_process(text):\n",
    "    \n",
    "    # lowercase\n",
    "    text=text.lower()\n",
    "    \n",
    "    #remove tags\n",
    "    text=re.sub(\"\",\"\",text)\n",
    "    \n",
    "    # remove special characters and digits\n",
    "    text=re.sub(\"(\\\\d|\\\\W)+\",\" \",text)\n",
    "    \n",
    "    return text\n",
    "\n",
    "df['text'] = df['title'] + df['description'] + df['tags']\n",
    "df['text'] = df['text'].apply(lambda x:pre_process(x))\n",
    "\n",
    "#show the second 'text' just for fun\n",
    "df['text'][2]"
   ]
  },
  {
   "cell_type": "code",
   "execution_count": 146,
   "metadata": {
    "colab": {
     "base_uri": "https://localhost:8080/",
     "height": 0
    },
    "id": "0OFw1vZXBbey",
    "outputId": "f0ab0c09-f012-4d4b-f81b-687c1063a973"
   },
   "outputs": [
    {
     "data": {
      "text/html": [
       "<div>\n",
       "<style scoped>\n",
       "    .dataframe tbody tr th:only-of-type {\n",
       "        vertical-align: middle;\n",
       "    }\n",
       "\n",
       "    .dataframe tbody tr th {\n",
       "        vertical-align: top;\n",
       "    }\n",
       "\n",
       "    .dataframe thead th {\n",
       "        text-align: right;\n",
       "    }\n",
       "</style>\n",
       "<table border=\"1\" class=\"dataframe\">\n",
       "  <thead>\n",
       "    <tr style=\"text-align: right;\">\n",
       "      <th></th>\n",
       "      <th>ContentId</th>\n",
       "      <th>title</th>\n",
       "      <th>viewCount</th>\n",
       "      <th>likeCount</th>\n",
       "      <th>dislikeCount</th>\n",
       "      <th>commentCount</th>\n",
       "      <th>favoriteCount</th>\n",
       "      <th>publishedAt</th>\n",
       "      <th>description</th>\n",
       "      <th>duration</th>\n",
       "      <th>tags</th>\n",
       "      <th>text</th>\n",
       "    </tr>\n",
       "  </thead>\n",
       "  <tbody>\n",
       "    <tr>\n",
       "      <th>0</th>\n",
       "      <td>lBvknjH3MF0</td>\n",
       "      <td>Akash Chopra Hindi Commentary</td>\n",
       "      <td>1092</td>\n",
       "      <td>83</td>\n",
       "      <td>0</td>\n",
       "      <td>0</td>\n",
       "      <td>0</td>\n",
       "      <td>2021-05-05T10:04:48Z</td>\n",
       "      <td>Follow for more on Insta \n",
       "\n",
       "https://www.instagr...</td>\n",
       "      <td>PT30S</td>\n",
       "      <td>['Cricket', 'India', 'Commentary', 'Hindijokes...</td>\n",
       "      <td>akash chopra hindi commentaryfollow for more o...</td>\n",
       "    </tr>\n",
       "    <tr>\n",
       "      <th>1</th>\n",
       "      <td>qlReo1HxJpE</td>\n",
       "      <td>THE LAUGH CLUB OPEN MIC VLOG 2</td>\n",
       "      <td>14702</td>\n",
       "      <td>749</td>\n",
       "      <td>3</td>\n",
       "      <td>19</td>\n",
       "      <td>0</td>\n",
       "      <td>2021-02-13T06:19:39Z</td>\n",
       "      <td>#STANDUPCOMEDY #COMEDY #LAUGHCLUB\n",
       "\n",
       "THIS VIDEO ...</td>\n",
       "      <td>PT6M42S</td>\n",
       "      <td>[]</td>\n",
       "      <td>the laugh club open mic vlog standupcomedy com...</td>\n",
       "    </tr>\n",
       "    <tr>\n",
       "      <th>2</th>\n",
       "      <td>b0SnJGhuSFQ</td>\n",
       "      <td>FUNNY ROAST OF APPLE 🔥</td>\n",
       "      <td>10370</td>\n",
       "      <td>388</td>\n",
       "      <td>3</td>\n",
       "      <td>19</td>\n",
       "      <td>0</td>\n",
       "      <td>2021-02-04T01:34:45Z</td>\n",
       "      <td>#ROAST #APPLE #IPHONE #AIRPOD\n",
       "\n",
       "ITS A MICRO - R...</td>\n",
       "      <td>PT3M5S</td>\n",
       "      <td>['Roast', 'Apple', 'iPhone', 'Airpod', 'Jokes'...</td>\n",
       "      <td>funny roast of apple roast apple iphone airpod...</td>\n",
       "    </tr>\n",
       "    <tr>\n",
       "      <th>3</th>\n",
       "      <td>nfBqb5ZEPys</td>\n",
       "      <td>Stand Up Comedy Homey B</td>\n",
       "      <td>1211</td>\n",
       "      <td>21</td>\n",
       "      <td>0</td>\n",
       "      <td>9</td>\n",
       "      <td>0</td>\n",
       "      <td>2020-12-12T10:35:18Z</td>\n",
       "      <td>Crowd work stand up comedy by HomeyB\n",
       "\n",
       "https://...</td>\n",
       "      <td>PT29S</td>\n",
       "      <td>['Standupcomedy', 'Standup', 'Jokes', 'Haha', ...</td>\n",
       "      <td>stand up comedy homey bcrowd work stand up com...</td>\n",
       "    </tr>\n",
       "    <tr>\n",
       "      <th>4</th>\n",
       "      <td>ZbOQhsNS87s</td>\n",
       "      <td>TIKTOK ZINDA HAI | NEW CLEAR FAMILY | FAMILY C...</td>\n",
       "      <td>32404</td>\n",
       "      <td>6003</td>\n",
       "      <td>23</td>\n",
       "      <td>344</td>\n",
       "      <td>0</td>\n",
       "      <td>2020-07-19T23:35:01Z</td>\n",
       "      <td>Link first episode EK THA TIKTOK -https://yout...</td>\n",
       "      <td>PT8M18S</td>\n",
       "      <td>['TIKTOKROAST', 'TIKTOK', 'TIKTOKZINDAHAI', 'E...</td>\n",
       "      <td>tiktok zinda hai new clear family family comed...</td>\n",
       "    </tr>\n",
       "  </tbody>\n",
       "</table>\n",
       "</div>"
      ],
      "text/plain": [
       "     ContentId                                              title viewCount  \\\n",
       "0  lBvknjH3MF0                      Akash Chopra Hindi Commentary      1092   \n",
       "1  qlReo1HxJpE                     THE LAUGH CLUB OPEN MIC VLOG 2     14702   \n",
       "2  b0SnJGhuSFQ                             FUNNY ROAST OF APPLE 🔥     10370   \n",
       "3  nfBqb5ZEPys                            Stand Up Comedy Homey B      1211   \n",
       "4  ZbOQhsNS87s  TIKTOK ZINDA HAI | NEW CLEAR FAMILY | FAMILY C...     32404   \n",
       "\n",
       "  likeCount dislikeCount commentCount favoriteCount           publishedAt  \\\n",
       "0        83            0            0             0  2021-05-05T10:04:48Z   \n",
       "1       749            3           19             0  2021-02-13T06:19:39Z   \n",
       "2       388            3           19             0  2021-02-04T01:34:45Z   \n",
       "3        21            0            9             0  2020-12-12T10:35:18Z   \n",
       "4      6003           23          344             0  2020-07-19T23:35:01Z   \n",
       "\n",
       "                                         description duration  \\\n",
       "0  Follow for more on Insta \n",
       "\n",
       "https://www.instagr...    PT30S   \n",
       "1  #STANDUPCOMEDY #COMEDY #LAUGHCLUB\n",
       "\n",
       "THIS VIDEO ...  PT6M42S   \n",
       "2  #ROAST #APPLE #IPHONE #AIRPOD\n",
       "\n",
       "ITS A MICRO - R...   PT3M5S   \n",
       "3  Crowd work stand up comedy by HomeyB\n",
       "\n",
       "https://...    PT29S   \n",
       "4  Link first episode EK THA TIKTOK -https://yout...  PT8M18S   \n",
       "\n",
       "                                                tags  \\\n",
       "0  ['Cricket', 'India', 'Commentary', 'Hindijokes...   \n",
       "1                                                 []   \n",
       "2  ['Roast', 'Apple', 'iPhone', 'Airpod', 'Jokes'...   \n",
       "3  ['Standupcomedy', 'Standup', 'Jokes', 'Haha', ...   \n",
       "4  ['TIKTOKROAST', 'TIKTOK', 'TIKTOKZINDAHAI', 'E...   \n",
       "\n",
       "                                                text  \n",
       "0  akash chopra hindi commentaryfollow for more o...  \n",
       "1  the laugh club open mic vlog standupcomedy com...  \n",
       "2  funny roast of apple roast apple iphone airpod...  \n",
       "3  stand up comedy homey bcrowd work stand up com...  \n",
       "4  tiktok zinda hai new clear family family comed...  "
      ]
     },
     "execution_count": 146,
     "metadata": {},
     "output_type": "execute_result"
    }
   ],
   "source": [
    "df.head()"
   ]
  },
  {
   "cell_type": "markdown",
   "metadata": {
    "id": "_KNrCXtaBbey"
   },
   "source": [
    "# Lemmatization and Removal of Stopwords"
   ]
  },
  {
   "cell_type": "code",
   "execution_count": 147,
   "metadata": {
    "colab": {
     "base_uri": "https://localhost:8080/"
    },
    "id": "A94gC0THBbez",
    "outputId": "b421f7f1-089b-448a-f4ab-37e85ab90698"
   },
   "outputs": [
    {
     "name": "stderr",
     "output_type": "stream",
     "text": [
      "[nltk_data] Downloading package punkt to\n",
      "[nltk_data]     /home/shivshaurya/nltk_data...\n",
      "[nltk_data]   Package punkt is already up-to-date!\n",
      "[nltk_data] Downloading package wordnet to\n",
      "[nltk_data]     /home/shivshaurya/nltk_data...\n",
      "[nltk_data]   Package wordnet is already up-to-date!\n",
      "[nltk_data] Downloading package stopwords to\n",
      "[nltk_data]     /home/shivshaurya/nltk_data...\n",
      "[nltk_data]   Package stopwords is already up-to-date!\n"
     ]
    },
    {
     "name": "stdout",
     "output_type": "stream",
     "text": [
      "Total Words after processing:  21876070\n",
      "Max word count of a Document:  1921\n",
      "Mean word count of Documents:  207.15190712473012\n"
     ]
    }
   ],
   "source": [
    "import re\n",
    "import nltk\n",
    "nltk.download('punkt')\n",
    "nltk.download('wordnet')\n",
    "nltk.download('stopwords')\n",
    "import string\n",
    "from nltk.tokenize import word_tokenize\n",
    "from nltk.stem.porter import PorterStemmer\n",
    "from nltk.stem import WordNetLemmatizer\n",
    "from nltk.corpus import stopwords\n",
    "stop_words = set(stopwords.words('english'))\n",
    "processed_all_documents = list()\n",
    "\n",
    "for desc in df['text']:\n",
    "    word_tokens = word_tokenize(desc) \n",
    "    \n",
    "    filtered_sentence = [] \n",
    "\n",
    "    # Removing Stopwords\n",
    "    for w in word_tokens: \n",
    "        if w not in stop_words: \n",
    "            filtered_sentence.append(w) \n",
    "    \n",
    "    # Lemmetization\n",
    "    lemma_word = []\n",
    "    wordnet_lemmatizer = WordNetLemmatizer()\n",
    "    for w in filtered_sentence:\n",
    "        word1 = wordnet_lemmatizer.lemmatize(w, pos = \"n\")\n",
    "        word2 = wordnet_lemmatizer.lemmatize(word1, pos = \"v\")\n",
    "        word3 = wordnet_lemmatizer.lemmatize(word2, pos = (\"a\"))\n",
    "        lemma_word.append(word3)\n",
    "    words = ' '.join(lemma_word)\n",
    "    processed_all_documents.append(words)\n",
    "df['Processed_text'] = processed_all_documents\n",
    "df['Word_Count'] = [len(desc.split(' ')) for desc in df['Processed_text']]\n",
    "\n",
    "wordCount_after = df['Word_Count'].sum()\n",
    "print(\"Total Words after processing: \", wordCount_after)\n",
    "print(\"Max word count of a Document: \", df['Word_Count'].max())\n",
    "print(\"Mean word count of Documents: \", df['Word_Count'].mean())"
   ]
  },
  {
   "cell_type": "code",
   "execution_count": 148,
   "metadata": {
    "colab": {
     "base_uri": "https://localhost:8080/",
     "height": 632
    },
    "id": "PvfgkjBZBbe0",
    "outputId": "263b46be-87d1-449a-b713-28c2db4cc075"
   },
   "outputs": [
    {
     "data": {
      "text/html": [
       "<div>\n",
       "<style scoped>\n",
       "    .dataframe tbody tr th:only-of-type {\n",
       "        vertical-align: middle;\n",
       "    }\n",
       "\n",
       "    .dataframe tbody tr th {\n",
       "        vertical-align: top;\n",
       "    }\n",
       "\n",
       "    .dataframe thead th {\n",
       "        text-align: right;\n",
       "    }\n",
       "</style>\n",
       "<table border=\"1\" class=\"dataframe\">\n",
       "  <thead>\n",
       "    <tr style=\"text-align: right;\">\n",
       "      <th></th>\n",
       "      <th>ContentId</th>\n",
       "      <th>title</th>\n",
       "      <th>viewCount</th>\n",
       "      <th>likeCount</th>\n",
       "      <th>dislikeCount</th>\n",
       "      <th>commentCount</th>\n",
       "      <th>favoriteCount</th>\n",
       "      <th>publishedAt</th>\n",
       "      <th>description</th>\n",
       "      <th>duration</th>\n",
       "      <th>tags</th>\n",
       "      <th>text</th>\n",
       "      <th>Processed_text</th>\n",
       "      <th>Word_Count</th>\n",
       "    </tr>\n",
       "  </thead>\n",
       "  <tbody>\n",
       "    <tr>\n",
       "      <th>0</th>\n",
       "      <td>lBvknjH3MF0</td>\n",
       "      <td>Akash Chopra Hindi Commentary</td>\n",
       "      <td>1092</td>\n",
       "      <td>83</td>\n",
       "      <td>0</td>\n",
       "      <td>0</td>\n",
       "      <td>0</td>\n",
       "      <td>2021-05-05T10:04:48Z</td>\n",
       "      <td>Follow for more on Insta \n",
       "\n",
       "https://www.instagr...</td>\n",
       "      <td>PT30S</td>\n",
       "      <td>['Cricket', 'India', 'Commentary', 'Hindijokes...</td>\n",
       "      <td>akash chopra hindi commentaryfollow for more o...</td>\n",
       "      <td>akash chopra hindi commentaryfollow insta http...</td>\n",
       "      <td>16</td>\n",
       "    </tr>\n",
       "    <tr>\n",
       "      <th>1</th>\n",
       "      <td>qlReo1HxJpE</td>\n",
       "      <td>THE LAUGH CLUB OPEN MIC VLOG 2</td>\n",
       "      <td>14702</td>\n",
       "      <td>749</td>\n",
       "      <td>3</td>\n",
       "      <td>19</td>\n",
       "      <td>0</td>\n",
       "      <td>2021-02-13T06:19:39Z</td>\n",
       "      <td>#STANDUPCOMEDY #COMEDY #LAUGHCLUB\n",
       "\n",
       "THIS VIDEO ...</td>\n",
       "      <td>PT6M42S</td>\n",
       "      <td>[]</td>\n",
       "      <td>the laugh club open mic vlog standupcomedy com...</td>\n",
       "      <td>laugh club open mic vlog standupcomedy comedy ...</td>\n",
       "      <td>67</td>\n",
       "    </tr>\n",
       "    <tr>\n",
       "      <th>2</th>\n",
       "      <td>b0SnJGhuSFQ</td>\n",
       "      <td>FUNNY ROAST OF APPLE 🔥</td>\n",
       "      <td>10370</td>\n",
       "      <td>388</td>\n",
       "      <td>3</td>\n",
       "      <td>19</td>\n",
       "      <td>0</td>\n",
       "      <td>2021-02-04T01:34:45Z</td>\n",
       "      <td>#ROAST #APPLE #IPHONE #AIRPOD\n",
       "\n",
       "ITS A MICRO - R...</td>\n",
       "      <td>PT3M5S</td>\n",
       "      <td>['Roast', 'Apple', 'iPhone', 'Airpod', 'Jokes'...</td>\n",
       "      <td>funny roast of apple roast apple iphone airpod...</td>\n",
       "      <td>funny roast apple roast apple iphone airpod mi...</td>\n",
       "      <td>44</td>\n",
       "    </tr>\n",
       "    <tr>\n",
       "      <th>3</th>\n",
       "      <td>nfBqb5ZEPys</td>\n",
       "      <td>Stand Up Comedy Homey B</td>\n",
       "      <td>1211</td>\n",
       "      <td>21</td>\n",
       "      <td>0</td>\n",
       "      <td>9</td>\n",
       "      <td>0</td>\n",
       "      <td>2020-12-12T10:35:18Z</td>\n",
       "      <td>Crowd work stand up comedy by HomeyB\n",
       "\n",
       "https://...</td>\n",
       "      <td>PT29S</td>\n",
       "      <td>['Standupcomedy', 'Standup', 'Jokes', 'Haha', ...</td>\n",
       "      <td>stand up comedy homey bcrowd work stand up com...</td>\n",
       "      <td>stand comedy homey bcrowd work stand comedy ho...</td>\n",
       "      <td>33</td>\n",
       "    </tr>\n",
       "    <tr>\n",
       "      <th>4</th>\n",
       "      <td>ZbOQhsNS87s</td>\n",
       "      <td>TIKTOK ZINDA HAI | NEW CLEAR FAMILY | FAMILY C...</td>\n",
       "      <td>32404</td>\n",
       "      <td>6003</td>\n",
       "      <td>23</td>\n",
       "      <td>344</td>\n",
       "      <td>0</td>\n",
       "      <td>2020-07-19T23:35:01Z</td>\n",
       "      <td>Link first episode EK THA TIKTOK -https://yout...</td>\n",
       "      <td>PT8M18S</td>\n",
       "      <td>['TIKTOKROAST', 'TIKTOK', 'TIKTOKZINDAHAI', 'E...</td>\n",
       "      <td>tiktok zinda hai new clear family family comed...</td>\n",
       "      <td>tiktok zinda hai new clear family family comed...</td>\n",
       "      <td>198</td>\n",
       "    </tr>\n",
       "  </tbody>\n",
       "</table>\n",
       "</div>"
      ],
      "text/plain": [
       "     ContentId                                              title viewCount  \\\n",
       "0  lBvknjH3MF0                      Akash Chopra Hindi Commentary      1092   \n",
       "1  qlReo1HxJpE                     THE LAUGH CLUB OPEN MIC VLOG 2     14702   \n",
       "2  b0SnJGhuSFQ                             FUNNY ROAST OF APPLE 🔥     10370   \n",
       "3  nfBqb5ZEPys                            Stand Up Comedy Homey B      1211   \n",
       "4  ZbOQhsNS87s  TIKTOK ZINDA HAI | NEW CLEAR FAMILY | FAMILY C...     32404   \n",
       "\n",
       "  likeCount dislikeCount commentCount favoriteCount           publishedAt  \\\n",
       "0        83            0            0             0  2021-05-05T10:04:48Z   \n",
       "1       749            3           19             0  2021-02-13T06:19:39Z   \n",
       "2       388            3           19             0  2021-02-04T01:34:45Z   \n",
       "3        21            0            9             0  2020-12-12T10:35:18Z   \n",
       "4      6003           23          344             0  2020-07-19T23:35:01Z   \n",
       "\n",
       "                                         description duration  \\\n",
       "0  Follow for more on Insta \n",
       "\n",
       "https://www.instagr...    PT30S   \n",
       "1  #STANDUPCOMEDY #COMEDY #LAUGHCLUB\n",
       "\n",
       "THIS VIDEO ...  PT6M42S   \n",
       "2  #ROAST #APPLE #IPHONE #AIRPOD\n",
       "\n",
       "ITS A MICRO - R...   PT3M5S   \n",
       "3  Crowd work stand up comedy by HomeyB\n",
       "\n",
       "https://...    PT29S   \n",
       "4  Link first episode EK THA TIKTOK -https://yout...  PT8M18S   \n",
       "\n",
       "                                                tags  \\\n",
       "0  ['Cricket', 'India', 'Commentary', 'Hindijokes...   \n",
       "1                                                 []   \n",
       "2  ['Roast', 'Apple', 'iPhone', 'Airpod', 'Jokes'...   \n",
       "3  ['Standupcomedy', 'Standup', 'Jokes', 'Haha', ...   \n",
       "4  ['TIKTOKROAST', 'TIKTOK', 'TIKTOKZINDAHAI', 'E...   \n",
       "\n",
       "                                                text  \\\n",
       "0  akash chopra hindi commentaryfollow for more o...   \n",
       "1  the laugh club open mic vlog standupcomedy com...   \n",
       "2  funny roast of apple roast apple iphone airpod...   \n",
       "3  stand up comedy homey bcrowd work stand up com...   \n",
       "4  tiktok zinda hai new clear family family comed...   \n",
       "\n",
       "                                      Processed_text  Word_Count  \n",
       "0  akash chopra hindi commentaryfollow insta http...          16  \n",
       "1  laugh club open mic vlog standupcomedy comedy ...          67  \n",
       "2  funny roast apple roast apple iphone airpod mi...          44  \n",
       "3  stand comedy homey bcrowd work stand comedy ho...          33  \n",
       "4  tiktok zinda hai new clear family family comed...         198  "
      ]
     },
     "execution_count": 148,
     "metadata": {},
     "output_type": "execute_result"
    }
   ],
   "source": [
    "df.head()"
   ]
  },
  {
   "cell_type": "markdown",
   "metadata": {
    "id": "ah80a1ogBbe0"
   },
   "source": [
    "# Create a vocabulary of words, \n",
    "Ignore words that appear in 85% of documents, \n",
    "Eliminate stop words"
   ]
  },
  {
   "cell_type": "code",
   "execution_count": 149,
   "metadata": {
    "colab": {
     "base_uri": "https://localhost:8080/"
    },
    "id": "DT8UD0XJBbe0",
    "outputId": "b186ab42-3d58-4584-ddd0-87d5be410827"
   },
   "outputs": [
    {
     "name": "stderr",
     "output_type": "stream",
     "text": [
      "/home/shivshaurya/anaconda3/lib/python3.8/site-packages/sklearn/feature_extraction/text.py:382: UserWarning: Your stop_words may be inconsistent with your preprocessing. Tokenizing the stop words generated tokens ['come', 'vis', 'viser', 'visest'] not in stop_words.\n",
      "  warnings.warn('Your stop_words may be inconsistent with '\n"
     ]
    }
   ],
   "source": [
    "from sklearn.feature_extraction.text import CountVectorizer\n",
    "import re\n",
    "\n",
    "def get_stop_words(stop_file_path):\n",
    "    \"\"\"load stop words \"\"\"\n",
    "    \n",
    "    with open(stop_file_path, 'r', encoding=\"utf-8\") as f:\n",
    "        stopwords = f.readlines()\n",
    "        stop_set = set(m.strip() for m in stopwords)\n",
    "        return frozenset(stop_set)\n",
    "\n",
    "#load a set of stop words\n",
    "stopwords=get_stop_words(\"stopwords.txt\")\n",
    "\n",
    "#get the text column \n",
    "docs=df['Processed_text'].tolist()\n",
    "\n",
    "#create a vocabulary of words, \n",
    "#ignore words that appear in 85% of documents, \n",
    "#eliminate stop words\n",
    "cv=CountVectorizer(max_df=0.85,stop_words=stopwords)\n",
    "word_count_vector=cv.fit_transform(docs)"
   ]
  },
  {
   "cell_type": "code",
   "execution_count": 150,
   "metadata": {
    "colab": {
     "base_uri": "https://localhost:8080/"
    },
    "id": "uMBp9zqZBbe1",
    "outputId": "59e45f06-0954-48b1-d7b2-b2c12600b365"
   },
   "outputs": [
    {
     "data": {
      "text/plain": [
       "(105604, 233158)"
      ]
     },
     "execution_count": 150,
     "metadata": {},
     "output_type": "execute_result"
    }
   ],
   "source": [
    "word_count_vector.shape"
   ]
  },
  {
   "cell_type": "code",
   "execution_count": 151,
   "metadata": {
    "colab": {
     "base_uri": "https://localhost:8080/"
    },
    "id": "k9pzeA2iBbe1",
    "outputId": "ec48fb55-e615-4144-dcbf-215e772dbede"
   },
   "outputs": [
    {
     "data": {
      "text/plain": [
       "['akash',\n",
       " 'chopra',\n",
       " 'hindi',\n",
       " 'commentaryfollow',\n",
       " 'insta',\n",
       " 'www',\n",
       " 'instagram',\n",
       " 'homeybvibe',\n",
       " 'cricket',\n",
       " 'india']"
      ]
     },
     "execution_count": 151,
     "metadata": {},
     "output_type": "execute_result"
    }
   ],
   "source": [
    "list(cv.vocabulary_.keys())[:10]"
   ]
  },
  {
   "cell_type": "code",
   "execution_count": 152,
   "metadata": {
    "colab": {
     "base_uri": "https://localhost:8080/"
    },
    "id": "YCV8aSOlBbe1",
    "outputId": "a2c40d41-4c34-4b11-a325-37f06ac5fe11"
   },
   "outputs": [
    {
     "data": {
      "text/plain": [
       "TfidfTransformer(norm='l2', smooth_idf=True, sublinear_tf=False, use_idf=True)"
      ]
     },
     "execution_count": 152,
     "metadata": {},
     "output_type": "execute_result"
    }
   ],
   "source": [
    "from sklearn.feature_extraction.text import TfidfTransformer\n",
    "\n",
    "tfidf_transformer=TfidfTransformer(smooth_idf=True,use_idf=True)\n",
    "tfidf_transformer.fit(word_count_vector)"
   ]
  },
  {
   "cell_type": "code",
   "execution_count": 153,
   "metadata": {
    "id": "ejHDQvh6Bbe1"
   },
   "outputs": [],
   "source": [
    "# you only needs to do this once, this is a mapping of index to \n",
    "feature_names=cv.get_feature_names()"
   ]
  },
  {
   "cell_type": "code",
   "execution_count": 154,
   "metadata": {
    "colab": {
     "base_uri": "https://localhost:8080/"
    },
    "id": "kSVXZk2NBbe1",
    "outputId": "30b53b37-f058-43a3-d951-096f78466feb"
   },
   "outputs": [
    {
     "data": {
      "text/plain": [
       "['__',\n",
       " '___',\n",
       " '____',\n",
       " '_____',\n",
       " '______',\n",
       " '_______',\n",
       " '________',\n",
       " '_________',\n",
       " '__________',\n",
       " '___________',\n",
       " '____________',\n",
       " '_____________',\n",
       " '______________',\n",
       " '_______________',\n",
       " '________________',\n",
       " '_________________',\n",
       " '__________________',\n",
       " '___________________',\n",
       " '____________________',\n",
       " '_____________________',\n",
       " '______________________',\n",
       " '_______________________',\n",
       " '________________________',\n",
       " '_________________________',\n",
       " '__________________________',\n",
       " '___________________________',\n",
       " '____________________________',\n",
       " '_____________________________',\n",
       " '______________________________',\n",
       " '_______________________________',\n",
       " '________________________________',\n",
       " '_________________________________',\n",
       " '__________________________________',\n",
       " '___________________________________',\n",
       " '____________________________________',\n",
       " '_____________________________________',\n",
       " '______________________________________',\n",
       " '_______________________________________',\n",
       " '________________________________________',\n",
       " '_________________________________________',\n",
       " '__________________________________________',\n",
       " '___________________________________________',\n",
       " '____________________________________________',\n",
       " '_____________________________________________',\n",
       " '______________________________________________',\n",
       " '_______________________________________________',\n",
       " '________________________________________________',\n",
       " '_________________________________________________',\n",
       " '__________________________________________________',\n",
       " '___________________________________________________',\n",
       " '____________________________________________________',\n",
       " '_____________________________________________________',\n",
       " '______________________________________________________',\n",
       " '_______________________________________________________',\n",
       " '________________________________________________________',\n",
       " '_________________________________________________________',\n",
       " '__________________________________________________________',\n",
       " '___________________________________________________________',\n",
       " '____________________________________________________________',\n",
       " '_____________________________________________________________',\n",
       " '______________________________________________________________',\n",
       " '_______________________________________________________________',\n",
       " '________________________________________________________________',\n",
       " '_________________________________________________________________',\n",
       " '__________________________________________________________________',\n",
       " '___________________________________________________________________',\n",
       " '____________________________________________________________________',\n",
       " '_____________________________________________________________________',\n",
       " '______________________________________________________________________',\n",
       " '_______________________________________________________________________',\n",
       " '________________________________________________________________________',\n",
       " '__________________________________________________________________________',\n",
       " '___________________________________________________________________________',\n",
       " '_____________________________________________________________________________',\n",
       " '______________________________________________________________________________',\n",
       " '____________________________________________________________________________________',\n",
       " '_____________________________________________________________________________________',\n",
       " '_______________________________________________________________________________________',\n",
       " '________________________________________________________________________________________',\n",
       " '_________________________________________________________________________________________',\n",
       " '____________________________________________________________________________________________',\n",
       " '_____________________________________________________________________________________________',\n",
       " '______________________________________________________________________________________________',\n",
       " '_______________________________________________________________________________________________',\n",
       " '___________________________________________________________________________________________________________________________________________',\n",
       " '_________________________________________________________________________________________________________________________________________________________________________________________________',\n",
       " '_____________________________________________________________________________________________________________________________________________________________________________________________________________________________________________________________________________________________________',\n",
       " '_________________________________________________________________________________________________________________________________________________________________________________________________________________________________________________________________________________________________________________________________________________________________________________________________________________________________________________________________________________________________________________________________________________',\n",
       " '________________________________________________________________________________________________________________________________________________________________________________________________________________________________________________________________________________________________________________________________________________________________________________________________________________________________________________________________________________________________________________________________________________________________________________________________________________________________________________________________________________________________________________________________________________________________________________________________________________________________________________________________________________________________________________________________________________________________________________________________________________________________________________________________________________________________________________________________________________________________________________________________________________________________________________________________________________________________________________________________________________________________________________________________________________________________________________________________________________________________________________________________________________________________________________________________________________________________________________________________________________________________________________________________________________________________________________________________',\n",
       " '_________________________________________________disclaimer_______________',\n",
       " '________________________________________________original',\n",
       " '______________________________________________l',\n",
       " '______________________________________________p',\n",
       " '__________________________________________keywords',\n",
       " '__________________________________________please',\n",
       " '______________________keep',\n",
       " '______________________surendra____nagvanshi',\n",
       " '_____________________keep',\n",
       " '____________keep_____supporting__',\n",
       " '__________like',\n",
       " '__________thanks',\n",
       " '_________love',\n",
       " '_________thanks',\n",
       " '________thanks',\n",
       " '_______pm',\n",
       " '_______thank__you__so___much_',\n",
       " '______by',\n",
       " '______guru',\n",
       " '______no',\n",
       " '______share',\n",
       " '______subscribe',\n",
       " '_____aam',\n",
       " '_____comment',\n",
       " '_____share',\n",
       " '_____stutas',\n",
       " '_____tag____',\n",
       " '____djvicky_belgaum_video',\n",
       " '____full',\n",
       " '___https',\n",
       " '___keep',\n",
       " '___kg_productions___',\n",
       " '___vfx',\n",
       " '__abhi',\n",
       " '__aman',\n",
       " '__arabic',\n",
       " '__b',\n",
       " '__blob',\n",
       " '__debolinaa',\n",
       " '__dhaval',\n",
       " '__eg_wapj',\n",
       " '__extract_me___',\n",
       " '__guri',\n",
       " '__how_to_use_green_screen_editing_tik_tok_video_ma_editing_kara',\n",
       " '__https',\n",
       " '__i',\n",
       " '__lets_do_it___',\n",
       " '__lover',\n",
       " '__manish',\n",
       " '__mitchikichi',\n",
       " '__mujtaba',\n",
       " '__new_haryanvi_l_song',\n",
       " '__official',\n",
       " '__oo',\n",
       " '__oxvm',\n",
       " '__prateekhh__',\n",
       " '__prateekhh___',\n",
       " '__priyanka',\n",
       " '__remix',\n",
       " '__shub',\n",
       " '__shubhamhere__',\n",
       " '__stunts',\n",
       " '__sty',\n",
       " '__supporting',\n",
       " '__supporting___',\n",
       " '__video',\n",
       " '__water',\n",
       " '__whatsapp',\n",
       " '__ya',\n",
       " '__ye_ham_hamare_car_hai_ringtone',\n",
       " '_a',\n",
       " '_a_to_z_aadiwasi_gaane',\n",
       " '_aagman_sohala_',\n",
       " '_aberration',\n",
       " '_above_us_',\n",
       " '_ace',\n",
       " '_adyogi_brand',\n",
       " '_adysq_eq',\n",
       " '_aesthetic_video_',\n",
       " '_aixq',\n",
       " '_akhilesh_unni',\n",
       " '_alaya_',\n",
       " '_alaya_f',\n",
       " '_album_',\n",
       " '_aledwq',\n",
       " '_alesia',\n",
       " '_alight_motion',\n",
       " '_all',\n",
       " '_alone',\n",
       " '_aman_jaji',\n",
       " '_aman_jaji_',\n",
       " '_ani',\n",
       " '_apna',\n",
       " '_apr',\n",
       " '_aqj',\n",
       " '_archana_padhi_',\n",
       " '_ards_gaming',\n",
       " '_arijit_singh_',\n",
       " '_article',\n",
       " '_aseema_panda_',\n",
       " '_aspire',\n",
       " '_audio',\n",
       " '_august',\n",
       " '_august_full_screen_status',\n",
       " '_august_independence_status',\n",
       " '_august_remix_song',\n",
       " '_august_status',\n",
       " '_august_status_song',\n",
       " '_august_status_video',\n",
       " '_august_whatsapp_status',\n",
       " '_augustindependence',\n",
       " '_augustvideo',\n",
       " '_auto_mall',\n",
       " '_av_',\n",
       " '_awnbr',\n",
       " '_b',\n",
       " '_back_to_the_grind',\n",
       " '_baja_re_baja_tamoko_baja',\n",
       " '_bamcef_adhiveshanbahujan',\n",
       " '_bamcef_अध',\n",
       " '_ban_apps_list',\n",
       " '_barati',\n",
       " '_bass_boosted_i_dj_parasar_netam',\n",
       " '_batla',\n",
       " '_bc',\n",
       " '_beautiful_girl_dance_green_screen_effects_vfx_effects_green_background_danc',\n",
       " '_beauty',\n",
       " '_before',\n",
       " '_best_',\n",
       " '_best_bangla_funny_video',\n",
       " '_best_status',\n",
       " '_best_whatsapp_status',\n",
       " '_beta_v',\n",
       " '_bhavin',\n",
       " '_bird_machine_',\n",
       " '_biswajit_',\n",
       " '_bk',\n",
       " '_black_screen',\n",
       " '_black_screen_',\n",
       " '_black_screen_status',\n",
       " '_black_screen_status_alone',\n",
       " '_black_screen_status_avee_player',\n",
       " '_black_screen_status_english',\n",
       " '_black_screen_status_kaise_banaye',\n",
       " '_black_screen_whatsapp_status_arijjit_singh',\n",
       " '_black_screen_whatsapp_status_editing',\n",
       " '_black_screen_whatsapp_status_english',\n",
       " '_bollywood_movies_list_',\n",
       " '_bollywood_upcoming_movies_list_',\n",
       " '_boney',\n",
       " '_boys',\n",
       " '_bra',\n",
       " '_brycqjtifw',\n",
       " '_build',\n",
       " '_bus_mod_',\n",
       " '_button_probelm',\n",
       " '_bwbuky',\n",
       " '_by',\n",
       " '_c',\n",
       " '_carol',\n",
       " '_cegac_',\n",
       " '_cene',\n",
       " '_cf',\n",
       " '_cg',\n",
       " '_cg_bhakti_mix_',\n",
       " '_cg_dance_mix_',\n",
       " '_cg_dance_remix_',\n",
       " '_cg_style_remix_',\n",
       " '_cg_tapori_mix_',\n",
       " '_channel_',\n",
       " '_chidiya',\n",
       " '_chinmayanand',\n",
       " '_chjmv',\n",
       " '_chroma_key',\n",
       " '_ck',\n",
       " '_ckz',\n",
       " '_cmte',\n",
       " '_coca',\n",
       " '_colourful_lights',\n",
       " '_coming',\n",
       " '_coming_soon',\n",
       " '_coolpro',\n",
       " '_corona',\n",
       " '_couple',\n",
       " '_cphiwpqbqo',\n",
       " '_creen',\n",
       " '_crunch',\n",
       " '_crush_black_screen_status',\n",
       " '_cut_off_',\n",
       " '_cxosygfnog',\n",
       " '_d',\n",
       " '_da',\n",
       " '_darpan_shah',\n",
       " '_days',\n",
       " '_deep',\n",
       " '_deepika_padukone',\n",
       " '_dekh_lena',\n",
       " '_dekha_teri_photo',\n",
       " '_developer',\n",
       " '_dexkplqaowlaohnrryv',\n",
       " '_di',\n",
       " '_dil_banjara_',\n",
       " '_dj',\n",
       " '_dj_gulshan_in_the_mix__marathi_dance_mix__',\n",
       " '_dj_mahesh_and_shaile',\n",
       " '_dj_nesh',\n",
       " '_dj_parasar_netam',\n",
       " '_dj_remix',\n",
       " '_dj_samarth',\n",
       " '_dj_sandesh_',\n",
       " '_djad',\n",
       " '_dl',\n",
       " '_documentary',\n",
       " '_dog',\n",
       " '_dogs_farm_rescue',\n",
       " '_dsp',\n",
       " '_e',\n",
       " '_e_g',\n",
       " '_edm_version_',\n",
       " '_ef',\n",
       " '_elg',\n",
       " '_elxnauneec',\n",
       " '_emoji_whatsapp_status_',\n",
       " '_emote',\n",
       " '_encoding',\n",
       " '_enigmatic_vivacity_',\n",
       " '_eso',\n",
       " '_euro',\n",
       " '_fat_loss_workouts',\n",
       " '_fe',\n",
       " '_feather',\n",
       " '_feb_',\n",
       " '_fewl',\n",
       " '_ffktpjc',\n",
       " '_filhaal',\n",
       " '_first',\n",
       " '_fish_hunter',\n",
       " '_fix',\n",
       " '_fmwebp_ql',\n",
       " '_follow',\n",
       " '_fom',\n",
       " '_football_team',\n",
       " '_fot',\n",
       " '_free_download',\n",
       " '_free_like_on_tiktok',\n",
       " '_free_stock_footage_',\n",
       " '_ftej',\n",
       " '_full_hd_',\n",
       " '_full_music_video_',\n",
       " '_full_screen',\n",
       " '_full_screen_status_video_',\n",
       " '_full_screen_status_video_song_',\n",
       " '_full_screen_whatsapp_status',\n",
       " '_full_screen_whatsapp_status_',\n",
       " '_funky',\n",
       " '_funny_photo',\n",
       " '_funny_video',\n",
       " '_fuzby',\n",
       " '_g',\n",
       " '_g_',\n",
       " '_gaj',\n",
       " '_gaj_ka_daman_',\n",
       " '_game',\n",
       " '_gaming',\n",
       " '_gcvwlf',\n",
       " '_gdh',\n",
       " '_gh',\n",
       " '_girl_green_screen_vfx_video',\n",
       " '_girl_vlogs',\n",
       " '_git',\n",
       " '_gmc_pla',\n",
       " '_go_down_after_spirited_display_against_uruguay_under_',\n",
       " '_godfather_',\n",
       " '_good_newwz_',\n",
       " '_green',\n",
       " '_green_screen_',\n",
       " '_green_screen_imovie_green_screen_',\n",
       " '_green_screen_status_',\n",
       " '_guru_randhawa_',\n",
       " '_guru_randhawa_f_jay_sean__larissa_bonesi',\n",
       " '_gzgq',\n",
       " '_h',\n",
       " '_hacker_playz',\n",
       " '_hand_pump',\n",
       " '_haryanvi_apna_system',\n",
       " '_hbkecg',\n",
       " '_hd',\n",
       " '_hd_',\n",
       " '_headlight_modication',\n",
       " '_headlights',\n",
       " '_headshot',\n",
       " '_headshot_tips_and_tricks_for_headshot',\n",
       " '_heartbreaker',\n",
       " '_hell',\n",
       " '_hello_koun_',\n",
       " '_here',\n",
       " '_himesh_reshamya',\n",
       " '_hindi_',\n",
       " '_hits_black_screen_status_video',\n",
       " '_homerevise_',\n",
       " '_horror_movie_soundtrack',\n",
       " '_horror_song_status',\n",
       " '_horses',\n",
       " '_hr',\n",
       " '_https',\n",
       " '_human_sagar_',\n",
       " '_humane_sagar_',\n",
       " '_hv',\n",
       " '_i',\n",
       " '_iadllwjmic',\n",
       " '_ibci',\n",
       " '_idea',\n",
       " '_idv',\n",
       " '_iekacyro',\n",
       " '_iggz',\n",
       " '_ij',\n",
       " '_ildhtqgxxg',\n",
       " '_imovie',\n",
       " '_imun',\n",
       " '_inches_ring_light_unboxing',\n",
       " '_inkprint_solutions',\n",
       " '_inkprint_solutions_',\n",
       " '_int',\n",
       " '_investigations',\n",
       " '_iqjee',\n",
       " '_isha_sharma_',\n",
       " '_ishq',\n",
       " '_itz',\n",
       " '_ix',\n",
       " '_ixbzy',\n",
       " '_ja',\n",
       " '_janapada_dj_song_dj_samarth',\n",
       " '_janmashtami',\n",
       " '_jawaani_jaaneman_',\n",
       " '_jbl',\n",
       " '_jcb_ashoka_leyland_आयशर',\n",
       " '_jex',\n",
       " '_jkimlzm',\n",
       " '_jrdw',\n",
       " '_jrs',\n",
       " '_jswi',\n",
       " '_jul',\n",
       " '_jy',\n",
       " '_jyhk_d',\n",
       " '_jyotica',\n",
       " '_k',\n",
       " '_k_p_t_song_tv_app',\n",
       " '_ka',\n",
       " '_kaabil_song_download',\n",
       " '_kala_dulha_ban_gya_',\n",
       " '_kamini',\n",
       " '_kareena_k',\n",
       " '_kashish_',\n",
       " '_keep',\n",
       " '_khqt',\n",
       " '_kills',\n",
       " '_kinemaster_color_background_video_',\n",
       " '_kishore',\n",
       " '_kiss',\n",
       " '_kitten',\n",
       " '_ko_karaar_aaya_status_full_screen',\n",
       " '_kop',\n",
       " '_kr',\n",
       " '_krishna_janmastami_special',\n",
       " '_krity',\n",
       " '_krqmzc',\n",
       " '_kumaar',\n",
       " '_kumaarrula_ke_gaya_ishq_',\n",
       " '_l',\n",
       " '_ladha_swadhyay',\n",
       " '_latest_',\n",
       " '_latest_today_news',\n",
       " '_legend__abhi',\n",
       " '_li',\n",
       " '_life',\n",
       " '_lighsun',\n",
       " '_like',\n",
       " '_lkfy',\n",
       " '_lkfyfcrvku',\n",
       " '_lockdown',\n",
       " '_lover',\n",
       " '_lrkd',\n",
       " '_lsrxnrps',\n",
       " '_lt_tripod',\n",
       " '_lucknow',\n",
       " '_luke',\n",
       " '_luxury_premium_car_holi_offer',\n",
       " '_lxfbpqkb',\n",
       " '_ly',\n",
       " '_lycmnh',\n",
       " '_lymvyduh',\n",
       " '_lyyhttps',\n",
       " '_m',\n",
       " '_manish',\n",
       " '_manj_m',\n",
       " '_mantu_chhuria_',\n",
       " '_masti',\n",
       " '_mc_stan',\n",
       " '_md_group_magarkund',\n",
       " '_md_gruop_magarkund',\n",
       " '_md_grup',\n",
       " '_mdsl',\n",
       " '_me',\n",
       " '_mere',\n",
       " '_mgg',\n",
       " '_mixsingh_',\n",
       " '_mkglirvae',\n",
       " '_mkglirvberp',\n",
       " '_mkglirvbhiceljcicjqvjqpmiefly',\n",
       " '_mkglirvza',\n",
       " '_mkglirvzsuey',\n",
       " '_mkglirvzxkbnfeul',\n",
       " '_mod',\n",
       " '_mod_apkdone',\n",
       " '_modification',\n",
       " '_months_old',\n",
       " '_monudhanushshruthilovebgmringtone',\n",
       " '_movies',\n",
       " '_mr',\n",
       " '_mr_',\n",
       " '_mrlytsn',\n",
       " '_mt_creation',\n",
       " '_mukesh_jaji_',\n",
       " '_mulbhut_kartavya_swadhyay',\n",
       " '_mumzy',\n",
       " '_must',\n",
       " '_mw',\n",
       " '_n',\n",
       " '_naach_with_rach',\n",
       " '_naach_with_rach_',\n",
       " '_nafrox_',\n",
       " '_nagada_mix_',\n",
       " '_nazuk',\n",
       " '_neha_k',\n",
       " '_new',\n",
       " '_new_',\n",
       " '_new_bhojpuri_song_',\n",
       " '_new_black_screen_status_',\n",
       " '_new_black_screen_status_punjabi_song',\n",
       " '_new_black_screen_whatsapp_status_dj',\n",
       " '_new_breakup_whatsapp_status_video_',\n",
       " '_new_gujarati_black_screen_status',\n",
       " '_new_haryanvi_song_',\n",
       " '_new_love_black_screen_status_',\n",
       " '_new_notification_ringtonetones',\n",
       " '_new_sambalpuri_song_',\n",
       " '_new_trending_lyrical_status',\n",
       " '_new_year_status',\n",
       " '_nhkumwoy',\n",
       " '_nl',\n",
       " '_no',\n",
       " '_nonstop',\n",
       " '_nurm',\n",
       " '_nushrat___whatsapp_status__',\n",
       " '_nwh',\n",
       " '_nxnptxk',\n",
       " '_o',\n",
       " '_o_xzig',\n",
       " '_oamnjg',\n",
       " '_odia_',\n",
       " '_odia_black_screen_status_',\n",
       " '_odia_black_screen_status_video',\n",
       " '_odia_sad_song_',\n",
       " '_odia_song_',\n",
       " '_odianews',\n",
       " '_official',\n",
       " '_official_full_video_',\n",
       " '_ohayo',\n",
       " '_on_tranding',\n",
       " '_on_trending',\n",
       " '_on_trending_for_status',\n",
       " '_oq',\n",
       " '_oqueewu',\n",
       " '_others_status_viseo',\n",
       " '_ouhkstqfre',\n",
       " '_ouktefrc',\n",
       " '_ouyjsnmoc',\n",
       " '_overthinking',\n",
       " '_p',\n",
       " '_pade_hathiyaro_ki',\n",
       " '_page_',\n",
       " '_painful',\n",
       " '_parry_sidhu_',\n",
       " '_pav',\n",
       " '_pcieg',\n",
       " '_pe',\n",
       " '_peelwedcem',\n",
       " '_pendi_ki_heli',\n",
       " '_pgmb',\n",
       " '_picturebook',\n",
       " '_ping_pong_mix_',\n",
       " '_pjys',\n",
       " '_pkpc',\n",
       " '_places_to_visit_in_gorakhpur',\n",
       " '_places_to_visit_in_shahranpur',\n",
       " '_plan',\n",
       " '_pogp',\n",
       " '_pradeep',\n",
       " '_pranjal_dahiya_',\n",
       " '_preeti_raina_',\n",
       " '_prem',\n",
       " '_prem_darshan_',\n",
       " '_priyambada_swain',\n",
       " '_pro',\n",
       " '_pro_camera_photography',\n",
       " '_pro_max',\n",
       " '_pro_pubg',\n",
       " '_pro_upcoming_smartphones_in_tamil',\n",
       " '_pro_vs_iphone_',\n",
       " '_pubg',\n",
       " '_pubgml',\n",
       " '_punjabi',\n",
       " '_pvfcg',\n",
       " '_pwpig',\n",
       " '_q',\n",
       " '_qe',\n",
       " '_qi',\n",
       " '_ql',\n",
       " '_qq',\n",
       " '_qqmrmii',\n",
       " '_qwjgewzc',\n",
       " '_rab_hasta_hua_rakhe_tumko_',\n",
       " '_race_full',\n",
       " '_rahul',\n",
       " '_raj_singh_kashyap_',\n",
       " '_raja_d',\n",
       " '_ranu',\n",
       " '_rare_groove',\n",
       " '_ratanpur_',\n",
       " '_ravi',\n",
       " '_rcittiulq',\n",
       " '_re_',\n",
       " '_realme',\n",
       " '_remix_',\n",
       " '_review',\n",
       " '_ringtone',\n",
       " '_ritesh',\n",
       " '_rm',\n",
       " '_rme',\n",
       " '_roast',\n",
       " '_roda_sher_re',\n",
       " '_roda_श',\n",
       " '_rohit_',\n",
       " '_royalcustoms_',\n",
       " '_rpi',\n",
       " '_rprqpbcjzta',\n",
       " '_rqmxxrezq',\n",
       " '_ruchika_jangid_',\n",
       " '_running',\n",
       " '_rznnyjheye',\n",
       " '_s',\n",
       " '_s_h_o_a_i_b__k_h_a_n_',\n",
       " '_saal',\n",
       " '_sad_shayari_mood_off_status',\n",
       " '_sad_song_hindi_',\n",
       " '_sad_status_video',\n",
       " '_saidpur',\n",
       " '_saif_ali_khan',\n",
       " '_sajaoongi',\n",
       " '_sambalpuri',\n",
       " '_sambalpuri_rock_song_',\n",
       " '_sameeksha',\n",
       " '_sars_control_and_psychological_effects_of_quarantine_toronto_canada',\n",
       " '_satisfy',\n",
       " '_satisfya',\n",
       " '_savage',\n",
       " '_sb_tech_',\n",
       " '_sec_best_sad_whatsapp_status',\n",
       " '_sec_status',\n",
       " '_sec_status_video',\n",
       " '_sec_whatsapp_status',\n",
       " '_secnd_whatsapp_status',\n",
       " '_second_evergreen',\n",
       " '_second_sad_status_video',\n",
       " '_second_status',\n",
       " '_second_video_video',\n",
       " '_second_whatsapp_status',\n",
       " '_second_whatsappstatus',\n",
       " '_sep_',\n",
       " '_sep_status',\n",
       " '_series',\n",
       " '_sh_zpqzbnu',\n",
       " '_shaadi_special_',\n",
       " '_shailesh',\n",
       " '_shikshak_bharti',\n",
       " '_shivam_grover_ft',\n",
       " '_shorts',\n",
       " '_singh',\n",
       " '_sittin',\n",
       " '_six',\n",
       " '_sk',\n",
       " '_smiling_cars',\n",
       " '_smoke_atmosphere_hd_',\n",
       " '_something',\n",
       " '_song',\n",
       " '_song_par_photo_lagaye',\n",
       " '_song_status',\n",
       " '_song_status_for_whatsapp',\n",
       " '_song_status_full_screen',\n",
       " '_song_status_sad',\n",
       " '_sound_fix',\n",
       " '_sound_horn_fix',\n",
       " '_sourav_',\n",
       " '_sourav_dash_',\n",
       " '_sourav_thanks',\n",
       " '_south_',\n",
       " '_special_whatsapp_status',\n",
       " '_sspa',\n",
       " '_status',\n",
       " '_stebin_ben__',\n",
       " '_story',\n",
       " '_studio_version_',\n",
       " '_stutas',\n",
       " '_subscribe_कर_द',\n",
       " '_sunny_inder',\n",
       " '_super_',\n",
       " '_supporting',\n",
       " '_surendra_nagvanshi_editing_ki_dukanhello',\n",
       " '_suyyash_rai',\n",
       " '_svg_',\n",
       " '_swadhyay',\n",
       " '_swag_gameplay',\n",
       " '_swagger_',\n",
       " '_sy',\n",
       " '_szl',\n",
       " '_t',\n",
       " '_tabu',\n",
       " '_tamil_mass_bgm_ringtone',\n",
       " '_tatve',\n",
       " '_tbs',\n",
       " '_team_profile_atletico_de_kolkata',\n",
       " '_team_profile_chennaiyin_fc',\n",
       " '_team_profile_delhi_dynamos_fc',\n",
       " '_team_profile_fc_goa',\n",
       " '_team_profile_fc_pune_city',\n",
       " '_team_profile_kerala_blasters',\n",
       " '_team_profile_mumbai_city_fc',\n",
       " '_telugu',\n",
       " '_tfgb',\n",
       " '_tfgbwydrcc',\n",
       " '_th_august_',\n",
       " '_the',\n",
       " '_the_fading',\n",
       " '_the_nightingale_and_the_nobleman_pointers',\n",
       " '_the_rahul_singh',\n",
       " '_there',\n",
       " '_this_channel',\n",
       " '_throughout_the_city_',\n",
       " '_thug',\n",
       " '_thw',\n",
       " '_tik_tok',\n",
       " '_tiktok',\n",
       " '_tin',\n",
       " '_title_song_',\n",
       " '_tk',\n",
       " '_to_',\n",
       " '_to_crown_historic_night_in_mumbai',\n",
       " '_tomafo',\n",
       " '_top',\n",
       " '_toxic_op_yt',\n",
       " '_toxic_yt',\n",
       " '_tpfzas',\n",
       " '_trading',\n",
       " '_trend',\n",
       " '_trending',\n",
       " '_trending_status',\n",
       " '_trendingstatus',\n",
       " '_try',\n",
       " '_twpx',\n",
       " '_u',\n",
       " '_ucfnm',\n",
       " '_ud',\n",
       " '_ueygwfw',\n",
       " '_uhdz',\n",
       " '_uhwpfxoymk',\n",
       " '_ujrd',\n",
       " '_uma_old_song_',\n",
       " '_umrao_jaan_',\n",
       " '_update',\n",
       " '_upga',\n",
       " '_urfrnog',\n",
       " '_uttar_pradesh',\n",
       " '_uudjalmaf',\n",
       " '_uvr',\n",
       " '_uxjbhsc',\n",
       " '_uxyua',\n",
       " '_v_v_p_',\n",
       " '_vam',\n",
       " '_vassundhara_pandita',\n",
       " '_vdu',\n",
       " '_vee',\n",
       " '_verma',\n",
       " '_very_sad_whatsapp_status_video_',\n",
       " '_vfx',\n",
       " '_vi',\n",
       " '_vi_annajal_kavita_swadhyay',\n",
       " '_video',\n",
       " '_video_in_josh_app',\n",
       " '_villian_mass_ringtone',\n",
       " '_virtual',\n",
       " '_vishal_',\n",
       " '_vlogs',\n",
       " '_vlpkuu',\n",
       " '_vrz',\n",
       " '_vs_india_u_',\n",
       " '_vs_ktmrc',\n",
       " '_vvn_vvn_',\n",
       " '_vzximskvj',\n",
       " '_waiting_list_latest_news',\n",
       " '_we',\n",
       " '_wegonr',\n",
       " '_whatsapp_status',\n",
       " '_whatsapp_status_',\n",
       " '_when',\n",
       " '_wholesome_',\n",
       " '_wi',\n",
       " '_with_cast_and_release',\n",
       " '_world_cup',\n",
       " '_wstatus',\n",
       " '_wzl',\n",
       " '_x',\n",
       " '_x_',\n",
       " '_xbclsnlrdm',\n",
       " '_xboxlive',\n",
       " '_xlndjiaee',\n",
       " '_xnmju',\n",
       " '_xo',\n",
       " '_xtaofes',\n",
       " '_xtrnfw',\n",
       " '_xws',\n",
       " '_xxy',\n",
       " '_y',\n",
       " '_yamraj_',\n",
       " '_years_in_human_years',\n",
       " '_yiccdfwq',\n",
       " '_ynxhhmn',\n",
       " '_young',\n",
       " '_yrone',\n",
       " '_yuliusremby',\n",
       " '_ywb',\n",
       " '_yxenyq',\n",
       " '_yxxibcfia',\n",
       " '_zack',\n",
       " '_zcquqqmkla',\n",
       " '_zdaroidrl',\n",
       " '_zjrnpo',\n",
       " '_zln',\n",
       " '_zmpumg',\n",
       " '_znoyq',\n",
       " '_zo',\n",
       " '_zunqdm',\n",
       " '_zxegq',\n",
       " '_zzlu',\n",
       " '_اا',\n",
       " '_अध',\n",
       " '_अन',\n",
       " '_अब',\n",
       " '_अम',\n",
       " '_अय',\n",
       " '_अवस',\n",
       " '_आ',\n",
       " '_आईन',\n",
       " '_आगमन',\n",
       " '_आठव',\n",
       " '_आण',\n",
       " '_आपल',\n",
       " '_आरक',\n",
       " '_आह',\n",
       " '_इज',\n",
       " '_इत',\n",
       " '_इतन',\n",
       " '_इयत',\n",
       " '_ईश',\n",
       " '_उद',\n",
       " '_ऊर',\n",
       " '_ए_स',\n",
       " '_एक',\n",
       " '_एल_म',\n",
       " '_ऐल',\n",
       " '_ऑट',\n",
       " '_ओळख_स',\n",
       " '_और_मछ',\n",
       " '_क',\n",
       " '_कल',\n",
       " '_कव',\n",
       " '_कवळ_घ',\n",
       " '_कह',\n",
       " '_ख',\n",
       " '_ग',\n",
       " '_गणपत',\n",
       " '_गप',\n",
       " '_गलतफ',\n",
       " '_गवत_फ',\n",
       " '_गवतफ',\n",
       " '_घ',\n",
       " '_घर',\n",
       " '_च',\n",
       " '_छ',\n",
       " '_छत',\n",
       " '_ज',\n",
       " '_जग',\n",
       " '_जग_स',\n",
       " '_जनगणन',\n",
       " '_जम',\n",
       " '_ट',\n",
       " '_टक',\n",
       " '_ठ',\n",
       " '_ड',\n",
       " '_डर',\n",
       " '_त',\n",
       " '_द',\n",
       " '_दर',\n",
       " '_दरग',\n",
       " '_दल',\n",
       " '_दह',\n",
       " '_दहनbahujan',\n",
       " '_धड',\n",
       " '_धनत',\n",
       " '_धनब',\n",
       " '_धसत',\n",
       " '_न',\n",
       " '_प',\n",
       " '_पर',\n",
       " '_पर_न',\n",
       " '_फ',\n",
       " '_ब',\n",
       " '_बकव',\n",
       " '_बटव',\n",
       " '_बन',\n",
       " '_बनर',\n",
       " '_बल',\n",
       " '_भ',\n",
       " '_भर',\n",
       " '_म',\n",
       " '_मर',\n",
       " '_मह',\n",
       " '_य',\n",
       " '_र',\n",
       " '_रचन',\n",
       " '_रम',\n",
       " '_ल',\n",
       " '_लग',\n",
       " '_लड',\n",
       " '_लढ',\n",
       " '_व',\n",
       " '_व_क',\n",
       " '_व_स',\n",
       " '_वर',\n",
       " '_वरद',\n",
       " '_वस',\n",
       " '_श',\n",
       " '_स',\n",
       " '_सफ',\n",
       " '_सफर_म',\n",
       " '_सबस',\n",
       " '_सरक',\n",
       " '_सव',\n",
       " '_सह',\n",
       " '_ह',\n",
       " '_हक',\n",
       " '_हज',\n",
       " '_हर',\n",
       " '_हरप',\n",
       " '_हव',\n",
       " '_আম',\n",
       " '_ইল',\n",
       " '_খ',\n",
       " '_গর',\n",
       " '_চ',\n",
       " '_দ',\n",
       " '_ন',\n",
       " '_নষ',\n",
       " '_পড়',\n",
       " '_ব',\n",
       " '_বউ',\n",
       " '_ভ',\n",
       " '_ম',\n",
       " '_ল',\n",
       " '_স',\n",
       " '_সত',\n",
       " '_হ',\n",
       " '_ಠ',\n",
       " '_ಠ_ಠ_',\n",
       " 'a_',\n",
       " 'a_beautiful_nature_status',\n",
       " 'a_beginner_mass_gain_routine_from',\n",
       " 'a_epu',\n",
       " 'a_mms',\n",
       " 'a_n_u_fam',\n",
       " 'a_s',\n",
       " 'a_va',\n",
       " 'a_ycfa',\n",
       " 'a_zdict',\n",
       " 'aa',\n",
       " 'aaa',\n",
       " 'aaaa',\n",
       " 'aaaaa',\n",
       " 'aaaaaa',\n",
       " 'aaaaaaaaa',\n",
       " 'aaaaaaaaafc',\n",
       " 'aaaaaaaabai',\n",
       " 'aaaaaaaafdg',\n",
       " 'aaaaaaaahaq',\n",
       " 'aaaaaaaankw',\n",
       " 'aaaaaaaatly',\n",
       " 'aaaaaembvhqu',\n",
       " 'aaaaafafrrhj',\n",
       " 'aaaaffi',\n",
       " 'aaaahhh',\n",
       " 'aaabag',\n",
       " 'aaabcq',\n",
       " ...]"
      ]
     },
     "execution_count": 154,
     "metadata": {},
     "output_type": "execute_result"
    }
   ],
   "source": [
    "feature_names"
   ]
  },
  {
   "cell_type": "markdown",
   "metadata": {
    "id": "nAqVRlu8Bbe2"
   },
   "source": [
    "# Generate tf-idf for the given document"
   ]
  },
  {
   "cell_type": "code",
   "execution_count": 155,
   "metadata": {
    "colab": {
     "base_uri": "https://localhost:8080/"
    },
    "id": "o-4mba8BBbe2",
    "outputId": "75851f33-4968-4c23-8d99-e5d9cd99c1db"
   },
   "outputs": [
    {
     "name": "stdout",
     "output_type": "stream",
     "text": [
      "Collecting tf-idf 10000\n",
      "Collecting tf-idf 20000\n",
      "Collecting tf-idf 30000\n",
      "Collecting tf-idf 40000\n",
      "Collecting tf-idf 50000\n",
      "Collecting tf-idf 60000\n",
      "Collecting tf-idf 70000\n",
      "Collecting tf-idf 80000\n",
      "Collecting tf-idf 90000\n",
      "Collecting tf-idf 100000\n",
      "105604\n"
     ]
    }
   ],
   "source": [
    "i = 0\n",
    "tex_list = df['Processed_text'].tolist()\n",
    "tf_idf_vector_list = []\n",
    "for i in range(len(tex_list)):\n",
    "    tf_idf_vector=tfidf_transformer.transform(cv.transform([tex_list[i]]))\n",
    "    i = i+1\n",
    "    tf_idf_vector_list.append(tf_idf_vector)\n",
    "    # added to list  \n",
    "    if ((i%10000) == 0):\n",
    "        print ('Collecting tf-idf',i)\n",
    "print(len(tf_idf_vector_list))"
   ]
  },
  {
   "cell_type": "code",
   "execution_count": 156,
   "metadata": {
    "colab": {
     "base_uri": "https://localhost:8080/"
    },
    "id": "NCAiNoRnBbe2",
    "outputId": "39304b6e-1cd7-4de1-f053-65209b06369d"
   },
   "outputs": [
    {
     "data": {
      "text/plain": [
       "matrix([[0., 0., 0., ..., 0., 0., 0.]])"
      ]
     },
     "execution_count": 156,
     "metadata": {},
     "output_type": "execute_result"
    }
   ],
   "source": [
    "tf_idf_vector_list[0].todense()"
   ]
  },
  {
   "cell_type": "code",
   "execution_count": 157,
   "metadata": {
    "colab": {
     "base_uri": "https://localhost:8080/"
    },
    "id": "NCAiNoRnBbe2",
    "outputId": "39304b6e-1cd7-4de1-f053-65209b06369d"
   },
   "outputs": [
    {
     "data": {
      "text/plain": [
       "(1, 233158)"
      ]
     },
     "execution_count": 157,
     "metadata": {},
     "output_type": "execute_result"
    }
   ],
   "source": [
    "tf_idf_vector_list[0].todense().shape"
   ]
  },
  {
   "cell_type": "markdown",
   "metadata": {
    "id": "om49NtkKBbe2"
   },
   "source": [
    "# Label Generation for Supervised Learning\n",
    "K-Means Clustering is done based on Processed text"
   ]
  },
  {
   "cell_type": "code",
   "execution_count": 158,
   "metadata": {
    "id": "3MB52vaYBbe2"
   },
   "outputs": [],
   "source": [
    "#Clustering\n",
    "from sklearn.feature_extraction.text import TfidfVectorizer\n",
    "from sklearn.cluster import KMeans"
   ]
  },
  {
   "cell_type": "code",
   "execution_count": 159,
   "metadata": {
    "id": "M_O4pwKuBbe2"
   },
   "outputs": [],
   "source": [
    "document = df['Processed_text'].values.astype('U')\n",
    "vectorizer = TfidfVectorizer(stop_words='english')\n",
    "features = vectorizer.fit_transform(document)"
   ]
  },
  {
   "cell_type": "code",
   "execution_count": 160,
   "metadata": {
    "id": "FmijpEOEBbe3"
   },
   "outputs": [],
   "source": [
    "k=20 #Obtained from Silhouette_score\n",
    "model = KMeans(n_clusters=k,init='k-means++',max_iter=100,n_init=1)\n",
    "label = model.fit(features)"
   ]
  },
  {
   "cell_type": "markdown",
   "metadata": {
    "id": "inQT9DMdBbe3"
   },
   "source": [
    "# Calculation of optimal value of K"
   ]
  },
  {
   "cell_type": "code",
   "execution_count": 161,
   "metadata": {
    "id": "ZLmg9E90Bbe3"
   },
   "outputs": [],
   "source": [
    "# from sklearn.metrics import silhouette_score\n",
    "\n",
    "# sil = []\n",
    "# kmax = 20\n",
    "# sil\n",
    "# # dissimilarity would not be defined for a single cluster, thus, minimum number of clusters should be 2\n",
    "# for k in range(2, kmax+1):\n",
    "#     kmeans = KMeans(n_clusters = k).fit(features)\n",
    "#     labels = kmeans.labels_\n",
    "#     sil.append(silhouette_score(features, labels, metric = 'euclidean'))\n",
    "#     print(\"Done for k =\",k)\n"
   ]
  },
  {
   "cell_type": "code",
   "execution_count": 162,
   "metadata": {
    "id": "7YIOPkZABbe3"
   },
   "outputs": [],
   "source": [
    "df['cluster'] = model.labels_"
   ]
  },
  {
   "cell_type": "code",
   "execution_count": 163,
   "metadata": {
    "colab": {
     "base_uri": "https://localhost:8080/"
    },
    "id": "La2z7OuaBbe3",
    "outputId": "dbb0e035-c425-49e7-c8dd-4fa7c57a7d4a"
   },
   "outputs": [
    {
     "name": "stdout",
     "output_type": "stream",
     "text": [
      "[18 18 18 ... 18 18 18]\n"
     ]
    }
   ],
   "source": [
    "print(model.labels_)"
   ]
  },
  {
   "cell_type": "code",
   "execution_count": 164,
   "metadata": {
    "colab": {
     "base_uri": "https://localhost:8080/"
    },
    "id": "La2z7OuaBbe3",
    "outputId": "dbb0e035-c425-49e7-c8dd-4fa7c57a7d4a"
   },
   "outputs": [
    {
     "name": "stdout",
     "output_type": "stream",
     "text": [
      "[18 18 18 ... 18 18 18]\n"
     ]
    }
   ],
   "source": [
    "print(model.labels_)"
   ]
  },
  {
   "cell_type": "code",
   "execution_count": 165,
   "metadata": {
    "colab": {
     "base_uri": "https://localhost:8080/",
     "height": 632
    },
    "id": "xWkfdx0YBbe4",
    "outputId": "d3639866-3ef9-4b4c-8451-b51a7b5e2fb7"
   },
   "outputs": [
    {
     "data": {
      "text/html": [
       "<div>\n",
       "<style scoped>\n",
       "    .dataframe tbody tr th:only-of-type {\n",
       "        vertical-align: middle;\n",
       "    }\n",
       "\n",
       "    .dataframe tbody tr th {\n",
       "        vertical-align: top;\n",
       "    }\n",
       "\n",
       "    .dataframe thead th {\n",
       "        text-align: right;\n",
       "    }\n",
       "</style>\n",
       "<table border=\"1\" class=\"dataframe\">\n",
       "  <thead>\n",
       "    <tr style=\"text-align: right;\">\n",
       "      <th></th>\n",
       "      <th>ContentId</th>\n",
       "      <th>title</th>\n",
       "      <th>viewCount</th>\n",
       "      <th>likeCount</th>\n",
       "      <th>dislikeCount</th>\n",
       "      <th>commentCount</th>\n",
       "      <th>favoriteCount</th>\n",
       "      <th>publishedAt</th>\n",
       "      <th>description</th>\n",
       "      <th>duration</th>\n",
       "      <th>tags</th>\n",
       "      <th>text</th>\n",
       "      <th>Processed_text</th>\n",
       "      <th>Word_Count</th>\n",
       "      <th>cluster</th>\n",
       "    </tr>\n",
       "  </thead>\n",
       "  <tbody>\n",
       "    <tr>\n",
       "      <th>0</th>\n",
       "      <td>lBvknjH3MF0</td>\n",
       "      <td>Akash Chopra Hindi Commentary</td>\n",
       "      <td>1092</td>\n",
       "      <td>83</td>\n",
       "      <td>0</td>\n",
       "      <td>0</td>\n",
       "      <td>0</td>\n",
       "      <td>2021-05-05T10:04:48Z</td>\n",
       "      <td>Follow for more on Insta \n",
       "\n",
       "https://www.instagr...</td>\n",
       "      <td>PT30S</td>\n",
       "      <td>['Cricket', 'India', 'Commentary', 'Hindijokes...</td>\n",
       "      <td>akash chopra hindi commentaryfollow for more o...</td>\n",
       "      <td>akash chopra hindi commentaryfollow insta http...</td>\n",
       "      <td>16</td>\n",
       "      <td>18</td>\n",
       "    </tr>\n",
       "    <tr>\n",
       "      <th>1</th>\n",
       "      <td>qlReo1HxJpE</td>\n",
       "      <td>THE LAUGH CLUB OPEN MIC VLOG 2</td>\n",
       "      <td>14702</td>\n",
       "      <td>749</td>\n",
       "      <td>3</td>\n",
       "      <td>19</td>\n",
       "      <td>0</td>\n",
       "      <td>2021-02-13T06:19:39Z</td>\n",
       "      <td>#STANDUPCOMEDY #COMEDY #LAUGHCLUB\n",
       "\n",
       "THIS VIDEO ...</td>\n",
       "      <td>PT6M42S</td>\n",
       "      <td>[]</td>\n",
       "      <td>the laugh club open mic vlog standupcomedy com...</td>\n",
       "      <td>laugh club open mic vlog standupcomedy comedy ...</td>\n",
       "      <td>67</td>\n",
       "      <td>18</td>\n",
       "    </tr>\n",
       "    <tr>\n",
       "      <th>2</th>\n",
       "      <td>b0SnJGhuSFQ</td>\n",
       "      <td>FUNNY ROAST OF APPLE 🔥</td>\n",
       "      <td>10370</td>\n",
       "      <td>388</td>\n",
       "      <td>3</td>\n",
       "      <td>19</td>\n",
       "      <td>0</td>\n",
       "      <td>2021-02-04T01:34:45Z</td>\n",
       "      <td>#ROAST #APPLE #IPHONE #AIRPOD\n",
       "\n",
       "ITS A MICRO - R...</td>\n",
       "      <td>PT3M5S</td>\n",
       "      <td>['Roast', 'Apple', 'iPhone', 'Airpod', 'Jokes'...</td>\n",
       "      <td>funny roast of apple roast apple iphone airpod...</td>\n",
       "      <td>funny roast apple roast apple iphone airpod mi...</td>\n",
       "      <td>44</td>\n",
       "      <td>18</td>\n",
       "    </tr>\n",
       "    <tr>\n",
       "      <th>3</th>\n",
       "      <td>nfBqb5ZEPys</td>\n",
       "      <td>Stand Up Comedy Homey B</td>\n",
       "      <td>1211</td>\n",
       "      <td>21</td>\n",
       "      <td>0</td>\n",
       "      <td>9</td>\n",
       "      <td>0</td>\n",
       "      <td>2020-12-12T10:35:18Z</td>\n",
       "      <td>Crowd work stand up comedy by HomeyB\n",
       "\n",
       "https://...</td>\n",
       "      <td>PT29S</td>\n",
       "      <td>['Standupcomedy', 'Standup', 'Jokes', 'Haha', ...</td>\n",
       "      <td>stand up comedy homey bcrowd work stand up com...</td>\n",
       "      <td>stand comedy homey bcrowd work stand comedy ho...</td>\n",
       "      <td>33</td>\n",
       "      <td>17</td>\n",
       "    </tr>\n",
       "    <tr>\n",
       "      <th>4</th>\n",
       "      <td>ZbOQhsNS87s</td>\n",
       "      <td>TIKTOK ZINDA HAI | NEW CLEAR FAMILY | FAMILY C...</td>\n",
       "      <td>32404</td>\n",
       "      <td>6003</td>\n",
       "      <td>23</td>\n",
       "      <td>344</td>\n",
       "      <td>0</td>\n",
       "      <td>2020-07-19T23:35:01Z</td>\n",
       "      <td>Link first episode EK THA TIKTOK -https://yout...</td>\n",
       "      <td>PT8M18S</td>\n",
       "      <td>['TIKTOKROAST', 'TIKTOK', 'TIKTOKZINDAHAI', 'E...</td>\n",
       "      <td>tiktok zinda hai new clear family family comed...</td>\n",
       "      <td>tiktok zinda hai new clear family family comed...</td>\n",
       "      <td>198</td>\n",
       "      <td>18</td>\n",
       "    </tr>\n",
       "  </tbody>\n",
       "</table>\n",
       "</div>"
      ],
      "text/plain": [
       "     ContentId                                              title viewCount  \\\n",
       "0  lBvknjH3MF0                      Akash Chopra Hindi Commentary      1092   \n",
       "1  qlReo1HxJpE                     THE LAUGH CLUB OPEN MIC VLOG 2     14702   \n",
       "2  b0SnJGhuSFQ                             FUNNY ROAST OF APPLE 🔥     10370   \n",
       "3  nfBqb5ZEPys                            Stand Up Comedy Homey B      1211   \n",
       "4  ZbOQhsNS87s  TIKTOK ZINDA HAI | NEW CLEAR FAMILY | FAMILY C...     32404   \n",
       "\n",
       "  likeCount dislikeCount commentCount favoriteCount           publishedAt  \\\n",
       "0        83            0            0             0  2021-05-05T10:04:48Z   \n",
       "1       749            3           19             0  2021-02-13T06:19:39Z   \n",
       "2       388            3           19             0  2021-02-04T01:34:45Z   \n",
       "3        21            0            9             0  2020-12-12T10:35:18Z   \n",
       "4      6003           23          344             0  2020-07-19T23:35:01Z   \n",
       "\n",
       "                                         description duration  \\\n",
       "0  Follow for more on Insta \n",
       "\n",
       "https://www.instagr...    PT30S   \n",
       "1  #STANDUPCOMEDY #COMEDY #LAUGHCLUB\n",
       "\n",
       "THIS VIDEO ...  PT6M42S   \n",
       "2  #ROAST #APPLE #IPHONE #AIRPOD\n",
       "\n",
       "ITS A MICRO - R...   PT3M5S   \n",
       "3  Crowd work stand up comedy by HomeyB\n",
       "\n",
       "https://...    PT29S   \n",
       "4  Link first episode EK THA TIKTOK -https://yout...  PT8M18S   \n",
       "\n",
       "                                                tags  \\\n",
       "0  ['Cricket', 'India', 'Commentary', 'Hindijokes...   \n",
       "1                                                 []   \n",
       "2  ['Roast', 'Apple', 'iPhone', 'Airpod', 'Jokes'...   \n",
       "3  ['Standupcomedy', 'Standup', 'Jokes', 'Haha', ...   \n",
       "4  ['TIKTOKROAST', 'TIKTOK', 'TIKTOKZINDAHAI', 'E...   \n",
       "\n",
       "                                                text  \\\n",
       "0  akash chopra hindi commentaryfollow for more o...   \n",
       "1  the laugh club open mic vlog standupcomedy com...   \n",
       "2  funny roast of apple roast apple iphone airpod...   \n",
       "3  stand up comedy homey bcrowd work stand up com...   \n",
       "4  tiktok zinda hai new clear family family comed...   \n",
       "\n",
       "                                      Processed_text  Word_Count  cluster  \n",
       "0  akash chopra hindi commentaryfollow insta http...          16       18  \n",
       "1  laugh club open mic vlog standupcomedy comedy ...          67       18  \n",
       "2  funny roast apple roast apple iphone airpod mi...          44       18  \n",
       "3  stand comedy homey bcrowd work stand comedy ho...          33       17  \n",
       "4  tiktok zinda hai new clear family family comed...         198       18  "
      ]
     },
     "execution_count": 165,
     "metadata": {},
     "output_type": "execute_result"
    }
   ],
   "source": [
    "df.head()"
   ]
  },
  {
   "cell_type": "markdown",
   "metadata": {
    "id": "S8vb8CSYBbe4"
   },
   "source": [
    "# Checking number of items in each cluster"
   ]
  },
  {
   "cell_type": "code",
   "execution_count": 166,
   "metadata": {
    "colab": {
     "base_uri": "https://localhost:8080/"
    },
    "id": "ByLyb_6iBbe4",
    "outputId": "1ea54a47-24d1-4815-8305-d09c33d22d76"
   },
   "outputs": [
    {
     "name": "stdout",
     "output_type": "stream",
     "text": [
      "Total count of cluster 0 is 1575\n",
      "Total count of cluster 1 is 1304\n",
      "Total count of cluster 2 is 2293\n",
      "Total count of cluster 3 is 3334\n",
      "Total count of cluster 4 is 2224\n",
      "Total count of cluster 5 is 2786\n",
      "Total count of cluster 6 is 4664\n",
      "Total count of cluster 7 is 822\n",
      "Total count of cluster 8 is 914\n",
      "Total count of cluster 9 is 10269\n",
      "Total count of cluster 10 is 12367\n",
      "Total count of cluster 11 is 1567\n",
      "Total count of cluster 12 is 1090\n",
      "Total count of cluster 13 is 4874\n",
      "Total count of cluster 14 is 1932\n",
      "Total count of cluster 15 is 933\n",
      "Total count of cluster 16 is 1904\n",
      "Total count of cluster 17 is 2779\n",
      "Total count of cluster 18 is 46922\n",
      "Total count of cluster 19 is 1051\n"
     ]
    }
   ],
   "source": [
    "i = 0\n",
    "for i in range(len(df['cluster'].unique())):\n",
    "    count = (df.cluster == i).sum()\n",
    "    print(f\"Total count of cluster {i} is {count}\")"
   ]
  },
  {
   "cell_type": "markdown",
   "metadata": {
    "id": "pVbZ6tLOBbe4"
   },
   "source": [
    "# Sort the tf-idf vectors by descending order of scores"
   ]
  },
  {
   "cell_type": "code",
   "execution_count": 167,
   "metadata": {
    "id": "DMi97Mh9Bbe4"
   },
   "outputs": [],
   "source": [
    "def sort_coo(coo_matrix):\n",
    "    tuples = zip(coo_matrix.col, coo_matrix.data)\n",
    "    return sorted(tuples, key=lambda x: (x[1], x[0]), reverse=True)"
   ]
  },
  {
   "cell_type": "code",
   "execution_count": 168,
   "metadata": {
    "colab": {
     "base_uri": "https://localhost:8080/"
    },
    "id": "v-10wfaeBbe4",
    "outputId": "30d60aab-2551-4a65-a2ae-493861d877b4"
   },
   "outputs": [
    {
     "name": "stdout",
     "output_type": "stream",
     "text": [
      "Sorting Done for 10000\n",
      "Sorting Done for 20000\n",
      "Sorting Done for 30000\n",
      "Sorting Done for 40000\n",
      "Sorting Done for 50000\n",
      "Sorting Done for 60000\n",
      "Sorting Done for 70000\n",
      "Sorting Done for 80000\n",
      "Sorting Done for 90000\n",
      "Sorting Done for 100000\n"
     ]
    }
   ],
   "source": [
    "sorted_items_list=[]\n",
    "i=0\n",
    "for i in range(len(tf_idf_vector_list)):\n",
    "    sorted_items=sort_coo(tf_idf_vector_list[i].tocoo())\n",
    "    i = i+1\n",
    "    sorted_items_list.append(sorted_items)\n",
    "    # added to list  \n",
    "    if ((i%10000) == 0):\n",
    "        print ('Sorting Done for',i)"
   ]
  },
  {
   "cell_type": "code",
   "execution_count": 169,
   "metadata": {
    "colab": {
     "base_uri": "https://localhost:8080/"
    },
    "id": "MKHHWLh2Bbe4",
    "outputId": "a860117b-588f-48ca-a36e-e376626868e8"
   },
   "outputs": [
    {
     "data": {
      "text/plain": [
       "105604"
      ]
     },
     "execution_count": 169,
     "metadata": {},
     "output_type": "execute_result"
    }
   ],
   "source": [
    "len(sorted_items_list)"
   ]
  },
  {
   "cell_type": "markdown",
   "metadata": {
    "id": "u7SEc6KZBbe4"
   },
   "source": [
    "# Extract only the top n; n here is 5"
   ]
  },
  {
   "cell_type": "code",
   "execution_count": 170,
   "metadata": {
    "id": "W5zY850oBbe5"
   },
   "outputs": [],
   "source": [
    "def extract_topn_from_vector(feature_names, sorted_items, topn=5):\n",
    "    \"\"\"get the feature names and tf-idf score of top n items\"\"\"\n",
    "    \n",
    "    #use only topn items from vector\n",
    "    sorted_items = sorted_items[:topn]\n",
    "\n",
    "    score_vals = []\n",
    "    feature_vals = []\n",
    "    \n",
    "    # word index and corresponding tf-idf score\n",
    "    for idx, score in sorted_items:\n",
    "        \n",
    "        #keep track of feature name and its corresponding score\n",
    "        score_vals.append(round(score, 3))\n",
    "        feature_vals.append(feature_names[idx])\n",
    "\n",
    "    #create a tuples of feature,score\n",
    "    #results = zip(feature_vals,score_vals)\n",
    "    results= {}\n",
    "    for idx in range(len(feature_vals)):\n",
    "        results[feature_vals[idx]]=score_vals[idx]\n",
    "    \n",
    "    return results"
   ]
  },
  {
   "cell_type": "code",
   "execution_count": 171,
   "metadata": {
    "colab": {
     "base_uri": "https://localhost:8080/"
    },
    "id": "7HRYwC68Bbe5",
    "outputId": "a573a4cc-8e60-4046-f270-7512e77e2d38"
   },
   "outputs": [
    {
     "name": "stdout",
     "output_type": "stream",
     "text": [
      "Keywords added for 10000\n",
      "Keywords added for 20000\n",
      "Keywords added for 30000\n",
      "Keywords added for 40000\n",
      "Keywords added for 50000\n",
      "Keywords added for 60000\n",
      "Keywords added for 70000\n",
      "Keywords added for 80000\n",
      "Keywords added for 90000\n",
      "Keywords added for 100000\n"
     ]
    }
   ],
   "source": [
    "keyword_list = []\n",
    "i=0\n",
    "for i in range(len(sorted_items_list)):\n",
    "    keywords=extract_topn_from_vector(feature_names,sorted_items_list[i],5)\n",
    "    i = i+1\n",
    "    keyword_list.append(keywords)\n",
    "    # added to list  \n",
    "    if ((i%10000) == 0):\n",
    "        print ('Keywords added for',i)"
   ]
  },
  {
   "cell_type": "code",
   "execution_count": 172,
   "metadata": {
    "colab": {
     "base_uri": "https://localhost:8080/"
    },
    "id": "-1v8P5OvBbe5",
    "outputId": "88864c61-5284-4dfc-9d6b-cf838c5c4098"
   },
   "outputs": [
    {
     "data": {
      "text/plain": [
       "105604"
      ]
     },
     "execution_count": 172,
     "metadata": {},
     "output_type": "execute_result"
    }
   ],
   "source": [
    "len(keyword_list)"
   ]
  },
  {
   "cell_type": "code",
   "execution_count": 173,
   "metadata": {
    "colab": {
     "base_uri": "https://localhost:8080/"
    },
    "id": "EwXQ5W3mBbe5",
    "outputId": "52ff92fe-a578-47e1-a172-d6e16377518c"
   },
   "outputs": [
    {
     "data": {
      "text/plain": [
       "105604"
      ]
     },
     "execution_count": 173,
     "metadata": {},
     "output_type": "execute_result"
    }
   ],
   "source": [
    "def getList(dict):\n",
    "    return list(dict.keys())\n",
    "key_list = []\n",
    "i = 0\n",
    "for i in range(len(keyword_list)):\n",
    "    keys = getList(keyword_list[i])\n",
    "    key_list.append(keys)\n",
    "    \n",
    "len(key_list)\n",
    "    "
   ]
  },
  {
   "cell_type": "code",
   "execution_count": 174,
   "metadata": {
    "colab": {
     "base_uri": "https://localhost:8080/"
    },
    "id": "afLHLYwOBbe5",
    "outputId": "80d191c5-1092-447c-973b-5ba4d001dd27"
   },
   "outputs": [
    {
     "data": {
      "text/plain": [
       "['commentary', 'commentaryfollow', 'homeybvibe', 'hindijokes', 'akash']"
      ]
     },
     "execution_count": 174,
     "metadata": {},
     "output_type": "execute_result"
    }
   ],
   "source": [
    "key_list[0]"
   ]
  },
  {
   "cell_type": "code",
   "execution_count": 175,
   "metadata": {
    "id": "4WGJ6RMgBbe5"
   },
   "outputs": [],
   "source": [
    "df['keywords'] = key_list"
   ]
  },
  {
   "cell_type": "code",
   "execution_count": 176,
   "metadata": {
    "colab": {
     "base_uri": "https://localhost:8080/",
     "height": 632
    },
    "id": "lR8dE7nRBbe5",
    "outputId": "61608d59-df2c-41a5-9789-7ffc00e4a6fe"
   },
   "outputs": [
    {
     "data": {
      "text/html": [
       "<div>\n",
       "<style scoped>\n",
       "    .dataframe tbody tr th:only-of-type {\n",
       "        vertical-align: middle;\n",
       "    }\n",
       "\n",
       "    .dataframe tbody tr th {\n",
       "        vertical-align: top;\n",
       "    }\n",
       "\n",
       "    .dataframe thead th {\n",
       "        text-align: right;\n",
       "    }\n",
       "</style>\n",
       "<table border=\"1\" class=\"dataframe\">\n",
       "  <thead>\n",
       "    <tr style=\"text-align: right;\">\n",
       "      <th></th>\n",
       "      <th>ContentId</th>\n",
       "      <th>title</th>\n",
       "      <th>viewCount</th>\n",
       "      <th>likeCount</th>\n",
       "      <th>dislikeCount</th>\n",
       "      <th>commentCount</th>\n",
       "      <th>favoriteCount</th>\n",
       "      <th>publishedAt</th>\n",
       "      <th>description</th>\n",
       "      <th>duration</th>\n",
       "      <th>tags</th>\n",
       "      <th>text</th>\n",
       "      <th>Processed_text</th>\n",
       "      <th>Word_Count</th>\n",
       "      <th>cluster</th>\n",
       "      <th>keywords</th>\n",
       "    </tr>\n",
       "  </thead>\n",
       "  <tbody>\n",
       "    <tr>\n",
       "      <th>0</th>\n",
       "      <td>lBvknjH3MF0</td>\n",
       "      <td>Akash Chopra Hindi Commentary</td>\n",
       "      <td>1092</td>\n",
       "      <td>83</td>\n",
       "      <td>0</td>\n",
       "      <td>0</td>\n",
       "      <td>0</td>\n",
       "      <td>2021-05-05T10:04:48Z</td>\n",
       "      <td>Follow for more on Insta \n",
       "\n",
       "https://www.instagr...</td>\n",
       "      <td>PT30S</td>\n",
       "      <td>['Cricket', 'India', 'Commentary', 'Hindijokes...</td>\n",
       "      <td>akash chopra hindi commentaryfollow for more o...</td>\n",
       "      <td>akash chopra hindi commentaryfollow insta http...</td>\n",
       "      <td>16</td>\n",
       "      <td>18</td>\n",
       "      <td>[commentary, commentaryfollow, homeybvibe, hin...</td>\n",
       "    </tr>\n",
       "    <tr>\n",
       "      <th>1</th>\n",
       "      <td>qlReo1HxJpE</td>\n",
       "      <td>THE LAUGH CLUB OPEN MIC VLOG 2</td>\n",
       "      <td>14702</td>\n",
       "      <td>749</td>\n",
       "      <td>3</td>\n",
       "      <td>19</td>\n",
       "      <td>0</td>\n",
       "      <td>2021-02-13T06:19:39Z</td>\n",
       "      <td>#STANDUPCOMEDY #COMEDY #LAUGHCLUB\n",
       "\n",
       "THIS VIDEO ...</td>\n",
       "      <td>PT6M42S</td>\n",
       "      <td>[]</td>\n",
       "      <td>the laugh club open mic vlog standupcomedy com...</td>\n",
       "      <td>laugh club open mic vlog standupcomedy comedy ...</td>\n",
       "      <td>67</td>\n",
       "      <td>18</td>\n",
       "      <td>[homeybvibe, club, laugh, open, thelaughclubof...</td>\n",
       "    </tr>\n",
       "    <tr>\n",
       "      <th>2</th>\n",
       "      <td>b0SnJGhuSFQ</td>\n",
       "      <td>FUNNY ROAST OF APPLE 🔥</td>\n",
       "      <td>10370</td>\n",
       "      <td>388</td>\n",
       "      <td>3</td>\n",
       "      <td>19</td>\n",
       "      <td>0</td>\n",
       "      <td>2021-02-04T01:34:45Z</td>\n",
       "      <td>#ROAST #APPLE #IPHONE #AIRPOD\n",
       "\n",
       "ITS A MICRO - R...</td>\n",
       "      <td>PT3M5S</td>\n",
       "      <td>['Roast', 'Apple', 'iPhone', 'Airpod', 'Jokes'...</td>\n",
       "      <td>funny roast of apple roast apple iphone airpod...</td>\n",
       "      <td>funny roast apple roast apple iphone airpod mi...</td>\n",
       "      <td>44</td>\n",
       "      <td>18</td>\n",
       "      <td>[homeybvibe, roast, airpod, apple, roastvideoi...</td>\n",
       "    </tr>\n",
       "    <tr>\n",
       "      <th>3</th>\n",
       "      <td>nfBqb5ZEPys</td>\n",
       "      <td>Stand Up Comedy Homey B</td>\n",
       "      <td>1211</td>\n",
       "      <td>21</td>\n",
       "      <td>0</td>\n",
       "      <td>9</td>\n",
       "      <td>0</td>\n",
       "      <td>2020-12-12T10:35:18Z</td>\n",
       "      <td>Crowd work stand up comedy by HomeyB\n",
       "\n",
       "https://...</td>\n",
       "      <td>PT29S</td>\n",
       "      <td>['Standupcomedy', 'Standup', 'Jokes', 'Haha', ...</td>\n",
       "      <td>stand up comedy homey bcrowd work stand up com...</td>\n",
       "      <td>stand comedy homey bcrowd work stand comedy ho...</td>\n",
       "      <td>33</td>\n",
       "      <td>17</td>\n",
       "      <td>[homeyb, comedy, iteration, funjokes, bcrowd]</td>\n",
       "    </tr>\n",
       "    <tr>\n",
       "      <th>4</th>\n",
       "      <td>ZbOQhsNS87s</td>\n",
       "      <td>TIKTOK ZINDA HAI | NEW CLEAR FAMILY | FAMILY C...</td>\n",
       "      <td>32404</td>\n",
       "      <td>6003</td>\n",
       "      <td>23</td>\n",
       "      <td>344</td>\n",
       "      <td>0</td>\n",
       "      <td>2020-07-19T23:35:01Z</td>\n",
       "      <td>Link first episode EK THA TIKTOK -https://yout...</td>\n",
       "      <td>PT8M18S</td>\n",
       "      <td>['TIKTOKROAST', 'TIKTOK', 'TIKTOKZINDAHAI', 'E...</td>\n",
       "      <td>tiktok zinda hai new clear family family comed...</td>\n",
       "      <td>tiktok zinda hai new clear family family comed...</td>\n",
       "      <td>198</td>\n",
       "      <td>18</td>\n",
       "      <td>[geeta, homey, god, dr, family]</td>\n",
       "    </tr>\n",
       "  </tbody>\n",
       "</table>\n",
       "</div>"
      ],
      "text/plain": [
       "     ContentId                                              title viewCount  \\\n",
       "0  lBvknjH3MF0                      Akash Chopra Hindi Commentary      1092   \n",
       "1  qlReo1HxJpE                     THE LAUGH CLUB OPEN MIC VLOG 2     14702   \n",
       "2  b0SnJGhuSFQ                             FUNNY ROAST OF APPLE 🔥     10370   \n",
       "3  nfBqb5ZEPys                            Stand Up Comedy Homey B      1211   \n",
       "4  ZbOQhsNS87s  TIKTOK ZINDA HAI | NEW CLEAR FAMILY | FAMILY C...     32404   \n",
       "\n",
       "  likeCount dislikeCount commentCount favoriteCount           publishedAt  \\\n",
       "0        83            0            0             0  2021-05-05T10:04:48Z   \n",
       "1       749            3           19             0  2021-02-13T06:19:39Z   \n",
       "2       388            3           19             0  2021-02-04T01:34:45Z   \n",
       "3        21            0            9             0  2020-12-12T10:35:18Z   \n",
       "4      6003           23          344             0  2020-07-19T23:35:01Z   \n",
       "\n",
       "                                         description duration  \\\n",
       "0  Follow for more on Insta \n",
       "\n",
       "https://www.instagr...    PT30S   \n",
       "1  #STANDUPCOMEDY #COMEDY #LAUGHCLUB\n",
       "\n",
       "THIS VIDEO ...  PT6M42S   \n",
       "2  #ROAST #APPLE #IPHONE #AIRPOD\n",
       "\n",
       "ITS A MICRO - R...   PT3M5S   \n",
       "3  Crowd work stand up comedy by HomeyB\n",
       "\n",
       "https://...    PT29S   \n",
       "4  Link first episode EK THA TIKTOK -https://yout...  PT8M18S   \n",
       "\n",
       "                                                tags  \\\n",
       "0  ['Cricket', 'India', 'Commentary', 'Hindijokes...   \n",
       "1                                                 []   \n",
       "2  ['Roast', 'Apple', 'iPhone', 'Airpod', 'Jokes'...   \n",
       "3  ['Standupcomedy', 'Standup', 'Jokes', 'Haha', ...   \n",
       "4  ['TIKTOKROAST', 'TIKTOK', 'TIKTOKZINDAHAI', 'E...   \n",
       "\n",
       "                                                text  \\\n",
       "0  akash chopra hindi commentaryfollow for more o...   \n",
       "1  the laugh club open mic vlog standupcomedy com...   \n",
       "2  funny roast of apple roast apple iphone airpod...   \n",
       "3  stand up comedy homey bcrowd work stand up com...   \n",
       "4  tiktok zinda hai new clear family family comed...   \n",
       "\n",
       "                                      Processed_text  Word_Count  cluster  \\\n",
       "0  akash chopra hindi commentaryfollow insta http...          16       18   \n",
       "1  laugh club open mic vlog standupcomedy comedy ...          67       18   \n",
       "2  funny roast apple roast apple iphone airpod mi...          44       18   \n",
       "3  stand comedy homey bcrowd work stand comedy ho...          33       17   \n",
       "4  tiktok zinda hai new clear family family comed...         198       18   \n",
       "\n",
       "                                            keywords  \n",
       "0  [commentary, commentaryfollow, homeybvibe, hin...  \n",
       "1  [homeybvibe, club, laugh, open, thelaughclubof...  \n",
       "2  [homeybvibe, roast, airpod, apple, roastvideoi...  \n",
       "3      [homeyb, comedy, iteration, funjokes, bcrowd]  \n",
       "4                    [geeta, homey, god, dr, family]  "
      ]
     },
     "execution_count": 176,
     "metadata": {},
     "output_type": "execute_result"
    }
   ],
   "source": [
    "df.head()"
   ]
  },
  {
   "cell_type": "code",
   "execution_count": 177,
   "metadata": {
    "id": "GIuud5V7Bbe5"
   },
   "outputs": [],
   "source": [
    "count_list = []\n",
    "key_words=''\n",
    "keyword_list = df['keywords']\n",
    "combine_keyword = [[' '.join(i)] for i in keyword_list]\n",
    "df['combine_keywords'] = combine_keyword"
   ]
  },
  {
   "cell_type": "code",
   "execution_count": 178,
   "metadata": {
    "colab": {
     "base_uri": "https://localhost:8080/",
     "height": 632
    },
    "id": "h0FsvohcBbe6",
    "outputId": "61a5df33-806c-4dc0-c069-f940fbfc5647"
   },
   "outputs": [
    {
     "data": {
      "text/html": [
       "<div>\n",
       "<style scoped>\n",
       "    .dataframe tbody tr th:only-of-type {\n",
       "        vertical-align: middle;\n",
       "    }\n",
       "\n",
       "    .dataframe tbody tr th {\n",
       "        vertical-align: top;\n",
       "    }\n",
       "\n",
       "    .dataframe thead th {\n",
       "        text-align: right;\n",
       "    }\n",
       "</style>\n",
       "<table border=\"1\" class=\"dataframe\">\n",
       "  <thead>\n",
       "    <tr style=\"text-align: right;\">\n",
       "      <th></th>\n",
       "      <th>ContentId</th>\n",
       "      <th>title</th>\n",
       "      <th>viewCount</th>\n",
       "      <th>likeCount</th>\n",
       "      <th>dislikeCount</th>\n",
       "      <th>commentCount</th>\n",
       "      <th>favoriteCount</th>\n",
       "      <th>publishedAt</th>\n",
       "      <th>description</th>\n",
       "      <th>duration</th>\n",
       "      <th>tags</th>\n",
       "      <th>text</th>\n",
       "      <th>Processed_text</th>\n",
       "      <th>Word_Count</th>\n",
       "      <th>cluster</th>\n",
       "      <th>keywords</th>\n",
       "      <th>combine_keywords</th>\n",
       "    </tr>\n",
       "  </thead>\n",
       "  <tbody>\n",
       "    <tr>\n",
       "      <th>0</th>\n",
       "      <td>lBvknjH3MF0</td>\n",
       "      <td>Akash Chopra Hindi Commentary</td>\n",
       "      <td>1092</td>\n",
       "      <td>83</td>\n",
       "      <td>0</td>\n",
       "      <td>0</td>\n",
       "      <td>0</td>\n",
       "      <td>2021-05-05T10:04:48Z</td>\n",
       "      <td>Follow for more on Insta \n",
       "\n",
       "https://www.instagr...</td>\n",
       "      <td>PT30S</td>\n",
       "      <td>['Cricket', 'India', 'Commentary', 'Hindijokes...</td>\n",
       "      <td>akash chopra hindi commentaryfollow for more o...</td>\n",
       "      <td>akash chopra hindi commentaryfollow insta http...</td>\n",
       "      <td>16</td>\n",
       "      <td>18</td>\n",
       "      <td>[commentary, commentaryfollow, homeybvibe, hin...</td>\n",
       "      <td>[commentary commentaryfollow homeybvibe hindij...</td>\n",
       "    </tr>\n",
       "    <tr>\n",
       "      <th>1</th>\n",
       "      <td>qlReo1HxJpE</td>\n",
       "      <td>THE LAUGH CLUB OPEN MIC VLOG 2</td>\n",
       "      <td>14702</td>\n",
       "      <td>749</td>\n",
       "      <td>3</td>\n",
       "      <td>19</td>\n",
       "      <td>0</td>\n",
       "      <td>2021-02-13T06:19:39Z</td>\n",
       "      <td>#STANDUPCOMEDY #COMEDY #LAUGHCLUB\n",
       "\n",
       "THIS VIDEO ...</td>\n",
       "      <td>PT6M42S</td>\n",
       "      <td>[]</td>\n",
       "      <td>the laugh club open mic vlog standupcomedy com...</td>\n",
       "      <td>laugh club open mic vlog standupcomedy comedy ...</td>\n",
       "      <td>67</td>\n",
       "      <td>18</td>\n",
       "      <td>[homeybvibe, club, laugh, open, thelaughclubof...</td>\n",
       "      <td>[homeybvibe club laugh open thelaughclubofficial]</td>\n",
       "    </tr>\n",
       "    <tr>\n",
       "      <th>2</th>\n",
       "      <td>b0SnJGhuSFQ</td>\n",
       "      <td>FUNNY ROAST OF APPLE 🔥</td>\n",
       "      <td>10370</td>\n",
       "      <td>388</td>\n",
       "      <td>3</td>\n",
       "      <td>19</td>\n",
       "      <td>0</td>\n",
       "      <td>2021-02-04T01:34:45Z</td>\n",
       "      <td>#ROAST #APPLE #IPHONE #AIRPOD\n",
       "\n",
       "ITS A MICRO - R...</td>\n",
       "      <td>PT3M5S</td>\n",
       "      <td>['Roast', 'Apple', 'iPhone', 'Airpod', 'Jokes'...</td>\n",
       "      <td>funny roast of apple roast apple iphone airpod...</td>\n",
       "      <td>funny roast apple roast apple iphone airpod mi...</td>\n",
       "      <td>44</td>\n",
       "      <td>18</td>\n",
       "      <td>[homeybvibe, roast, airpod, apple, roastvideoi...</td>\n",
       "      <td>[homeybvibe roast airpod apple roastvideoindia]</td>\n",
       "    </tr>\n",
       "    <tr>\n",
       "      <th>3</th>\n",
       "      <td>nfBqb5ZEPys</td>\n",
       "      <td>Stand Up Comedy Homey B</td>\n",
       "      <td>1211</td>\n",
       "      <td>21</td>\n",
       "      <td>0</td>\n",
       "      <td>9</td>\n",
       "      <td>0</td>\n",
       "      <td>2020-12-12T10:35:18Z</td>\n",
       "      <td>Crowd work stand up comedy by HomeyB\n",
       "\n",
       "https://...</td>\n",
       "      <td>PT29S</td>\n",
       "      <td>['Standupcomedy', 'Standup', 'Jokes', 'Haha', ...</td>\n",
       "      <td>stand up comedy homey bcrowd work stand up com...</td>\n",
       "      <td>stand comedy homey bcrowd work stand comedy ho...</td>\n",
       "      <td>33</td>\n",
       "      <td>17</td>\n",
       "      <td>[homeyb, comedy, iteration, funjokes, bcrowd]</td>\n",
       "      <td>[homeyb comedy iteration funjokes bcrowd]</td>\n",
       "    </tr>\n",
       "    <tr>\n",
       "      <th>4</th>\n",
       "      <td>ZbOQhsNS87s</td>\n",
       "      <td>TIKTOK ZINDA HAI | NEW CLEAR FAMILY | FAMILY C...</td>\n",
       "      <td>32404</td>\n",
       "      <td>6003</td>\n",
       "      <td>23</td>\n",
       "      <td>344</td>\n",
       "      <td>0</td>\n",
       "      <td>2020-07-19T23:35:01Z</td>\n",
       "      <td>Link first episode EK THA TIKTOK -https://yout...</td>\n",
       "      <td>PT8M18S</td>\n",
       "      <td>['TIKTOKROAST', 'TIKTOK', 'TIKTOKZINDAHAI', 'E...</td>\n",
       "      <td>tiktok zinda hai new clear family family comed...</td>\n",
       "      <td>tiktok zinda hai new clear family family comed...</td>\n",
       "      <td>198</td>\n",
       "      <td>18</td>\n",
       "      <td>[geeta, homey, god, dr, family]</td>\n",
       "      <td>[geeta homey god dr family]</td>\n",
       "    </tr>\n",
       "  </tbody>\n",
       "</table>\n",
       "</div>"
      ],
      "text/plain": [
       "     ContentId                                              title viewCount  \\\n",
       "0  lBvknjH3MF0                      Akash Chopra Hindi Commentary      1092   \n",
       "1  qlReo1HxJpE                     THE LAUGH CLUB OPEN MIC VLOG 2     14702   \n",
       "2  b0SnJGhuSFQ                             FUNNY ROAST OF APPLE 🔥     10370   \n",
       "3  nfBqb5ZEPys                            Stand Up Comedy Homey B      1211   \n",
       "4  ZbOQhsNS87s  TIKTOK ZINDA HAI | NEW CLEAR FAMILY | FAMILY C...     32404   \n",
       "\n",
       "  likeCount dislikeCount commentCount favoriteCount           publishedAt  \\\n",
       "0        83            0            0             0  2021-05-05T10:04:48Z   \n",
       "1       749            3           19             0  2021-02-13T06:19:39Z   \n",
       "2       388            3           19             0  2021-02-04T01:34:45Z   \n",
       "3        21            0            9             0  2020-12-12T10:35:18Z   \n",
       "4      6003           23          344             0  2020-07-19T23:35:01Z   \n",
       "\n",
       "                                         description duration  \\\n",
       "0  Follow for more on Insta \n",
       "\n",
       "https://www.instagr...    PT30S   \n",
       "1  #STANDUPCOMEDY #COMEDY #LAUGHCLUB\n",
       "\n",
       "THIS VIDEO ...  PT6M42S   \n",
       "2  #ROAST #APPLE #IPHONE #AIRPOD\n",
       "\n",
       "ITS A MICRO - R...   PT3M5S   \n",
       "3  Crowd work stand up comedy by HomeyB\n",
       "\n",
       "https://...    PT29S   \n",
       "4  Link first episode EK THA TIKTOK -https://yout...  PT8M18S   \n",
       "\n",
       "                                                tags  \\\n",
       "0  ['Cricket', 'India', 'Commentary', 'Hindijokes...   \n",
       "1                                                 []   \n",
       "2  ['Roast', 'Apple', 'iPhone', 'Airpod', 'Jokes'...   \n",
       "3  ['Standupcomedy', 'Standup', 'Jokes', 'Haha', ...   \n",
       "4  ['TIKTOKROAST', 'TIKTOK', 'TIKTOKZINDAHAI', 'E...   \n",
       "\n",
       "                                                text  \\\n",
       "0  akash chopra hindi commentaryfollow for more o...   \n",
       "1  the laugh club open mic vlog standupcomedy com...   \n",
       "2  funny roast of apple roast apple iphone airpod...   \n",
       "3  stand up comedy homey bcrowd work stand up com...   \n",
       "4  tiktok zinda hai new clear family family comed...   \n",
       "\n",
       "                                      Processed_text  Word_Count  cluster  \\\n",
       "0  akash chopra hindi commentaryfollow insta http...          16       18   \n",
       "1  laugh club open mic vlog standupcomedy comedy ...          67       18   \n",
       "2  funny roast apple roast apple iphone airpod mi...          44       18   \n",
       "3  stand comedy homey bcrowd work stand comedy ho...          33       17   \n",
       "4  tiktok zinda hai new clear family family comed...         198       18   \n",
       "\n",
       "                                            keywords  \\\n",
       "0  [commentary, commentaryfollow, homeybvibe, hin...   \n",
       "1  [homeybvibe, club, laugh, open, thelaughclubof...   \n",
       "2  [homeybvibe, roast, airpod, apple, roastvideoi...   \n",
       "3      [homeyb, comedy, iteration, funjokes, bcrowd]   \n",
       "4                    [geeta, homey, god, dr, family]   \n",
       "\n",
       "                                    combine_keywords  \n",
       "0  [commentary commentaryfollow homeybvibe hindij...  \n",
       "1  [homeybvibe club laugh open thelaughclubofficial]  \n",
       "2    [homeybvibe roast airpod apple roastvideoindia]  \n",
       "3          [homeyb comedy iteration funjokes bcrowd]  \n",
       "4                        [geeta homey god dr family]  "
      ]
     },
     "execution_count": 178,
     "metadata": {},
     "output_type": "execute_result"
    }
   ],
   "source": [
    "df.head()"
   ]
  },
  {
   "cell_type": "code",
   "execution_count": 179,
   "metadata": {
    "colab": {
     "base_uri": "https://localhost:8080/",
     "height": 632
    },
    "id": "2JUgDKoJBbe6",
    "outputId": "0d1841f3-3304-4f4d-8b3b-164efb1e8fdc"
   },
   "outputs": [
    {
     "data": {
      "text/html": [
       "<div>\n",
       "<style scoped>\n",
       "    .dataframe tbody tr th:only-of-type {\n",
       "        vertical-align: middle;\n",
       "    }\n",
       "\n",
       "    .dataframe tbody tr th {\n",
       "        vertical-align: top;\n",
       "    }\n",
       "\n",
       "    .dataframe thead th {\n",
       "        text-align: right;\n",
       "    }\n",
       "</style>\n",
       "<table border=\"1\" class=\"dataframe\">\n",
       "  <thead>\n",
       "    <tr style=\"text-align: right;\">\n",
       "      <th></th>\n",
       "      <th>ContentId</th>\n",
       "      <th>title</th>\n",
       "      <th>viewCount</th>\n",
       "      <th>likeCount</th>\n",
       "      <th>dislikeCount</th>\n",
       "      <th>commentCount</th>\n",
       "      <th>favoriteCount</th>\n",
       "      <th>publishedAt</th>\n",
       "      <th>description</th>\n",
       "      <th>duration</th>\n",
       "      <th>tags</th>\n",
       "      <th>text</th>\n",
       "      <th>Processed_text</th>\n",
       "      <th>Word_Count</th>\n",
       "      <th>cluster</th>\n",
       "      <th>keywords</th>\n",
       "      <th>combine_keywords</th>\n",
       "    </tr>\n",
       "  </thead>\n",
       "  <tbody>\n",
       "    <tr>\n",
       "      <th>0</th>\n",
       "      <td>lBvknjH3MF0</td>\n",
       "      <td>Akash Chopra Hindi Commentary</td>\n",
       "      <td>1092</td>\n",
       "      <td>83</td>\n",
       "      <td>0</td>\n",
       "      <td>0</td>\n",
       "      <td>0</td>\n",
       "      <td>2021-05-05T10:04:48Z</td>\n",
       "      <td>Follow for more on Insta \n",
       "\n",
       "https://www.instagr...</td>\n",
       "      <td>PT30S</td>\n",
       "      <td>['Cricket', 'India', 'Commentary', 'Hindijokes...</td>\n",
       "      <td>akash chopra hindi commentaryfollow for more o...</td>\n",
       "      <td>akash chopra hindi commentaryfollow insta http...</td>\n",
       "      <td>16</td>\n",
       "      <td>18</td>\n",
       "      <td>[commentary, commentaryfollow, homeybvibe, hin...</td>\n",
       "      <td>commentary commentaryfollow homeybvibe hindijo...</td>\n",
       "    </tr>\n",
       "    <tr>\n",
       "      <th>1</th>\n",
       "      <td>qlReo1HxJpE</td>\n",
       "      <td>THE LAUGH CLUB OPEN MIC VLOG 2</td>\n",
       "      <td>14702</td>\n",
       "      <td>749</td>\n",
       "      <td>3</td>\n",
       "      <td>19</td>\n",
       "      <td>0</td>\n",
       "      <td>2021-02-13T06:19:39Z</td>\n",
       "      <td>#STANDUPCOMEDY #COMEDY #LAUGHCLUB\n",
       "\n",
       "THIS VIDEO ...</td>\n",
       "      <td>PT6M42S</td>\n",
       "      <td>[]</td>\n",
       "      <td>the laugh club open mic vlog standupcomedy com...</td>\n",
       "      <td>laugh club open mic vlog standupcomedy comedy ...</td>\n",
       "      <td>67</td>\n",
       "      <td>18</td>\n",
       "      <td>[homeybvibe, club, laugh, open, thelaughclubof...</td>\n",
       "      <td>homeybvibe club laugh open thelaughclubofficial</td>\n",
       "    </tr>\n",
       "    <tr>\n",
       "      <th>2</th>\n",
       "      <td>b0SnJGhuSFQ</td>\n",
       "      <td>FUNNY ROAST OF APPLE 🔥</td>\n",
       "      <td>10370</td>\n",
       "      <td>388</td>\n",
       "      <td>3</td>\n",
       "      <td>19</td>\n",
       "      <td>0</td>\n",
       "      <td>2021-02-04T01:34:45Z</td>\n",
       "      <td>#ROAST #APPLE #IPHONE #AIRPOD\n",
       "\n",
       "ITS A MICRO - R...</td>\n",
       "      <td>PT3M5S</td>\n",
       "      <td>['Roast', 'Apple', 'iPhone', 'Airpod', 'Jokes'...</td>\n",
       "      <td>funny roast of apple roast apple iphone airpod...</td>\n",
       "      <td>funny roast apple roast apple iphone airpod mi...</td>\n",
       "      <td>44</td>\n",
       "      <td>18</td>\n",
       "      <td>[homeybvibe, roast, airpod, apple, roastvideoi...</td>\n",
       "      <td>homeybvibe roast airpod apple roastvideoindia</td>\n",
       "    </tr>\n",
       "    <tr>\n",
       "      <th>3</th>\n",
       "      <td>nfBqb5ZEPys</td>\n",
       "      <td>Stand Up Comedy Homey B</td>\n",
       "      <td>1211</td>\n",
       "      <td>21</td>\n",
       "      <td>0</td>\n",
       "      <td>9</td>\n",
       "      <td>0</td>\n",
       "      <td>2020-12-12T10:35:18Z</td>\n",
       "      <td>Crowd work stand up comedy by HomeyB\n",
       "\n",
       "https://...</td>\n",
       "      <td>PT29S</td>\n",
       "      <td>['Standupcomedy', 'Standup', 'Jokes', 'Haha', ...</td>\n",
       "      <td>stand up comedy homey bcrowd work stand up com...</td>\n",
       "      <td>stand comedy homey bcrowd work stand comedy ho...</td>\n",
       "      <td>33</td>\n",
       "      <td>17</td>\n",
       "      <td>[homeyb, comedy, iteration, funjokes, bcrowd]</td>\n",
       "      <td>homeyb comedy iteration funjokes bcrowd</td>\n",
       "    </tr>\n",
       "    <tr>\n",
       "      <th>4</th>\n",
       "      <td>ZbOQhsNS87s</td>\n",
       "      <td>TIKTOK ZINDA HAI | NEW CLEAR FAMILY | FAMILY C...</td>\n",
       "      <td>32404</td>\n",
       "      <td>6003</td>\n",
       "      <td>23</td>\n",
       "      <td>344</td>\n",
       "      <td>0</td>\n",
       "      <td>2020-07-19T23:35:01Z</td>\n",
       "      <td>Link first episode EK THA TIKTOK -https://yout...</td>\n",
       "      <td>PT8M18S</td>\n",
       "      <td>['TIKTOKROAST', 'TIKTOK', 'TIKTOKZINDAHAI', 'E...</td>\n",
       "      <td>tiktok zinda hai new clear family family comed...</td>\n",
       "      <td>tiktok zinda hai new clear family family comed...</td>\n",
       "      <td>198</td>\n",
       "      <td>18</td>\n",
       "      <td>[geeta, homey, god, dr, family]</td>\n",
       "      <td>geeta homey god dr family</td>\n",
       "    </tr>\n",
       "  </tbody>\n",
       "</table>\n",
       "</div>"
      ],
      "text/plain": [
       "     ContentId                                              title viewCount  \\\n",
       "0  lBvknjH3MF0                      Akash Chopra Hindi Commentary      1092   \n",
       "1  qlReo1HxJpE                     THE LAUGH CLUB OPEN MIC VLOG 2     14702   \n",
       "2  b0SnJGhuSFQ                             FUNNY ROAST OF APPLE 🔥     10370   \n",
       "3  nfBqb5ZEPys                            Stand Up Comedy Homey B      1211   \n",
       "4  ZbOQhsNS87s  TIKTOK ZINDA HAI | NEW CLEAR FAMILY | FAMILY C...     32404   \n",
       "\n",
       "  likeCount dislikeCount commentCount favoriteCount           publishedAt  \\\n",
       "0        83            0            0             0  2021-05-05T10:04:48Z   \n",
       "1       749            3           19             0  2021-02-13T06:19:39Z   \n",
       "2       388            3           19             0  2021-02-04T01:34:45Z   \n",
       "3        21            0            9             0  2020-12-12T10:35:18Z   \n",
       "4      6003           23          344             0  2020-07-19T23:35:01Z   \n",
       "\n",
       "                                         description duration  \\\n",
       "0  Follow for more on Insta \n",
       "\n",
       "https://www.instagr...    PT30S   \n",
       "1  #STANDUPCOMEDY #COMEDY #LAUGHCLUB\n",
       "\n",
       "THIS VIDEO ...  PT6M42S   \n",
       "2  #ROAST #APPLE #IPHONE #AIRPOD\n",
       "\n",
       "ITS A MICRO - R...   PT3M5S   \n",
       "3  Crowd work stand up comedy by HomeyB\n",
       "\n",
       "https://...    PT29S   \n",
       "4  Link first episode EK THA TIKTOK -https://yout...  PT8M18S   \n",
       "\n",
       "                                                tags  \\\n",
       "0  ['Cricket', 'India', 'Commentary', 'Hindijokes...   \n",
       "1                                                 []   \n",
       "2  ['Roast', 'Apple', 'iPhone', 'Airpod', 'Jokes'...   \n",
       "3  ['Standupcomedy', 'Standup', 'Jokes', 'Haha', ...   \n",
       "4  ['TIKTOKROAST', 'TIKTOK', 'TIKTOKZINDAHAI', 'E...   \n",
       "\n",
       "                                                text  \\\n",
       "0  akash chopra hindi commentaryfollow for more o...   \n",
       "1  the laugh club open mic vlog standupcomedy com...   \n",
       "2  funny roast of apple roast apple iphone airpod...   \n",
       "3  stand up comedy homey bcrowd work stand up com...   \n",
       "4  tiktok zinda hai new clear family family comed...   \n",
       "\n",
       "                                      Processed_text  Word_Count  cluster  \\\n",
       "0  akash chopra hindi commentaryfollow insta http...          16       18   \n",
       "1  laugh club open mic vlog standupcomedy comedy ...          67       18   \n",
       "2  funny roast apple roast apple iphone airpod mi...          44       18   \n",
       "3  stand comedy homey bcrowd work stand comedy ho...          33       17   \n",
       "4  tiktok zinda hai new clear family family comed...         198       18   \n",
       "\n",
       "                                            keywords  \\\n",
       "0  [commentary, commentaryfollow, homeybvibe, hin...   \n",
       "1  [homeybvibe, club, laugh, open, thelaughclubof...   \n",
       "2  [homeybvibe, roast, airpod, apple, roastvideoi...   \n",
       "3      [homeyb, comedy, iteration, funjokes, bcrowd]   \n",
       "4                    [geeta, homey, god, dr, family]   \n",
       "\n",
       "                                    combine_keywords  \n",
       "0  commentary commentaryfollow homeybvibe hindijo...  \n",
       "1    homeybvibe club laugh open thelaughclubofficial  \n",
       "2      homeybvibe roast airpod apple roastvideoindia  \n",
       "3            homeyb comedy iteration funjokes bcrowd  \n",
       "4                          geeta homey god dr family  "
      ]
     },
     "execution_count": 179,
     "metadata": {},
     "output_type": "execute_result"
    }
   ],
   "source": [
    "data = df['combine_keywords']\n",
    "result = []\n",
    "for sublist in data:\n",
    "    for item in sublist:\n",
    "        result.append(item)\n",
    "\n",
    "df['combine_keywords'] = result\n",
    "df.head()"
   ]
  },
  {
   "cell_type": "markdown",
   "metadata": {
    "id": "ZZzsGEnGBbe6"
   },
   "source": [
    "# Input Data"
   ]
  },
  {
   "cell_type": "code",
   "execution_count": 180,
   "metadata": {
    "id": "B6Ib4Vn_Bbe6"
   },
   "outputs": [],
   "source": [
    "import numpy as np\n",
    "input_data = np.array(df['combine_keywords'])\n",
    "input_data = input_data.flatten()"
   ]
  },
  {
   "cell_type": "code",
   "execution_count": 181,
   "metadata": {
    "colab": {
     "base_uri": "https://localhost:8080/"
    },
    "id": "kGlb143hBbe6",
    "outputId": "0c9b962c-e0cf-4d80-dc54-1a7aad9df175"
   },
   "outputs": [
    {
     "data": {
      "text/plain": [
       "(105604,)"
      ]
     },
     "execution_count": 181,
     "metadata": {},
     "output_type": "execute_result"
    }
   ],
   "source": [
    "input_data.shape"
   ]
  },
  {
   "cell_type": "markdown",
   "metadata": {
    "id": "ArM7uhgSBbe6"
   },
   "source": [
    "# Output Data"
   ]
  },
  {
   "cell_type": "code",
   "execution_count": 182,
   "metadata": {
    "id": "QFyTJ1QnBbe6"
   },
   "outputs": [],
   "source": [
    "output_data = df['cluster']"
   ]
  },
  {
   "cell_type": "code",
   "execution_count": 183,
   "metadata": {
    "colab": {
     "base_uri": "https://localhost:8080/"
    },
    "id": "53EqRbHHOipw",
    "outputId": "562051e9-9022-45e9-9f0e-ba9d0d9431a3"
   },
   "outputs": [
    {
     "data": {
      "text/plain": [
       "(105604,)"
      ]
     },
     "execution_count": 183,
     "metadata": {},
     "output_type": "execute_result"
    }
   ],
   "source": [
    "output_data.shape"
   ]
  },
  {
   "cell_type": "markdown",
   "metadata": {
    "id": "zy_lmt8oBbe6"
   },
   "source": [
    "# Train test split"
   ]
  },
  {
   "cell_type": "code",
   "execution_count": 184,
   "metadata": {
    "colab": {
     "base_uri": "https://localhost:8080/"
    },
    "id": "27TCuwhTBbe6",
    "outputId": "4557dcda-a0f0-403b-bc81-f85699b838f2"
   },
   "outputs": [
    {
     "data": {
      "text/plain": [
       "(84483,)"
      ]
     },
     "execution_count": 184,
     "metadata": {},
     "output_type": "execute_result"
    }
   ],
   "source": [
    "from sklearn.model_selection import train_test_split\n",
    "x_train,x_test,y_train,y_test=train_test_split (input_data,output_data,test_size=0.20,random_state=1,stratify=output_data)\n",
    "y_train.shape"
   ]
  },
  {
   "cell_type": "markdown",
   "metadata": {
    "id": "WR960MdsBbe7"
   },
   "source": [
    "# Text to numerical conversion"
   ]
  },
  {
   "cell_type": "code",
   "execution_count": 185,
   "metadata": {
    "colab": {
     "base_uri": "https://localhost:8080/"
    },
    "id": "p8GZY_C6Bbe7",
    "outputId": "0312c110-6a2a-4ed4-ab6c-f4a3f7d4aaf7"
   },
   "outputs": [
    {
     "data": {
      "text/plain": [
       "<84483x55400 sparse matrix of type '<class 'numpy.float64'>'\n",
       "\twith 422101 stored elements in Compressed Sparse Row format>"
      ]
     },
     "execution_count": 185,
     "metadata": {},
     "output_type": "execute_result"
    }
   ],
   "source": [
    "from sklearn.feature_extraction.text import TfidfVectorizer\n",
    "vectorizer = TfidfVectorizer()\n",
    "train_data=vectorizer.fit_transform(x_train)\n",
    "test_data=vectorizer.transform(x_test)\n",
    "train_data"
   ]
  },
  {
   "cell_type": "code",
   "execution_count": 186,
   "metadata": {
    "colab": {
     "base_uri": "https://localhost:8080/"
    },
    "id": "jCzVHvAnRIz4",
    "outputId": "71e5de15-a234-4019-b76a-e0a08c0ec1c1"
   },
   "outputs": [
    {
     "data": {
      "text/plain": [
       "(84483, 55400)"
      ]
     },
     "execution_count": 186,
     "metadata": {},
     "output_type": "execute_result"
    }
   ],
   "source": [
    "train_data.shape"
   ]
  },
  {
   "cell_type": "code",
   "execution_count": 187,
   "metadata": {
    "id": "Y9bjfmccQYcl"
   },
   "outputs": [],
   "source": [
    "from sklearn.decomposition import TruncatedSVD\n",
    "def svd_tfidf_matrix(matrix):\n",
    "    svd = TruncatedSVD(n_components=3)\n",
    "    return svd.fit_transform(matrix)"
   ]
  },
  {
   "cell_type": "code",
   "execution_count": 188,
   "metadata": {
    "id": "tIvhh-ehBbe7"
   },
   "outputs": [],
   "source": [
    "train_data = svd_tfidf_matrix(matrix=train_data)"
   ]
  },
  {
   "cell_type": "code",
   "execution_count": 189,
   "metadata": {
    "id": "wBEv7Su7RXne"
   },
   "outputs": [],
   "source": [
    "test_data = svd_tfidf_matrix(matrix=test_data)"
   ]
  },
  {
   "cell_type": "code",
   "execution_count": 190,
   "metadata": {
    "colab": {
     "base_uri": "https://localhost:8080/"
    },
    "id": "TND7xzJRBbe7",
    "outputId": "5162da16-33dc-478b-88ff-dd7875639ea2"
   },
   "outputs": [
    {
     "data": {
      "text/plain": [
       "(84483, 3)"
      ]
     },
     "execution_count": 190,
     "metadata": {},
     "output_type": "execute_result"
    }
   ],
   "source": [
    "train_data.shape"
   ]
  },
  {
   "cell_type": "code",
   "execution_count": 191,
   "metadata": {
    "colab": {
     "base_uri": "https://localhost:8080/"
    },
    "id": "CKciktSOBbe7",
    "outputId": "330ccb55-a4a1-4ccb-9b5b-cf0f316a3b30"
   },
   "outputs": [
    {
     "data": {
      "text/plain": [
       "(21121, 3)"
      ]
     },
     "execution_count": 191,
     "metadata": {},
     "output_type": "execute_result"
    }
   ],
   "source": [
    "test_data.shape"
   ]
  },
  {
   "cell_type": "markdown",
   "metadata": {
    "id": "XA_NEgZrYCZx"
   },
   "source": [
    "# XGB Classifier"
   ]
  },
  {
   "cell_type": "code",
   "execution_count": 192,
   "metadata": {
    "colab": {
     "base_uri": "https://localhost:8080/"
    },
    "id": "b3fDuPHyBbe9",
    "outputId": "656cb632-fa8e-4222-b331-dbacb812d79e"
   },
   "outputs": [
    {
     "name": "stderr",
     "output_type": "stream",
     "text": [
      "/home/shivshaurya/anaconda3/lib/python3.8/site-packages/xgboost/sklearn.py:1224: UserWarning: The use of label encoder in XGBClassifier is deprecated and will be removed in a future release. To remove this warning, do the following: 1) Pass option use_label_encoder=False when constructing XGBClassifier object; and 2) Encode your labels (y) as integers starting with 0, i.e. 0, 1, 2, ..., [num_class - 1].\n",
      "  warnings.warn(label_encoder_deprecation_msg, UserWarning)\n"
     ]
    },
    {
     "name": "stdout",
     "output_type": "stream",
     "text": [
      "[14:48:50] WARNING: ../src/learner.cc:1115: Starting in XGBoost 1.3.0, the default evaluation metric used with the objective 'multi:softprob' was changed from 'merror' to 'mlogloss'. Explicitly set eval_metric if you'd like to restore the old behavior.\n",
      "XGBClassifier(base_score=0.5, booster='gbtree', colsample_bylevel=1,\n",
      "              colsample_bynode=1, colsample_bytree=1, enable_categorical=False,\n",
      "              gamma=0, gpu_id=-1, importance_type=None,\n",
      "              interaction_constraints='', learning_rate=0.300000012,\n",
      "              max_delta_step=0, max_depth=6, min_child_weight=1, missing=nan,\n",
      "              monotone_constraints='()', n_estimators=100, n_jobs=16,\n",
      "              num_parallel_tree=1, objective='multi:softprob', predictor='auto',\n",
      "              random_state=0, reg_alpha=0, reg_lambda=1, scale_pos_weight=None,\n",
      "              subsample=1, tree_method='exact', use_label_encoder=True,\n",
      "              validate_parameters=1, verbosity=None)\n"
     ]
    }
   ],
   "source": [
    "#!pip install xgboost --upgrade\n",
    "from xgboost import XGBClassifier\n",
    "from sklearn.metrics import accuracy_score\n",
    "\n",
    "# fit model no training data\n",
    "model = XGBClassifier()\n",
    "model.fit(train_data, y_train)\n",
    "print(model)"
   ]
  },
  {
   "cell_type": "code",
   "execution_count": 193,
   "metadata": {},
   "outputs": [
    {
     "name": "stdout",
     "output_type": "stream",
     "text": [
      "1.5.0\n"
     ]
    }
   ],
   "source": [
    "import xgboost \n",
    "print(xgboost.__version__)"
   ]
  },
  {
   "cell_type": "code",
   "execution_count": 194,
   "metadata": {
    "colab": {
     "base_uri": "https://localhost:8080/"
    },
    "id": "Ei0qKvLNBbe9",
    "outputId": "df0ff213-0204-4f9c-9266-bbb3455cf070"
   },
   "outputs": [
    {
     "name": "stdout",
     "output_type": "stream",
     "text": [
      "0.7788075707538795\n",
      "0.578949860328583\n"
     ]
    }
   ],
   "source": [
    "print(model.score(train_data, y_train))\n",
    "print(model.score(test_data,y_test))"
   ]
  },
  {
   "cell_type": "code",
   "execution_count": 195,
   "metadata": {},
   "outputs": [
    {
     "data": {
      "text/plain": [
       "array([ 4.34599316e-05, -1.91566098e-06,  3.36047687e-05])"
      ]
     },
     "execution_count": 195,
     "metadata": {},
     "output_type": "execute_result"
    }
   ],
   "source": [
    "test_data[0]"
   ]
  },
  {
   "cell_type": "code",
   "execution_count": 196,
   "metadata": {},
   "outputs": [
    {
     "name": "stdout",
     "output_type": "stream",
     "text": [
      "5.769411871838058\n"
     ]
    }
   ],
   "source": [
    "from sklearn.metrics import auc, accuracy_score, confusion_matrix, mean_squared_error\n",
    "y_pred = model.predict(test_data)\n",
    "\n",
    "mse=mean_squared_error(y_test, y_pred)\n",
    "\n",
    "print(np.sqrt(mse))"
   ]
  },
  {
   "cell_type": "markdown",
   "metadata": {},
   "source": [
    "# Save the model"
   ]
  },
  {
   "cell_type": "code",
   "execution_count": 197,
   "metadata": {},
   "outputs": [],
   "source": [
    "# save the model to disk\n",
    "import pickle\n",
    "filename = 'xgboost.pb'\n",
    "pickle.dump(model, open(filename, 'wb'))"
   ]
  },
  {
   "cell_type": "markdown",
   "metadata": {},
   "source": [
    "# Test Input Keyword"
   ]
  },
  {
   "cell_type": "code",
   "execution_count": 198,
   "metadata": {},
   "outputs": [],
   "source": [
    "keyword = \"standup comedy videos\""
   ]
  },
  {
   "cell_type": "code",
   "execution_count": 199,
   "metadata": {},
   "outputs": [
    {
     "data": {
      "text/plain": [
       "<1x3 sparse matrix of type '<class 'numpy.float64'>'\n",
       "\twith 3 stored elements in Compressed Sparse Row format>"
      ]
     },
     "execution_count": 199,
     "metadata": {},
     "output_type": "execute_result"
    }
   ],
   "source": [
    "keyword_data=np.array(keyword)\n",
    "keyword_data = keyword_data.flatten()\n",
    "keyword_vect=vectorizer.fit_transform(keyword_data)\n",
    "keyword_vect"
   ]
  },
  {
   "cell_type": "markdown",
   "metadata": {},
   "source": [
    "# Load the saved ML Model"
   ]
  },
  {
   "cell_type": "code",
   "execution_count": 200,
   "metadata": {},
   "outputs": [
    {
     "name": "stdout",
     "output_type": "stream",
     "text": [
      "[2]\n"
     ]
    }
   ],
   "source": [
    "# load the model from disk\n",
    "loaded_model = pickle.load(open(filename, 'rb'))\n",
    "result = loaded_model.predict(keyword_vect)\n",
    "print(result)"
   ]
  },
  {
   "cell_type": "code",
   "execution_count": 201,
   "metadata": {},
   "outputs": [
    {
     "data": {
      "text/html": [
       "<div>\n",
       "<style scoped>\n",
       "    .dataframe tbody tr th:only-of-type {\n",
       "        vertical-align: middle;\n",
       "    }\n",
       "\n",
       "    .dataframe tbody tr th {\n",
       "        vertical-align: top;\n",
       "    }\n",
       "\n",
       "    .dataframe thead th {\n",
       "        text-align: right;\n",
       "    }\n",
       "</style>\n",
       "<table border=\"1\" class=\"dataframe\">\n",
       "  <thead>\n",
       "    <tr style=\"text-align: right;\">\n",
       "      <th></th>\n",
       "      <th>ContentId</th>\n",
       "      <th>title</th>\n",
       "      <th>viewCount</th>\n",
       "      <th>likeCount</th>\n",
       "      <th>dislikeCount</th>\n",
       "      <th>commentCount</th>\n",
       "      <th>favoriteCount</th>\n",
       "      <th>publishedAt</th>\n",
       "      <th>description</th>\n",
       "      <th>duration</th>\n",
       "      <th>tags</th>\n",
       "      <th>text</th>\n",
       "      <th>Processed_text</th>\n",
       "      <th>Word_Count</th>\n",
       "      <th>cluster</th>\n",
       "      <th>keywords</th>\n",
       "      <th>combine_keywords</th>\n",
       "    </tr>\n",
       "  </thead>\n",
       "  <tbody>\n",
       "    <tr>\n",
       "      <th>3180</th>\n",
       "      <td>PF03ZVlsLU4</td>\n",
       "      <td>एक्स गर्लफ्रेंड की एमएमएस Teaser | MMS Returns...</td>\n",
       "      <td>561</td>\n",
       "      <td>39</td>\n",
       "      <td>1</td>\n",
       "      <td>2</td>\n",
       "      <td>0</td>\n",
       "      <td>2021-10-10T07:00:24Z</td>\n",
       "      <td>This video is just a teaser for एक्स गर्लफ्रें...</td>\n",
       "      <td>PT44S</td>\n",
       "      <td>['deeperinto horror stories', 'hindi animated ...</td>\n",
       "      <td>एक स गर लफ र ड क एमएमएस teaser mms returns hor...</td>\n",
       "      <td>एक स गर लफ र ड क एमएमएस teaser mm return horro...</td>\n",
       "      <td>389</td>\n",
       "      <td>2</td>\n",
       "      <td>[mm, horror, story, deeperinto, college]</td>\n",
       "      <td>mm horror story deeperinto college</td>\n",
       "    </tr>\n",
       "    <tr>\n",
       "      <th>3181</th>\n",
       "      <td>0PrDhUlbvhs</td>\n",
       "      <td>College mms horror story cartoon | एमएमएस | एम...</td>\n",
       "      <td>37528</td>\n",
       "      <td>692</td>\n",
       "      <td>63</td>\n",
       "      <td>20</td>\n",
       "      <td>0</td>\n",
       "      <td>2021-09-26T06:37:00Z</td>\n",
       "      <td>College MMS ( एमएमएस ) is a horror story about...</td>\n",
       "      <td>PT24M10S</td>\n",
       "      <td>['deeperinto horror stories', 'mms', 'college ...</td>\n",
       "      <td>college mms horror story cartoon एमएमएस एमएमएस...</td>\n",
       "      <td>college mm horror story cartoon एमएमएस एमएमएस ...</td>\n",
       "      <td>427</td>\n",
       "      <td>2</td>\n",
       "      <td>[mm, horror, story, college, एमएमएस]</td>\n",
       "      <td>mm horror story college एमएमएस</td>\n",
       "    </tr>\n",
       "    <tr>\n",
       "      <th>3182</th>\n",
       "      <td>4qyLWrY5Im4</td>\n",
       "      <td>Kabristan Ki Chudail | Hindi Horror Stories  |...</td>\n",
       "      <td>23782</td>\n",
       "      <td>551</td>\n",
       "      <td>28</td>\n",
       "      <td>25</td>\n",
       "      <td>0</td>\n",
       "      <td>2021-09-19T06:07:07Z</td>\n",
       "      <td>Kabristan Ki Chudai or चुड़ैल कब्रिस्तान की is...</td>\n",
       "      <td>PT15M</td>\n",
       "      <td>['deeperinto horror stories', 'chudail kabrist...</td>\n",
       "      <td>kabristan ki chudail hindi horror stories च ड ...</td>\n",
       "      <td>kabristan ki chudail hindi horror story च ड ल ...</td>\n",
       "      <td>437</td>\n",
       "      <td>2</td>\n",
       "      <td>[kabristan, chudail, horror, story, ki]</td>\n",
       "      <td>kabristan chudail horror story ki</td>\n",
       "    </tr>\n",
       "    <tr>\n",
       "      <th>3183</th>\n",
       "      <td>9VD1joZ49GM</td>\n",
       "      <td>Kabristan Ki Chudail Teaser | Hindi Horror Sto...</td>\n",
       "      <td>564</td>\n",
       "      <td>43</td>\n",
       "      <td>4</td>\n",
       "      <td>6</td>\n",
       "      <td>0</td>\n",
       "      <td>2021-09-12T10:56:38Z</td>\n",
       "      <td>Title : Kabristan Ki Chudail Teaser | Hindi Ho...</td>\n",
       "      <td>PT32S</td>\n",
       "      <td>['deeperinto horror stories', 'kabristan ki ch...</td>\n",
       "      <td>kabristan ki chudail teaser hindi horror stori...</td>\n",
       "      <td>kabristan ki chudail teaser hindi horror story...</td>\n",
       "      <td>247</td>\n",
       "      <td>2</td>\n",
       "      <td>[chudail, kabristan, horror, story, deeperinto]</td>\n",
       "      <td>chudail kabristan horror story deeperinto</td>\n",
       "    </tr>\n",
       "    <tr>\n",
       "      <th>3184</th>\n",
       "      <td>1y3oAfUT1R4</td>\n",
       "      <td>Chudail Ki Pyar Ki Kahani | चुड़ैल | Chudail k...</td>\n",
       "      <td>23328</td>\n",
       "      <td>468</td>\n",
       "      <td>37</td>\n",
       "      <td>20</td>\n",
       "      <td>0</td>\n",
       "      <td>2021-08-29T09:14:11Z</td>\n",
       "      <td>Chudail Ki Pyar Ki Kahani (चुड़ैल) is an old f...</td>\n",
       "      <td>PT14M56S</td>\n",
       "      <td>['chudail ki pyar ki kahani', 'chudail ek prem...</td>\n",
       "      <td>chudail ki pyar ki kahani च ड ल chudail ki kah...</td>\n",
       "      <td>chudail ki pyar ki kahani च ड ल chudail ki kah...</td>\n",
       "      <td>570</td>\n",
       "      <td>2</td>\n",
       "      <td>[chudail, story, horror, kahaniya, hindi]</td>\n",
       "      <td>chudail story horror kahaniya hindi</td>\n",
       "    </tr>\n",
       "    <tr>\n",
       "      <th>...</th>\n",
       "      <td>...</td>\n",
       "      <td>...</td>\n",
       "      <td>...</td>\n",
       "      <td>...</td>\n",
       "      <td>...</td>\n",
       "      <td>...</td>\n",
       "      <td>...</td>\n",
       "      <td>...</td>\n",
       "      <td>...</td>\n",
       "      <td>...</td>\n",
       "      <td>...</td>\n",
       "      <td>...</td>\n",
       "      <td>...</td>\n",
       "      <td>...</td>\n",
       "      <td>...</td>\n",
       "      <td>...</td>\n",
       "      <td>...</td>\n",
       "    </tr>\n",
       "    <tr>\n",
       "      <th>103443</th>\n",
       "      <td>eo_Eyik2Pp8</td>\n",
       "      <td>मजबूर व्यापारी | Helpless merchant | Hindi kah...</td>\n",
       "      <td>1140</td>\n",
       "      <td>3</td>\n",
       "      <td>0</td>\n",
       "      <td>0</td>\n",
       "      <td>0</td>\n",
       "      <td>2015-09-14T04:33:19Z</td>\n",
       "      <td>Our content consists of the entire 9th standar...</td>\n",
       "      <td>PT3M30S</td>\n",
       "      <td>['hindi kahaniya for kids', 'hindi kahani', 'h...</td>\n",
       "      <td>मजब र व य प र helpless merchant hindi kahaniya...</td>\n",
       "      <td>मजब र व य प र helpless merchant hindi kahaniya...</td>\n",
       "      <td>101</td>\n",
       "      <td>2</td>\n",
       "      <td>[story, moral, kid, hindi, kahaniya]</td>\n",
       "      <td>story moral kid hindi kahaniya</td>\n",
       "    </tr>\n",
       "    <tr>\n",
       "      <th>103444</th>\n",
       "      <td>pCl02hxT1m8</td>\n",
       "      <td>भिकारी से भगवान | Bhikari Se Bhagvan | Hindi k...</td>\n",
       "      <td>6237</td>\n",
       "      <td>21</td>\n",
       "      <td>4</td>\n",
       "      <td>0</td>\n",
       "      <td>0</td>\n",
       "      <td>2015-09-14T04:33:19Z</td>\n",
       "      <td>Our content consists of the entire 10th standa...</td>\n",
       "      <td>PT2M29S</td>\n",
       "      <td>['hindi kahaniya for kids', 'hindi kahani', 'h...</td>\n",
       "      <td>भ क र स भगव न bhikari se bhagvan hindi kahaniy...</td>\n",
       "      <td>भ क र स भगव न bhikari se bhagvan hindi kahaniy...</td>\n",
       "      <td>150</td>\n",
       "      <td>2</td>\n",
       "      <td>[story, moral, kid, hindi, kahaniya]</td>\n",
       "      <td>story moral kid hindi kahaniya</td>\n",
       "    </tr>\n",
       "    <tr>\n",
       "      <th>103445</th>\n",
       "      <td>zZbGzq5Twcs</td>\n",
       "      <td>नकल | Nakal | Hindi kahaniya for kids | Moral ...</td>\n",
       "      <td>62929</td>\n",
       "      <td>228</td>\n",
       "      <td>77</td>\n",
       "      <td>0</td>\n",
       "      <td>0</td>\n",
       "      <td>2015-09-14T04:33:19Z</td>\n",
       "      <td>Our content consists of the entire 8th standar...</td>\n",
       "      <td>PT3M34S</td>\n",
       "      <td>['hindi kahaniya for kids', 'hindi kahani', 'h...</td>\n",
       "      <td>नकल nakal hindi kahaniya for kids moral story ...</td>\n",
       "      <td>नकल nakal hindi kahaniya kid moral story hindi...</td>\n",
       "      <td>144</td>\n",
       "      <td>2</td>\n",
       "      <td>[story, moral, kid, hindi, kahaniya]</td>\n",
       "      <td>story moral kid hindi kahaniya</td>\n",
       "    </tr>\n",
       "    <tr>\n",
       "      <th>103463</th>\n",
       "      <td>tXFA-SpXbnA</td>\n",
       "      <td>गौरा | Gaura | Animal Story | Hindi cartoon | ...</td>\n",
       "      <td>47909</td>\n",
       "      <td>277</td>\n",
       "      <td>49</td>\n",
       "      <td>0</td>\n",
       "      <td>0</td>\n",
       "      <td>2015-07-29T11:46:54Z</td>\n",
       "      <td>Our content consists of the entire syllabus in...</td>\n",
       "      <td>PT1M50S</td>\n",
       "      <td>['hindi kahaniya for kids', 'hindi moral stori...</td>\n",
       "      <td>ग र gaura animal story hindi cartoon kahaniya ...</td>\n",
       "      <td>ग र gaura animal story hindi cartoon kahaniya ...</td>\n",
       "      <td>145</td>\n",
       "      <td>2</td>\n",
       "      <td>[gaura, story, moral, kid, hindi]</td>\n",
       "      <td>gaura story moral kid hindi</td>\n",
       "    </tr>\n",
       "    <tr>\n",
       "      <th>103502</th>\n",
       "      <td>JFR5NK61c6o</td>\n",
       "      <td>पंडित जी की कर्तव्यनिष्ठा | Panditji ki Kartav...</td>\n",
       "      <td>1773</td>\n",
       "      <td>6</td>\n",
       "      <td>1</td>\n",
       "      <td>0</td>\n",
       "      <td>0</td>\n",
       "      <td>2015-02-09T06:21:07Z</td>\n",
       "      <td>Our content consists of the entire syllabus in...</td>\n",
       "      <td>PT1M40S</td>\n",
       "      <td>['hindi kahaniya for kids', 'hindi kahani', 'h...</td>\n",
       "      <td>प ड त ज क कर तव यन ष ठ panditji ki kartavyanis...</td>\n",
       "      <td>प ड त ज क कर तव यन ष ठ panditji ki kartavyanis...</td>\n",
       "      <td>149</td>\n",
       "      <td>2</td>\n",
       "      <td>[story, moral, kid, hindi, kahaniya]</td>\n",
       "      <td>story moral kid hindi kahaniya</td>\n",
       "    </tr>\n",
       "  </tbody>\n",
       "</table>\n",
       "<p>2293 rows × 17 columns</p>\n",
       "</div>"
      ],
      "text/plain": [
       "          ContentId                                              title  \\\n",
       "3180    PF03ZVlsLU4  एक्स गर्लफ्रेंड की एमएमएस Teaser | MMS Returns...   \n",
       "3181    0PrDhUlbvhs  College mms horror story cartoon | एमएमएस | एम...   \n",
       "3182    4qyLWrY5Im4  Kabristan Ki Chudail | Hindi Horror Stories  |...   \n",
       "3183    9VD1joZ49GM  Kabristan Ki Chudail Teaser | Hindi Horror Sto...   \n",
       "3184    1y3oAfUT1R4  Chudail Ki Pyar Ki Kahani | चुड़ैल | Chudail k...   \n",
       "...             ...                                                ...   \n",
       "103443  eo_Eyik2Pp8  मजबूर व्यापारी | Helpless merchant | Hindi kah...   \n",
       "103444  pCl02hxT1m8  भिकारी से भगवान | Bhikari Se Bhagvan | Hindi k...   \n",
       "103445  zZbGzq5Twcs  नकल | Nakal | Hindi kahaniya for kids | Moral ...   \n",
       "103463  tXFA-SpXbnA  गौरा | Gaura | Animal Story | Hindi cartoon | ...   \n",
       "103502  JFR5NK61c6o  पंडित जी की कर्तव्यनिष्ठा | Panditji ki Kartav...   \n",
       "\n",
       "       viewCount likeCount dislikeCount commentCount favoriteCount  \\\n",
       "3180         561        39            1            2             0   \n",
       "3181       37528       692           63           20             0   \n",
       "3182       23782       551           28           25             0   \n",
       "3183         564        43            4            6             0   \n",
       "3184       23328       468           37           20             0   \n",
       "...          ...       ...          ...          ...           ...   \n",
       "103443      1140         3            0            0             0   \n",
       "103444      6237        21            4            0             0   \n",
       "103445     62929       228           77            0             0   \n",
       "103463     47909       277           49            0             0   \n",
       "103502      1773         6            1            0             0   \n",
       "\n",
       "                 publishedAt  \\\n",
       "3180    2021-10-10T07:00:24Z   \n",
       "3181    2021-09-26T06:37:00Z   \n",
       "3182    2021-09-19T06:07:07Z   \n",
       "3183    2021-09-12T10:56:38Z   \n",
       "3184    2021-08-29T09:14:11Z   \n",
       "...                      ...   \n",
       "103443  2015-09-14T04:33:19Z   \n",
       "103444  2015-09-14T04:33:19Z   \n",
       "103445  2015-09-14T04:33:19Z   \n",
       "103463  2015-07-29T11:46:54Z   \n",
       "103502  2015-02-09T06:21:07Z   \n",
       "\n",
       "                                              description  duration  \\\n",
       "3180    This video is just a teaser for एक्स गर्लफ्रें...     PT44S   \n",
       "3181    College MMS ( एमएमएस ) is a horror story about...  PT24M10S   \n",
       "3182    Kabristan Ki Chudai or चुड़ैल कब्रिस्तान की is...     PT15M   \n",
       "3183    Title : Kabristan Ki Chudail Teaser | Hindi Ho...     PT32S   \n",
       "3184    Chudail Ki Pyar Ki Kahani (चुड़ैल) is an old f...  PT14M56S   \n",
       "...                                                   ...       ...   \n",
       "103443  Our content consists of the entire 9th standar...   PT3M30S   \n",
       "103444  Our content consists of the entire 10th standa...   PT2M29S   \n",
       "103445  Our content consists of the entire 8th standar...   PT3M34S   \n",
       "103463  Our content consists of the entire syllabus in...   PT1M50S   \n",
       "103502  Our content consists of the entire syllabus in...   PT1M40S   \n",
       "\n",
       "                                                     tags  \\\n",
       "3180    ['deeperinto horror stories', 'hindi animated ...   \n",
       "3181    ['deeperinto horror stories', 'mms', 'college ...   \n",
       "3182    ['deeperinto horror stories', 'chudail kabrist...   \n",
       "3183    ['deeperinto horror stories', 'kabristan ki ch...   \n",
       "3184    ['chudail ki pyar ki kahani', 'chudail ek prem...   \n",
       "...                                                   ...   \n",
       "103443  ['hindi kahaniya for kids', 'hindi kahani', 'h...   \n",
       "103444  ['hindi kahaniya for kids', 'hindi kahani', 'h...   \n",
       "103445  ['hindi kahaniya for kids', 'hindi kahani', 'h...   \n",
       "103463  ['hindi kahaniya for kids', 'hindi moral stori...   \n",
       "103502  ['hindi kahaniya for kids', 'hindi kahani', 'h...   \n",
       "\n",
       "                                                     text  \\\n",
       "3180    एक स गर लफ र ड क एमएमएस teaser mms returns hor...   \n",
       "3181    college mms horror story cartoon एमएमएस एमएमएस...   \n",
       "3182    kabristan ki chudail hindi horror stories च ड ...   \n",
       "3183    kabristan ki chudail teaser hindi horror stori...   \n",
       "3184    chudail ki pyar ki kahani च ड ल chudail ki kah...   \n",
       "...                                                   ...   \n",
       "103443  मजब र व य प र helpless merchant hindi kahaniya...   \n",
       "103444  भ क र स भगव न bhikari se bhagvan hindi kahaniy...   \n",
       "103445  नकल nakal hindi kahaniya for kids moral story ...   \n",
       "103463  ग र gaura animal story hindi cartoon kahaniya ...   \n",
       "103502  प ड त ज क कर तव यन ष ठ panditji ki kartavyanis...   \n",
       "\n",
       "                                           Processed_text  Word_Count  \\\n",
       "3180    एक स गर लफ र ड क एमएमएस teaser mm return horro...         389   \n",
       "3181    college mm horror story cartoon एमएमएस एमएमएस ...         427   \n",
       "3182    kabristan ki chudail hindi horror story च ड ल ...         437   \n",
       "3183    kabristan ki chudail teaser hindi horror story...         247   \n",
       "3184    chudail ki pyar ki kahani च ड ल chudail ki kah...         570   \n",
       "...                                                   ...         ...   \n",
       "103443  मजब र व य प र helpless merchant hindi kahaniya...         101   \n",
       "103444  भ क र स भगव न bhikari se bhagvan hindi kahaniy...         150   \n",
       "103445  नकल nakal hindi kahaniya kid moral story hindi...         144   \n",
       "103463  ग र gaura animal story hindi cartoon kahaniya ...         145   \n",
       "103502  प ड त ज क कर तव यन ष ठ panditji ki kartavyanis...         149   \n",
       "\n",
       "        cluster                                         keywords  \\\n",
       "3180          2         [mm, horror, story, deeperinto, college]   \n",
       "3181          2             [mm, horror, story, college, एमएमएस]   \n",
       "3182          2          [kabristan, chudail, horror, story, ki]   \n",
       "3183          2  [chudail, kabristan, horror, story, deeperinto]   \n",
       "3184          2        [chudail, story, horror, kahaniya, hindi]   \n",
       "...         ...                                              ...   \n",
       "103443        2             [story, moral, kid, hindi, kahaniya]   \n",
       "103444        2             [story, moral, kid, hindi, kahaniya]   \n",
       "103445        2             [story, moral, kid, hindi, kahaniya]   \n",
       "103463        2                [gaura, story, moral, kid, hindi]   \n",
       "103502        2             [story, moral, kid, hindi, kahaniya]   \n",
       "\n",
       "                                 combine_keywords  \n",
       "3180           mm horror story deeperinto college  \n",
       "3181               mm horror story college एमएमएस  \n",
       "3182            kabristan chudail horror story ki  \n",
       "3183    chudail kabristan horror story deeperinto  \n",
       "3184          chudail story horror kahaniya hindi  \n",
       "...                                           ...  \n",
       "103443             story moral kid hindi kahaniya  \n",
       "103444             story moral kid hindi kahaniya  \n",
       "103445             story moral kid hindi kahaniya  \n",
       "103463                gaura story moral kid hindi  \n",
       "103502             story moral kid hindi kahaniya  \n",
       "\n",
       "[2293 rows x 17 columns]"
      ]
     },
     "execution_count": 201,
     "metadata": {},
     "output_type": "execute_result"
    }
   ],
   "source": [
    "result_cluster = df.loc[df['cluster'] == result[0]]\n",
    "result_cluster"
   ]
  },
  {
   "cell_type": "code",
   "execution_count": 202,
   "metadata": {},
   "outputs": [
    {
     "name": "stderr",
     "output_type": "stream",
     "text": [
      "<ipython-input-202-2fa0e82fe5af>:1: SettingWithCopyWarning: \n",
      "A value is trying to be set on a copy of a slice from a DataFrame.\n",
      "Try using .loc[row_indexer,col_indexer] = value instead\n",
      "\n",
      "See the caveats in the documentation: https://pandas.pydata.org/pandas-docs/stable/user_guide/indexing.html#returning-a-view-versus-a-copy\n",
      "  result_cluster['viewCount'] = result_cluster['viewCount'].astype('int32')\n"
     ]
    }
   ],
   "source": [
    "result_cluster['viewCount'] = result_cluster['viewCount'].astype('int32')"
   ]
  },
  {
   "cell_type": "code",
   "execution_count": 203,
   "metadata": {},
   "outputs": [
    {
     "data": {
      "text/plain": [
       "dtype('int32')"
      ]
     },
     "execution_count": 203,
     "metadata": {},
     "output_type": "execute_result"
    }
   ],
   "source": [
    "result_cluster['viewCount'].dtype"
   ]
  },
  {
   "cell_type": "code",
   "execution_count": 204,
   "metadata": {},
   "outputs": [
    {
     "data": {
      "text/html": [
       "<div>\n",
       "<style scoped>\n",
       "    .dataframe tbody tr th:only-of-type {\n",
       "        vertical-align: middle;\n",
       "    }\n",
       "\n",
       "    .dataframe tbody tr th {\n",
       "        vertical-align: top;\n",
       "    }\n",
       "\n",
       "    .dataframe thead th {\n",
       "        text-align: right;\n",
       "    }\n",
       "</style>\n",
       "<table border=\"1\" class=\"dataframe\">\n",
       "  <thead>\n",
       "    <tr style=\"text-align: right;\">\n",
       "      <th></th>\n",
       "      <th>ContentId</th>\n",
       "      <th>title</th>\n",
       "      <th>viewCount</th>\n",
       "      <th>likeCount</th>\n",
       "      <th>dislikeCount</th>\n",
       "      <th>commentCount</th>\n",
       "      <th>favoriteCount</th>\n",
       "      <th>publishedAt</th>\n",
       "      <th>description</th>\n",
       "      <th>duration</th>\n",
       "      <th>tags</th>\n",
       "      <th>text</th>\n",
       "      <th>Processed_text</th>\n",
       "      <th>Word_Count</th>\n",
       "      <th>cluster</th>\n",
       "      <th>keywords</th>\n",
       "      <th>combine_keywords</th>\n",
       "    </tr>\n",
       "  </thead>\n",
       "  <tbody>\n",
       "    <tr>\n",
       "      <th>100754</th>\n",
       "      <td>iN-5t9-KmkQ</td>\n",
       "      <td>चुड़ैल कल आना | ज़ालिम सास | Hindi Stories | Hor...</td>\n",
       "      <td>126341227</td>\n",
       "      <td>[]</td>\n",
       "      <td>[]</td>\n",
       "      <td>4995</td>\n",
       "      <td>0</td>\n",
       "      <td>2019-05-28T06:03:15Z</td>\n",
       "      <td>चुड़ैल कल आना | ज़ालिम सास | Hindi Stories | Hor...</td>\n",
       "      <td>PT10M6S</td>\n",
       "      <td>['चुड़ैल कल आना', 'Hindi Stories', 'Latest kaha...</td>\n",
       "      <td>च ड़ ल कल आन ज़ ल म स स hindi stories horror sto...</td>\n",
       "      <td>च ड़ ल कल आन ज़ ल म स स hindi story horror story...</td>\n",
       "      <td>145</td>\n",
       "      <td>2</td>\n",
       "      <td>[story, kahaniya, horror, hindi, bhootiya]</td>\n",
       "      <td>story kahaniya horror hindi bhootiya</td>\n",
       "    </tr>\n",
       "    <tr>\n",
       "      <th>4549</th>\n",
       "      <td>1W-tzuxQMvc</td>\n",
       "      <td>चोटी काटने वाली चुड़ैल | Horror Stories | Engli...</td>\n",
       "      <td>124534359</td>\n",
       "      <td>381814</td>\n",
       "      <td>165920</td>\n",
       "      <td>5388</td>\n",
       "      <td>0</td>\n",
       "      <td>2019-09-08T05:53:40Z</td>\n",
       "      <td>चोटी काटने वाली चुड़ैल | Horror Stories | Engli...</td>\n",
       "      <td>PT10M6S</td>\n",
       "      <td>['चोटी काटने वाली चुड़ैल', 'Hindi Stories', 'La...</td>\n",
       "      <td>च ट क टन व ल च ड़ ल horror stories english subt...</td>\n",
       "      <td>च ट क टन व ल च ड़ ल horror story english subtit...</td>\n",
       "      <td>157</td>\n",
       "      <td>2</td>\n",
       "      <td>[story, kahaniya, horror, chudail, टन]</td>\n",
       "      <td>story kahaniya horror chudail टन</td>\n",
       "    </tr>\n",
       "    <tr>\n",
       "      <th>19870</th>\n",
       "      <td>ckekwXelUSY</td>\n",
       "      <td>भूतिया Hand Pump। Possessed Village Water Hand...</td>\n",
       "      <td>116145996</td>\n",
       "      <td>357967</td>\n",
       "      <td>173141</td>\n",
       "      <td>4430</td>\n",
       "      <td>0</td>\n",
       "      <td>2020-05-21T02:15:02Z</td>\n",
       "      <td>You can listen to our stories now on Gaana.com...</td>\n",
       "      <td>PT10M2S</td>\n",
       "      <td>['Hindi Stories', 'Latest kahaniya', 'Kahani',...</td>\n",
       "      <td>भ त य hand pump possessed village water hand p...</td>\n",
       "      <td>भ त य hand pump possess village water hand pum...</td>\n",
       "      <td>249</td>\n",
       "      <td>2</td>\n",
       "      <td>[story, kahaniya, pump, hindi, horror]</td>\n",
       "      <td>story kahaniya pump hindi horror</td>\n",
       "    </tr>\n",
       "    <tr>\n",
       "      <th>19871</th>\n",
       "      <td>1eqreKRwhg0</td>\n",
       "      <td>चुड़ैल पेट्रोल चोर | Female Petrol Thief | Hind...</td>\n",
       "      <td>99648693</td>\n",
       "      <td>356682</td>\n",
       "      <td>164718</td>\n",
       "      <td>4539</td>\n",
       "      <td>0</td>\n",
       "      <td>2020-05-19T02:30:00Z</td>\n",
       "      <td>You can listen to our stories now on Gaana.com...</td>\n",
       "      <td>PT10M2S</td>\n",
       "      <td>['Hindi Stories', 'Latest kahaniya', 'Kahani',...</td>\n",
       "      <td>च ड़ ल प ट र ल च र female petrol thief hindi ka...</td>\n",
       "      <td>च ड़ ल प ट र ल च र female petrol thief hindi ka...</td>\n",
       "      <td>247</td>\n",
       "      <td>2</td>\n",
       "      <td>[story, kahaniya, hindi, horror, petrol]</td>\n",
       "      <td>story kahaniya hindi horror petrol</td>\n",
       "    </tr>\n",
       "    <tr>\n",
       "      <th>21503</th>\n",
       "      <td>LKouFx2OkDI</td>\n",
       "      <td>स्वर्ण नगरी || New Hindi Kahaniya || SSOFTOONS...</td>\n",
       "      <td>98803156</td>\n",
       "      <td>298887</td>\n",
       "      <td>145979</td>\n",
       "      <td>3095</td>\n",
       "      <td>0</td>\n",
       "      <td>2020-04-11T04:00:04Z</td>\n",
       "      <td>Svarn nagri, SONE KI NAGRI, The city of gold, ...</td>\n",
       "      <td>PT17M35S</td>\n",
       "      <td>['ssoftoons hindi', 'ssoftoons hindi video', '...</td>\n",
       "      <td>स वर ण नगर new hindi kahaniya ssoftoons hindi ...</td>\n",
       "      <td>स वर ण नगर new hindi kahaniya ssoftoons hindi ...</td>\n",
       "      <td>106</td>\n",
       "      <td>2</td>\n",
       "      <td>[hindi, jadui, nagri, story, kahaniya]</td>\n",
       "      <td>hindi jadui nagri story kahaniya</td>\n",
       "    </tr>\n",
       "    <tr>\n",
       "      <th>19877</th>\n",
       "      <td>q33HjI-IQWU</td>\n",
       "      <td>चुड़ैल माँ | बच्चा चुराने वाली चुड़ैल | Hindi S...</td>\n",
       "      <td>91530955</td>\n",
       "      <td>292963</td>\n",
       "      <td>129138</td>\n",
       "      <td>4098</td>\n",
       "      <td>0</td>\n",
       "      <td>2020-05-07T02:15:01Z</td>\n",
       "      <td>Please Subscribe Our Channel: https://bit.ly/2...</td>\n",
       "      <td>PT8M58S</td>\n",
       "      <td>['Hindi Stories', 'Latest kahaniya', 'Kahani',...</td>\n",
       "      <td>च ड ल म बच च च र न व ल च ड़ ल hindi stories hor...</td>\n",
       "      <td>च ड ल म बच च च र न व ल च ड़ ल hindi story horro...</td>\n",
       "      <td>234</td>\n",
       "      <td>2</td>\n",
       "      <td>[story, kahaniya, horror, hindi, haunt]</td>\n",
       "      <td>story kahaniya horror hindi haunt</td>\n",
       "    </tr>\n",
       "    <tr>\n",
       "      <th>14339</th>\n",
       "      <td>0PM3RW1zBx8</td>\n",
       "      <td>चुड़ैल की बेटी | Witch's Daughter | Loyal Dog |...</td>\n",
       "      <td>86848270</td>\n",
       "      <td>321677</td>\n",
       "      <td>143263</td>\n",
       "      <td>4211</td>\n",
       "      <td>0</td>\n",
       "      <td>2020-08-14T04:45:45Z</td>\n",
       "      <td>Please Subscribe Our Channel: https://bit.ly/2...</td>\n",
       "      <td>PT10M</td>\n",
       "      <td>['Hindi Stories', 'Latest kahaniya', 'Kahani',...</td>\n",
       "      <td>च ड़ ल क ब ट witch s daughter loyal dog hindi h...</td>\n",
       "      <td>च ड़ ल क ब ट witch daughter loyal dog hindi hor...</td>\n",
       "      <td>215</td>\n",
       "      <td>2</td>\n",
       "      <td>[story, kahaniya, hindi, horror, bhootiya]</td>\n",
       "      <td>story kahaniya hindi horror bhootiya</td>\n",
       "    </tr>\n",
       "    <tr>\n",
       "      <th>19873</th>\n",
       "      <td>wQagT6MCFZY</td>\n",
       "      <td>भूतिया झूला । झूले पर बैठना मना है । Haunted S...</td>\n",
       "      <td>78388206</td>\n",
       "      <td>268725</td>\n",
       "      <td>127091</td>\n",
       "      <td>3771</td>\n",
       "      <td>0</td>\n",
       "      <td>2020-05-15T02:15:00Z</td>\n",
       "      <td>Please Subscribe Our Channel: https://bit.ly/2...</td>\n",
       "      <td>PT10M3S</td>\n",
       "      <td>['Hindi Stories', 'Latest kahaniya', 'Kahani',...</td>\n",
       "      <td>भ त य झ ल झ ल पर ब ठन मन ह haunted swing stori...</td>\n",
       "      <td>भ त य झ ल झ ल पर ब ठन मन ह haunt swing story h...</td>\n",
       "      <td>236</td>\n",
       "      <td>2</td>\n",
       "      <td>[story, kahaniya, horror, haunt, hindi]</td>\n",
       "      <td>story kahaniya horror haunt hindi</td>\n",
       "    </tr>\n",
       "    <tr>\n",
       "      <th>19942</th>\n",
       "      <td>dzqBAmXjJLM</td>\n",
       "      <td>पत्नी निकली चुड़ैल | Wife Became Witch | Hindi ...</td>\n",
       "      <td>75835479</td>\n",
       "      <td>271175</td>\n",
       "      <td>89583</td>\n",
       "      <td>5760</td>\n",
       "      <td>0</td>\n",
       "      <td>2019-10-04T07:36:29Z</td>\n",
       "      <td>Please Subscribe Our Channel: https://bit.ly/2...</td>\n",
       "      <td>PT10M24S</td>\n",
       "      <td>['पत्नी निकली चुड़ैल', 'Chudail ki kahaniya', '...</td>\n",
       "      <td>पत न न कल च ड़ ल wife became witch hindi storie...</td>\n",
       "      <td>पत न न कल च ड़ ल wife become witch hindi story ...</td>\n",
       "      <td>169</td>\n",
       "      <td>2</td>\n",
       "      <td>[story, kahaniya, moral, hindi, subtitle]</td>\n",
       "      <td>story kahaniya moral hindi subtitle</td>\n",
       "    </tr>\n",
       "    <tr>\n",
       "      <th>4561</th>\n",
       "      <td>lM5rs0gNBqA</td>\n",
       "      <td>जय बजरंग बली | Hindi Stories For Adults | Horr...</td>\n",
       "      <td>72107100</td>\n",
       "      <td>[]</td>\n",
       "      <td>[]</td>\n",
       "      <td>3232</td>\n",
       "      <td>0</td>\n",
       "      <td>2019-07-29T07:22:51Z</td>\n",
       "      <td>जय बजरंग बली | Hindi Stories For Adults | Horr...</td>\n",
       "      <td>PT10M15S</td>\n",
       "      <td>['जय बजरंग बली', 'Hindi Stories', 'Latest kaha...</td>\n",
       "      <td>जय बजर ग बल hindi stories for adults horror st...</td>\n",
       "      <td>जय बजर ग बल hindi story adult horror story chu...</td>\n",
       "      <td>145</td>\n",
       "      <td>2</td>\n",
       "      <td>[story, kahaniya, बजर, horror, ki]</td>\n",
       "      <td>story kahaniya बजर horror ki</td>\n",
       "    </tr>\n",
       "  </tbody>\n",
       "</table>\n",
       "</div>"
      ],
      "text/plain": [
       "          ContentId                                              title  \\\n",
       "100754  iN-5t9-KmkQ  चुड़ैल कल आना | ज़ालिम सास | Hindi Stories | Hor...   \n",
       "4549    1W-tzuxQMvc  चोटी काटने वाली चुड़ैल | Horror Stories | Engli...   \n",
       "19870   ckekwXelUSY  भूतिया Hand Pump। Possessed Village Water Hand...   \n",
       "19871   1eqreKRwhg0  चुड़ैल पेट्रोल चोर | Female Petrol Thief | Hind...   \n",
       "21503   LKouFx2OkDI  स्वर्ण नगरी || New Hindi Kahaniya || SSOFTOONS...   \n",
       "19877   q33HjI-IQWU  चुड़ैल माँ | बच्चा चुराने वाली चुड़ैल | Hindi S...   \n",
       "14339   0PM3RW1zBx8  चुड़ैल की बेटी | Witch's Daughter | Loyal Dog |...   \n",
       "19873   wQagT6MCFZY  भूतिया झूला । झूले पर बैठना मना है । Haunted S...   \n",
       "19942   dzqBAmXjJLM  पत्नी निकली चुड़ैल | Wife Became Witch | Hindi ...   \n",
       "4561    lM5rs0gNBqA  जय बजरंग बली | Hindi Stories For Adults | Horr...   \n",
       "\n",
       "        viewCount likeCount dislikeCount commentCount favoriteCount  \\\n",
       "100754  126341227        []           []         4995             0   \n",
       "4549    124534359    381814       165920         5388             0   \n",
       "19870   116145996    357967       173141         4430             0   \n",
       "19871    99648693    356682       164718         4539             0   \n",
       "21503    98803156    298887       145979         3095             0   \n",
       "19877    91530955    292963       129138         4098             0   \n",
       "14339    86848270    321677       143263         4211             0   \n",
       "19873    78388206    268725       127091         3771             0   \n",
       "19942    75835479    271175        89583         5760             0   \n",
       "4561     72107100        []           []         3232             0   \n",
       "\n",
       "                 publishedAt  \\\n",
       "100754  2019-05-28T06:03:15Z   \n",
       "4549    2019-09-08T05:53:40Z   \n",
       "19870   2020-05-21T02:15:02Z   \n",
       "19871   2020-05-19T02:30:00Z   \n",
       "21503   2020-04-11T04:00:04Z   \n",
       "19877   2020-05-07T02:15:01Z   \n",
       "14339   2020-08-14T04:45:45Z   \n",
       "19873   2020-05-15T02:15:00Z   \n",
       "19942   2019-10-04T07:36:29Z   \n",
       "4561    2019-07-29T07:22:51Z   \n",
       "\n",
       "                                              description  duration  \\\n",
       "100754  चुड़ैल कल आना | ज़ालिम सास | Hindi Stories | Hor...   PT10M6S   \n",
       "4549    चोटी काटने वाली चुड़ैल | Horror Stories | Engli...   PT10M6S   \n",
       "19870   You can listen to our stories now on Gaana.com...   PT10M2S   \n",
       "19871   You can listen to our stories now on Gaana.com...   PT10M2S   \n",
       "21503   Svarn nagri, SONE KI NAGRI, The city of gold, ...  PT17M35S   \n",
       "19877   Please Subscribe Our Channel: https://bit.ly/2...   PT8M58S   \n",
       "14339   Please Subscribe Our Channel: https://bit.ly/2...     PT10M   \n",
       "19873   Please Subscribe Our Channel: https://bit.ly/2...   PT10M3S   \n",
       "19942   Please Subscribe Our Channel: https://bit.ly/2...  PT10M24S   \n",
       "4561    जय बजरंग बली | Hindi Stories For Adults | Horr...  PT10M15S   \n",
       "\n",
       "                                                     tags  \\\n",
       "100754  ['चुड़ैल कल आना', 'Hindi Stories', 'Latest kaha...   \n",
       "4549    ['चोटी काटने वाली चुड़ैल', 'Hindi Stories', 'La...   \n",
       "19870   ['Hindi Stories', 'Latest kahaniya', 'Kahani',...   \n",
       "19871   ['Hindi Stories', 'Latest kahaniya', 'Kahani',...   \n",
       "21503   ['ssoftoons hindi', 'ssoftoons hindi video', '...   \n",
       "19877   ['Hindi Stories', 'Latest kahaniya', 'Kahani',...   \n",
       "14339   ['Hindi Stories', 'Latest kahaniya', 'Kahani',...   \n",
       "19873   ['Hindi Stories', 'Latest kahaniya', 'Kahani',...   \n",
       "19942   ['पत्नी निकली चुड़ैल', 'Chudail ki kahaniya', '...   \n",
       "4561    ['जय बजरंग बली', 'Hindi Stories', 'Latest kaha...   \n",
       "\n",
       "                                                     text  \\\n",
       "100754  च ड़ ल कल आन ज़ ल म स स hindi stories horror sto...   \n",
       "4549    च ट क टन व ल च ड़ ल horror stories english subt...   \n",
       "19870   भ त य hand pump possessed village water hand p...   \n",
       "19871   च ड़ ल प ट र ल च र female petrol thief hindi ka...   \n",
       "21503   स वर ण नगर new hindi kahaniya ssoftoons hindi ...   \n",
       "19877   च ड ल म बच च च र न व ल च ड़ ल hindi stories hor...   \n",
       "14339   च ड़ ल क ब ट witch s daughter loyal dog hindi h...   \n",
       "19873   भ त य झ ल झ ल पर ब ठन मन ह haunted swing stori...   \n",
       "19942   पत न न कल च ड़ ल wife became witch hindi storie...   \n",
       "4561    जय बजर ग बल hindi stories for adults horror st...   \n",
       "\n",
       "                                           Processed_text  Word_Count  \\\n",
       "100754  च ड़ ल कल आन ज़ ल म स स hindi story horror story...         145   \n",
       "4549    च ट क टन व ल च ड़ ल horror story english subtit...         157   \n",
       "19870   भ त य hand pump possess village water hand pum...         249   \n",
       "19871   च ड़ ल प ट र ल च र female petrol thief hindi ka...         247   \n",
       "21503   स वर ण नगर new hindi kahaniya ssoftoons hindi ...         106   \n",
       "19877   च ड ल म बच च च र न व ल च ड़ ल hindi story horro...         234   \n",
       "14339   च ड़ ल क ब ट witch daughter loyal dog hindi hor...         215   \n",
       "19873   भ त य झ ल झ ल पर ब ठन मन ह haunt swing story h...         236   \n",
       "19942   पत न न कल च ड़ ल wife become witch hindi story ...         169   \n",
       "4561    जय बजर ग बल hindi story adult horror story chu...         145   \n",
       "\n",
       "        cluster                                    keywords  \\\n",
       "100754        2  [story, kahaniya, horror, hindi, bhootiya]   \n",
       "4549          2      [story, kahaniya, horror, chudail, टन]   \n",
       "19870         2      [story, kahaniya, pump, hindi, horror]   \n",
       "19871         2    [story, kahaniya, hindi, horror, petrol]   \n",
       "21503         2      [hindi, jadui, nagri, story, kahaniya]   \n",
       "19877         2     [story, kahaniya, horror, hindi, haunt]   \n",
       "14339         2  [story, kahaniya, hindi, horror, bhootiya]   \n",
       "19873         2     [story, kahaniya, horror, haunt, hindi]   \n",
       "19942         2   [story, kahaniya, moral, hindi, subtitle]   \n",
       "4561          2          [story, kahaniya, बजर, horror, ki]   \n",
       "\n",
       "                            combine_keywords  \n",
       "100754  story kahaniya horror hindi bhootiya  \n",
       "4549        story kahaniya horror chudail टन  \n",
       "19870       story kahaniya pump hindi horror  \n",
       "19871     story kahaniya hindi horror petrol  \n",
       "21503       hindi jadui nagri story kahaniya  \n",
       "19877      story kahaniya horror hindi haunt  \n",
       "14339   story kahaniya hindi horror bhootiya  \n",
       "19873      story kahaniya horror haunt hindi  \n",
       "19942    story kahaniya moral hindi subtitle  \n",
       "4561            story kahaniya बजर horror ki  "
      ]
     },
     "execution_count": 204,
     "metadata": {},
     "output_type": "execute_result"
    }
   ],
   "source": [
    "#Ten largest values in view Count column\n",
    "recommended_data = result_cluster.nlargest(10,['viewCount'])\n",
    "recommended_data"
   ]
  },
  {
   "cell_type": "code",
   "execution_count": 205,
   "metadata": {},
   "outputs": [
    {
     "data": {
      "text/html": [
       "<div>\n",
       "<style scoped>\n",
       "    .dataframe tbody tr th:only-of-type {\n",
       "        vertical-align: middle;\n",
       "    }\n",
       "\n",
       "    .dataframe tbody tr th {\n",
       "        vertical-align: top;\n",
       "    }\n",
       "\n",
       "    .dataframe thead th {\n",
       "        text-align: right;\n",
       "    }\n",
       "</style>\n",
       "<table border=\"1\" class=\"dataframe\">\n",
       "  <thead>\n",
       "    <tr style=\"text-align: right;\">\n",
       "      <th></th>\n",
       "      <th>ContentId</th>\n",
       "      <th>title</th>\n",
       "    </tr>\n",
       "  </thead>\n",
       "  <tbody>\n",
       "    <tr>\n",
       "      <th>100754</th>\n",
       "      <td>iN-5t9-KmkQ</td>\n",
       "      <td>चुड़ैल कल आना | ज़ालिम सास | Hindi Stories | Hor...</td>\n",
       "    </tr>\n",
       "    <tr>\n",
       "      <th>4549</th>\n",
       "      <td>1W-tzuxQMvc</td>\n",
       "      <td>चोटी काटने वाली चुड़ैल | Horror Stories | Engli...</td>\n",
       "    </tr>\n",
       "    <tr>\n",
       "      <th>19870</th>\n",
       "      <td>ckekwXelUSY</td>\n",
       "      <td>भूतिया Hand Pump। Possessed Village Water Hand...</td>\n",
       "    </tr>\n",
       "    <tr>\n",
       "      <th>19871</th>\n",
       "      <td>1eqreKRwhg0</td>\n",
       "      <td>चुड़ैल पेट्रोल चोर | Female Petrol Thief | Hind...</td>\n",
       "    </tr>\n",
       "    <tr>\n",
       "      <th>21503</th>\n",
       "      <td>LKouFx2OkDI</td>\n",
       "      <td>स्वर्ण नगरी || New Hindi Kahaniya || SSOFTOONS...</td>\n",
       "    </tr>\n",
       "    <tr>\n",
       "      <th>19877</th>\n",
       "      <td>q33HjI-IQWU</td>\n",
       "      <td>चुड़ैल माँ | बच्चा चुराने वाली चुड़ैल | Hindi S...</td>\n",
       "    </tr>\n",
       "    <tr>\n",
       "      <th>14339</th>\n",
       "      <td>0PM3RW1zBx8</td>\n",
       "      <td>चुड़ैल की बेटी | Witch's Daughter | Loyal Dog |...</td>\n",
       "    </tr>\n",
       "    <tr>\n",
       "      <th>19873</th>\n",
       "      <td>wQagT6MCFZY</td>\n",
       "      <td>भूतिया झूला । झूले पर बैठना मना है । Haunted S...</td>\n",
       "    </tr>\n",
       "    <tr>\n",
       "      <th>19942</th>\n",
       "      <td>dzqBAmXjJLM</td>\n",
       "      <td>पत्नी निकली चुड़ैल | Wife Became Witch | Hindi ...</td>\n",
       "    </tr>\n",
       "    <tr>\n",
       "      <th>4561</th>\n",
       "      <td>lM5rs0gNBqA</td>\n",
       "      <td>जय बजरंग बली | Hindi Stories For Adults | Horr...</td>\n",
       "    </tr>\n",
       "  </tbody>\n",
       "</table>\n",
       "</div>"
      ],
      "text/plain": [
       "          ContentId                                              title\n",
       "100754  iN-5t9-KmkQ  चुड़ैल कल आना | ज़ालिम सास | Hindi Stories | Hor...\n",
       "4549    1W-tzuxQMvc  चोटी काटने वाली चुड़ैल | Horror Stories | Engli...\n",
       "19870   ckekwXelUSY  भूतिया Hand Pump। Possessed Village Water Hand...\n",
       "19871   1eqreKRwhg0  चुड़ैल पेट्रोल चोर | Female Petrol Thief | Hind...\n",
       "21503   LKouFx2OkDI  स्वर्ण नगरी || New Hindi Kahaniya || SSOFTOONS...\n",
       "19877   q33HjI-IQWU  चुड़ैल माँ | बच्चा चुराने वाली चुड़ैल | Hindi S...\n",
       "14339   0PM3RW1zBx8  चुड़ैल की बेटी | Witch's Daughter | Loyal Dog |...\n",
       "19873   wQagT6MCFZY  भूतिया झूला । झूले पर बैठना मना है । Haunted S...\n",
       "19942   dzqBAmXjJLM  पत्नी निकली चुड़ैल | Wife Became Witch | Hindi ...\n",
       "4561    lM5rs0gNBqA  जय बजरंग बली | Hindi Stories For Adults | Horr..."
      ]
     },
     "execution_count": 205,
     "metadata": {},
     "output_type": "execute_result"
    }
   ],
   "source": [
    "recommendation_videos = recommended_data[['ContentId','title']]\n",
    "recommendation_videos"
   ]
  },
  {
   "cell_type": "code",
   "execution_count": null,
   "metadata": {},
   "outputs": [],
   "source": [
    "keyword"
   ]
  },
  {
   "cell_type": "code",
   "execution_count": null,
   "metadata": {},
   "outputs": [],
   "source": []
  }
 ],
 "metadata": {
  "colab": {
   "name": "Modelling.ipynb",
   "provenance": []
  },
  "kernelspec": {
   "display_name": "Python 3",
   "language": "python",
   "name": "python3"
  },
  "language_info": {
   "codemirror_mode": {
    "name": "ipython",
    "version": 3
   },
   "file_extension": ".py",
   "mimetype": "text/x-python",
   "name": "python",
   "nbconvert_exporter": "python",
   "pygments_lexer": "ipython3",
   "version": "3.8.8"
  }
 },
 "nbformat": 4,
 "nbformat_minor": 1
}
