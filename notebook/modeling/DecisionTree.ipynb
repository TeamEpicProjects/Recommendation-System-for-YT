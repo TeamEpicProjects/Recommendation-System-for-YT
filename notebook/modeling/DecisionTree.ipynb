{
 "cells": [
  {
   "cell_type": "markdown",
   "metadata": {
    "id": "9nFlr6kPBbem"
   },
   "source": [
    "# Import Libraries"
   ]
  },
  {
   "cell_type": "code",
   "execution_count": 1,
   "metadata": {
    "id": "E4G71ohyBbep"
   },
   "outputs": [],
   "source": [
    "import pandas as pd\n",
    "from sklearn.feature_extraction.text import TfidfVectorizer"
   ]
  },
  {
   "cell_type": "markdown",
   "metadata": {
    "id": "EYwKjCzHBbes"
   },
   "source": [
    "# Read the dataset "
   ]
  },
  {
   "cell_type": "code",
   "execution_count": 2,
   "metadata": {
    "colab": {
     "base_uri": "https://localhost:8080/"
    },
    "id": "_4qXQFEPBbes",
    "outputId": "41b3d2ad-8724-4adc-e931-de905e29f5a6"
   },
   "outputs": [
    {
     "name": "stderr",
     "output_type": "stream",
     "text": [
      "/home/shivshaurya/anaconda3/lib/python3.8/site-packages/IPython/core/interactiveshell.py:3331: DtypeWarning: Columns (0,3,7) have mixed types.Specify dtype option on import or set low_memory=False.\n",
      "  exec(code_obj, self.user_global_ns, self.user_ns)\n"
     ]
    }
   ],
   "source": [
    "df = pd.read_csv(\"youTubeSearchListTamilNadu.csv\",index_col=[0])"
   ]
  },
  {
   "cell_type": "code",
   "execution_count": 3,
   "metadata": {
    "colab": {
     "base_uri": "https://localhost:8080/",
     "height": 289
    },
    "id": "NMP7aME6Bbet",
    "outputId": "bbc2bdb5-7461-4665-fcfe-413afdadef7c"
   },
   "outputs": [
    {
     "data": {
      "text/html": [
       "<div>\n",
       "<style scoped>\n",
       "    .dataframe tbody tr th:only-of-type {\n",
       "        vertical-align: middle;\n",
       "    }\n",
       "\n",
       "    .dataframe tbody tr th {\n",
       "        vertical-align: top;\n",
       "    }\n",
       "\n",
       "    .dataframe thead th {\n",
       "        text-align: right;\n",
       "    }\n",
       "</style>\n",
       "<table border=\"1\" class=\"dataframe\">\n",
       "  <thead>\n",
       "    <tr style=\"text-align: right;\">\n",
       "      <th></th>\n",
       "      <th>ContentId</th>\n",
       "      <th>title</th>\n",
       "      <th>viewCount</th>\n",
       "      <th>likeCount</th>\n",
       "      <th>dislikeCount</th>\n",
       "      <th>commentCount</th>\n",
       "      <th>favoriteCount</th>\n",
       "      <th>publishedAt</th>\n",
       "      <th>description</th>\n",
       "      <th>duration</th>\n",
       "      <th>tags</th>\n",
       "    </tr>\n",
       "  </thead>\n",
       "  <tbody>\n",
       "    <tr>\n",
       "      <th>0</th>\n",
       "      <td>DPgTI-qO_uc</td>\n",
       "      <td>True beauty #shors#Truebeauty#kdrama#LeeSuHo#H...</td>\n",
       "      <td>5</td>\n",
       "      <td>1</td>\n",
       "      <td>0</td>\n",
       "      <td>0</td>\n",
       "      <td>0</td>\n",
       "      <td>2021-10-06T18:31:40Z</td>\n",
       "      <td>NaN</td>\n",
       "      <td>PT40S</td>\n",
       "      <td>[]</td>\n",
       "    </tr>\n",
       "    <tr>\n",
       "      <th>1</th>\n",
       "      <td>07MEle9JSdo</td>\n",
       "      <td>penthouse #shorts#kdrama#koreandrama#edit#kdra...</td>\n",
       "      <td>7</td>\n",
       "      <td>1</td>\n",
       "      <td>0</td>\n",
       "      <td>0</td>\n",
       "      <td>0</td>\n",
       "      <td>2021-10-05T19:13:52Z</td>\n",
       "      <td>NaN</td>\n",
       "      <td>PT14S</td>\n",
       "      <td>[]</td>\n",
       "    </tr>\n",
       "    <tr>\n",
       "      <th>2</th>\n",
       "      <td>AIH02FlY-Qc</td>\n",
       "      <td>💔💔 #shorts#kdrama#koreandrama#edit#kdramaedit#...</td>\n",
       "      <td>6</td>\n",
       "      <td>1</td>\n",
       "      <td>0</td>\n",
       "      <td>0</td>\n",
       "      <td>0</td>\n",
       "      <td>2021-10-05T19:09:04Z</td>\n",
       "      <td>NaN</td>\n",
       "      <td>PT9S</td>\n",
       "      <td>[]</td>\n",
       "    </tr>\n",
       "    <tr>\n",
       "      <th>3</th>\n",
       "      <td>t9ISH4DtrM4</td>\n",
       "      <td>🔥🔥🔥 #shorts#kdramaedit#kdrama#itsoknottobeokay...</td>\n",
       "      <td>6</td>\n",
       "      <td>2</td>\n",
       "      <td>0</td>\n",
       "      <td>0</td>\n",
       "      <td>0</td>\n",
       "      <td>2021-09-21T18:47:25Z</td>\n",
       "      <td>NaN</td>\n",
       "      <td>PT11S</td>\n",
       "      <td>[]</td>\n",
       "    </tr>\n",
       "    <tr>\n",
       "      <th>4</th>\n",
       "      <td>Pr4BEqNMYBA</td>\n",
       "      <td>This scene 😯😍🔥 #shorts#kdrama#doomatyourservic...</td>\n",
       "      <td>1</td>\n",
       "      <td>1</td>\n",
       "      <td>0</td>\n",
       "      <td>0</td>\n",
       "      <td>0</td>\n",
       "      <td>2021-09-20T17:51:11Z</td>\n",
       "      <td>NaN</td>\n",
       "      <td>PT22S</td>\n",
       "      <td>[]</td>\n",
       "    </tr>\n",
       "  </tbody>\n",
       "</table>\n",
       "</div>"
      ],
      "text/plain": [
       "     ContentId                                              title viewCount  \\\n",
       "0  DPgTI-qO_uc  True beauty #shors#Truebeauty#kdrama#LeeSuHo#H...         5   \n",
       "1  07MEle9JSdo  penthouse #shorts#kdrama#koreandrama#edit#kdra...         7   \n",
       "2  AIH02FlY-Qc  💔💔 #shorts#kdrama#koreandrama#edit#kdramaedit#...         6   \n",
       "3  t9ISH4DtrM4  🔥🔥🔥 #shorts#kdramaedit#kdrama#itsoknottobeokay...         6   \n",
       "4  Pr4BEqNMYBA  This scene 😯😍🔥 #shorts#kdrama#doomatyourservic...         1   \n",
       "\n",
       "  likeCount dislikeCount commentCount favoriteCount           publishedAt  \\\n",
       "0         1            0            0             0  2021-10-06T18:31:40Z   \n",
       "1         1            0            0             0  2021-10-05T19:13:52Z   \n",
       "2         1            0            0             0  2021-10-05T19:09:04Z   \n",
       "3         2            0            0             0  2021-09-21T18:47:25Z   \n",
       "4         1            0            0             0  2021-09-20T17:51:11Z   \n",
       "\n",
       "  description duration tags  \n",
       "0         NaN    PT40S   []  \n",
       "1         NaN    PT14S   []  \n",
       "2         NaN     PT9S   []  \n",
       "3         NaN    PT11S   []  \n",
       "4         NaN    PT22S   []  "
      ]
     },
     "execution_count": 3,
     "metadata": {},
     "output_type": "execute_result"
    }
   ],
   "source": [
    "df.head()"
   ]
  },
  {
   "cell_type": "code",
   "execution_count": 4,
   "metadata": {
    "colab": {
     "base_uri": "https://localhost:8080/"
    },
    "id": "jiVFJVojBbeu",
    "outputId": "d4c8a22b-3368-49ec-d246-973aa19a5424"
   },
   "outputs": [
    {
     "data": {
      "text/plain": [
       "(136349, 11)"
      ]
     },
     "execution_count": 4,
     "metadata": {},
     "output_type": "execute_result"
    }
   ],
   "source": [
    "df.shape"
   ]
  },
  {
   "cell_type": "markdown",
   "metadata": {
    "id": "s4TEPRGeBbeu"
   },
   "source": [
    "# Check for null value count"
   ]
  },
  {
   "cell_type": "code",
   "execution_count": 5,
   "metadata": {
    "colab": {
     "base_uri": "https://localhost:8080/"
    },
    "id": "lWf-65itBbev",
    "outputId": "89ba0ec4-a769-4ffd-f9f9-14a6534e5b1e"
   },
   "outputs": [
    {
     "data": {
      "text/plain": [
       "ContentId            0\n",
       "title                0\n",
       "viewCount        31482\n",
       "likeCount        31482\n",
       "dislikeCount     31482\n",
       "commentCount     31482\n",
       "favoriteCount    31482\n",
       "publishedAt      31482\n",
       "description      34621\n",
       "duration         31483\n",
       "tags             31483\n",
       "dtype: int64"
      ]
     },
     "execution_count": 5,
     "metadata": {},
     "output_type": "execute_result"
    }
   ],
   "source": [
    "df.isnull().sum()"
   ]
  },
  {
   "cell_type": "code",
   "execution_count": 6,
   "metadata": {
    "colab": {
     "base_uri": "https://localhost:8080/"
    },
    "id": "Co0UucEDBbew",
    "outputId": "cd8a2fef-739e-4ac6-8fe1-ffc19ac25f67"
   },
   "outputs": [
    {
     "name": "stdout",
     "output_type": "stream",
     "text": [
      "<class 'pandas.core.frame.DataFrame'>\n",
      "Index: 136349 entries, 0 to 104866\n",
      "Data columns (total 11 columns):\n",
      " #   Column         Non-Null Count   Dtype \n",
      "---  ------         --------------   ----- \n",
      " 0   ContentId      136349 non-null  object\n",
      " 1   title          136349 non-null  object\n",
      " 2   viewCount      104867 non-null  object\n",
      " 3   likeCount      104867 non-null  object\n",
      " 4   dislikeCount   104867 non-null  object\n",
      " 5   commentCount   104867 non-null  object\n",
      " 6   favoriteCount  104867 non-null  object\n",
      " 7   publishedAt    104867 non-null  object\n",
      " 8   description    101728 non-null  object\n",
      " 9   duration       104866 non-null  object\n",
      " 10  tags           104866 non-null  object\n",
      "dtypes: object(11)\n",
      "memory usage: 12.5+ MB\n"
     ]
    }
   ],
   "source": [
    "df.info()"
   ]
  },
  {
   "cell_type": "markdown",
   "metadata": {
    "id": "_TIGSe2ABbew"
   },
   "source": [
    "# Converting Object dtype to strings"
   ]
  },
  {
   "cell_type": "code",
   "execution_count": 7,
   "metadata": {
    "id": "uhEr7YTuBbew"
   },
   "outputs": [],
   "source": [
    "df['title'] = df['title'].convert_dtypes()\n",
    "df['description'] = df['description'].convert_dtypes()\n",
    "df['tags'] = df['tags'].convert_dtypes()"
   ]
  },
  {
   "cell_type": "code",
   "execution_count": 8,
   "metadata": {
    "colab": {
     "base_uri": "https://localhost:8080/"
    },
    "id": "DUt0GW8OBbex",
    "outputId": "98ba3b3a-12da-463d-b5f2-e01e044d617b"
   },
   "outputs": [
    {
     "name": "stdout",
     "output_type": "stream",
     "text": [
      "<class 'pandas.core.frame.DataFrame'>\n",
      "Index: 136349 entries, 0 to 104866\n",
      "Data columns (total 11 columns):\n",
      " #   Column         Non-Null Count   Dtype \n",
      "---  ------         --------------   ----- \n",
      " 0   ContentId      136349 non-null  object\n",
      " 1   title          136349 non-null  string\n",
      " 2   viewCount      104867 non-null  object\n",
      " 3   likeCount      104867 non-null  object\n",
      " 4   dislikeCount   104867 non-null  object\n",
      " 5   commentCount   104867 non-null  object\n",
      " 6   favoriteCount  104867 non-null  object\n",
      " 7   publishedAt    104867 non-null  object\n",
      " 8   description    101728 non-null  string\n",
      " 9   duration       104866 non-null  object\n",
      " 10  tags           104866 non-null  string\n",
      "dtypes: object(8), string(3)\n",
      "memory usage: 12.5+ MB\n"
     ]
    }
   ],
   "source": [
    "df.info()"
   ]
  },
  {
   "cell_type": "markdown",
   "metadata": {
    "id": "NmuMZPNjBbex"
   },
   "source": [
    "# Dropping Null Values"
   ]
  },
  {
   "cell_type": "code",
   "execution_count": 9,
   "metadata": {
    "id": "Fpixjh10Bbex"
   },
   "outputs": [],
   "source": [
    "df = df.dropna()\n",
    "df = df.reset_index(drop=True)"
   ]
  },
  {
   "cell_type": "code",
   "execution_count": 10,
   "metadata": {
    "colab": {
     "base_uri": "https://localhost:8080/"
    },
    "id": "SAsXxjG1Bbex",
    "outputId": "6a22d599-3b94-4377-e460-ad9979e380d0"
   },
   "outputs": [
    {
     "name": "stdout",
     "output_type": "stream",
     "text": [
      "<class 'pandas.core.frame.DataFrame'>\n",
      "RangeIndex: 101727 entries, 0 to 101726\n",
      "Data columns (total 11 columns):\n",
      " #   Column         Non-Null Count   Dtype \n",
      "---  ------         --------------   ----- \n",
      " 0   ContentId      101727 non-null  object\n",
      " 1   title          101727 non-null  string\n",
      " 2   viewCount      101727 non-null  object\n",
      " 3   likeCount      101727 non-null  object\n",
      " 4   dislikeCount   101727 non-null  object\n",
      " 5   commentCount   101727 non-null  object\n",
      " 6   favoriteCount  101727 non-null  object\n",
      " 7   publishedAt    101727 non-null  object\n",
      " 8   description    101727 non-null  string\n",
      " 9   duration       101727 non-null  object\n",
      " 10  tags           101727 non-null  string\n",
      "dtypes: object(8), string(3)\n",
      "memory usage: 8.5+ MB\n"
     ]
    }
   ],
   "source": [
    "df.info()"
   ]
  },
  {
   "cell_type": "code",
   "execution_count": 11,
   "metadata": {
    "colab": {
     "base_uri": "https://localhost:8080/"
    },
    "id": "eJrqBiWOBbex",
    "outputId": "fe48070b-62b3-456c-bc5b-dd9656f8ef63"
   },
   "outputs": [
    {
     "data": {
      "text/plain": [
       "ContentId        0\n",
       "title            0\n",
       "viewCount        0\n",
       "likeCount        0\n",
       "dislikeCount     0\n",
       "commentCount     0\n",
       "favoriteCount    0\n",
       "publishedAt      0\n",
       "description      0\n",
       "duration         0\n",
       "tags             0\n",
       "dtype: int64"
      ]
     },
     "execution_count": 11,
     "metadata": {},
     "output_type": "execute_result"
    }
   ],
   "source": [
    "df.isnull().sum()"
   ]
  },
  {
   "cell_type": "markdown",
   "metadata": {
    "id": "D8s3OecMBbex"
   },
   "source": [
    "# Removing tags, special characters and digits, convert to lower case"
   ]
  },
  {
   "cell_type": "code",
   "execution_count": 12,
   "metadata": {
    "colab": {
     "base_uri": "https://localhost:8080/",
     "height": 0
    },
    "id": "1sHuTNYFBbey",
    "outputId": "38ec1274-783e-4fbb-bc96-f4c1008e1672"
   },
   "outputs": [
    {
     "data": {
      "text/plain": [
       "'k drama savage girls part comment down your first k drama kdrama savagegirlsjkoreandrama howyoulikethatpart koreandrama kcdrama hello guys i made an edit of kdrama savgegirls i hope all of you like it if you it pleases like share comment and do subscribe to my channel and give your love to my channel thank you keep supporting here is the link of part https youtu be dlcfhts om '"
      ]
     },
     "execution_count": 12,
     "metadata": {},
     "output_type": "execute_result"
    }
   ],
   "source": [
    "import re\n",
    "def pre_process(text):\n",
    "    \n",
    "    # lowercase\n",
    "    text=text.lower()\n",
    "    \n",
    "    #remove tags\n",
    "    text=re.sub(\"\",\"\",text)\n",
    "    \n",
    "    # remove special characters and digits\n",
    "    text=re.sub(\"(\\\\d|\\\\W)+\",\" \",text)\n",
    "    \n",
    "    return text\n",
    "\n",
    "df['text'] = df['title'] + df['description'] + df['tags']\n",
    "df['text'] = df['text'].apply(lambda x:pre_process(x))\n",
    "\n",
    "#show the second 'text' just for fun\n",
    "df['text'][2]"
   ]
  },
  {
   "cell_type": "code",
   "execution_count": 13,
   "metadata": {
    "colab": {
     "base_uri": "https://localhost:8080/",
     "height": 0
    },
    "id": "0OFw1vZXBbey",
    "outputId": "f0ab0c09-f012-4d4b-f81b-687c1063a973"
   },
   "outputs": [
    {
     "data": {
      "text/html": [
       "<div>\n",
       "<style scoped>\n",
       "    .dataframe tbody tr th:only-of-type {\n",
       "        vertical-align: middle;\n",
       "    }\n",
       "\n",
       "    .dataframe tbody tr th {\n",
       "        vertical-align: top;\n",
       "    }\n",
       "\n",
       "    .dataframe thead th {\n",
       "        text-align: right;\n",
       "    }\n",
       "</style>\n",
       "<table border=\"1\" class=\"dataframe\">\n",
       "  <thead>\n",
       "    <tr style=\"text-align: right;\">\n",
       "      <th></th>\n",
       "      <th>ContentId</th>\n",
       "      <th>title</th>\n",
       "      <th>viewCount</th>\n",
       "      <th>likeCount</th>\n",
       "      <th>dislikeCount</th>\n",
       "      <th>commentCount</th>\n",
       "      <th>favoriteCount</th>\n",
       "      <th>publishedAt</th>\n",
       "      <th>description</th>\n",
       "      <th>duration</th>\n",
       "      <th>tags</th>\n",
       "      <th>text</th>\n",
       "    </tr>\n",
       "  </thead>\n",
       "  <tbody>\n",
       "    <tr>\n",
       "      <th>0</th>\n",
       "      <td>Q3ZfBWha5sk</td>\n",
       "      <td>Things I learn from k drama</td>\n",
       "      <td>4</td>\n",
       "      <td>2</td>\n",
       "      <td>0</td>\n",
       "      <td>0</td>\n",
       "      <td>0</td>\n",
       "      <td>2021-08-08T14:03:13Z</td>\n",
       "      <td>#kdrama#koreandrama#kcdrama#koreanwords#annyeo...</td>\n",
       "      <td>PT29S</td>\n",
       "      <td>[]</td>\n",
       "      <td>things i learn from k drama kdrama koreandrama...</td>\n",
       "    </tr>\n",
       "    <tr>\n",
       "      <th>1</th>\n",
       "      <td>HeFfpcQfllk</td>\n",
       "      <td>Love alarm mv x Señorita shawn mendes korean m...</td>\n",
       "      <td>29</td>\n",
       "      <td>4</td>\n",
       "      <td>0</td>\n",
       "      <td>3</td>\n",
       "      <td>0</td>\n",
       "      <td>2021-07-02T22:35:24Z</td>\n",
       "      <td>#kdrama#ytvideo#lovealarms1mv#mv#lovealarm#lov...</td>\n",
       "      <td>PT25S</td>\n",
       "      <td>[]</td>\n",
       "      <td>love alarm mv x señorita shawn mendes korean m...</td>\n",
       "    </tr>\n",
       "    <tr>\n",
       "      <th>2</th>\n",
       "      <td>gBcTNgWWCeY</td>\n",
       "      <td>K-drama savage girls part 2 (comment down your...</td>\n",
       "      <td>10</td>\n",
       "      <td>4</td>\n",
       "      <td>0</td>\n",
       "      <td>0</td>\n",
       "      <td>0</td>\n",
       "      <td>2021-06-26T22:49:16Z</td>\n",
       "      <td>#kdrama#savagegirlsjkoreandrama#howyoulikethat...</td>\n",
       "      <td>PT1M51S</td>\n",
       "      <td>[]</td>\n",
       "      <td>k drama savage girls part comment down your fi...</td>\n",
       "    </tr>\n",
       "    <tr>\n",
       "      <th>3</th>\n",
       "      <td>cpwR1pgz2U0</td>\n",
       "      <td>The tale of the nine tailed part 1 eng sub</td>\n",
       "      <td>5</td>\n",
       "      <td>0</td>\n",
       "      <td>0</td>\n",
       "      <td>0</td>\n",
       "      <td>0</td>\n",
       "      <td>2021-06-17T14:36:28Z</td>\n",
       "      <td>#thetaleoftheninetailed#thetaleoftheninetailed...</td>\n",
       "      <td>PT22M20S</td>\n",
       "      <td>[]</td>\n",
       "      <td>the tale of the nine tailed part eng sub theta...</td>\n",
       "    </tr>\n",
       "    <tr>\n",
       "      <th>4</th>\n",
       "      <td>PGKsQxDpf_E</td>\n",
       "      <td>The tale of the nine tailed episode 1</td>\n",
       "      <td>9</td>\n",
       "      <td>2</td>\n",
       "      <td>0</td>\n",
       "      <td>0</td>\n",
       "      <td>0</td>\n",
       "      <td>2021-06-15T12:43:48Z</td>\n",
       "      <td>#thetaleoftheninetailed#kdrama#k&amp;cdrama#thetal...</td>\n",
       "      <td>PT1H5M34S</td>\n",
       "      <td>[]</td>\n",
       "      <td>the tale of the nine tailed episode thetaleoft...</td>\n",
       "    </tr>\n",
       "  </tbody>\n",
       "</table>\n",
       "</div>"
      ],
      "text/plain": [
       "     ContentId                                              title viewCount  \\\n",
       "0  Q3ZfBWha5sk                        Things I learn from k drama         4   \n",
       "1  HeFfpcQfllk  Love alarm mv x Señorita shawn mendes korean m...        29   \n",
       "2  gBcTNgWWCeY  K-drama savage girls part 2 (comment down your...        10   \n",
       "3  cpwR1pgz2U0         The tale of the nine tailed part 1 eng sub         5   \n",
       "4  PGKsQxDpf_E              The tale of the nine tailed episode 1         9   \n",
       "\n",
       "  likeCount dislikeCount commentCount favoriteCount           publishedAt  \\\n",
       "0         2            0            0             0  2021-08-08T14:03:13Z   \n",
       "1         4            0            3             0  2021-07-02T22:35:24Z   \n",
       "2         4            0            0             0  2021-06-26T22:49:16Z   \n",
       "3         0            0            0             0  2021-06-17T14:36:28Z   \n",
       "4         2            0            0             0  2021-06-15T12:43:48Z   \n",
       "\n",
       "                                         description   duration tags  \\\n",
       "0  #kdrama#koreandrama#kcdrama#koreanwords#annyeo...      PT29S   []   \n",
       "1  #kdrama#ytvideo#lovealarms1mv#mv#lovealarm#lov...      PT25S   []   \n",
       "2  #kdrama#savagegirlsjkoreandrama#howyoulikethat...    PT1M51S   []   \n",
       "3  #thetaleoftheninetailed#thetaleoftheninetailed...   PT22M20S   []   \n",
       "4  #thetaleoftheninetailed#kdrama#k&cdrama#thetal...  PT1H5M34S   []   \n",
       "\n",
       "                                                text  \n",
       "0  things i learn from k drama kdrama koreandrama...  \n",
       "1  love alarm mv x señorita shawn mendes korean m...  \n",
       "2  k drama savage girls part comment down your fi...  \n",
       "3  the tale of the nine tailed part eng sub theta...  \n",
       "4  the tale of the nine tailed episode thetaleoft...  "
      ]
     },
     "execution_count": 13,
     "metadata": {},
     "output_type": "execute_result"
    }
   ],
   "source": [
    "df.head()"
   ]
  },
  {
   "cell_type": "markdown",
   "metadata": {
    "id": "_KNrCXtaBbey"
   },
   "source": [
    "# Lemmatization and Removal of Stopwords"
   ]
  },
  {
   "cell_type": "code",
   "execution_count": 14,
   "metadata": {
    "colab": {
     "base_uri": "https://localhost:8080/"
    },
    "id": "A94gC0THBbez",
    "outputId": "b421f7f1-089b-448a-f4ab-37e85ab90698"
   },
   "outputs": [
    {
     "name": "stderr",
     "output_type": "stream",
     "text": [
      "[nltk_data] Downloading package punkt to\n",
      "[nltk_data]     /home/shivshaurya/nltk_data...\n",
      "[nltk_data]   Package punkt is already up-to-date!\n",
      "[nltk_data] Downloading package wordnet to\n",
      "[nltk_data]     /home/shivshaurya/nltk_data...\n",
      "[nltk_data]   Package wordnet is already up-to-date!\n",
      "[nltk_data] Downloading package stopwords to\n",
      "[nltk_data]     /home/shivshaurya/nltk_data...\n",
      "[nltk_data]   Package stopwords is already up-to-date!\n"
     ]
    },
    {
     "name": "stdout",
     "output_type": "stream",
     "text": [
      "Total Words after processing:  19198824\n",
      "Max word count of a Document:  1921\n",
      "Mean word count of Documents:  188.7288920345631\n"
     ]
    }
   ],
   "source": [
    "import re\n",
    "import nltk\n",
    "nltk.download('punkt')\n",
    "nltk.download('wordnet')\n",
    "nltk.download('stopwords')\n",
    "import string\n",
    "from nltk.tokenize import word_tokenize\n",
    "from nltk.stem.porter import PorterStemmer\n",
    "from nltk.stem import WordNetLemmatizer\n",
    "from nltk.corpus import stopwords\n",
    "stop_words = set(stopwords.words('english'))\n",
    "processed_all_documents = list()\n",
    "\n",
    "for desc in df['text']:\n",
    "    word_tokens = word_tokenize(desc) \n",
    "    \n",
    "    filtered_sentence = [] \n",
    "\n",
    "    # Removing Stopwords\n",
    "    for w in word_tokens: \n",
    "        if w not in stop_words: \n",
    "            filtered_sentence.append(w) \n",
    "    \n",
    "    # Lemmetization\n",
    "    lemma_word = []\n",
    "    wordnet_lemmatizer = WordNetLemmatizer()\n",
    "    for w in filtered_sentence:\n",
    "        word1 = wordnet_lemmatizer.lemmatize(w, pos = \"n\")\n",
    "        word2 = wordnet_lemmatizer.lemmatize(word1, pos = \"v\")\n",
    "        word3 = wordnet_lemmatizer.lemmatize(word2, pos = (\"a\"))\n",
    "        lemma_word.append(word3)\n",
    "    words = ' '.join(lemma_word)\n",
    "    processed_all_documents.append(words)\n",
    "df['Processed_text'] = processed_all_documents\n",
    "df['Word_Count'] = [len(desc.split(' ')) for desc in df['Processed_text']]\n",
    "\n",
    "wordCount_after = df['Word_Count'].sum()\n",
    "print(\"Total Words after processing: \", wordCount_after)\n",
    "print(\"Max word count of a Document: \", df['Word_Count'].max())\n",
    "print(\"Mean word count of Documents: \", df['Word_Count'].mean())"
   ]
  },
  {
   "cell_type": "code",
   "execution_count": 15,
   "metadata": {
    "colab": {
     "base_uri": "https://localhost:8080/",
     "height": 632
    },
    "id": "PvfgkjBZBbe0",
    "outputId": "263b46be-87d1-449a-b713-28c2db4cc075"
   },
   "outputs": [
    {
     "data": {
      "text/html": [
       "<div>\n",
       "<style scoped>\n",
       "    .dataframe tbody tr th:only-of-type {\n",
       "        vertical-align: middle;\n",
       "    }\n",
       "\n",
       "    .dataframe tbody tr th {\n",
       "        vertical-align: top;\n",
       "    }\n",
       "\n",
       "    .dataframe thead th {\n",
       "        text-align: right;\n",
       "    }\n",
       "</style>\n",
       "<table border=\"1\" class=\"dataframe\">\n",
       "  <thead>\n",
       "    <tr style=\"text-align: right;\">\n",
       "      <th></th>\n",
       "      <th>ContentId</th>\n",
       "      <th>title</th>\n",
       "      <th>viewCount</th>\n",
       "      <th>likeCount</th>\n",
       "      <th>dislikeCount</th>\n",
       "      <th>commentCount</th>\n",
       "      <th>favoriteCount</th>\n",
       "      <th>publishedAt</th>\n",
       "      <th>description</th>\n",
       "      <th>duration</th>\n",
       "      <th>tags</th>\n",
       "      <th>text</th>\n",
       "      <th>Processed_text</th>\n",
       "      <th>Word_Count</th>\n",
       "    </tr>\n",
       "  </thead>\n",
       "  <tbody>\n",
       "    <tr>\n",
       "      <th>0</th>\n",
       "      <td>Q3ZfBWha5sk</td>\n",
       "      <td>Things I learn from k drama</td>\n",
       "      <td>4</td>\n",
       "      <td>2</td>\n",
       "      <td>0</td>\n",
       "      <td>0</td>\n",
       "      <td>0</td>\n",
       "      <td>2021-08-08T14:03:13Z</td>\n",
       "      <td>#kdrama#koreandrama#kcdrama#koreanwords#annyeo...</td>\n",
       "      <td>PT29S</td>\n",
       "      <td>[]</td>\n",
       "      <td>things i learn from k drama kdrama koreandrama...</td>\n",
       "      <td>thing learn k drama kdrama koreandrama kcdrama...</td>\n",
       "      <td>28</td>\n",
       "    </tr>\n",
       "    <tr>\n",
       "      <th>1</th>\n",
       "      <td>HeFfpcQfllk</td>\n",
       "      <td>Love alarm mv x Señorita shawn mendes korean m...</td>\n",
       "      <td>29</td>\n",
       "      <td>4</td>\n",
       "      <td>0</td>\n",
       "      <td>3</td>\n",
       "      <td>0</td>\n",
       "      <td>2021-07-02T22:35:24Z</td>\n",
       "      <td>#kdrama#ytvideo#lovealarms1mv#mv#lovealarm#lov...</td>\n",
       "      <td>PT25S</td>\n",
       "      <td>[]</td>\n",
       "      <td>love alarm mv x señorita shawn mendes korean m...</td>\n",
       "      <td>love alarm mv x señorita shawn mend korean mix...</td>\n",
       "      <td>42</td>\n",
       "    </tr>\n",
       "    <tr>\n",
       "      <th>2</th>\n",
       "      <td>gBcTNgWWCeY</td>\n",
       "      <td>K-drama savage girls part 2 (comment down your...</td>\n",
       "      <td>10</td>\n",
       "      <td>4</td>\n",
       "      <td>0</td>\n",
       "      <td>0</td>\n",
       "      <td>0</td>\n",
       "      <td>2021-06-26T22:49:16Z</td>\n",
       "      <td>#kdrama#savagegirlsjkoreandrama#howyoulikethat...</td>\n",
       "      <td>PT1M51S</td>\n",
       "      <td>[]</td>\n",
       "      <td>k drama savage girls part comment down your fi...</td>\n",
       "      <td>k drama savage girl part comment first k drama...</td>\n",
       "      <td>40</td>\n",
       "    </tr>\n",
       "    <tr>\n",
       "      <th>3</th>\n",
       "      <td>cpwR1pgz2U0</td>\n",
       "      <td>The tale of the nine tailed part 1 eng sub</td>\n",
       "      <td>5</td>\n",
       "      <td>0</td>\n",
       "      <td>0</td>\n",
       "      <td>0</td>\n",
       "      <td>0</td>\n",
       "      <td>2021-06-17T14:36:28Z</td>\n",
       "      <td>#thetaleoftheninetailed#thetaleoftheninetailed...</td>\n",
       "      <td>PT22M20S</td>\n",
       "      <td>[]</td>\n",
       "      <td>the tale of the nine tailed part eng sub theta...</td>\n",
       "      <td>tale nine tail part eng sub thetaleofthenineta...</td>\n",
       "      <td>48</td>\n",
       "    </tr>\n",
       "    <tr>\n",
       "      <th>4</th>\n",
       "      <td>PGKsQxDpf_E</td>\n",
       "      <td>The tale of the nine tailed episode 1</td>\n",
       "      <td>9</td>\n",
       "      <td>2</td>\n",
       "      <td>0</td>\n",
       "      <td>0</td>\n",
       "      <td>0</td>\n",
       "      <td>2021-06-15T12:43:48Z</td>\n",
       "      <td>#thetaleoftheninetailed#kdrama#k&amp;cdrama#thetal...</td>\n",
       "      <td>PT1H5M34S</td>\n",
       "      <td>[]</td>\n",
       "      <td>the tale of the nine tailed episode thetaleoft...</td>\n",
       "      <td>tale nine tail episode thetaleoftheninetailed ...</td>\n",
       "      <td>39</td>\n",
       "    </tr>\n",
       "  </tbody>\n",
       "</table>\n",
       "</div>"
      ],
      "text/plain": [
       "     ContentId                                              title viewCount  \\\n",
       "0  Q3ZfBWha5sk                        Things I learn from k drama         4   \n",
       "1  HeFfpcQfllk  Love alarm mv x Señorita shawn mendes korean m...        29   \n",
       "2  gBcTNgWWCeY  K-drama savage girls part 2 (comment down your...        10   \n",
       "3  cpwR1pgz2U0         The tale of the nine tailed part 1 eng sub         5   \n",
       "4  PGKsQxDpf_E              The tale of the nine tailed episode 1         9   \n",
       "\n",
       "  likeCount dislikeCount commentCount favoriteCount           publishedAt  \\\n",
       "0         2            0            0             0  2021-08-08T14:03:13Z   \n",
       "1         4            0            3             0  2021-07-02T22:35:24Z   \n",
       "2         4            0            0             0  2021-06-26T22:49:16Z   \n",
       "3         0            0            0             0  2021-06-17T14:36:28Z   \n",
       "4         2            0            0             0  2021-06-15T12:43:48Z   \n",
       "\n",
       "                                         description   duration tags  \\\n",
       "0  #kdrama#koreandrama#kcdrama#koreanwords#annyeo...      PT29S   []   \n",
       "1  #kdrama#ytvideo#lovealarms1mv#mv#lovealarm#lov...      PT25S   []   \n",
       "2  #kdrama#savagegirlsjkoreandrama#howyoulikethat...    PT1M51S   []   \n",
       "3  #thetaleoftheninetailed#thetaleoftheninetailed...   PT22M20S   []   \n",
       "4  #thetaleoftheninetailed#kdrama#k&cdrama#thetal...  PT1H5M34S   []   \n",
       "\n",
       "                                                text  \\\n",
       "0  things i learn from k drama kdrama koreandrama...   \n",
       "1  love alarm mv x señorita shawn mendes korean m...   \n",
       "2  k drama savage girls part comment down your fi...   \n",
       "3  the tale of the nine tailed part eng sub theta...   \n",
       "4  the tale of the nine tailed episode thetaleoft...   \n",
       "\n",
       "                                      Processed_text  Word_Count  \n",
       "0  thing learn k drama kdrama koreandrama kcdrama...          28  \n",
       "1  love alarm mv x señorita shawn mend korean mix...          42  \n",
       "2  k drama savage girl part comment first k drama...          40  \n",
       "3  tale nine tail part eng sub thetaleofthenineta...          48  \n",
       "4  tale nine tail episode thetaleoftheninetailed ...          39  "
      ]
     },
     "execution_count": 15,
     "metadata": {},
     "output_type": "execute_result"
    }
   ],
   "source": [
    "df.head()"
   ]
  },
  {
   "cell_type": "markdown",
   "metadata": {
    "id": "ah80a1ogBbe0"
   },
   "source": [
    "# Create a vocabulary of words, \n",
    "Ignore words that appear in 85% of documents, \n",
    "Eliminate stop words"
   ]
  },
  {
   "cell_type": "code",
   "execution_count": 16,
   "metadata": {
    "colab": {
     "base_uri": "https://localhost:8080/"
    },
    "id": "DT8UD0XJBbe0",
    "outputId": "b186ab42-3d58-4584-ddd0-87d5be410827"
   },
   "outputs": [
    {
     "name": "stderr",
     "output_type": "stream",
     "text": [
      "/home/shivshaurya/anaconda3/lib/python3.8/site-packages/sklearn/feature_extraction/text.py:382: UserWarning: Your stop_words may be inconsistent with your preprocessing. Tokenizing the stop words generated tokens ['come', 'vis', 'viser', 'visest'] not in stop_words.\n",
      "  warnings.warn('Your stop_words may be inconsistent with '\n"
     ]
    }
   ],
   "source": [
    "from sklearn.feature_extraction.text import CountVectorizer\n",
    "import re\n",
    "\n",
    "def get_stop_words(stop_file_path):\n",
    "    \"\"\"load stop words \"\"\"\n",
    "    \n",
    "    with open(stop_file_path, 'r', encoding=\"utf-8\") as f:\n",
    "        stopwords = f.readlines()\n",
    "        stop_set = set(m.strip() for m in stopwords)\n",
    "        return frozenset(stop_set)\n",
    "\n",
    "#load a set of stop words\n",
    "stopwords=get_stop_words(\"resources/stopwords.txt\")\n",
    "\n",
    "#get the text column \n",
    "docs=df['Processed_text'].tolist()\n",
    "\n",
    "#create a vocabulary of words, \n",
    "#ignore words that appear in 85% of documents, \n",
    "#eliminate stop words\n",
    "cv=CountVectorizer(max_df=0.85,stop_words=stopwords)\n",
    "word_count_vector=cv.fit_transform(docs)"
   ]
  },
  {
   "cell_type": "code",
   "execution_count": 17,
   "metadata": {
    "colab": {
     "base_uri": "https://localhost:8080/"
    },
    "id": "uMBp9zqZBbe1",
    "outputId": "59e45f06-0954-48b1-d7b2-b2c12600b365"
   },
   "outputs": [
    {
     "data": {
      "text/plain": [
       "(101727, 206077)"
      ]
     },
     "execution_count": 17,
     "metadata": {},
     "output_type": "execute_result"
    }
   ],
   "source": [
    "word_count_vector.shape"
   ]
  },
  {
   "cell_type": "code",
   "execution_count": 18,
   "metadata": {
    "colab": {
     "base_uri": "https://localhost:8080/"
    },
    "id": "k9pzeA2iBbe1",
    "outputId": "ec48fb55-e615-4144-dcbf-215e772dbede"
   },
   "outputs": [
    {
     "data": {
      "text/plain": [
       "['learn',\n",
       " 'drama',\n",
       " 'kdrama',\n",
       " 'koreandrama',\n",
       " 'kcdrama',\n",
       " 'koreanwords',\n",
       " 'annyeong',\n",
       " 'kdramagirls',\n",
       " 'hello',\n",
       " 'lover']"
      ]
     },
     "execution_count": 18,
     "metadata": {},
     "output_type": "execute_result"
    }
   ],
   "source": [
    "list(cv.vocabulary_.keys())[:10]"
   ]
  },
  {
   "cell_type": "code",
   "execution_count": 19,
   "metadata": {
    "colab": {
     "base_uri": "https://localhost:8080/"
    },
    "id": "YCV8aSOlBbe1",
    "outputId": "a2c40d41-4c34-4b11-a325-37f06ac5fe11"
   },
   "outputs": [
    {
     "data": {
      "text/plain": [
       "TfidfTransformer(norm='l2', smooth_idf=True, sublinear_tf=False, use_idf=True)"
      ]
     },
     "execution_count": 19,
     "metadata": {},
     "output_type": "execute_result"
    }
   ],
   "source": [
    "from sklearn.feature_extraction.text import TfidfTransformer\n",
    "\n",
    "tfidf_transformer=TfidfTransformer(smooth_idf=True,use_idf=True)\n",
    "tfidf_transformer.fit(word_count_vector)"
   ]
  },
  {
   "cell_type": "code",
   "execution_count": 20,
   "metadata": {
    "id": "ejHDQvh6Bbe1"
   },
   "outputs": [],
   "source": [
    "# you only needs to do this once, this is a mapping of index to \n",
    "feature_names=cv.get_feature_names()"
   ]
  },
  {
   "cell_type": "code",
   "execution_count": 21,
   "metadata": {
    "colab": {
     "base_uri": "https://localhost:8080/"
    },
    "id": "kSVXZk2NBbe1",
    "outputId": "30b53b37-f058-43a3-d951-096f78466feb"
   },
   "outputs": [
    {
     "data": {
      "text/plain": [
       "['__',\n",
       " '___',\n",
       " '____',\n",
       " '_____',\n",
       " '______',\n",
       " '_______',\n",
       " '________',\n",
       " '_________',\n",
       " '__________',\n",
       " '___________',\n",
       " '____________',\n",
       " '_____________',\n",
       " '______________',\n",
       " '_______________',\n",
       " '________________',\n",
       " '_________________',\n",
       " '__________________',\n",
       " '___________________',\n",
       " '____________________',\n",
       " '_____________________',\n",
       " '______________________',\n",
       " '_______________________',\n",
       " '________________________',\n",
       " '_________________________',\n",
       " '__________________________',\n",
       " '___________________________',\n",
       " '____________________________',\n",
       " '_____________________________',\n",
       " '______________________________',\n",
       " '_______________________________',\n",
       " '________________________________',\n",
       " '_________________________________',\n",
       " '__________________________________',\n",
       " '___________________________________',\n",
       " '____________________________________',\n",
       " '_____________________________________',\n",
       " '______________________________________',\n",
       " '_______________________________________',\n",
       " '________________________________________',\n",
       " '_________________________________________',\n",
       " '__________________________________________',\n",
       " '___________________________________________',\n",
       " '____________________________________________',\n",
       " '_____________________________________________',\n",
       " '______________________________________________',\n",
       " '_______________________________________________',\n",
       " '________________________________________________',\n",
       " '_________________________________________________',\n",
       " '__________________________________________________',\n",
       " '___________________________________________________',\n",
       " '____________________________________________________',\n",
       " '_____________________________________________________',\n",
       " '______________________________________________________',\n",
       " '_______________________________________________________',\n",
       " '________________________________________________________',\n",
       " '_________________________________________________________',\n",
       " '__________________________________________________________',\n",
       " '___________________________________________________________',\n",
       " '____________________________________________________________',\n",
       " '_____________________________________________________________',\n",
       " '______________________________________________________________',\n",
       " '________________________________________________________________',\n",
       " '_________________________________________________________________',\n",
       " '__________________________________________________________________',\n",
       " '___________________________________________________________________',\n",
       " '____________________________________________________________________',\n",
       " '_____________________________________________________________________',\n",
       " '______________________________________________________________________',\n",
       " '________________________________________________________________________',\n",
       " '_____________________________________________________________________________',\n",
       " '______________________________________________________________________________',\n",
       " '____________________________________________________________________________________',\n",
       " '_____________________________________________________________________________________',\n",
       " '_______________________________________________________________________________________',\n",
       " '________________________________________________________________________________________',\n",
       " '_________________________________________________________________________________________',\n",
       " '_____________________________________________________________________________________________',\n",
       " '______________________________________________________________________________________________',\n",
       " '_______________________________________________________________________________________________',\n",
       " '________________________________________________________________________________________________',\n",
       " '________________________________________________________________________________________________________',\n",
       " '___________________________________________________________________________________________________________________________________________',\n",
       " '_____________________________________________________________________________________________________________________________________________________',\n",
       " '_________________________________________________________________________________________________________________________________________________________________________________________________',\n",
       " '_____________________________________________________________________________________________________________________________________________________________________________________________________________________________________________________________________________________________________',\n",
       " '_________________________________________________________________________________________________________________________________________________________________________________________________________________________________________________________________________________________________________________________________________________________________________________________________________________________________________________________________________________________________________________________________________________',\n",
       " '________________________________________________________________________________________________________________________________________________________________________________________________________________________________________________________________________________________________________________________________________________________________________________________________________________________________________________________________________________________________________________________________________________________________________________________________________________________________________________________________________________________________________________________________________________________________________________________________________________________________________________________________________________________________________________________________________________________________________________________________________________________________________________________________________________________________________________________________________________________________________________________________________________________________________________________________________________________________________________________________________________________________________________________________________________________________________________________________________________________________________________________________________________________________________________________________________________________________________________________________________________________________________________________________________________________________________________________________',\n",
       " '_________________________________________________disclaimer_______________',\n",
       " '________________________________________________original',\n",
       " '____________________________________________ᴅɪꜱᴄʟᴀɪᴍᴇʀ',\n",
       " '______________________keep',\n",
       " '______________________surendra____nagvanshi',\n",
       " '_____________________keep',\n",
       " '____________keep_____supporting__',\n",
       " '__________like',\n",
       " '__________tdmqueen',\n",
       " '__________thanks',\n",
       " '_________thanks',\n",
       " '________thanks',\n",
       " '_______thank__you__so___much_',\n",
       " '______all',\n",
       " '______by',\n",
       " '______share',\n",
       " '______subscribe',\n",
       " '_____aam',\n",
       " '_____comment',\n",
       " '_____pubg_with_aditi______',\n",
       " '_____share',\n",
       " '_____stutas',\n",
       " '_____tag____',\n",
       " '____djvicky_belgaum_video',\n",
       " '____full',\n",
       " '____plz',\n",
       " '____thanx',\n",
       " '___chatting',\n",
       " '___https',\n",
       " '___keep',\n",
       " '___kg_productions___',\n",
       " '___new_love_romantic_song_whatsapp_status_',\n",
       " '___official',\n",
       " '___parimalak',\n",
       " '___vfx',\n",
       " '__arabic',\n",
       " '__b',\n",
       " '__blob',\n",
       " '__dhaval',\n",
       " '__extract_me___',\n",
       " '__how_to_use_green_screen_editing_tik_tok_video_ma_editing_kara',\n",
       " '__https',\n",
       " '__i',\n",
       " '__manish',\n",
       " '__mitchikichi',\n",
       " '__mujtaba',\n",
       " '__new_haryanvi_l_song',\n",
       " '__official',\n",
       " '__oo',\n",
       " '__oxvm',\n",
       " '__priyanka',\n",
       " '__remix',\n",
       " '__s__w__a__t__i__k__a',\n",
       " '__stunts',\n",
       " '__supporting',\n",
       " '__supporting___',\n",
       " '__whatsapp',\n",
       " '__ya',\n",
       " '__ye_ham_hamare_car_hai_ringtone',\n",
       " '_a',\n",
       " '_aagman_sohala_',\n",
       " '_aashikabhatia_',\n",
       " '_aberration',\n",
       " '_above_us_',\n",
       " '_ace',\n",
       " '_adarsh_bengali',\n",
       " '_adyogi_brand',\n",
       " '_adysq_eq',\n",
       " '_aesthetic_video_',\n",
       " '_after_we_collided_romantic_status',\n",
       " '_aixq',\n",
       " '_akhilesh_unni',\n",
       " '_alaya_',\n",
       " '_alaya_f',\n",
       " '_album_',\n",
       " '_aledwq',\n",
       " '_alesia',\n",
       " '_alight_motion',\n",
       " '_all',\n",
       " '_all_gоals_',\n",
       " '_all_दब',\n",
       " '_alone',\n",
       " '_aman_jaji',\n",
       " '_aman_jaji_',\n",
       " '_amar_sob_kichu_shes_',\n",
       " '_android_phone_setting_battery_alive_',\n",
       " '_ani',\n",
       " '_ankmde',\n",
       " '_apna',\n",
       " '_apna_time_aayega_',\n",
       " '_apr',\n",
       " '_april',\n",
       " '_apurba',\n",
       " '_aqj',\n",
       " '_ards_gaming',\n",
       " '_arishfakhan_',\n",
       " '_article',\n",
       " '_aspire',\n",
       " '_audio',\n",
       " '_august',\n",
       " '_august_full_screen_status',\n",
       " '_august_independence_status',\n",
       " '_august_raksha_bandhan',\n",
       " '_august_remix_song',\n",
       " '_august_status',\n",
       " '_august_status_song',\n",
       " '_august_status_video',\n",
       " '_august_whatsapp_status',\n",
       " '_augustindependence',\n",
       " '_augustvideo',\n",
       " '_auto_mall',\n",
       " '_av_',\n",
       " '_awnbr',\n",
       " '_b',\n",
       " '_bachpan_ka_pyar_mera_bhul_nahi_jaane_meri_janeman_badshah_ft',\n",
       " '_back_to_the_grind',\n",
       " '_baja_re_baja_tamoko_baja',\n",
       " '_ban_apps_list',\n",
       " '_bangla_natok_',\n",
       " '_bannah',\n",
       " '_barati',\n",
       " '_bass_boosted_i_dj_parasar_netam',\n",
       " '_battery',\n",
       " '_battery_price',\n",
       " '_battery_repair_क',\n",
       " '_battery_क',\n",
       " '_bbb',\n",
       " '_beautiful_girl_dance_green_screen_effects_vfx_effects_green_background_danc',\n",
       " '_beauty',\n",
       " '_before',\n",
       " '_bengali_version_',\n",
       " '_beta_v',\n",
       " '_bhavin',\n",
       " '_bird_machine_',\n",
       " '_black_screen_',\n",
       " '_black_screen_status',\n",
       " '_boney',\n",
       " '_bra',\n",
       " '_bright_light_torch_switch_repair',\n",
       " '_brycqjtifw',\n",
       " '_build',\n",
       " '_bus_mod_',\n",
       " '_button_probelm',\n",
       " '_bwbuky',\n",
       " '_by',\n",
       " '_bycado',\n",
       " '_c',\n",
       " '_carol',\n",
       " '_cbsepreboards',\n",
       " '_cegac_',\n",
       " '_cene',\n",
       " '_cf',\n",
       " '_cg',\n",
       " '_cg_bhakti_mix_',\n",
       " '_cg_dance_mix_',\n",
       " '_cg_dance_remix_',\n",
       " '_cg_style_remix_',\n",
       " '_cg_tapori_mix_',\n",
       " '_channel_',\n",
       " '_chidiya',\n",
       " '_chroma_key',\n",
       " '_ckz',\n",
       " '_cmte',\n",
       " '_coca',\n",
       " '_colourful_lights',\n",
       " '_coming',\n",
       " '_coming_soon',\n",
       " '_coolpro',\n",
       " '_couple',\n",
       " '_cover_',\n",
       " '_cphiwpqbqo',\n",
       " '_creation',\n",
       " '_creen',\n",
       " '_crunch',\n",
       " '_cut_off_',\n",
       " '_cxi',\n",
       " '_cxosygfnog',\n",
       " '_d',\n",
       " '_da',\n",
       " '_danza',\n",
       " '_darpan_shah',\n",
       " '_decoration_light',\n",
       " '_developer',\n",
       " '_dexkplqaowlaohnrryv',\n",
       " '_di',\n",
       " '_dj',\n",
       " '_dj_gulshan_in_the_mix__marathi_dance_mix__',\n",
       " '_dj_mahesh_and_shaile',\n",
       " '_dj_nesh',\n",
       " '_dj_parasar_netam',\n",
       " '_dj_remix',\n",
       " '_dj_samarth',\n",
       " '_dj_sandesh_',\n",
       " '_djad',\n",
       " '_djobcnpdx',\n",
       " '_dl',\n",
       " '_documentary',\n",
       " '_dog',\n",
       " '_dogs_farm_rescue',\n",
       " '_drive_status',\n",
       " '_dsp',\n",
       " '_dtnxsf',\n",
       " '_e',\n",
       " '_e_g',\n",
       " '_edm_version_',\n",
       " '_ef',\n",
       " '_emote',\n",
       " '_encoding',\n",
       " '_eso',\n",
       " '_euro',\n",
       " '_evsuxggg',\n",
       " '_exam_meme',\n",
       " '_extеndеd_hіghlіghts_',\n",
       " '_f',\n",
       " '_failue_whatsapp_status_tamil',\n",
       " '_fake_vs_real',\n",
       " '_fat_loss_workouts',\n",
       " '_fe',\n",
       " '_feather',\n",
       " '_feb_',\n",
       " '_fhk',\n",
       " '_filhaal',\n",
       " '_first',\n",
       " '_fish_hunter',\n",
       " '_fix',\n",
       " '_fmwebp_ql',\n",
       " '_follow',\n",
       " '_football_team',\n",
       " '_free_like_on_tiktok',\n",
       " '_free_stock_footage_',\n",
       " '_ftej',\n",
       " '_full_hd_',\n",
       " '_full_screen_whatsapp_status',\n",
       " '_full_screen_whatsapp_status_',\n",
       " '_fullepisode_',\n",
       " '_funky',\n",
       " '_funny_photo',\n",
       " '_funny_speeches_of_rahul_gandhi',\n",
       " '_funny_video',\n",
       " '_g',\n",
       " '_gaj',\n",
       " '_gaming',\n",
       " '_gbsnfcttvg',\n",
       " '_gcvwlf',\n",
       " '_gdh',\n",
       " '_gh',\n",
       " '_girl_green_screen_vfx_video',\n",
       " '_girl_vlogs',\n",
       " '_git',\n",
       " '_go_down_after_spirited_display_against_uruguay_under_',\n",
       " '_godfather_',\n",
       " '_good_newwz_',\n",
       " '_gpua',\n",
       " '_green',\n",
       " '_green_screen_',\n",
       " '_green_screen_imovie_green_screen_',\n",
       " '_green_screen_status_',\n",
       " '_guru_randhawa_',\n",
       " '_guru_randhawa_f_jay_sean__larissa_bonesi',\n",
       " '_h',\n",
       " '_hacker_playz',\n",
       " '_hand_pump',\n",
       " '_haramkhori',\n",
       " '_haryanvi_apna_system',\n",
       " '_hase_status',\n",
       " '_hbkecg',\n",
       " '_hd',\n",
       " '_hd_',\n",
       " '_headlight_modication',\n",
       " '_headlights',\n",
       " '_headshot',\n",
       " '_headshot_tips_and_tricks_for_headshot',\n",
       " '_heartbreaker',\n",
       " '_hef',\n",
       " '_hell',\n",
       " '_hello_koun_',\n",
       " '_help_म',\n",
       " '_here',\n",
       " '_hevg',\n",
       " '_himesh_reshamya',\n",
       " '_hindi',\n",
       " '_hindi_ringtone',\n",
       " '_homerevise_',\n",
       " '_horror_movie_soundtrack',\n",
       " '_horror_song_status',\n",
       " '_horses',\n",
       " '_hot',\n",
       " '_hot_bangladesh_girls_tik_tok_video',\n",
       " '_how_to_watch_free',\n",
       " '_hr',\n",
       " '_https',\n",
       " '_hv',\n",
       " '_i',\n",
       " '_iadllwjmic',\n",
       " '_ibci',\n",
       " '_idea',\n",
       " '_idv',\n",
       " '_iekacyro',\n",
       " '_iggz',\n",
       " '_ih',\n",
       " '_ij',\n",
       " '_ildhtqgxxg',\n",
       " '_imun',\n",
       " '_in',\n",
       " '_inches_ring_light_unboxing',\n",
       " '_indian_idol_kolkata_audition',\n",
       " '_inkprint_solutions',\n",
       " '_inkprint_solutions_',\n",
       " '_instrumental_ringtone',\n",
       " '_int',\n",
       " '_investigations',\n",
       " '_iptv',\n",
       " '_iqjee',\n",
       " '_iron',\n",
       " '_ix',\n",
       " '_ixbzy',\n",
       " '_ja',\n",
       " '_jac',\n",
       " '_janapada_dj_song_dj_samarth',\n",
       " '_janmashtami',\n",
       " '_january_indian_army_day_status',\n",
       " '_jawaani_jaaneman_',\n",
       " '_jbl',\n",
       " '_jcb_ashoka_leyland_आयशर',\n",
       " '_jingle',\n",
       " '_john',\n",
       " '_john_official',\n",
       " '_jrdw',\n",
       " '_jrs',\n",
       " '_jul',\n",
       " '_june_',\n",
       " '_jvblr',\n",
       " '_jy',\n",
       " '_jyotica',\n",
       " '_k',\n",
       " '_k_p_t_song_tv_app',\n",
       " '_kala_dulha_ban_gya_',\n",
       " '_kamini',\n",
       " '_kanya',\n",
       " '_kanyakumari',\n",
       " '_kareena_k',\n",
       " '_keep',\n",
       " '_khqt',\n",
       " '_kills',\n",
       " '_kinemaster_color_background_video_',\n",
       " '_kishore',\n",
       " '_kiss',\n",
       " '_kit',\n",
       " '_kitten',\n",
       " '_ko_karaar_aaya_status_full_screen',\n",
       " '_kop',\n",
       " '_kr',\n",
       " '_kre',\n",
       " '_krishna_janmastami_special',\n",
       " '_krqmzc',\n",
       " '_kumaar',\n",
       " '_kumaarrula_ke_gaya_ishq_',\n",
       " '_l',\n",
       " '_ladha_swadhyay',\n",
       " '_latest_today_news',\n",
       " '_ldnti',\n",
       " '_led_bulb_क',\n",
       " '_led_bulb_म',\n",
       " '_led_प',\n",
       " '_led_बल',\n",
       " '_li',\n",
       " '_life_status',\n",
       " '_lighsun',\n",
       " '_light',\n",
       " '_like',\n",
       " '_lithium_battery_charger',\n",
       " '_lithum_ion_battery',\n",
       " '_lkfyfcrvku',\n",
       " '_lockdown',\n",
       " '_longest_river_in_the_world',\n",
       " '_love',\n",
       " '_love_',\n",
       " '_love_status',\n",
       " '_lovely',\n",
       " '_lovely_lyrics',\n",
       " '_lrkd',\n",
       " '_lsrxnrps',\n",
       " '_lt_tripod',\n",
       " '_lucknow',\n",
       " '_luxury_premium_car_holi_offer',\n",
       " '_lxfbpqkb',\n",
       " '_ly',\n",
       " '_lycmnh',\n",
       " '_lymvyduh',\n",
       " '_lyrical',\n",
       " '_lyyhttps',\n",
       " '_m',\n",
       " '_manike_mage_hithe_ම',\n",
       " '_manish',\n",
       " '_manj_m',\n",
       " '_masti',\n",
       " '_max_yt',\n",
       " '_max_yt_',\n",
       " '_may_se_milega_ration_free',\n",
       " '_mb_high',\n",
       " '_mc_stan',\n",
       " '_md_group_magarkund',\n",
       " '_md_gruop_magarkund',\n",
       " '_md_grup',\n",
       " '_mdsl',\n",
       " '_me',\n",
       " '_mehazabien',\n",
       " '_mgg',\n",
       " '_minute_crafts',\n",
       " '_mkglirvae',\n",
       " '_mkglirvberp',\n",
       " '_mkglirvbhiceljcicjqvjqpmiefly',\n",
       " '_mkglirvza',\n",
       " '_mkglirvzsuey',\n",
       " '_mkglirvzxkbnfeul',\n",
       " '_mod',\n",
       " '_modification',\n",
       " '_months_old',\n",
       " '_monudhanushshruthilovebgmringtone',\n",
       " '_mr_',\n",
       " '_mr__micky',\n",
       " '_mt',\n",
       " '_mukesh_jaji_',\n",
       " '_mulbhut_kartavya_swadhyay',\n",
       " '_mumzy',\n",
       " '_munish',\n",
       " '_music_player',\n",
       " '_music_wide',\n",
       " '_must',\n",
       " '_n',\n",
       " '_naach_with_rach',\n",
       " '_naach_with_rach_',\n",
       " '_nafrox_',\n",
       " '_nagada_mix_',\n",
       " '_neha_k',\n",
       " '_new',\n",
       " '_new_',\n",
       " '_new_bhojpuri_song_',\n",
       " '_new_breakup_whatsapp_status_video_',\n",
       " '_new_haryanvi_song_',\n",
       " '_new_notification_ringtonetones',\n",
       " '_new_trending_lyrical_status',\n",
       " '_new_year_status',\n",
       " '_nhkumwoy',\n",
       " '_night___',\n",
       " '_ninja',\n",
       " '_njgwqlggataaw',\n",
       " '_no',\n",
       " '_nonstop',\n",
       " '_not_working_problem',\n",
       " '_nurm',\n",
       " '_nvt',\n",
       " '_nxnptxk',\n",
       " '_o',\n",
       " '_o_xzig',\n",
       " '_oamnjg',\n",
       " '_off_whatsapp_status',\n",
       " '_off_बटन_क',\n",
       " '_official',\n",
       " '_ohayo',\n",
       " '_on',\n",
       " '_on_off_बटन_और_सर',\n",
       " '_on_tranding',\n",
       " '_on_trend',\n",
       " '_on_trending',\n",
       " '_on_trending_for_status',\n",
       " '_oq',\n",
       " '_oqueewu',\n",
       " '_original',\n",
       " '_ouhkstqfre',\n",
       " '_ouyjsnmoc',\n",
       " '_overthinking',\n",
       " '_oyvzdowodci',\n",
       " '_p',\n",
       " '_pade_hathiyaro_ki',\n",
       " '_page_',\n",
       " '_parv_mishramanika',\n",
       " '_pe',\n",
       " '_peaker_repair',\n",
       " '_peelwedcem',\n",
       " '_peg',\n",
       " '_pendi_ki_heli',\n",
       " '_pgmb',\n",
       " '_picturebook',\n",
       " '_pin_push_button_switch',\n",
       " '_pin_switch',\n",
       " '_ping_pong_mix_',\n",
       " '_pitched_down_cover_',\n",
       " '_pkpc',\n",
       " '_player',\n",
       " '_poetry',\n",
       " '_pogp',\n",
       " '_pradeep',\n",
       " '_pranjal_dahiya_',\n",
       " '_prem',\n",
       " '_pro',\n",
       " '_pro_camera_photography',\n",
       " '_pro_max',\n",
       " '_pro_pubg',\n",
       " '_pro_upcoming_smartphones_in_tamil',\n",
       " '_pro_vs_iphone_',\n",
       " '_programs_mini_controller_led',\n",
       " '_programs_mini_controller_repair',\n",
       " '_promo',\n",
       " '_pubg',\n",
       " '_pubgml',\n",
       " '_pvfcg',\n",
       " '_q',\n",
       " '_qi',\n",
       " '_ql',\n",
       " '_qq',\n",
       " '_qqmrmii',\n",
       " '_qwjgewzc',\n",
       " '_rab_hasta_hua_rakhe_tumko_',\n",
       " '_race_full',\n",
       " '_rahul',\n",
       " '_rajat_somkuwar',\n",
       " '_ranu',\n",
       " '_rare_groove',\n",
       " '_ratanpur_',\n",
       " '_ravi',\n",
       " '_rcittiulq',\n",
       " '_rdr',\n",
       " '_realme',\n",
       " '_rektron_',\n",
       " '_remix_',\n",
       " '_ringtone',\n",
       " '_ringtone_',\n",
       " '_ritesh',\n",
       " '_rm',\n",
       " '_rme',\n",
       " '_rnksz',\n",
       " '_roda_sher_re',\n",
       " '_roda_श',\n",
       " '_rollercoaster',\n",
       " '_royalcustoms_',\n",
       " '_rpi',\n",
       " '_rqmxxrezq',\n",
       " '_ruchika_jangid_',\n",
       " '_running',\n",
       " '_rupye',\n",
       " '_rupye_aaye',\n",
       " '_ryf',\n",
       " '_rznnyjheye',\n",
       " '_s_h_o_a_i_b__k_h_a_n_',\n",
       " '_sad_lyrics',\n",
       " '_sad_ringtone',\n",
       " '_sad_shayari_mood_off_status',\n",
       " '_sad_song_hindi_',\n",
       " '_sae',\n",
       " '_saidpur',\n",
       " '_saif_ali_khan',\n",
       " '_sameeksha',\n",
       " '_sars_control_and_psychological_effects_of_quarantine_toronto_canada',\n",
       " '_satisfy',\n",
       " '_satisfya',\n",
       " '_savage',\n",
       " '_sb_tech_',\n",
       " '_school',\n",
       " '_secend_whatsapp_status',\n",
       " '_second_whatsapp_status',\n",
       " '_second_whatsappstatus',\n",
       " '_secondwhatsappstatus',\n",
       " '_sep_',\n",
       " '_sep_status',\n",
       " '_series',\n",
       " '_setting_kabhi_storage_full_nahi_hoga',\n",
       " '_shaadi_special_',\n",
       " '_shadev_',\n",
       " '_shadevbadshah_',\n",
       " '_shailesh',\n",
       " '_shivam_grover_ft',\n",
       " '_shorts',\n",
       " '_sittin',\n",
       " '_six',\n",
       " '_sj',\n",
       " '_smiling_cars',\n",
       " '_smoke_atmosphere_hd_',\n",
       " '_something',\n",
       " '_song',\n",
       " '_song_par_photo_lagaye',\n",
       " '_song_r_rajkumar___hindi_film_full_hd_',\n",
       " '_song_status',\n",
       " '_song_status_for_whatsapp',\n",
       " '_song_status_full_screen',\n",
       " '_song_status_sad',\n",
       " '_sonia',\n",
       " '_sonu_sharma_motivation',\n",
       " '_sound_fix',\n",
       " '_sound_horn_fix',\n",
       " '_special_whatsapp_status',\n",
       " '_status',\n",
       " '_stebin_ben__',\n",
       " '_stebin_ben_new_song',\n",
       " '_stutas',\n",
       " '_subscribe_कर_द',\n",
       " '_sunny_inder',\n",
       " '_supporting',\n",
       " '_surendra_nagvanshi_editing_ki_dukanhello',\n",
       " '_suyyash_rai',\n",
       " '_svg_',\n",
       " '_swadhyay',\n",
       " '_swag_gameplay',\n",
       " '_swagger_',\n",
       " '_sy',\n",
       " '_t',\n",
       " '_t__h__a__n__k__s__f__o__r__w__a__t__c__h__i__n__g_',\n",
       " '_tabu',\n",
       " '_tae',\n",
       " '_take_respect_whatsapp_status_tamil',\n",
       " '_tamil',\n",
       " '_tamil_mass_bgm_ringtone',\n",
       " '_tamilnadu',\n",
       " '_tatve',\n",
       " '_tbs',\n",
       " '_team',\n",
       " '_team_profile_atletico_de_kolkata',\n",
       " '_team_profile_chennaiyin_fc',\n",
       " '_team_profile_delhi_dynamos_fc',\n",
       " '_team_profile_fc_goa',\n",
       " '_team_profile_fc_pune_city',\n",
       " '_team_profile_kerala_blasters',\n",
       " '_team_profile_mumbai_city_fc',\n",
       " '_telugu',\n",
       " '_teri_nazar_ne_ye_kya_kar_kiya',\n",
       " '_tfgb',\n",
       " '_tfgbwydrcc',\n",
       " '_th_august_',\n",
       " '_the',\n",
       " '_the_fading',\n",
       " '_the_nightingale_and_the_nobleman_pointers',\n",
       " '_the_rahul_singh',\n",
       " '_there',\n",
       " '_throughout_the_city_',\n",
       " '_thug',\n",
       " '_thw',\n",
       " '_tik_tok_ringtone',\n",
       " '_tik_tok_ringtonenew_ringtone',\n",
       " '_tin',\n",
       " '_title_song_',\n",
       " '_tk',\n",
       " '_to_',\n",
       " '_to_crown_historic_night_in_mumbai',\n",
       " '_tomafo',\n",
       " '_top',\n",
       " '_torch',\n",
       " '_torch_battery',\n",
       " '_torch_repair',\n",
       " '_toxic_op_yt',\n",
       " '_toxic_yt',\n",
       " '_tpfzas',\n",
       " '_trading',\n",
       " '_trailer',\n",
       " '_trending',\n",
       " '_trending_status',\n",
       " '_try',\n",
       " '_twpx',\n",
       " '_tws',\n",
       " '_tws_airpods',\n",
       " '_tws_charging_instructions',\n",
       " '_tws_vs_airpods',\n",
       " '_ucfnm',\n",
       " '_ueygwfw',\n",
       " '_uhdz',\n",
       " '_uhwpfxoymk',\n",
       " '_ujrd',\n",
       " '_urfrnog',\n",
       " '_uudjalmaf',\n",
       " '_uvr',\n",
       " '_uxjbhsc',\n",
       " '_uxyua',\n",
       " '_vassundhara_pandita',\n",
       " '_vd',\n",
       " '_vdu',\n",
       " '_vee',\n",
       " '_very_sad_whatsapp_status_video_',\n",
       " '_vfx',\n",
       " '_vhwwndv',\n",
       " '_vi',\n",
       " '_vi_annajal_kavita_swadhyay',\n",
       " '_video',\n",
       " '_video_in_josh_app',\n",
       " '_villian_mass_ringtone',\n",
       " '_viral_ringtone',\n",
       " '_vishal_',\n",
       " '_vlogs',\n",
       " '_vlpkuu',\n",
       " '_volt_battery_charger',\n",
       " '_volt_led_lights',\n",
       " '_volt_lights',\n",
       " '_volt_lights_fake_or_original',\n",
       " '_vrz',\n",
       " '_vs_india_u_',\n",
       " '_vs_ktmrc',\n",
       " '_vvn_vvn_',\n",
       " '_vyiorldy',\n",
       " '_vzximskvj',\n",
       " '_w',\n",
       " '_waiting_list_latest_news',\n",
       " '_waterfall_scene_',\n",
       " '_watt_',\n",
       " '_watt_led',\n",
       " '_watt_led_bulb_म',\n",
       " '_watt_क',\n",
       " '_web_series_bgm',\n",
       " '_wegonr',\n",
       " '_whatsapp_status',\n",
       " '_whatsapp_status_',\n",
       " '_whatsapp_status_tamil',\n",
       " '_whatsapp_status_tamil_video',\n",
       " '_whatsapp_status_video',\n",
       " '_when',\n",
       " '_wholesome_',\n",
       " '_wi',\n",
       " '_world_cup',\n",
       " '_wzl',\n",
       " '_x',\n",
       " '_x_',\n",
       " '_xbclsnlrdm',\n",
       " '_xboxlive',\n",
       " '_xnmju',\n",
       " '_xo',\n",
       " '_xop',\n",
       " '_xtaofes',\n",
       " '_xtrnfw',\n",
       " '_xws',\n",
       " '_xz',\n",
       " '_yamraj_',\n",
       " '_ydu',\n",
       " '_years_in_human_years',\n",
       " '_yffuutd',\n",
       " '_ynhsfizq',\n",
       " '_ynxhhmn',\n",
       " '_yohani_',\n",
       " '_yohani_ft',\n",
       " '_yojna_',\n",
       " '_yrone',\n",
       " '_ywb',\n",
       " '_yxenyq',\n",
       " '_z',\n",
       " '_zack',\n",
       " '_zcquqqmkla',\n",
       " '_zee',\n",
       " '_zjrnpo',\n",
       " '_zln',\n",
       " '_zmpumg',\n",
       " '_znoyq',\n",
       " '_zo',\n",
       " '_zunqdm',\n",
       " '_zxegq',\n",
       " '_zzlu',\n",
       " '_àŕìjìt',\n",
       " '_अन',\n",
       " '_अपन',\n",
       " '_अभ',\n",
       " '_अम',\n",
       " '_अवस',\n",
       " '_आ',\n",
       " '_आ_गय',\n",
       " '_आ_रह',\n",
       " '_आईन',\n",
       " '_आगमन',\n",
       " '_आठव',\n",
       " '_आण',\n",
       " '_आप_क',\n",
       " '_आपक',\n",
       " '_आपन',\n",
       " '_आपल',\n",
       " '_आस',\n",
       " '_आह',\n",
       " '_इज',\n",
       " '_इत',\n",
       " '_इतन',\n",
       " '_इन',\n",
       " '_इयत',\n",
       " '_इस_प',\n",
       " '_ईश',\n",
       " '_उद',\n",
       " '_उल',\n",
       " '_उस',\n",
       " '_ऊर',\n",
       " '_ए_स',\n",
       " '_एक',\n",
       " '_एलईड',\n",
       " '_ऐस',\n",
       " '_ऑट',\n",
       " '_ऑनल',\n",
       " '_ओळख_स',\n",
       " '_और_अब_क',\n",
       " '_और_बल',\n",
       " '_और_मछ',\n",
       " '_क',\n",
       " '_कर',\n",
       " '_कर_य',\n",
       " '_करत',\n",
       " '_कल',\n",
       " '_कव',\n",
       " '_कवळ_घ',\n",
       " '_कस',\n",
       " '_कह',\n",
       " '_ख',\n",
       " '_खर',\n",
       " '_ग',\n",
       " '_गई_ह',\n",
       " '_गणपत',\n",
       " '_गप',\n",
       " '_गय',\n",
       " '_गलतफ',\n",
       " '_गवत_फ',\n",
       " '_गवतफ',\n",
       " '_घ',\n",
       " '_घर',\n",
       " '_घर_पर_क',\n",
       " '_घर_पर_बन',\n",
       " '_च',\n",
       " '_चल',\n",
       " '_छ',\n",
       " '_छत',\n",
       " '_ज',\n",
       " '_जग',\n",
       " '_जग_स',\n",
       " '_जम',\n",
       " '_जल_य',\n",
       " '_जलत',\n",
       " '_झ',\n",
       " '_ट',\n",
       " '_टच_र',\n",
       " '_ठ',\n",
       " '_ड',\n",
       " '_डर',\n",
       " '_त',\n",
       " '_तक_ऐस',\n",
       " '_तक_क',\n",
       " '_तर',\n",
       " '_द',\n",
       " '_दल',\n",
       " '_दह',\n",
       " '_ध',\n",
       " '_धड',\n",
       " '_धनत',\n",
       " '_धनब',\n",
       " '_धसत',\n",
       " '_न',\n",
       " '_नद',\n",
       " '_नय',\n",
       " '_नह',\n",
       " '_प',\n",
       " '_पर',\n",
       " '_पर_क',\n",
       " '_पर_न',\n",
       " '_पर_ब',\n",
       " '_फ',\n",
       " '_ब',\n",
       " '_बटन_खर',\n",
       " '_बटव',\n",
       " '_बढ',\n",
       " '_बदल',\n",
       " '_बन',\n",
       " '_बल',\n",
       " '_भ',\n",
       " '_भर',\n",
       " '_म',\n",
       " '_मन_च',\n",
       " '_मर',\n",
       " '_मरम',\n",
       " '_मह',\n",
       " '_य',\n",
       " '_र',\n",
       " '_रचन',\n",
       " '_रह',\n",
       " '_ल',\n",
       " '_लग',\n",
       " '_लड',\n",
       " '_लढ',\n",
       " '_व',\n",
       " '_व_क',\n",
       " '_व_स',\n",
       " '_वर',\n",
       " '_वरद',\n",
       " '_वस',\n",
       " '_श',\n",
       " '_स',\n",
       " '_सफ',\n",
       " '_सफर_म',\n",
       " '_सबस',\n",
       " '_सभ',\n",
       " '_सर',\n",
       " '_सह',\n",
       " '_ह',\n",
       " '_हज',\n",
       " '_हव',\n",
       " '_क़',\n",
       " '_দ',\n",
       " '_ল',\n",
       " '_স',\n",
       " '_হ',\n",
       " '_ම',\n",
       " '_මග',\n",
       " '_හ',\n",
       " 'a_',\n",
       " 'a_beautiful_nature_status',\n",
       " 'a_beginner_mass_gain_routine_from',\n",
       " 'a_epu',\n",
       " 'a_funny',\n",
       " 'a_funny_video_download',\n",
       " 'a_jindegi_lovely_lyrics',\n",
       " 'a_jyqgif',\n",
       " 'a_n_i_k_e_t_g_u_p_t_a_',\n",
       " 'a_poyoxrfw',\n",
       " 'a_s',\n",
       " 'a_va',\n",
       " 'a_ycfa',\n",
       " 'a_zdict',\n",
       " ...]"
      ]
     },
     "execution_count": 21,
     "metadata": {},
     "output_type": "execute_result"
    }
   ],
   "source": [
    "feature_names"
   ]
  },
  {
   "cell_type": "markdown",
   "metadata": {
    "id": "nAqVRlu8Bbe2"
   },
   "source": [
    "# Generate tf-idf for the given document"
   ]
  },
  {
   "cell_type": "code",
   "execution_count": 22,
   "metadata": {
    "colab": {
     "base_uri": "https://localhost:8080/"
    },
    "id": "o-4mba8BBbe2",
    "outputId": "75851f33-4968-4c23-8d99-e5d9cd99c1db"
   },
   "outputs": [
    {
     "name": "stdout",
     "output_type": "stream",
     "text": [
      "Collecting tf-idf 10000\n",
      "Collecting tf-idf 20000\n",
      "Collecting tf-idf 30000\n",
      "Collecting tf-idf 40000\n",
      "Collecting tf-idf 50000\n",
      "Collecting tf-idf 60000\n",
      "Collecting tf-idf 70000\n",
      "Collecting tf-idf 80000\n",
      "Collecting tf-idf 90000\n",
      "Collecting tf-idf 100000\n",
      "101727\n"
     ]
    }
   ],
   "source": [
    "i = 0\n",
    "tex_list = df['Processed_text'].tolist()\n",
    "tf_idf_vector_list = []\n",
    "for i in range(len(tex_list)):\n",
    "    tf_idf_vector=tfidf_transformer.transform(cv.transform([tex_list[i]]))\n",
    "    i = i+1\n",
    "    tf_idf_vector_list.append(tf_idf_vector)\n",
    "    # added to list  \n",
    "    if ((i%10000) == 0):\n",
    "        print ('Collecting tf-idf',i)\n",
    "print(len(tf_idf_vector_list))"
   ]
  },
  {
   "cell_type": "code",
   "execution_count": 23,
   "metadata": {
    "colab": {
     "base_uri": "https://localhost:8080/"
    },
    "id": "NCAiNoRnBbe2",
    "outputId": "39304b6e-1cd7-4de1-f053-65209b06369d"
   },
   "outputs": [
    {
     "data": {
      "text/plain": [
       "matrix([[0., 0., 0., ..., 0., 0., 0.]])"
      ]
     },
     "execution_count": 23,
     "metadata": {},
     "output_type": "execute_result"
    }
   ],
   "source": [
    "tf_idf_vector_list[0].todense()"
   ]
  },
  {
   "cell_type": "markdown",
   "metadata": {
    "id": "om49NtkKBbe2"
   },
   "source": [
    "# Label Generation for Supervised Learning\n",
    "K-Means Clustering is done based on Processed text"
   ]
  },
  {
   "cell_type": "code",
   "execution_count": 24,
   "metadata": {
    "id": "3MB52vaYBbe2"
   },
   "outputs": [],
   "source": [
    "#Clustering\n",
    "from sklearn.feature_extraction.text import TfidfVectorizer\n",
    "from sklearn.cluster import KMeans"
   ]
  },
  {
   "cell_type": "code",
   "execution_count": 25,
   "metadata": {
    "id": "M_O4pwKuBbe2"
   },
   "outputs": [],
   "source": [
    "document = df['Processed_text'].values.astype('U')\n",
    "vectorizer = TfidfVectorizer(stop_words='english')\n",
    "features = vectorizer.fit_transform(document)"
   ]
  },
  {
   "cell_type": "code",
   "execution_count": 26,
   "metadata": {
    "id": "FmijpEOEBbe3"
   },
   "outputs": [],
   "source": [
    "k=20 #Obtained from Silhouette_score\n",
    "model = KMeans(n_clusters=k,init='k-means++',max_iter=100,n_init=1)\n",
    "label = model.fit(features)"
   ]
  },
  {
   "cell_type": "markdown",
   "metadata": {
    "id": "inQT9DMdBbe3"
   },
   "source": [
    "# Calculation of optimal value of K"
   ]
  },
  {
   "cell_type": "code",
   "execution_count": 27,
   "metadata": {
    "id": "ZLmg9E90Bbe3"
   },
   "outputs": [],
   "source": [
    "# from sklearn.metrics import silhouette_score\n",
    "\n",
    "# sil = []\n",
    "# kmax = 20\n",
    "# sil\n",
    "# # dissimilarity would not be defined for a single cluster, thus, minimum number of clusters should be 2\n",
    "# for k in range(2, kmax+1):\n",
    "#     kmeans = KMeans(n_clusters = k).fit(features)\n",
    "#     labels = kmeans.labels_\n",
    "#     sil.append(silhouette_score(features, labels, metric = 'euclidean'))\n",
    "#     print(\"Done for k =\",k)\n"
   ]
  },
  {
   "cell_type": "code",
   "execution_count": 28,
   "metadata": {
    "id": "7YIOPkZABbe3"
   },
   "outputs": [],
   "source": [
    "df['cluster'] = model.labels_"
   ]
  },
  {
   "cell_type": "code",
   "execution_count": 29,
   "metadata": {
    "colab": {
     "base_uri": "https://localhost:8080/"
    },
    "id": "La2z7OuaBbe3",
    "outputId": "dbb0e035-c425-49e7-c8dd-4fa7c57a7d4a"
   },
   "outputs": [
    {
     "name": "stdout",
     "output_type": "stream",
     "text": [
      "[9 9 9 ... 9 9 9]\n"
     ]
    }
   ],
   "source": [
    "print(model.labels_)"
   ]
  },
  {
   "cell_type": "code",
   "execution_count": 30,
   "metadata": {
    "colab": {
     "base_uri": "https://localhost:8080/",
     "height": 632
    },
    "id": "xWkfdx0YBbe4",
    "outputId": "d3639866-3ef9-4b4c-8451-b51a7b5e2fb7"
   },
   "outputs": [
    {
     "data": {
      "text/html": [
       "<div>\n",
       "<style scoped>\n",
       "    .dataframe tbody tr th:only-of-type {\n",
       "        vertical-align: middle;\n",
       "    }\n",
       "\n",
       "    .dataframe tbody tr th {\n",
       "        vertical-align: top;\n",
       "    }\n",
       "\n",
       "    .dataframe thead th {\n",
       "        text-align: right;\n",
       "    }\n",
       "</style>\n",
       "<table border=\"1\" class=\"dataframe\">\n",
       "  <thead>\n",
       "    <tr style=\"text-align: right;\">\n",
       "      <th></th>\n",
       "      <th>ContentId</th>\n",
       "      <th>title</th>\n",
       "      <th>viewCount</th>\n",
       "      <th>likeCount</th>\n",
       "      <th>dislikeCount</th>\n",
       "      <th>commentCount</th>\n",
       "      <th>favoriteCount</th>\n",
       "      <th>publishedAt</th>\n",
       "      <th>description</th>\n",
       "      <th>duration</th>\n",
       "      <th>tags</th>\n",
       "      <th>text</th>\n",
       "      <th>Processed_text</th>\n",
       "      <th>Word_Count</th>\n",
       "      <th>cluster</th>\n",
       "    </tr>\n",
       "  </thead>\n",
       "  <tbody>\n",
       "    <tr>\n",
       "      <th>0</th>\n",
       "      <td>Q3ZfBWha5sk</td>\n",
       "      <td>Things I learn from k drama</td>\n",
       "      <td>4</td>\n",
       "      <td>2</td>\n",
       "      <td>0</td>\n",
       "      <td>0</td>\n",
       "      <td>0</td>\n",
       "      <td>2021-08-08T14:03:13Z</td>\n",
       "      <td>#kdrama#koreandrama#kcdrama#koreanwords#annyeo...</td>\n",
       "      <td>PT29S</td>\n",
       "      <td>[]</td>\n",
       "      <td>things i learn from k drama kdrama koreandrama...</td>\n",
       "      <td>thing learn k drama kdrama koreandrama kcdrama...</td>\n",
       "      <td>28</td>\n",
       "      <td>9</td>\n",
       "    </tr>\n",
       "    <tr>\n",
       "      <th>1</th>\n",
       "      <td>HeFfpcQfllk</td>\n",
       "      <td>Love alarm mv x Señorita shawn mendes korean m...</td>\n",
       "      <td>29</td>\n",
       "      <td>4</td>\n",
       "      <td>0</td>\n",
       "      <td>3</td>\n",
       "      <td>0</td>\n",
       "      <td>2021-07-02T22:35:24Z</td>\n",
       "      <td>#kdrama#ytvideo#lovealarms1mv#mv#lovealarm#lov...</td>\n",
       "      <td>PT25S</td>\n",
       "      <td>[]</td>\n",
       "      <td>love alarm mv x señorita shawn mendes korean m...</td>\n",
       "      <td>love alarm mv x señorita shawn mend korean mix...</td>\n",
       "      <td>42</td>\n",
       "      <td>9</td>\n",
       "    </tr>\n",
       "    <tr>\n",
       "      <th>2</th>\n",
       "      <td>gBcTNgWWCeY</td>\n",
       "      <td>K-drama savage girls part 2 (comment down your...</td>\n",
       "      <td>10</td>\n",
       "      <td>4</td>\n",
       "      <td>0</td>\n",
       "      <td>0</td>\n",
       "      <td>0</td>\n",
       "      <td>2021-06-26T22:49:16Z</td>\n",
       "      <td>#kdrama#savagegirlsjkoreandrama#howyoulikethat...</td>\n",
       "      <td>PT1M51S</td>\n",
       "      <td>[]</td>\n",
       "      <td>k drama savage girls part comment down your fi...</td>\n",
       "      <td>k drama savage girl part comment first k drama...</td>\n",
       "      <td>40</td>\n",
       "      <td>9</td>\n",
       "    </tr>\n",
       "    <tr>\n",
       "      <th>3</th>\n",
       "      <td>cpwR1pgz2U0</td>\n",
       "      <td>The tale of the nine tailed part 1 eng sub</td>\n",
       "      <td>5</td>\n",
       "      <td>0</td>\n",
       "      <td>0</td>\n",
       "      <td>0</td>\n",
       "      <td>0</td>\n",
       "      <td>2021-06-17T14:36:28Z</td>\n",
       "      <td>#thetaleoftheninetailed#thetaleoftheninetailed...</td>\n",
       "      <td>PT22M20S</td>\n",
       "      <td>[]</td>\n",
       "      <td>the tale of the nine tailed part eng sub theta...</td>\n",
       "      <td>tale nine tail part eng sub thetaleofthenineta...</td>\n",
       "      <td>48</td>\n",
       "      <td>9</td>\n",
       "    </tr>\n",
       "    <tr>\n",
       "      <th>4</th>\n",
       "      <td>PGKsQxDpf_E</td>\n",
       "      <td>The tale of the nine tailed episode 1</td>\n",
       "      <td>9</td>\n",
       "      <td>2</td>\n",
       "      <td>0</td>\n",
       "      <td>0</td>\n",
       "      <td>0</td>\n",
       "      <td>2021-06-15T12:43:48Z</td>\n",
       "      <td>#thetaleoftheninetailed#kdrama#k&amp;cdrama#thetal...</td>\n",
       "      <td>PT1H5M34S</td>\n",
       "      <td>[]</td>\n",
       "      <td>the tale of the nine tailed episode thetaleoft...</td>\n",
       "      <td>tale nine tail episode thetaleoftheninetailed ...</td>\n",
       "      <td>39</td>\n",
       "      <td>9</td>\n",
       "    </tr>\n",
       "  </tbody>\n",
       "</table>\n",
       "</div>"
      ],
      "text/plain": [
       "     ContentId                                              title viewCount  \\\n",
       "0  Q3ZfBWha5sk                        Things I learn from k drama         4   \n",
       "1  HeFfpcQfllk  Love alarm mv x Señorita shawn mendes korean m...        29   \n",
       "2  gBcTNgWWCeY  K-drama savage girls part 2 (comment down your...        10   \n",
       "3  cpwR1pgz2U0         The tale of the nine tailed part 1 eng sub         5   \n",
       "4  PGKsQxDpf_E              The tale of the nine tailed episode 1         9   \n",
       "\n",
       "  likeCount dislikeCount commentCount favoriteCount           publishedAt  \\\n",
       "0         2            0            0             0  2021-08-08T14:03:13Z   \n",
       "1         4            0            3             0  2021-07-02T22:35:24Z   \n",
       "2         4            0            0             0  2021-06-26T22:49:16Z   \n",
       "3         0            0            0             0  2021-06-17T14:36:28Z   \n",
       "4         2            0            0             0  2021-06-15T12:43:48Z   \n",
       "\n",
       "                                         description   duration tags  \\\n",
       "0  #kdrama#koreandrama#kcdrama#koreanwords#annyeo...      PT29S   []   \n",
       "1  #kdrama#ytvideo#lovealarms1mv#mv#lovealarm#lov...      PT25S   []   \n",
       "2  #kdrama#savagegirlsjkoreandrama#howyoulikethat...    PT1M51S   []   \n",
       "3  #thetaleoftheninetailed#thetaleoftheninetailed...   PT22M20S   []   \n",
       "4  #thetaleoftheninetailed#kdrama#k&cdrama#thetal...  PT1H5M34S   []   \n",
       "\n",
       "                                                text  \\\n",
       "0  things i learn from k drama kdrama koreandrama...   \n",
       "1  love alarm mv x señorita shawn mendes korean m...   \n",
       "2  k drama savage girls part comment down your fi...   \n",
       "3  the tale of the nine tailed part eng sub theta...   \n",
       "4  the tale of the nine tailed episode thetaleoft...   \n",
       "\n",
       "                                      Processed_text  Word_Count  cluster  \n",
       "0  thing learn k drama kdrama koreandrama kcdrama...          28        9  \n",
       "1  love alarm mv x señorita shawn mend korean mix...          42        9  \n",
       "2  k drama savage girl part comment first k drama...          40        9  \n",
       "3  tale nine tail part eng sub thetaleofthenineta...          48        9  \n",
       "4  tale nine tail episode thetaleoftheninetailed ...          39        9  "
      ]
     },
     "execution_count": 30,
     "metadata": {},
     "output_type": "execute_result"
    }
   ],
   "source": [
    "df.head()"
   ]
  },
  {
   "cell_type": "markdown",
   "metadata": {
    "id": "S8vb8CSYBbe4"
   },
   "source": [
    "# Checking number of items in each cluster"
   ]
  },
  {
   "cell_type": "code",
   "execution_count": 31,
   "metadata": {
    "colab": {
     "base_uri": "https://localhost:8080/"
    },
    "id": "ByLyb_6iBbe4",
    "outputId": "1ea54a47-24d1-4815-8305-d09c33d22d76"
   },
   "outputs": [
    {
     "name": "stdout",
     "output_type": "stream",
     "text": [
      "Total count of cluster 0 is 879\n",
      "Total count of cluster 1 is 2648\n",
      "Total count of cluster 2 is 4772\n",
      "Total count of cluster 3 is 2728\n",
      "Total count of cluster 4 is 19096\n",
      "Total count of cluster 5 is 551\n",
      "Total count of cluster 6 is 2888\n",
      "Total count of cluster 7 is 1089\n",
      "Total count of cluster 8 is 1542\n",
      "Total count of cluster 9 is 32403\n",
      "Total count of cluster 10 is 3144\n",
      "Total count of cluster 11 is 387\n",
      "Total count of cluster 12 is 3176\n",
      "Total count of cluster 13 is 360\n",
      "Total count of cluster 14 is 5166\n",
      "Total count of cluster 15 is 12371\n",
      "Total count of cluster 16 is 731\n",
      "Total count of cluster 17 is 834\n",
      "Total count of cluster 18 is 4754\n",
      "Total count of cluster 19 is 2208\n"
     ]
    }
   ],
   "source": [
    "i = 0\n",
    "for i in range(len(df['cluster'].unique())):\n",
    "    count = (df.cluster == i).sum()\n",
    "    print(f\"Total count of cluster {i} is {count}\")"
   ]
  },
  {
   "cell_type": "markdown",
   "metadata": {
    "id": "pVbZ6tLOBbe4"
   },
   "source": [
    "# Sort the tf-idf vectors by descending order of scores"
   ]
  },
  {
   "cell_type": "code",
   "execution_count": 32,
   "metadata": {
    "id": "DMi97Mh9Bbe4"
   },
   "outputs": [],
   "source": [
    "def sort_coo(coo_matrix):\n",
    "    tuples = zip(coo_matrix.col, coo_matrix.data)\n",
    "    return sorted(tuples, key=lambda x: (x[1], x[0]), reverse=True)"
   ]
  },
  {
   "cell_type": "code",
   "execution_count": 33,
   "metadata": {
    "colab": {
     "base_uri": "https://localhost:8080/"
    },
    "id": "v-10wfaeBbe4",
    "outputId": "30d60aab-2551-4a65-a2ae-493861d877b4"
   },
   "outputs": [
    {
     "name": "stdout",
     "output_type": "stream",
     "text": [
      "Sorting Done for 10000\n",
      "Sorting Done for 20000\n",
      "Sorting Done for 30000\n",
      "Sorting Done for 40000\n",
      "Sorting Done for 50000\n",
      "Sorting Done for 60000\n",
      "Sorting Done for 70000\n",
      "Sorting Done for 80000\n",
      "Sorting Done for 90000\n",
      "Sorting Done for 100000\n"
     ]
    }
   ],
   "source": [
    "sorted_items_list=[]\n",
    "i=0\n",
    "for i in range(len(tf_idf_vector_list)):\n",
    "    sorted_items=sort_coo(tf_idf_vector_list[i].tocoo())\n",
    "    i = i+1\n",
    "    sorted_items_list.append(sorted_items)\n",
    "    # added to list  \n",
    "    if ((i%10000) == 0):\n",
    "        print ('Sorting Done for',i)"
   ]
  },
  {
   "cell_type": "code",
   "execution_count": 34,
   "metadata": {
    "colab": {
     "base_uri": "https://localhost:8080/"
    },
    "id": "MKHHWLh2Bbe4",
    "outputId": "a860117b-588f-48ca-a36e-e376626868e8"
   },
   "outputs": [
    {
     "data": {
      "text/plain": [
       "101727"
      ]
     },
     "execution_count": 34,
     "metadata": {},
     "output_type": "execute_result"
    }
   ],
   "source": [
    "len(sorted_items_list)"
   ]
  },
  {
   "cell_type": "markdown",
   "metadata": {
    "id": "u7SEc6KZBbe4"
   },
   "source": [
    "# Extract only the top n; n here is 5"
   ]
  },
  {
   "cell_type": "code",
   "execution_count": 35,
   "metadata": {
    "id": "W5zY850oBbe5"
   },
   "outputs": [],
   "source": [
    "def extract_topn_from_vector(feature_names, sorted_items, topn=5):\n",
    "    \"\"\"get the feature names and tf-idf score of top n items\"\"\"\n",
    "    \n",
    "    #use only topn items from vector\n",
    "    sorted_items = sorted_items[:topn]\n",
    "\n",
    "    score_vals = []\n",
    "    feature_vals = []\n",
    "    \n",
    "    # word index and corresponding tf-idf score\n",
    "    for idx, score in sorted_items:\n",
    "        \n",
    "        #keep track of feature name and its corresponding score\n",
    "        score_vals.append(round(score, 3))\n",
    "        feature_vals.append(feature_names[idx])\n",
    "\n",
    "    #create a tuples of feature,score\n",
    "    #results = zip(feature_vals,score_vals)\n",
    "    results= {}\n",
    "    for idx in range(len(feature_vals)):\n",
    "        results[feature_vals[idx]]=score_vals[idx]\n",
    "    \n",
    "    return results"
   ]
  },
  {
   "cell_type": "code",
   "execution_count": 36,
   "metadata": {
    "colab": {
     "base_uri": "https://localhost:8080/"
    },
    "id": "7HRYwC68Bbe5",
    "outputId": "a573a4cc-8e60-4046-f270-7512e77e2d38"
   },
   "outputs": [
    {
     "name": "stdout",
     "output_type": "stream",
     "text": [
      "Keywords added for 10000\n",
      "Keywords added for 20000\n",
      "Keywords added for 30000\n",
      "Keywords added for 40000\n",
      "Keywords added for 50000\n",
      "Keywords added for 60000\n",
      "Keywords added for 70000\n",
      "Keywords added for 80000\n",
      "Keywords added for 90000\n",
      "Keywords added for 100000\n"
     ]
    }
   ],
   "source": [
    "keyword_list = []\n",
    "i=0\n",
    "for i in range(len(sorted_items_list)):\n",
    "    keywords=extract_topn_from_vector(feature_names,sorted_items_list[i],5)\n",
    "    i = i+1\n",
    "    keyword_list.append(keywords)\n",
    "    # added to list  \n",
    "    if ((i%10000) == 0):\n",
    "        print ('Keywords added for',i)"
   ]
  },
  {
   "cell_type": "code",
   "execution_count": 37,
   "metadata": {
    "colab": {
     "base_uri": "https://localhost:8080/"
    },
    "id": "-1v8P5OvBbe5",
    "outputId": "88864c61-5284-4dfc-9d6b-cf838c5c4098"
   },
   "outputs": [
    {
     "data": {
      "text/plain": [
       "101727"
      ]
     },
     "execution_count": 37,
     "metadata": {},
     "output_type": "execute_result"
    }
   ],
   "source": [
    "len(keyword_list)"
   ]
  },
  {
   "cell_type": "code",
   "execution_count": 38,
   "metadata": {
    "colab": {
     "base_uri": "https://localhost:8080/"
    },
    "id": "EwXQ5W3mBbe5",
    "outputId": "52ff92fe-a578-47e1-a172-d6e16377518c"
   },
   "outputs": [
    {
     "data": {
      "text/plain": [
       "101727"
      ]
     },
     "execution_count": 38,
     "metadata": {},
     "output_type": "execute_result"
    }
   ],
   "source": [
    "def getList(dict):\n",
    "    return list(dict.keys())\n",
    "key_list = []\n",
    "i = 0\n",
    "for i in range(len(keyword_list)):\n",
    "    keys = getList(keyword_list[i])\n",
    "    key_list.append(keys)\n",
    "    \n",
    "len(key_list)\n",
    "    "
   ]
  },
  {
   "cell_type": "code",
   "execution_count": 39,
   "metadata": {
    "colab": {
     "base_uri": "https://localhost:8080/"
    },
    "id": "afLHLYwOBbe5",
    "outputId": "80d191c5-1092-447c-973b-5ba4d001dd27"
   },
   "outputs": [
    {
     "data": {
      "text/plain": [
       "['kdrama', 'koreanwords', 'kdramagirls', 'annyeong', 'kcdrama']"
      ]
     },
     "execution_count": 39,
     "metadata": {},
     "output_type": "execute_result"
    }
   ],
   "source": [
    "key_list[0]"
   ]
  },
  {
   "cell_type": "code",
   "execution_count": 40,
   "metadata": {
    "id": "4WGJ6RMgBbe5"
   },
   "outputs": [],
   "source": [
    "df['keywords'] = key_list"
   ]
  },
  {
   "cell_type": "code",
   "execution_count": 41,
   "metadata": {
    "colab": {
     "base_uri": "https://localhost:8080/",
     "height": 632
    },
    "id": "lR8dE7nRBbe5",
    "outputId": "61608d59-df2c-41a5-9789-7ffc00e4a6fe"
   },
   "outputs": [
    {
     "data": {
      "text/html": [
       "<div>\n",
       "<style scoped>\n",
       "    .dataframe tbody tr th:only-of-type {\n",
       "        vertical-align: middle;\n",
       "    }\n",
       "\n",
       "    .dataframe tbody tr th {\n",
       "        vertical-align: top;\n",
       "    }\n",
       "\n",
       "    .dataframe thead th {\n",
       "        text-align: right;\n",
       "    }\n",
       "</style>\n",
       "<table border=\"1\" class=\"dataframe\">\n",
       "  <thead>\n",
       "    <tr style=\"text-align: right;\">\n",
       "      <th></th>\n",
       "      <th>ContentId</th>\n",
       "      <th>title</th>\n",
       "      <th>viewCount</th>\n",
       "      <th>likeCount</th>\n",
       "      <th>dislikeCount</th>\n",
       "      <th>commentCount</th>\n",
       "      <th>favoriteCount</th>\n",
       "      <th>publishedAt</th>\n",
       "      <th>description</th>\n",
       "      <th>duration</th>\n",
       "      <th>tags</th>\n",
       "      <th>text</th>\n",
       "      <th>Processed_text</th>\n",
       "      <th>Word_Count</th>\n",
       "      <th>cluster</th>\n",
       "      <th>keywords</th>\n",
       "    </tr>\n",
       "  </thead>\n",
       "  <tbody>\n",
       "    <tr>\n",
       "      <th>0</th>\n",
       "      <td>Q3ZfBWha5sk</td>\n",
       "      <td>Things I learn from k drama</td>\n",
       "      <td>4</td>\n",
       "      <td>2</td>\n",
       "      <td>0</td>\n",
       "      <td>0</td>\n",
       "      <td>0</td>\n",
       "      <td>2021-08-08T14:03:13Z</td>\n",
       "      <td>#kdrama#koreandrama#kcdrama#koreanwords#annyeo...</td>\n",
       "      <td>PT29S</td>\n",
       "      <td>[]</td>\n",
       "      <td>things i learn from k drama kdrama koreandrama...</td>\n",
       "      <td>thing learn k drama kdrama koreandrama kcdrama...</td>\n",
       "      <td>28</td>\n",
       "      <td>9</td>\n",
       "      <td>[kdrama, koreanwords, kdramagirls, annyeong, k...</td>\n",
       "    </tr>\n",
       "    <tr>\n",
       "      <th>1</th>\n",
       "      <td>HeFfpcQfllk</td>\n",
       "      <td>Love alarm mv x Señorita shawn mendes korean m...</td>\n",
       "      <td>29</td>\n",
       "      <td>4</td>\n",
       "      <td>0</td>\n",
       "      <td>3</td>\n",
       "      <td>0</td>\n",
       "      <td>2021-07-02T22:35:24Z</td>\n",
       "      <td>#kdrama#ytvideo#lovealarms1mv#mv#lovealarm#lov...</td>\n",
       "      <td>PT25S</td>\n",
       "      <td>[]</td>\n",
       "      <td>love alarm mv x señorita shawn mendes korean m...</td>\n",
       "      <td>love alarm mv x señorita shawn mend korean mix...</td>\n",
       "      <td>42</td>\n",
       "      <td>9</td>\n",
       "      <td>[mv, lovealarms, señorita, alarm, ytvideo]</td>\n",
       "    </tr>\n",
       "    <tr>\n",
       "      <th>2</th>\n",
       "      <td>gBcTNgWWCeY</td>\n",
       "      <td>K-drama savage girls part 2 (comment down your...</td>\n",
       "      <td>10</td>\n",
       "      <td>4</td>\n",
       "      <td>0</td>\n",
       "      <td>0</td>\n",
       "      <td>0</td>\n",
       "      <td>2021-06-26T22:49:16Z</td>\n",
       "      <td>#kdrama#savagegirlsjkoreandrama#howyoulikethat...</td>\n",
       "      <td>PT1M51S</td>\n",
       "      <td>[]</td>\n",
       "      <td>k drama savage girls part comment down your fi...</td>\n",
       "      <td>k drama savage girl part comment first k drama...</td>\n",
       "      <td>40</td>\n",
       "      <td>9</td>\n",
       "      <td>[kdrama, savgegirls, savagegirlsjkoreandrama, ...</td>\n",
       "    </tr>\n",
       "    <tr>\n",
       "      <th>3</th>\n",
       "      <td>cpwR1pgz2U0</td>\n",
       "      <td>The tale of the nine tailed part 1 eng sub</td>\n",
       "      <td>5</td>\n",
       "      <td>0</td>\n",
       "      <td>0</td>\n",
       "      <td>0</td>\n",
       "      <td>0</td>\n",
       "      <td>2021-06-17T14:36:28Z</td>\n",
       "      <td>#thetaleoftheninetailed#thetaleoftheninetailed...</td>\n",
       "      <td>PT22M20S</td>\n",
       "      <td>[]</td>\n",
       "      <td>the tale of the nine tailed part eng sub theta...</td>\n",
       "      <td>tale nine tail part eng sub thetaleofthenineta...</td>\n",
       "      <td>48</td>\n",
       "      <td>9</td>\n",
       "      <td>[thetaleoftheninetailedep, engsub, kdrama, par...</td>\n",
       "    </tr>\n",
       "    <tr>\n",
       "      <th>4</th>\n",
       "      <td>PGKsQxDpf_E</td>\n",
       "      <td>The tale of the nine tailed episode 1</td>\n",
       "      <td>9</td>\n",
       "      <td>2</td>\n",
       "      <td>0</td>\n",
       "      <td>0</td>\n",
       "      <td>0</td>\n",
       "      <td>2021-06-15T12:43:48Z</td>\n",
       "      <td>#thetaleoftheninetailed#kdrama#k&amp;cdrama#thetal...</td>\n",
       "      <td>PT1H5M34S</td>\n",
       "      <td>[]</td>\n",
       "      <td>the tale of the nine tailed episode thetaleoft...</td>\n",
       "      <td>tale nine tail episode thetaleoftheninetailed ...</td>\n",
       "      <td>39</td>\n",
       "      <td>9</td>\n",
       "      <td>[thetaleoftheninetailedepisode, thetaleoftheni...</td>\n",
       "    </tr>\n",
       "  </tbody>\n",
       "</table>\n",
       "</div>"
      ],
      "text/plain": [
       "     ContentId                                              title viewCount  \\\n",
       "0  Q3ZfBWha5sk                        Things I learn from k drama         4   \n",
       "1  HeFfpcQfllk  Love alarm mv x Señorita shawn mendes korean m...        29   \n",
       "2  gBcTNgWWCeY  K-drama savage girls part 2 (comment down your...        10   \n",
       "3  cpwR1pgz2U0         The tale of the nine tailed part 1 eng sub         5   \n",
       "4  PGKsQxDpf_E              The tale of the nine tailed episode 1         9   \n",
       "\n",
       "  likeCount dislikeCount commentCount favoriteCount           publishedAt  \\\n",
       "0         2            0            0             0  2021-08-08T14:03:13Z   \n",
       "1         4            0            3             0  2021-07-02T22:35:24Z   \n",
       "2         4            0            0             0  2021-06-26T22:49:16Z   \n",
       "3         0            0            0             0  2021-06-17T14:36:28Z   \n",
       "4         2            0            0             0  2021-06-15T12:43:48Z   \n",
       "\n",
       "                                         description   duration tags  \\\n",
       "0  #kdrama#koreandrama#kcdrama#koreanwords#annyeo...      PT29S   []   \n",
       "1  #kdrama#ytvideo#lovealarms1mv#mv#lovealarm#lov...      PT25S   []   \n",
       "2  #kdrama#savagegirlsjkoreandrama#howyoulikethat...    PT1M51S   []   \n",
       "3  #thetaleoftheninetailed#thetaleoftheninetailed...   PT22M20S   []   \n",
       "4  #thetaleoftheninetailed#kdrama#k&cdrama#thetal...  PT1H5M34S   []   \n",
       "\n",
       "                                                text  \\\n",
       "0  things i learn from k drama kdrama koreandrama...   \n",
       "1  love alarm mv x señorita shawn mendes korean m...   \n",
       "2  k drama savage girls part comment down your fi...   \n",
       "3  the tale of the nine tailed part eng sub theta...   \n",
       "4  the tale of the nine tailed episode thetaleoft...   \n",
       "\n",
       "                                      Processed_text  Word_Count  cluster  \\\n",
       "0  thing learn k drama kdrama koreandrama kcdrama...          28        9   \n",
       "1  love alarm mv x señorita shawn mend korean mix...          42        9   \n",
       "2  k drama savage girl part comment first k drama...          40        9   \n",
       "3  tale nine tail part eng sub thetaleofthenineta...          48        9   \n",
       "4  tale nine tail episode thetaleoftheninetailed ...          39        9   \n",
       "\n",
       "                                            keywords  \n",
       "0  [kdrama, koreanwords, kdramagirls, annyeong, k...  \n",
       "1         [mv, lovealarms, señorita, alarm, ytvideo]  \n",
       "2  [kdrama, savgegirls, savagegirlsjkoreandrama, ...  \n",
       "3  [thetaleoftheninetailedep, engsub, kdrama, par...  \n",
       "4  [thetaleoftheninetailedepisode, thetaleoftheni...  "
      ]
     },
     "execution_count": 41,
     "metadata": {},
     "output_type": "execute_result"
    }
   ],
   "source": [
    "df.head()"
   ]
  },
  {
   "cell_type": "code",
   "execution_count": 42,
   "metadata": {
    "id": "GIuud5V7Bbe5"
   },
   "outputs": [],
   "source": [
    "count_list = []\n",
    "key_words=''\n",
    "keyword_list = df['keywords']\n",
    "combine_keyword = [[' '.join(i)] for i in keyword_list]\n",
    "df['combine_keywords'] = combine_keyword"
   ]
  },
  {
   "cell_type": "code",
   "execution_count": 43,
   "metadata": {
    "colab": {
     "base_uri": "https://localhost:8080/",
     "height": 632
    },
    "id": "h0FsvohcBbe6",
    "outputId": "61a5df33-806c-4dc0-c069-f940fbfc5647"
   },
   "outputs": [
    {
     "data": {
      "text/html": [
       "<div>\n",
       "<style scoped>\n",
       "    .dataframe tbody tr th:only-of-type {\n",
       "        vertical-align: middle;\n",
       "    }\n",
       "\n",
       "    .dataframe tbody tr th {\n",
       "        vertical-align: top;\n",
       "    }\n",
       "\n",
       "    .dataframe thead th {\n",
       "        text-align: right;\n",
       "    }\n",
       "</style>\n",
       "<table border=\"1\" class=\"dataframe\">\n",
       "  <thead>\n",
       "    <tr style=\"text-align: right;\">\n",
       "      <th></th>\n",
       "      <th>ContentId</th>\n",
       "      <th>title</th>\n",
       "      <th>viewCount</th>\n",
       "      <th>likeCount</th>\n",
       "      <th>dislikeCount</th>\n",
       "      <th>commentCount</th>\n",
       "      <th>favoriteCount</th>\n",
       "      <th>publishedAt</th>\n",
       "      <th>description</th>\n",
       "      <th>duration</th>\n",
       "      <th>tags</th>\n",
       "      <th>text</th>\n",
       "      <th>Processed_text</th>\n",
       "      <th>Word_Count</th>\n",
       "      <th>cluster</th>\n",
       "      <th>keywords</th>\n",
       "      <th>combine_keywords</th>\n",
       "    </tr>\n",
       "  </thead>\n",
       "  <tbody>\n",
       "    <tr>\n",
       "      <th>0</th>\n",
       "      <td>Q3ZfBWha5sk</td>\n",
       "      <td>Things I learn from k drama</td>\n",
       "      <td>4</td>\n",
       "      <td>2</td>\n",
       "      <td>0</td>\n",
       "      <td>0</td>\n",
       "      <td>0</td>\n",
       "      <td>2021-08-08T14:03:13Z</td>\n",
       "      <td>#kdrama#koreandrama#kcdrama#koreanwords#annyeo...</td>\n",
       "      <td>PT29S</td>\n",
       "      <td>[]</td>\n",
       "      <td>things i learn from k drama kdrama koreandrama...</td>\n",
       "      <td>thing learn k drama kdrama koreandrama kcdrama...</td>\n",
       "      <td>28</td>\n",
       "      <td>9</td>\n",
       "      <td>[kdrama, koreanwords, kdramagirls, annyeong, k...</td>\n",
       "      <td>[kdrama koreanwords kdramagirls annyeong kcdrama]</td>\n",
       "    </tr>\n",
       "    <tr>\n",
       "      <th>1</th>\n",
       "      <td>HeFfpcQfllk</td>\n",
       "      <td>Love alarm mv x Señorita shawn mendes korean m...</td>\n",
       "      <td>29</td>\n",
       "      <td>4</td>\n",
       "      <td>0</td>\n",
       "      <td>3</td>\n",
       "      <td>0</td>\n",
       "      <td>2021-07-02T22:35:24Z</td>\n",
       "      <td>#kdrama#ytvideo#lovealarms1mv#mv#lovealarm#lov...</td>\n",
       "      <td>PT25S</td>\n",
       "      <td>[]</td>\n",
       "      <td>love alarm mv x señorita shawn mendes korean m...</td>\n",
       "      <td>love alarm mv x señorita shawn mend korean mix...</td>\n",
       "      <td>42</td>\n",
       "      <td>9</td>\n",
       "      <td>[mv, lovealarms, señorita, alarm, ytvideo]</td>\n",
       "      <td>[mv lovealarms señorita alarm ytvideo]</td>\n",
       "    </tr>\n",
       "    <tr>\n",
       "      <th>2</th>\n",
       "      <td>gBcTNgWWCeY</td>\n",
       "      <td>K-drama savage girls part 2 (comment down your...</td>\n",
       "      <td>10</td>\n",
       "      <td>4</td>\n",
       "      <td>0</td>\n",
       "      <td>0</td>\n",
       "      <td>0</td>\n",
       "      <td>2021-06-26T22:49:16Z</td>\n",
       "      <td>#kdrama#savagegirlsjkoreandrama#howyoulikethat...</td>\n",
       "      <td>PT1M51S</td>\n",
       "      <td>[]</td>\n",
       "      <td>k drama savage girls part comment down your fi...</td>\n",
       "      <td>k drama savage girl part comment first k drama...</td>\n",
       "      <td>40</td>\n",
       "      <td>9</td>\n",
       "      <td>[kdrama, savgegirls, savagegirlsjkoreandrama, ...</td>\n",
       "      <td>[kdrama savgegirls savagegirlsjkoreandrama how...</td>\n",
       "    </tr>\n",
       "    <tr>\n",
       "      <th>3</th>\n",
       "      <td>cpwR1pgz2U0</td>\n",
       "      <td>The tale of the nine tailed part 1 eng sub</td>\n",
       "      <td>5</td>\n",
       "      <td>0</td>\n",
       "      <td>0</td>\n",
       "      <td>0</td>\n",
       "      <td>0</td>\n",
       "      <td>2021-06-17T14:36:28Z</td>\n",
       "      <td>#thetaleoftheninetailed#thetaleoftheninetailed...</td>\n",
       "      <td>PT22M20S</td>\n",
       "      <td>[]</td>\n",
       "      <td>the tale of the nine tailed part eng sub theta...</td>\n",
       "      <td>tale nine tail part eng sub thetaleofthenineta...</td>\n",
       "      <td>48</td>\n",
       "      <td>9</td>\n",
       "      <td>[thetaleoftheninetailedep, engsub, kdrama, par...</td>\n",
       "      <td>[thetaleoftheninetailedep engsub kdrama part t...</td>\n",
       "    </tr>\n",
       "    <tr>\n",
       "      <th>4</th>\n",
       "      <td>PGKsQxDpf_E</td>\n",
       "      <td>The tale of the nine tailed episode 1</td>\n",
       "      <td>9</td>\n",
       "      <td>2</td>\n",
       "      <td>0</td>\n",
       "      <td>0</td>\n",
       "      <td>0</td>\n",
       "      <td>2021-06-15T12:43:48Z</td>\n",
       "      <td>#thetaleoftheninetailed#kdrama#k&amp;cdrama#thetal...</td>\n",
       "      <td>PT1H5M34S</td>\n",
       "      <td>[]</td>\n",
       "      <td>the tale of the nine tailed episode thetaleoft...</td>\n",
       "      <td>tale nine tail episode thetaleoftheninetailed ...</td>\n",
       "      <td>39</td>\n",
       "      <td>9</td>\n",
       "      <td>[thetaleoftheninetailedepisode, thetaleoftheni...</td>\n",
       "      <td>[thetaleoftheninetailedepisode thetaleofthenin...</td>\n",
       "    </tr>\n",
       "  </tbody>\n",
       "</table>\n",
       "</div>"
      ],
      "text/plain": [
       "     ContentId                                              title viewCount  \\\n",
       "0  Q3ZfBWha5sk                        Things I learn from k drama         4   \n",
       "1  HeFfpcQfllk  Love alarm mv x Señorita shawn mendes korean m...        29   \n",
       "2  gBcTNgWWCeY  K-drama savage girls part 2 (comment down your...        10   \n",
       "3  cpwR1pgz2U0         The tale of the nine tailed part 1 eng sub         5   \n",
       "4  PGKsQxDpf_E              The tale of the nine tailed episode 1         9   \n",
       "\n",
       "  likeCount dislikeCount commentCount favoriteCount           publishedAt  \\\n",
       "0         2            0            0             0  2021-08-08T14:03:13Z   \n",
       "1         4            0            3             0  2021-07-02T22:35:24Z   \n",
       "2         4            0            0             0  2021-06-26T22:49:16Z   \n",
       "3         0            0            0             0  2021-06-17T14:36:28Z   \n",
       "4         2            0            0             0  2021-06-15T12:43:48Z   \n",
       "\n",
       "                                         description   duration tags  \\\n",
       "0  #kdrama#koreandrama#kcdrama#koreanwords#annyeo...      PT29S   []   \n",
       "1  #kdrama#ytvideo#lovealarms1mv#mv#lovealarm#lov...      PT25S   []   \n",
       "2  #kdrama#savagegirlsjkoreandrama#howyoulikethat...    PT1M51S   []   \n",
       "3  #thetaleoftheninetailed#thetaleoftheninetailed...   PT22M20S   []   \n",
       "4  #thetaleoftheninetailed#kdrama#k&cdrama#thetal...  PT1H5M34S   []   \n",
       "\n",
       "                                                text  \\\n",
       "0  things i learn from k drama kdrama koreandrama...   \n",
       "1  love alarm mv x señorita shawn mendes korean m...   \n",
       "2  k drama savage girls part comment down your fi...   \n",
       "3  the tale of the nine tailed part eng sub theta...   \n",
       "4  the tale of the nine tailed episode thetaleoft...   \n",
       "\n",
       "                                      Processed_text  Word_Count  cluster  \\\n",
       "0  thing learn k drama kdrama koreandrama kcdrama...          28        9   \n",
       "1  love alarm mv x señorita shawn mend korean mix...          42        9   \n",
       "2  k drama savage girl part comment first k drama...          40        9   \n",
       "3  tale nine tail part eng sub thetaleofthenineta...          48        9   \n",
       "4  tale nine tail episode thetaleoftheninetailed ...          39        9   \n",
       "\n",
       "                                            keywords  \\\n",
       "0  [kdrama, koreanwords, kdramagirls, annyeong, k...   \n",
       "1         [mv, lovealarms, señorita, alarm, ytvideo]   \n",
       "2  [kdrama, savgegirls, savagegirlsjkoreandrama, ...   \n",
       "3  [thetaleoftheninetailedep, engsub, kdrama, par...   \n",
       "4  [thetaleoftheninetailedepisode, thetaleoftheni...   \n",
       "\n",
       "                                    combine_keywords  \n",
       "0  [kdrama koreanwords kdramagirls annyeong kcdrama]  \n",
       "1             [mv lovealarms señorita alarm ytvideo]  \n",
       "2  [kdrama savgegirls savagegirlsjkoreandrama how...  \n",
       "3  [thetaleoftheninetailedep engsub kdrama part t...  \n",
       "4  [thetaleoftheninetailedepisode thetaleofthenin...  "
      ]
     },
     "execution_count": 43,
     "metadata": {},
     "output_type": "execute_result"
    }
   ],
   "source": [
    "df.head()"
   ]
  },
  {
   "cell_type": "code",
   "execution_count": 44,
   "metadata": {
    "colab": {
     "base_uri": "https://localhost:8080/",
     "height": 632
    },
    "id": "2JUgDKoJBbe6",
    "outputId": "0d1841f3-3304-4f4d-8b3b-164efb1e8fdc"
   },
   "outputs": [
    {
     "data": {
      "text/html": [
       "<div>\n",
       "<style scoped>\n",
       "    .dataframe tbody tr th:only-of-type {\n",
       "        vertical-align: middle;\n",
       "    }\n",
       "\n",
       "    .dataframe tbody tr th {\n",
       "        vertical-align: top;\n",
       "    }\n",
       "\n",
       "    .dataframe thead th {\n",
       "        text-align: right;\n",
       "    }\n",
       "</style>\n",
       "<table border=\"1\" class=\"dataframe\">\n",
       "  <thead>\n",
       "    <tr style=\"text-align: right;\">\n",
       "      <th></th>\n",
       "      <th>ContentId</th>\n",
       "      <th>title</th>\n",
       "      <th>viewCount</th>\n",
       "      <th>likeCount</th>\n",
       "      <th>dislikeCount</th>\n",
       "      <th>commentCount</th>\n",
       "      <th>favoriteCount</th>\n",
       "      <th>publishedAt</th>\n",
       "      <th>description</th>\n",
       "      <th>duration</th>\n",
       "      <th>tags</th>\n",
       "      <th>text</th>\n",
       "      <th>Processed_text</th>\n",
       "      <th>Word_Count</th>\n",
       "      <th>cluster</th>\n",
       "      <th>keywords</th>\n",
       "      <th>combine_keywords</th>\n",
       "    </tr>\n",
       "  </thead>\n",
       "  <tbody>\n",
       "    <tr>\n",
       "      <th>0</th>\n",
       "      <td>Q3ZfBWha5sk</td>\n",
       "      <td>Things I learn from k drama</td>\n",
       "      <td>4</td>\n",
       "      <td>2</td>\n",
       "      <td>0</td>\n",
       "      <td>0</td>\n",
       "      <td>0</td>\n",
       "      <td>2021-08-08T14:03:13Z</td>\n",
       "      <td>#kdrama#koreandrama#kcdrama#koreanwords#annyeo...</td>\n",
       "      <td>PT29S</td>\n",
       "      <td>[]</td>\n",
       "      <td>things i learn from k drama kdrama koreandrama...</td>\n",
       "      <td>thing learn k drama kdrama koreandrama kcdrama...</td>\n",
       "      <td>28</td>\n",
       "      <td>9</td>\n",
       "      <td>[kdrama, koreanwords, kdramagirls, annyeong, k...</td>\n",
       "      <td>kdrama koreanwords kdramagirls annyeong kcdrama</td>\n",
       "    </tr>\n",
       "    <tr>\n",
       "      <th>1</th>\n",
       "      <td>HeFfpcQfllk</td>\n",
       "      <td>Love alarm mv x Señorita shawn mendes korean m...</td>\n",
       "      <td>29</td>\n",
       "      <td>4</td>\n",
       "      <td>0</td>\n",
       "      <td>3</td>\n",
       "      <td>0</td>\n",
       "      <td>2021-07-02T22:35:24Z</td>\n",
       "      <td>#kdrama#ytvideo#lovealarms1mv#mv#lovealarm#lov...</td>\n",
       "      <td>PT25S</td>\n",
       "      <td>[]</td>\n",
       "      <td>love alarm mv x señorita shawn mendes korean m...</td>\n",
       "      <td>love alarm mv x señorita shawn mend korean mix...</td>\n",
       "      <td>42</td>\n",
       "      <td>9</td>\n",
       "      <td>[mv, lovealarms, señorita, alarm, ytvideo]</td>\n",
       "      <td>mv lovealarms señorita alarm ytvideo</td>\n",
       "    </tr>\n",
       "    <tr>\n",
       "      <th>2</th>\n",
       "      <td>gBcTNgWWCeY</td>\n",
       "      <td>K-drama savage girls part 2 (comment down your...</td>\n",
       "      <td>10</td>\n",
       "      <td>4</td>\n",
       "      <td>0</td>\n",
       "      <td>0</td>\n",
       "      <td>0</td>\n",
       "      <td>2021-06-26T22:49:16Z</td>\n",
       "      <td>#kdrama#savagegirlsjkoreandrama#howyoulikethat...</td>\n",
       "      <td>PT1M51S</td>\n",
       "      <td>[]</td>\n",
       "      <td>k drama savage girls part comment down your fi...</td>\n",
       "      <td>k drama savage girl part comment first k drama...</td>\n",
       "      <td>40</td>\n",
       "      <td>9</td>\n",
       "      <td>[kdrama, savgegirls, savagegirlsjkoreandrama, ...</td>\n",
       "      <td>kdrama savgegirls savagegirlsjkoreandrama howy...</td>\n",
       "    </tr>\n",
       "    <tr>\n",
       "      <th>3</th>\n",
       "      <td>cpwR1pgz2U0</td>\n",
       "      <td>The tale of the nine tailed part 1 eng sub</td>\n",
       "      <td>5</td>\n",
       "      <td>0</td>\n",
       "      <td>0</td>\n",
       "      <td>0</td>\n",
       "      <td>0</td>\n",
       "      <td>2021-06-17T14:36:28Z</td>\n",
       "      <td>#thetaleoftheninetailed#thetaleoftheninetailed...</td>\n",
       "      <td>PT22M20S</td>\n",
       "      <td>[]</td>\n",
       "      <td>the tale of the nine tailed part eng sub theta...</td>\n",
       "      <td>tale nine tail part eng sub thetaleofthenineta...</td>\n",
       "      <td>48</td>\n",
       "      <td>9</td>\n",
       "      <td>[thetaleoftheninetailedep, engsub, kdrama, par...</td>\n",
       "      <td>thetaleoftheninetailedep engsub kdrama part tail</td>\n",
       "    </tr>\n",
       "    <tr>\n",
       "      <th>4</th>\n",
       "      <td>PGKsQxDpf_E</td>\n",
       "      <td>The tale of the nine tailed episode 1</td>\n",
       "      <td>9</td>\n",
       "      <td>2</td>\n",
       "      <td>0</td>\n",
       "      <td>0</td>\n",
       "      <td>0</td>\n",
       "      <td>2021-06-15T12:43:48Z</td>\n",
       "      <td>#thetaleoftheninetailed#kdrama#k&amp;cdrama#thetal...</td>\n",
       "      <td>PT1H5M34S</td>\n",
       "      <td>[]</td>\n",
       "      <td>the tale of the nine tailed episode thetaleoft...</td>\n",
       "      <td>tale nine tail episode thetaleoftheninetailed ...</td>\n",
       "      <td>39</td>\n",
       "      <td>9</td>\n",
       "      <td>[thetaleoftheninetailedepisode, thetaleoftheni...</td>\n",
       "      <td>thetaleoftheninetailedepisode thetaleofthenine...</td>\n",
       "    </tr>\n",
       "  </tbody>\n",
       "</table>\n",
       "</div>"
      ],
      "text/plain": [
       "     ContentId                                              title viewCount  \\\n",
       "0  Q3ZfBWha5sk                        Things I learn from k drama         4   \n",
       "1  HeFfpcQfllk  Love alarm mv x Señorita shawn mendes korean m...        29   \n",
       "2  gBcTNgWWCeY  K-drama savage girls part 2 (comment down your...        10   \n",
       "3  cpwR1pgz2U0         The tale of the nine tailed part 1 eng sub         5   \n",
       "4  PGKsQxDpf_E              The tale of the nine tailed episode 1         9   \n",
       "\n",
       "  likeCount dislikeCount commentCount favoriteCount           publishedAt  \\\n",
       "0         2            0            0             0  2021-08-08T14:03:13Z   \n",
       "1         4            0            3             0  2021-07-02T22:35:24Z   \n",
       "2         4            0            0             0  2021-06-26T22:49:16Z   \n",
       "3         0            0            0             0  2021-06-17T14:36:28Z   \n",
       "4         2            0            0             0  2021-06-15T12:43:48Z   \n",
       "\n",
       "                                         description   duration tags  \\\n",
       "0  #kdrama#koreandrama#kcdrama#koreanwords#annyeo...      PT29S   []   \n",
       "1  #kdrama#ytvideo#lovealarms1mv#mv#lovealarm#lov...      PT25S   []   \n",
       "2  #kdrama#savagegirlsjkoreandrama#howyoulikethat...    PT1M51S   []   \n",
       "3  #thetaleoftheninetailed#thetaleoftheninetailed...   PT22M20S   []   \n",
       "4  #thetaleoftheninetailed#kdrama#k&cdrama#thetal...  PT1H5M34S   []   \n",
       "\n",
       "                                                text  \\\n",
       "0  things i learn from k drama kdrama koreandrama...   \n",
       "1  love alarm mv x señorita shawn mendes korean m...   \n",
       "2  k drama savage girls part comment down your fi...   \n",
       "3  the tale of the nine tailed part eng sub theta...   \n",
       "4  the tale of the nine tailed episode thetaleoft...   \n",
       "\n",
       "                                      Processed_text  Word_Count  cluster  \\\n",
       "0  thing learn k drama kdrama koreandrama kcdrama...          28        9   \n",
       "1  love alarm mv x señorita shawn mend korean mix...          42        9   \n",
       "2  k drama savage girl part comment first k drama...          40        9   \n",
       "3  tale nine tail part eng sub thetaleofthenineta...          48        9   \n",
       "4  tale nine tail episode thetaleoftheninetailed ...          39        9   \n",
       "\n",
       "                                            keywords  \\\n",
       "0  [kdrama, koreanwords, kdramagirls, annyeong, k...   \n",
       "1         [mv, lovealarms, señorita, alarm, ytvideo]   \n",
       "2  [kdrama, savgegirls, savagegirlsjkoreandrama, ...   \n",
       "3  [thetaleoftheninetailedep, engsub, kdrama, par...   \n",
       "4  [thetaleoftheninetailedepisode, thetaleoftheni...   \n",
       "\n",
       "                                    combine_keywords  \n",
       "0    kdrama koreanwords kdramagirls annyeong kcdrama  \n",
       "1               mv lovealarms señorita alarm ytvideo  \n",
       "2  kdrama savgegirls savagegirlsjkoreandrama howy...  \n",
       "3   thetaleoftheninetailedep engsub kdrama part tail  \n",
       "4  thetaleoftheninetailedepisode thetaleofthenine...  "
      ]
     },
     "execution_count": 44,
     "metadata": {},
     "output_type": "execute_result"
    }
   ],
   "source": [
    "data = df['combine_keywords']\n",
    "result = []\n",
    "for sublist in data:\n",
    "    for item in sublist:\n",
    "        result.append(item)\n",
    "\n",
    "df['combine_keywords'] = result\n",
    "df.head()"
   ]
  },
  {
   "cell_type": "markdown",
   "metadata": {
    "id": "ZZzsGEnGBbe6"
   },
   "source": [
    "# Input Data"
   ]
  },
  {
   "cell_type": "code",
   "execution_count": 45,
   "metadata": {
    "id": "B6Ib4Vn_Bbe6"
   },
   "outputs": [],
   "source": [
    "import numpy as np\n",
    "input_data = np.array(df['combine_keywords'])\n",
    "input_data = input_data.flatten()"
   ]
  },
  {
   "cell_type": "code",
   "execution_count": 46,
   "metadata": {
    "colab": {
     "base_uri": "https://localhost:8080/"
    },
    "id": "kGlb143hBbe6",
    "outputId": "0c9b962c-e0cf-4d80-dc54-1a7aad9df175"
   },
   "outputs": [
    {
     "data": {
      "text/plain": [
       "(101727,)"
      ]
     },
     "execution_count": 46,
     "metadata": {},
     "output_type": "execute_result"
    }
   ],
   "source": [
    "input_data.shape"
   ]
  },
  {
   "cell_type": "markdown",
   "metadata": {
    "id": "ArM7uhgSBbe6"
   },
   "source": [
    "# Output Data"
   ]
  },
  {
   "cell_type": "code",
   "execution_count": 47,
   "metadata": {
    "id": "QFyTJ1QnBbe6"
   },
   "outputs": [],
   "source": [
    "output_data = df['cluster']"
   ]
  },
  {
   "cell_type": "code",
   "execution_count": 48,
   "metadata": {
    "colab": {
     "base_uri": "https://localhost:8080/"
    },
    "id": "53EqRbHHOipw",
    "outputId": "562051e9-9022-45e9-9f0e-ba9d0d9431a3"
   },
   "outputs": [
    {
     "data": {
      "text/plain": [
       "(101727,)"
      ]
     },
     "execution_count": 48,
     "metadata": {},
     "output_type": "execute_result"
    }
   ],
   "source": [
    "output_data.shape"
   ]
  },
  {
   "cell_type": "markdown",
   "metadata": {
    "id": "zy_lmt8oBbe6"
   },
   "source": [
    "# Train test split"
   ]
  },
  {
   "cell_type": "code",
   "execution_count": 49,
   "metadata": {
    "colab": {
     "base_uri": "https://localhost:8080/"
    },
    "id": "27TCuwhTBbe6",
    "outputId": "4557dcda-a0f0-403b-bc81-f85699b838f2"
   },
   "outputs": [
    {
     "data": {
      "text/plain": [
       "(81381,)"
      ]
     },
     "execution_count": 49,
     "metadata": {},
     "output_type": "execute_result"
    }
   ],
   "source": [
    "from sklearn.model_selection import train_test_split\n",
    "x_train,x_test,y_train,y_test=train_test_split (input_data,output_data,test_size=0.20,random_state=1,stratify=output_data)\n",
    "y_train.shape"
   ]
  },
  {
   "cell_type": "markdown",
   "metadata": {
    "id": "WR960MdsBbe7"
   },
   "source": [
    "# Text to numerical conversion"
   ]
  },
  {
   "cell_type": "code",
   "execution_count": 50,
   "metadata": {
    "colab": {
     "base_uri": "https://localhost:8080/"
    },
    "id": "p8GZY_C6Bbe7",
    "outputId": "0312c110-6a2a-4ed4-ab6c-f4a3f7d4aaf7"
   },
   "outputs": [
    {
     "data": {
      "text/plain": [
       "<81381x47414 sparse matrix of type '<class 'numpy.float64'>'\n",
       "\twith 406613 stored elements in Compressed Sparse Row format>"
      ]
     },
     "execution_count": 50,
     "metadata": {},
     "output_type": "execute_result"
    }
   ],
   "source": [
    "from sklearn.feature_extraction.text import TfidfVectorizer\n",
    "vectorizer = TfidfVectorizer()\n",
    "train_data=vectorizer.fit_transform(x_train)\n",
    "test_data=vectorizer.transform(x_test)\n",
    "train_data"
   ]
  },
  {
   "cell_type": "code",
   "execution_count": 51,
   "metadata": {
    "colab": {
     "base_uri": "https://localhost:8080/"
    },
    "id": "jCzVHvAnRIz4",
    "outputId": "71e5de15-a234-4019-b76a-e0a08c0ec1c1"
   },
   "outputs": [
    {
     "data": {
      "text/plain": [
       "(81381, 47414)"
      ]
     },
     "execution_count": 51,
     "metadata": {},
     "output_type": "execute_result"
    }
   ],
   "source": [
    "train_data.shape"
   ]
  },
  {
   "cell_type": "code",
   "execution_count": 52,
   "metadata": {
    "id": "Y9bjfmccQYcl"
   },
   "outputs": [],
   "source": [
    "# from sklearn.decomposition import TruncatedSVD\n",
    "# def svd_tfidf_matrix(matrix):\n",
    "#     svd = TruncatedSVD(n_components=3)\n",
    "#     return svd.fit_transform(matrix)"
   ]
  },
  {
   "cell_type": "code",
   "execution_count": 53,
   "metadata": {
    "id": "tIvhh-ehBbe7"
   },
   "outputs": [],
   "source": [
    "# train_data = svd_tfidf_matrix(matrix=train_data)"
   ]
  },
  {
   "cell_type": "code",
   "execution_count": 54,
   "metadata": {
    "id": "wBEv7Su7RXne"
   },
   "outputs": [],
   "source": [
    "# test_data = svd_tfidf_matrix(matrix=test_data)"
   ]
  },
  {
   "cell_type": "code",
   "execution_count": 55,
   "metadata": {
    "colab": {
     "base_uri": "https://localhost:8080/"
    },
    "id": "TND7xzJRBbe7",
    "outputId": "5162da16-33dc-478b-88ff-dd7875639ea2"
   },
   "outputs": [
    {
     "data": {
      "text/plain": [
       "(81381, 47414)"
      ]
     },
     "execution_count": 55,
     "metadata": {},
     "output_type": "execute_result"
    }
   ],
   "source": [
    "train_data.shape"
   ]
  },
  {
   "cell_type": "code",
   "execution_count": 56,
   "metadata": {
    "colab": {
     "base_uri": "https://localhost:8080/"
    },
    "id": "CKciktSOBbe7",
    "outputId": "330ccb55-a4a1-4ccb-9b5b-cf0f316a3b30"
   },
   "outputs": [
    {
     "data": {
      "text/plain": [
       "(20346, 47414)"
      ]
     },
     "execution_count": 56,
     "metadata": {},
     "output_type": "execute_result"
    }
   ],
   "source": [
    "test_data.shape"
   ]
  },
  {
   "cell_type": "markdown",
   "metadata": {
    "id": "wA9eIsbtXlCg"
   },
   "source": [
    "# DecisionTreeClassifier"
   ]
  },
  {
   "cell_type": "code",
   "execution_count": 57,
   "metadata": {
    "colab": {
     "base_uri": "https://localhost:8080/"
    },
    "id": "1iHKN8CRBbe9",
    "outputId": "85d8b53d-32d9-48d2-fcea-e9de2b85c1ac"
   },
   "outputs": [
    {
     "name": "stdout",
     "output_type": "stream",
     "text": [
      "0.7209668104348681\n",
      "0.7146367836429766\n"
     ]
    }
   ],
   "source": [
    "from sklearn.tree import DecisionTreeClassifier\n",
    "model3=DecisionTreeClassifier(max_depth=20)\n",
    "model3.fit(train_data, y_train)\n",
    "print(model3.score(train_data, y_train))\n",
    "print(model3.score(test_data,y_test))"
   ]
  },
  {
   "cell_type": "code",
   "execution_count": 58,
   "metadata": {},
   "outputs": [],
   "source": [
    "#Predict the response for test dataset\n",
    "y_pred = model3.predict(test_data)"
   ]
  },
  {
   "cell_type": "code",
   "execution_count": 59,
   "metadata": {},
   "outputs": [
    {
     "name": "stdout",
     "output_type": "stream",
     "text": [
      "Accuracy: 0.7146367836429766\n"
     ]
    }
   ],
   "source": [
    "from sklearn import metrics #Import scikit-learn metrics module for accuracy calculation\n",
    "# Model Accuracy, how often is the classifier correct?\n",
    "print(\"Accuracy:\",metrics.accuracy_score(y_test, y_pred))"
   ]
  },
  {
   "cell_type": "code",
   "execution_count": 60,
   "metadata": {},
   "outputs": [],
   "source": [
    "from sklearn.metrics import classification_report, confusion_matrix"
   ]
  },
  {
   "cell_type": "code",
   "execution_count": 61,
   "metadata": {},
   "outputs": [
    {
     "name": "stdout",
     "output_type": "stream",
     "text": [
      "              precision    recall  f1-score   support\n",
      "\n",
      "           0       0.74      0.97      0.84       176\n",
      "           1       0.98      0.97      0.97       530\n",
      "           2       0.94      0.33      0.49       954\n",
      "           3       0.90      0.96      0.93       546\n",
      "           4       1.00      1.00      1.00      3819\n",
      "           5       0.96      0.92      0.94       110\n",
      "           6       0.97      0.27      0.42       578\n",
      "           7       0.99      1.00      1.00       218\n",
      "           8       0.98      0.78      0.87       308\n",
      "           9       0.53      0.97      0.69      6481\n",
      "          10       0.96      0.93      0.95       629\n",
      "          11       1.00      0.01      0.03        77\n",
      "          12       0.97      0.58      0.72       635\n",
      "          13       0.00      0.00      0.00        72\n",
      "          14       0.33      0.00      0.00      1033\n",
      "          15       0.94      0.11      0.20      2474\n",
      "          16       0.88      0.99      0.93       146\n",
      "          17       0.99      0.98      0.98       167\n",
      "          18       0.91      0.25      0.39       951\n",
      "          19       0.94      0.93      0.93       442\n",
      "\n",
      "    accuracy                           0.71     20346\n",
      "   macro avg       0.85      0.65      0.66     20346\n",
      "weighted avg       0.79      0.71      0.66     20346\n",
      "\n"
     ]
    },
    {
     "name": "stderr",
     "output_type": "stream",
     "text": [
      "/home/shivshaurya/anaconda3/lib/python3.8/site-packages/sklearn/metrics/_classification.py:1272: UndefinedMetricWarning: Precision and F-score are ill-defined and being set to 0.0 in labels with no predicted samples. Use `zero_division` parameter to control this behavior.\n",
      "  _warn_prf(average, modifier, msg_start, len(result))\n"
     ]
    }
   ],
   "source": [
    "print(classification_report(y_test, y_pred))"
   ]
  },
  {
   "cell_type": "code",
   "execution_count": 62,
   "metadata": {},
   "outputs": [
    {
     "name": "stdout",
     "output_type": "stream",
     "text": [
      "[[ 170    0    0    0    0    0    0    0    0    5    1    0    0    0\n",
      "     0    0    0    0    0    0]\n",
      " [   0  516    0    0    0    0    0    0    0   14    0    0    0    0\n",
      "     0    0    0    0    0    0]\n",
      " [   2    0  316   11    0    0    0    0    0  618    4    0    3    0\n",
      "     0    0    0    0    0    0]\n",
      " [   1    0    2  523    0    0    0    0    0   20    0    0    0    0\n",
      "     0    0    0    0    0    0]\n",
      " [   0    9    0    0 3807    0    0    0    0    3    0    0    0    0\n",
      "     0    0    0    0    0    0]\n",
      " [   0    0    0    0    0  101    0    0    0    9    0    0    0    0\n",
      "     0    0    0    0    0    0]\n",
      " [   0    0    0    0    0    0  155    0    3  420    0    0    0    0\n",
      "     0    0    0    0    0    0]\n",
      " [   0    0    0    0    0    0    0  218    0    0    0    0    0    0\n",
      "     0    0    0    0    0    0]\n",
      " [   0    0    0    0    0    0    0    0  240   68    0    0    0    0\n",
      "     0    0    0    0    0    0]\n",
      " [  17    4   16   46    8    4    5    2    2 6308    9    0    9    0\n",
      "     0    0    2    1   23   25]\n",
      " [  37    0    0    0    0    0    0    0    0    5  587    0    0    0\n",
      "     0    0    0    0    0    0]\n",
      " [   0    0    0    0    0    0    0    0    0   75    0    1    0    0\n",
      "     0    1    0    0    0    0]\n",
      " [   0    0    1    1    0    0    0    0    0  266    1    0  366    0\n",
      "     0    0    0    0    0    0]\n",
      " [   1    0    0    0    0    0    0    0    0   71    0    0    0    0\n",
      "     0    0    0    0    0    0]\n",
      " [   0    0    1    0    0    0    0    0    0  995    1    0    0    0\n",
      "     1   18   17    0    0    0]\n",
      " [   0    0    0    0    0    0    0    0    1 2185    6    0    0    0\n",
      "     1  280    0    0    0    1]\n",
      " [   0    0    0    0    0    0    0    0    0    1    0    0    0    0\n",
      "     1    0  144    0    0    0]\n",
      " [   0    0    0    0    0    0    0    0    0    4    0    0    0    0\n",
      "     0    0    0  163    0    0]\n",
      " [   1    0    1    3    0    0    0    0    0  711    0    0    0    0\n",
      "     0    0    0    0  235    0]\n",
      " [   0    0    0    0    0    0    0    0    0   33    0    0    0    0\n",
      "     0    0    0    0    0  409]]\n"
     ]
    }
   ],
   "source": [
    " print(confusion_matrix(y_test, y_pred))"
   ]
  }
 ],
 "metadata": {
  "colab": {
   "name": "Modelling.ipynb",
   "provenance": []
  },
  "kernelspec": {
   "display_name": "Python 3",
   "language": "python",
   "name": "python3"
  },
  "language_info": {
   "codemirror_mode": {
    "name": "ipython",
    "version": 3
   },
   "file_extension": ".py",
   "mimetype": "text/x-python",
   "name": "python",
   "nbconvert_exporter": "python",
   "pygments_lexer": "ipython3",
   "version": "3.8.8"
  }
 },
 "nbformat": 4,
 "nbformat_minor": 1
}
