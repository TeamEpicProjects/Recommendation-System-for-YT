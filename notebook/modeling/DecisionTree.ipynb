{
 "cells": [
  {
   "cell_type": "markdown",
   "metadata": {
    "id": "9nFlr6kPBbem"
   },
   "source": [
    "# Import Libraries"
   ]
  },
  {
   "cell_type": "code",
   "execution_count": 1,
   "metadata": {
    "id": "E4G71ohyBbep"
   },
   "outputs": [],
   "source": [
    "import pandas as pd\n",
    "from sklearn.feature_extraction.text import TfidfVectorizer"
   ]
  },
  {
   "cell_type": "markdown",
   "metadata": {
    "id": "EYwKjCzHBbes"
   },
   "source": [
    "# Read the dataset "
   ]
  },
  {
   "cell_type": "code",
   "execution_count": 2,
   "metadata": {
    "colab": {
     "base_uri": "https://localhost:8080/"
    },
    "id": "_4qXQFEPBbes",
    "outputId": "41b3d2ad-8724-4adc-e931-de905e29f5a6"
   },
   "outputs": [
    {
     "name": "stderr",
     "output_type": "stream",
     "text": [
      "/home/shivshaurya/anaconda3/lib/python3.8/site-packages/IPython/core/interactiveshell.py:3331: DtypeWarning: Columns (0,3,7) have mixed types.Specify dtype option on import or set low_memory=False.\n",
      "  exec(code_obj, self.user_global_ns, self.user_ns)\n"
     ]
    }
   ],
   "source": [
    "df = pd.read_csv(\"youTubeSearchListTamilNadu.csv\",index_col=[0])"
   ]
  },
  {
   "cell_type": "code",
   "execution_count": 3,
   "metadata": {
    "colab": {
     "base_uri": "https://localhost:8080/",
     "height": 289
    },
    "id": "NMP7aME6Bbet",
    "outputId": "bbc2bdb5-7461-4665-fcfe-413afdadef7c"
   },
   "outputs": [
    {
     "data": {
      "text/html": [
       "<div>\n",
       "<style scoped>\n",
       "    .dataframe tbody tr th:only-of-type {\n",
       "        vertical-align: middle;\n",
       "    }\n",
       "\n",
       "    .dataframe tbody tr th {\n",
       "        vertical-align: top;\n",
       "    }\n",
       "\n",
       "    .dataframe thead th {\n",
       "        text-align: right;\n",
       "    }\n",
       "</style>\n",
       "<table border=\"1\" class=\"dataframe\">\n",
       "  <thead>\n",
       "    <tr style=\"text-align: right;\">\n",
       "      <th></th>\n",
       "      <th>ContentId</th>\n",
       "      <th>title</th>\n",
       "      <th>viewCount</th>\n",
       "      <th>likeCount</th>\n",
       "      <th>dislikeCount</th>\n",
       "      <th>commentCount</th>\n",
       "      <th>favoriteCount</th>\n",
       "      <th>publishedAt</th>\n",
       "      <th>description</th>\n",
       "      <th>duration</th>\n",
       "      <th>tags</th>\n",
       "    </tr>\n",
       "  </thead>\n",
       "  <tbody>\n",
       "    <tr>\n",
       "      <th>0</th>\n",
       "      <td>DPgTI-qO_uc</td>\n",
       "      <td>True beauty #shors#Truebeauty#kdrama#LeeSuHo#H...</td>\n",
       "      <td>5</td>\n",
       "      <td>1</td>\n",
       "      <td>0</td>\n",
       "      <td>0</td>\n",
       "      <td>0</td>\n",
       "      <td>2021-10-06T18:31:40Z</td>\n",
       "      <td>NaN</td>\n",
       "      <td>PT40S</td>\n",
       "      <td>[]</td>\n",
       "    </tr>\n",
       "    <tr>\n",
       "      <th>1</th>\n",
       "      <td>07MEle9JSdo</td>\n",
       "      <td>penthouse #shorts#kdrama#koreandrama#edit#kdra...</td>\n",
       "      <td>7</td>\n",
       "      <td>1</td>\n",
       "      <td>0</td>\n",
       "      <td>0</td>\n",
       "      <td>0</td>\n",
       "      <td>2021-10-05T19:13:52Z</td>\n",
       "      <td>NaN</td>\n",
       "      <td>PT14S</td>\n",
       "      <td>[]</td>\n",
       "    </tr>\n",
       "    <tr>\n",
       "      <th>2</th>\n",
       "      <td>AIH02FlY-Qc</td>\n",
       "      <td>💔💔 #shorts#kdrama#koreandrama#edit#kdramaedit#...</td>\n",
       "      <td>6</td>\n",
       "      <td>1</td>\n",
       "      <td>0</td>\n",
       "      <td>0</td>\n",
       "      <td>0</td>\n",
       "      <td>2021-10-05T19:09:04Z</td>\n",
       "      <td>NaN</td>\n",
       "      <td>PT9S</td>\n",
       "      <td>[]</td>\n",
       "    </tr>\n",
       "    <tr>\n",
       "      <th>3</th>\n",
       "      <td>t9ISH4DtrM4</td>\n",
       "      <td>🔥🔥🔥 #shorts#kdramaedit#kdrama#itsoknottobeokay...</td>\n",
       "      <td>6</td>\n",
       "      <td>2</td>\n",
       "      <td>0</td>\n",
       "      <td>0</td>\n",
       "      <td>0</td>\n",
       "      <td>2021-09-21T18:47:25Z</td>\n",
       "      <td>NaN</td>\n",
       "      <td>PT11S</td>\n",
       "      <td>[]</td>\n",
       "    </tr>\n",
       "    <tr>\n",
       "      <th>4</th>\n",
       "      <td>Pr4BEqNMYBA</td>\n",
       "      <td>This scene 😯😍🔥 #shorts#kdrama#doomatyourservic...</td>\n",
       "      <td>1</td>\n",
       "      <td>1</td>\n",
       "      <td>0</td>\n",
       "      <td>0</td>\n",
       "      <td>0</td>\n",
       "      <td>2021-09-20T17:51:11Z</td>\n",
       "      <td>NaN</td>\n",
       "      <td>PT22S</td>\n",
       "      <td>[]</td>\n",
       "    </tr>\n",
       "  </tbody>\n",
       "</table>\n",
       "</div>"
      ],
      "text/plain": [
       "     ContentId                                              title viewCount  \\\n",
       "0  DPgTI-qO_uc  True beauty #shors#Truebeauty#kdrama#LeeSuHo#H...         5   \n",
       "1  07MEle9JSdo  penthouse #shorts#kdrama#koreandrama#edit#kdra...         7   \n",
       "2  AIH02FlY-Qc  💔💔 #shorts#kdrama#koreandrama#edit#kdramaedit#...         6   \n",
       "3  t9ISH4DtrM4  🔥🔥🔥 #shorts#kdramaedit#kdrama#itsoknottobeokay...         6   \n",
       "4  Pr4BEqNMYBA  This scene 😯😍🔥 #shorts#kdrama#doomatyourservic...         1   \n",
       "\n",
       "  likeCount dislikeCount commentCount favoriteCount           publishedAt  \\\n",
       "0         1            0            0             0  2021-10-06T18:31:40Z   \n",
       "1         1            0            0             0  2021-10-05T19:13:52Z   \n",
       "2         1            0            0             0  2021-10-05T19:09:04Z   \n",
       "3         2            0            0             0  2021-09-21T18:47:25Z   \n",
       "4         1            0            0             0  2021-09-20T17:51:11Z   \n",
       "\n",
       "  description duration tags  \n",
       "0         NaN    PT40S   []  \n",
       "1         NaN    PT14S   []  \n",
       "2         NaN     PT9S   []  \n",
       "3         NaN    PT11S   []  \n",
       "4         NaN    PT22S   []  "
      ]
     },
     "execution_count": 3,
     "metadata": {},
     "output_type": "execute_result"
    }
   ],
   "source": [
    "df.head()"
   ]
  },
  {
   "cell_type": "code",
   "execution_count": 4,
   "metadata": {
    "colab": {
     "base_uri": "https://localhost:8080/"
    },
    "id": "jiVFJVojBbeu",
    "outputId": "d4c8a22b-3368-49ec-d246-973aa19a5424"
   },
   "outputs": [
    {
     "data": {
      "text/plain": [
       "(136349, 11)"
      ]
     },
     "execution_count": 4,
     "metadata": {},
     "output_type": "execute_result"
    }
   ],
   "source": [
    "df.shape"
   ]
  },
  {
   "cell_type": "markdown",
   "metadata": {
    "id": "s4TEPRGeBbeu"
   },
   "source": [
    "# Check for null value count"
   ]
  },
  {
   "cell_type": "code",
   "execution_count": 5,
   "metadata": {
    "colab": {
     "base_uri": "https://localhost:8080/"
    },
    "id": "lWf-65itBbev",
    "outputId": "89ba0ec4-a769-4ffd-f9f9-14a6534e5b1e"
   },
   "outputs": [
    {
     "data": {
      "text/plain": [
       "ContentId            0\n",
       "title                0\n",
       "viewCount        31482\n",
       "likeCount        31482\n",
       "dislikeCount     31482\n",
       "commentCount     31482\n",
       "favoriteCount    31482\n",
       "publishedAt      31482\n",
       "description      34621\n",
       "duration         31483\n",
       "tags             31483\n",
       "dtype: int64"
      ]
     },
     "execution_count": 5,
     "metadata": {},
     "output_type": "execute_result"
    }
   ],
   "source": [
    "df.isnull().sum()"
   ]
  },
  {
   "cell_type": "code",
   "execution_count": 6,
   "metadata": {
    "colab": {
     "base_uri": "https://localhost:8080/"
    },
    "id": "Co0UucEDBbew",
    "outputId": "cd8a2fef-739e-4ac6-8fe1-ffc19ac25f67"
   },
   "outputs": [
    {
     "name": "stdout",
     "output_type": "stream",
     "text": [
      "<class 'pandas.core.frame.DataFrame'>\n",
      "Index: 136349 entries, 0 to 104866\n",
      "Data columns (total 11 columns):\n",
      " #   Column         Non-Null Count   Dtype \n",
      "---  ------         --------------   ----- \n",
      " 0   ContentId      136349 non-null  object\n",
      " 1   title          136349 non-null  object\n",
      " 2   viewCount      104867 non-null  object\n",
      " 3   likeCount      104867 non-null  object\n",
      " 4   dislikeCount   104867 non-null  object\n",
      " 5   commentCount   104867 non-null  object\n",
      " 6   favoriteCount  104867 non-null  object\n",
      " 7   publishedAt    104867 non-null  object\n",
      " 8   description    101728 non-null  object\n",
      " 9   duration       104866 non-null  object\n",
      " 10  tags           104866 non-null  object\n",
      "dtypes: object(11)\n",
      "memory usage: 12.5+ MB\n"
     ]
    }
   ],
   "source": [
    "df.info()"
   ]
  },
  {
   "cell_type": "markdown",
   "metadata": {
    "id": "_TIGSe2ABbew"
   },
   "source": [
    "# Converting Object dtype to strings"
   ]
  },
  {
   "cell_type": "code",
   "execution_count": 7,
   "metadata": {
    "id": "uhEr7YTuBbew"
   },
   "outputs": [],
   "source": [
    "df['title'] = df['title'].convert_dtypes()\n",
    "df['description'] = df['description'].convert_dtypes()\n",
    "df['tags'] = df['tags'].convert_dtypes()"
   ]
  },
  {
   "cell_type": "code",
   "execution_count": 8,
   "metadata": {
    "colab": {
     "base_uri": "https://localhost:8080/"
    },
    "id": "DUt0GW8OBbex",
    "outputId": "98ba3b3a-12da-463d-b5f2-e01e044d617b"
   },
   "outputs": [
    {
     "name": "stdout",
     "output_type": "stream",
     "text": [
      "<class 'pandas.core.frame.DataFrame'>\n",
      "Index: 136349 entries, 0 to 104866\n",
      "Data columns (total 11 columns):\n",
      " #   Column         Non-Null Count   Dtype \n",
      "---  ------         --------------   ----- \n",
      " 0   ContentId      136349 non-null  object\n",
      " 1   title          136349 non-null  string\n",
      " 2   viewCount      104867 non-null  object\n",
      " 3   likeCount      104867 non-null  object\n",
      " 4   dislikeCount   104867 non-null  object\n",
      " 5   commentCount   104867 non-null  object\n",
      " 6   favoriteCount  104867 non-null  object\n",
      " 7   publishedAt    104867 non-null  object\n",
      " 8   description    101728 non-null  string\n",
      " 9   duration       104866 non-null  object\n",
      " 10  tags           104866 non-null  string\n",
      "dtypes: object(8), string(3)\n",
      "memory usage: 12.5+ MB\n"
     ]
    }
   ],
   "source": [
    "df.info()"
   ]
  },
  {
   "cell_type": "markdown",
   "metadata": {
    "id": "NmuMZPNjBbex"
   },
   "source": [
    "# Dropping Null Values"
   ]
  },
  {
   "cell_type": "code",
   "execution_count": 9,
   "metadata": {
    "id": "Fpixjh10Bbex"
   },
   "outputs": [],
   "source": [
    "df = df.dropna()\n",
    "df = df.reset_index(drop=True)"
   ]
  },
  {
   "cell_type": "code",
   "execution_count": 10,
   "metadata": {
    "colab": {
     "base_uri": "https://localhost:8080/"
    },
    "id": "SAsXxjG1Bbex",
    "outputId": "6a22d599-3b94-4377-e460-ad9979e380d0"
   },
   "outputs": [
    {
     "name": "stdout",
     "output_type": "stream",
     "text": [
      "<class 'pandas.core.frame.DataFrame'>\n",
      "RangeIndex: 101727 entries, 0 to 101726\n",
      "Data columns (total 11 columns):\n",
      " #   Column         Non-Null Count   Dtype \n",
      "---  ------         --------------   ----- \n",
      " 0   ContentId      101727 non-null  object\n",
      " 1   title          101727 non-null  string\n",
      " 2   viewCount      101727 non-null  object\n",
      " 3   likeCount      101727 non-null  object\n",
      " 4   dislikeCount   101727 non-null  object\n",
      " 5   commentCount   101727 non-null  object\n",
      " 6   favoriteCount  101727 non-null  object\n",
      " 7   publishedAt    101727 non-null  object\n",
      " 8   description    101727 non-null  string\n",
      " 9   duration       101727 non-null  object\n",
      " 10  tags           101727 non-null  string\n",
      "dtypes: object(8), string(3)\n",
      "memory usage: 8.5+ MB\n"
     ]
    }
   ],
   "source": [
    "df.info()"
   ]
  },
  {
   "cell_type": "code",
   "execution_count": 11,
   "metadata": {
    "colab": {
     "base_uri": "https://localhost:8080/"
    },
    "id": "eJrqBiWOBbex",
    "outputId": "fe48070b-62b3-456c-bc5b-dd9656f8ef63"
   },
   "outputs": [
    {
     "data": {
      "text/plain": [
       "ContentId        0\n",
       "title            0\n",
       "viewCount        0\n",
       "likeCount        0\n",
       "dislikeCount     0\n",
       "commentCount     0\n",
       "favoriteCount    0\n",
       "publishedAt      0\n",
       "description      0\n",
       "duration         0\n",
       "tags             0\n",
       "dtype: int64"
      ]
     },
     "execution_count": 11,
     "metadata": {},
     "output_type": "execute_result"
    }
   ],
   "source": [
    "df.isnull().sum()"
   ]
  },
  {
   "cell_type": "markdown",
   "metadata": {
    "id": "D8s3OecMBbex"
   },
   "source": [
    "# Removing tags, special characters and digits, convert to lower case"
   ]
  },
  {
   "cell_type": "code",
   "execution_count": 12,
   "metadata": {
    "colab": {
     "base_uri": "https://localhost:8080/",
     "height": 0
    },
    "id": "1sHuTNYFBbey",
    "outputId": "38ec1274-783e-4fbb-bc96-f4c1008e1672"
   },
   "outputs": [
    {
     "data": {
      "text/plain": [
       "'k drama savage girls part comment down your first k drama kdrama savagegirlsjkoreandrama howyoulikethatpart koreandrama kcdrama hello guys i made an edit of kdrama savgegirls i hope all of you like it if you it pleases like share comment and do subscribe to my channel and give your love to my channel thank you keep supporting here is the link of part https youtu be dlcfhts om '"
      ]
     },
     "execution_count": 12,
     "metadata": {},
     "output_type": "execute_result"
    }
   ],
   "source": [
    "import re\n",
    "def pre_process(text):\n",
    "    \n",
    "    # lowercase\n",
    "    text=text.lower()\n",
    "    \n",
    "    #remove tags\n",
    "    text=re.sub(\"\",\"\",text)\n",
    "    \n",
    "    # remove special characters and digits\n",
    "    text=re.sub(\"(\\\\d|\\\\W)+\",\" \",text)\n",
    "    \n",
    "    return text\n",
    "\n",
    "df['text'] = df['title'] + df['description'] + df['tags']\n",
    "df['text'] = df['text'].apply(lambda x:pre_process(x))\n",
    "\n",
    "#show the second 'text' just for fun\n",
    "df['text'][2]"
   ]
  },
  {
   "cell_type": "code",
   "execution_count": 13,
   "metadata": {
    "colab": {
     "base_uri": "https://localhost:8080/",
     "height": 0
    },
    "id": "0OFw1vZXBbey",
    "outputId": "f0ab0c09-f012-4d4b-f81b-687c1063a973"
   },
   "outputs": [
    {
     "data": {
      "text/html": [
       "<div>\n",
       "<style scoped>\n",
       "    .dataframe tbody tr th:only-of-type {\n",
       "        vertical-align: middle;\n",
       "    }\n",
       "\n",
       "    .dataframe tbody tr th {\n",
       "        vertical-align: top;\n",
       "    }\n",
       "\n",
       "    .dataframe thead th {\n",
       "        text-align: right;\n",
       "    }\n",
       "</style>\n",
       "<table border=\"1\" class=\"dataframe\">\n",
       "  <thead>\n",
       "    <tr style=\"text-align: right;\">\n",
       "      <th></th>\n",
       "      <th>ContentId</th>\n",
       "      <th>title</th>\n",
       "      <th>viewCount</th>\n",
       "      <th>likeCount</th>\n",
       "      <th>dislikeCount</th>\n",
       "      <th>commentCount</th>\n",
       "      <th>favoriteCount</th>\n",
       "      <th>publishedAt</th>\n",
       "      <th>description</th>\n",
       "      <th>duration</th>\n",
       "      <th>tags</th>\n",
       "      <th>text</th>\n",
       "    </tr>\n",
       "  </thead>\n",
       "  <tbody>\n",
       "    <tr>\n",
       "      <th>0</th>\n",
       "      <td>Q3ZfBWha5sk</td>\n",
       "      <td>Things I learn from k drama</td>\n",
       "      <td>4</td>\n",
       "      <td>2</td>\n",
       "      <td>0</td>\n",
       "      <td>0</td>\n",
       "      <td>0</td>\n",
       "      <td>2021-08-08T14:03:13Z</td>\n",
       "      <td>#kdrama#koreandrama#kcdrama#koreanwords#annyeo...</td>\n",
       "      <td>PT29S</td>\n",
       "      <td>[]</td>\n",
       "      <td>things i learn from k drama kdrama koreandrama...</td>\n",
       "    </tr>\n",
       "    <tr>\n",
       "      <th>1</th>\n",
       "      <td>HeFfpcQfllk</td>\n",
       "      <td>Love alarm mv x Señorita shawn mendes korean m...</td>\n",
       "      <td>29</td>\n",
       "      <td>4</td>\n",
       "      <td>0</td>\n",
       "      <td>3</td>\n",
       "      <td>0</td>\n",
       "      <td>2021-07-02T22:35:24Z</td>\n",
       "      <td>#kdrama#ytvideo#lovealarms1mv#mv#lovealarm#lov...</td>\n",
       "      <td>PT25S</td>\n",
       "      <td>[]</td>\n",
       "      <td>love alarm mv x señorita shawn mendes korean m...</td>\n",
       "    </tr>\n",
       "    <tr>\n",
       "      <th>2</th>\n",
       "      <td>gBcTNgWWCeY</td>\n",
       "      <td>K-drama savage girls part 2 (comment down your...</td>\n",
       "      <td>10</td>\n",
       "      <td>4</td>\n",
       "      <td>0</td>\n",
       "      <td>0</td>\n",
       "      <td>0</td>\n",
       "      <td>2021-06-26T22:49:16Z</td>\n",
       "      <td>#kdrama#savagegirlsjkoreandrama#howyoulikethat...</td>\n",
       "      <td>PT1M51S</td>\n",
       "      <td>[]</td>\n",
       "      <td>k drama savage girls part comment down your fi...</td>\n",
       "    </tr>\n",
       "    <tr>\n",
       "      <th>3</th>\n",
       "      <td>cpwR1pgz2U0</td>\n",
       "      <td>The tale of the nine tailed part 1 eng sub</td>\n",
       "      <td>5</td>\n",
       "      <td>0</td>\n",
       "      <td>0</td>\n",
       "      <td>0</td>\n",
       "      <td>0</td>\n",
       "      <td>2021-06-17T14:36:28Z</td>\n",
       "      <td>#thetaleoftheninetailed#thetaleoftheninetailed...</td>\n",
       "      <td>PT22M20S</td>\n",
       "      <td>[]</td>\n",
       "      <td>the tale of the nine tailed part eng sub theta...</td>\n",
       "    </tr>\n",
       "    <tr>\n",
       "      <th>4</th>\n",
       "      <td>PGKsQxDpf_E</td>\n",
       "      <td>The tale of the nine tailed episode 1</td>\n",
       "      <td>9</td>\n",
       "      <td>2</td>\n",
       "      <td>0</td>\n",
       "      <td>0</td>\n",
       "      <td>0</td>\n",
       "      <td>2021-06-15T12:43:48Z</td>\n",
       "      <td>#thetaleoftheninetailed#kdrama#k&amp;cdrama#thetal...</td>\n",
       "      <td>PT1H5M34S</td>\n",
       "      <td>[]</td>\n",
       "      <td>the tale of the nine tailed episode thetaleoft...</td>\n",
       "    </tr>\n",
       "  </tbody>\n",
       "</table>\n",
       "</div>"
      ],
      "text/plain": [
       "     ContentId                                              title viewCount  \\\n",
       "0  Q3ZfBWha5sk                        Things I learn from k drama         4   \n",
       "1  HeFfpcQfllk  Love alarm mv x Señorita shawn mendes korean m...        29   \n",
       "2  gBcTNgWWCeY  K-drama savage girls part 2 (comment down your...        10   \n",
       "3  cpwR1pgz2U0         The tale of the nine tailed part 1 eng sub         5   \n",
       "4  PGKsQxDpf_E              The tale of the nine tailed episode 1         9   \n",
       "\n",
       "  likeCount dislikeCount commentCount favoriteCount           publishedAt  \\\n",
       "0         2            0            0             0  2021-08-08T14:03:13Z   \n",
       "1         4            0            3             0  2021-07-02T22:35:24Z   \n",
       "2         4            0            0             0  2021-06-26T22:49:16Z   \n",
       "3         0            0            0             0  2021-06-17T14:36:28Z   \n",
       "4         2            0            0             0  2021-06-15T12:43:48Z   \n",
       "\n",
       "                                         description   duration tags  \\\n",
       "0  #kdrama#koreandrama#kcdrama#koreanwords#annyeo...      PT29S   []   \n",
       "1  #kdrama#ytvideo#lovealarms1mv#mv#lovealarm#lov...      PT25S   []   \n",
       "2  #kdrama#savagegirlsjkoreandrama#howyoulikethat...    PT1M51S   []   \n",
       "3  #thetaleoftheninetailed#thetaleoftheninetailed...   PT22M20S   []   \n",
       "4  #thetaleoftheninetailed#kdrama#k&cdrama#thetal...  PT1H5M34S   []   \n",
       "\n",
       "                                                text  \n",
       "0  things i learn from k drama kdrama koreandrama...  \n",
       "1  love alarm mv x señorita shawn mendes korean m...  \n",
       "2  k drama savage girls part comment down your fi...  \n",
       "3  the tale of the nine tailed part eng sub theta...  \n",
       "4  the tale of the nine tailed episode thetaleoft...  "
      ]
     },
     "execution_count": 13,
     "metadata": {},
     "output_type": "execute_result"
    }
   ],
   "source": [
    "df.head()"
   ]
  },
  {
   "cell_type": "markdown",
   "metadata": {
    "id": "_KNrCXtaBbey"
   },
   "source": [
    "# Lemmatization and Removal of Stopwords"
   ]
  },
  {
   "cell_type": "code",
   "execution_count": 14,
   "metadata": {
    "colab": {
     "base_uri": "https://localhost:8080/"
    },
    "id": "A94gC0THBbez",
    "outputId": "b421f7f1-089b-448a-f4ab-37e85ab90698"
   },
   "outputs": [
    {
     "name": "stderr",
     "output_type": "stream",
     "text": [
      "[nltk_data] Downloading package punkt to\n",
      "[nltk_data]     /home/shivshaurya/nltk_data...\n",
      "[nltk_data]   Package punkt is already up-to-date!\n",
      "[nltk_data] Downloading package wordnet to\n",
      "[nltk_data]     /home/shivshaurya/nltk_data...\n",
      "[nltk_data]   Package wordnet is already up-to-date!\n",
      "[nltk_data] Downloading package stopwords to\n",
      "[nltk_data]     /home/shivshaurya/nltk_data...\n",
      "[nltk_data]   Package stopwords is already up-to-date!\n"
     ]
    },
    {
     "name": "stdout",
     "output_type": "stream",
     "text": [
      "Total Words after processing:  19198824\n",
      "Max word count of a Document:  1921\n",
      "Mean word count of Documents:  188.7288920345631\n"
     ]
    }
   ],
   "source": [
    "import re\n",
    "import nltk\n",
    "nltk.download('punkt')\n",
    "nltk.download('wordnet')\n",
    "nltk.download('stopwords')\n",
    "import string\n",
    "from nltk.tokenize import word_tokenize\n",
    "from nltk.stem.porter import PorterStemmer\n",
    "from nltk.stem import WordNetLemmatizer\n",
    "from nltk.corpus import stopwords\n",
    "stop_words = set(stopwords.words('english'))\n",
    "processed_all_documents = list()\n",
    "\n",
    "for desc in df['text']:\n",
    "    word_tokens = word_tokenize(desc) \n",
    "    \n",
    "    filtered_sentence = [] \n",
    "\n",
    "    # Removing Stopwords\n",
    "    for w in word_tokens: \n",
    "        if w not in stop_words: \n",
    "            filtered_sentence.append(w) \n",
    "    \n",
    "    # Lemmetization\n",
    "    lemma_word = []\n",
    "    wordnet_lemmatizer = WordNetLemmatizer()\n",
    "    for w in filtered_sentence:\n",
    "        word1 = wordnet_lemmatizer.lemmatize(w, pos = \"n\")\n",
    "        word2 = wordnet_lemmatizer.lemmatize(word1, pos = \"v\")\n",
    "        word3 = wordnet_lemmatizer.lemmatize(word2, pos = (\"a\"))\n",
    "        lemma_word.append(word3)\n",
    "    words = ' '.join(lemma_word)\n",
    "    processed_all_documents.append(words)\n",
    "df['Processed_text'] = processed_all_documents\n",
    "df['Word_Count'] = [len(desc.split(' ')) for desc in df['Processed_text']]\n",
    "\n",
    "wordCount_after = df['Word_Count'].sum()\n",
    "print(\"Total Words after processing: \", wordCount_after)\n",
    "print(\"Max word count of a Document: \", df['Word_Count'].max())\n",
    "print(\"Mean word count of Documents: \", df['Word_Count'].mean())"
   ]
  },
  {
   "cell_type": "code",
   "execution_count": 15,
   "metadata": {
    "colab": {
     "base_uri": "https://localhost:8080/",
     "height": 632
    },
    "id": "PvfgkjBZBbe0",
    "outputId": "263b46be-87d1-449a-b713-28c2db4cc075"
   },
   "outputs": [
    {
     "data": {
      "text/html": [
       "<div>\n",
       "<style scoped>\n",
       "    .dataframe tbody tr th:only-of-type {\n",
       "        vertical-align: middle;\n",
       "    }\n",
       "\n",
       "    .dataframe tbody tr th {\n",
       "        vertical-align: top;\n",
       "    }\n",
       "\n",
       "    .dataframe thead th {\n",
       "        text-align: right;\n",
       "    }\n",
       "</style>\n",
       "<table border=\"1\" class=\"dataframe\">\n",
       "  <thead>\n",
       "    <tr style=\"text-align: right;\">\n",
       "      <th></th>\n",
       "      <th>ContentId</th>\n",
       "      <th>title</th>\n",
       "      <th>viewCount</th>\n",
       "      <th>likeCount</th>\n",
       "      <th>dislikeCount</th>\n",
       "      <th>commentCount</th>\n",
       "      <th>favoriteCount</th>\n",
       "      <th>publishedAt</th>\n",
       "      <th>description</th>\n",
       "      <th>duration</th>\n",
       "      <th>tags</th>\n",
       "      <th>text</th>\n",
       "      <th>Processed_text</th>\n",
       "      <th>Word_Count</th>\n",
       "    </tr>\n",
       "  </thead>\n",
       "  <tbody>\n",
       "    <tr>\n",
       "      <th>0</th>\n",
       "      <td>Q3ZfBWha5sk</td>\n",
       "      <td>Things I learn from k drama</td>\n",
       "      <td>4</td>\n",
       "      <td>2</td>\n",
       "      <td>0</td>\n",
       "      <td>0</td>\n",
       "      <td>0</td>\n",
       "      <td>2021-08-08T14:03:13Z</td>\n",
       "      <td>#kdrama#koreandrama#kcdrama#koreanwords#annyeo...</td>\n",
       "      <td>PT29S</td>\n",
       "      <td>[]</td>\n",
       "      <td>things i learn from k drama kdrama koreandrama...</td>\n",
       "      <td>thing learn k drama kdrama koreandrama kcdrama...</td>\n",
       "      <td>28</td>\n",
       "    </tr>\n",
       "    <tr>\n",
       "      <th>1</th>\n",
       "      <td>HeFfpcQfllk</td>\n",
       "      <td>Love alarm mv x Señorita shawn mendes korean m...</td>\n",
       "      <td>29</td>\n",
       "      <td>4</td>\n",
       "      <td>0</td>\n",
       "      <td>3</td>\n",
       "      <td>0</td>\n",
       "      <td>2021-07-02T22:35:24Z</td>\n",
       "      <td>#kdrama#ytvideo#lovealarms1mv#mv#lovealarm#lov...</td>\n",
       "      <td>PT25S</td>\n",
       "      <td>[]</td>\n",
       "      <td>love alarm mv x señorita shawn mendes korean m...</td>\n",
       "      <td>love alarm mv x señorita shawn mend korean mix...</td>\n",
       "      <td>42</td>\n",
       "    </tr>\n",
       "    <tr>\n",
       "      <th>2</th>\n",
       "      <td>gBcTNgWWCeY</td>\n",
       "      <td>K-drama savage girls part 2 (comment down your...</td>\n",
       "      <td>10</td>\n",
       "      <td>4</td>\n",
       "      <td>0</td>\n",
       "      <td>0</td>\n",
       "      <td>0</td>\n",
       "      <td>2021-06-26T22:49:16Z</td>\n",
       "      <td>#kdrama#savagegirlsjkoreandrama#howyoulikethat...</td>\n",
       "      <td>PT1M51S</td>\n",
       "      <td>[]</td>\n",
       "      <td>k drama savage girls part comment down your fi...</td>\n",
       "      <td>k drama savage girl part comment first k drama...</td>\n",
       "      <td>40</td>\n",
       "    </tr>\n",
       "    <tr>\n",
       "      <th>3</th>\n",
       "      <td>cpwR1pgz2U0</td>\n",
       "      <td>The tale of the nine tailed part 1 eng sub</td>\n",
       "      <td>5</td>\n",
       "      <td>0</td>\n",
       "      <td>0</td>\n",
       "      <td>0</td>\n",
       "      <td>0</td>\n",
       "      <td>2021-06-17T14:36:28Z</td>\n",
       "      <td>#thetaleoftheninetailed#thetaleoftheninetailed...</td>\n",
       "      <td>PT22M20S</td>\n",
       "      <td>[]</td>\n",
       "      <td>the tale of the nine tailed part eng sub theta...</td>\n",
       "      <td>tale nine tail part eng sub thetaleofthenineta...</td>\n",
       "      <td>48</td>\n",
       "    </tr>\n",
       "    <tr>\n",
       "      <th>4</th>\n",
       "      <td>PGKsQxDpf_E</td>\n",
       "      <td>The tale of the nine tailed episode 1</td>\n",
       "      <td>9</td>\n",
       "      <td>2</td>\n",
       "      <td>0</td>\n",
       "      <td>0</td>\n",
       "      <td>0</td>\n",
       "      <td>2021-06-15T12:43:48Z</td>\n",
       "      <td>#thetaleoftheninetailed#kdrama#k&amp;cdrama#thetal...</td>\n",
       "      <td>PT1H5M34S</td>\n",
       "      <td>[]</td>\n",
       "      <td>the tale of the nine tailed episode thetaleoft...</td>\n",
       "      <td>tale nine tail episode thetaleoftheninetailed ...</td>\n",
       "      <td>39</td>\n",
       "    </tr>\n",
       "  </tbody>\n",
       "</table>\n",
       "</div>"
      ],
      "text/plain": [
       "     ContentId                                              title viewCount  \\\n",
       "0  Q3ZfBWha5sk                        Things I learn from k drama         4   \n",
       "1  HeFfpcQfllk  Love alarm mv x Señorita shawn mendes korean m...        29   \n",
       "2  gBcTNgWWCeY  K-drama savage girls part 2 (comment down your...        10   \n",
       "3  cpwR1pgz2U0         The tale of the nine tailed part 1 eng sub         5   \n",
       "4  PGKsQxDpf_E              The tale of the nine tailed episode 1         9   \n",
       "\n",
       "  likeCount dislikeCount commentCount favoriteCount           publishedAt  \\\n",
       "0         2            0            0             0  2021-08-08T14:03:13Z   \n",
       "1         4            0            3             0  2021-07-02T22:35:24Z   \n",
       "2         4            0            0             0  2021-06-26T22:49:16Z   \n",
       "3         0            0            0             0  2021-06-17T14:36:28Z   \n",
       "4         2            0            0             0  2021-06-15T12:43:48Z   \n",
       "\n",
       "                                         description   duration tags  \\\n",
       "0  #kdrama#koreandrama#kcdrama#koreanwords#annyeo...      PT29S   []   \n",
       "1  #kdrama#ytvideo#lovealarms1mv#mv#lovealarm#lov...      PT25S   []   \n",
       "2  #kdrama#savagegirlsjkoreandrama#howyoulikethat...    PT1M51S   []   \n",
       "3  #thetaleoftheninetailed#thetaleoftheninetailed...   PT22M20S   []   \n",
       "4  #thetaleoftheninetailed#kdrama#k&cdrama#thetal...  PT1H5M34S   []   \n",
       "\n",
       "                                                text  \\\n",
       "0  things i learn from k drama kdrama koreandrama...   \n",
       "1  love alarm mv x señorita shawn mendes korean m...   \n",
       "2  k drama savage girls part comment down your fi...   \n",
       "3  the tale of the nine tailed part eng sub theta...   \n",
       "4  the tale of the nine tailed episode thetaleoft...   \n",
       "\n",
       "                                      Processed_text  Word_Count  \n",
       "0  thing learn k drama kdrama koreandrama kcdrama...          28  \n",
       "1  love alarm mv x señorita shawn mend korean mix...          42  \n",
       "2  k drama savage girl part comment first k drama...          40  \n",
       "3  tale nine tail part eng sub thetaleofthenineta...          48  \n",
       "4  tale nine tail episode thetaleoftheninetailed ...          39  "
      ]
     },
     "execution_count": 15,
     "metadata": {},
     "output_type": "execute_result"
    }
   ],
   "source": [
    "df.head()"
   ]
  },
  {
   "cell_type": "markdown",
   "metadata": {
    "id": "ah80a1ogBbe0"
   },
   "source": [
    "# Create a vocabulary of words, \n",
    "Ignore words that appear in 85% of documents, \n",
    "Eliminate stop words"
   ]
  },
  {
   "cell_type": "code",
   "execution_count": 16,
   "metadata": {
    "colab": {
     "base_uri": "https://localhost:8080/"
    },
    "id": "DT8UD0XJBbe0",
    "outputId": "b186ab42-3d58-4584-ddd0-87d5be410827"
   },
   "outputs": [
    {
     "name": "stderr",
     "output_type": "stream",
     "text": [
      "/home/shivshaurya/anaconda3/lib/python3.8/site-packages/sklearn/feature_extraction/text.py:382: UserWarning: Your stop_words may be inconsistent with your preprocessing. Tokenizing the stop words generated tokens ['come', 'vis', 'viser', 'visest'] not in stop_words.\n",
      "  warnings.warn('Your stop_words may be inconsistent with '\n"
     ]
    }
   ],
   "source": [
    "from sklearn.feature_extraction.text import CountVectorizer\n",
    "import re\n",
    "\n",
    "def get_stop_words(stop_file_path):\n",
    "    \"\"\"load stop words \"\"\"\n",
    "    \n",
    "    with open(stop_file_path, 'r', encoding=\"utf-8\") as f:\n",
    "        stopwords = f.readlines()\n",
    "        stop_set = set(m.strip() for m in stopwords)\n",
    "        return frozenset(stop_set)\n",
    "\n",
    "#load a set of stop words\n",
    "stopwords=get_stop_words(\"resources/stopwords.txt\")\n",
    "\n",
    "#get the text column \n",
    "docs=df['Processed_text'].tolist()\n",
    "\n",
    "#create a vocabulary of words, \n",
    "#ignore words that appear in 85% of documents, \n",
    "#eliminate stop words\n",
    "cv=CountVectorizer(max_df=0.85,stop_words=stopwords)\n",
    "word_count_vector=cv.fit_transform(docs)"
   ]
  },
  {
   "cell_type": "code",
   "execution_count": 17,
   "metadata": {
    "colab": {
     "base_uri": "https://localhost:8080/"
    },
    "id": "uMBp9zqZBbe1",
    "outputId": "59e45f06-0954-48b1-d7b2-b2c12600b365"
   },
   "outputs": [
    {
     "data": {
      "text/plain": [
       "(101727, 206077)"
      ]
     },
     "execution_count": 17,
     "metadata": {},
     "output_type": "execute_result"
    }
   ],
   "source": [
    "word_count_vector.shape"
   ]
  },
  {
   "cell_type": "code",
   "execution_count": 18,
   "metadata": {
    "colab": {
     "base_uri": "https://localhost:8080/"
    },
    "id": "k9pzeA2iBbe1",
    "outputId": "ec48fb55-e615-4144-dcbf-215e772dbede"
   },
   "outputs": [
    {
     "data": {
      "text/plain": [
       "['learn',\n",
       " 'drama',\n",
       " 'kdrama',\n",
       " 'koreandrama',\n",
       " 'kcdrama',\n",
       " 'koreanwords',\n",
       " 'annyeong',\n",
       " 'kdramagirls',\n",
       " 'hello',\n",
       " 'lover']"
      ]
     },
     "execution_count": 18,
     "metadata": {},
     "output_type": "execute_result"
    }
   ],
   "source": [
    "list(cv.vocabulary_.keys())[:10]"
   ]
  },
  {
   "cell_type": "code",
   "execution_count": 19,
   "metadata": {
    "colab": {
     "base_uri": "https://localhost:8080/"
    },
    "id": "YCV8aSOlBbe1",
    "outputId": "a2c40d41-4c34-4b11-a325-37f06ac5fe11"
   },
   "outputs": [
    {
     "data": {
      "text/plain": [
       "TfidfTransformer(norm='l2', smooth_idf=True, sublinear_tf=False, use_idf=True)"
      ]
     },
     "execution_count": 19,
     "metadata": {},
     "output_type": "execute_result"
    }
   ],
   "source": [
    "from sklearn.feature_extraction.text import TfidfTransformer\n",
    "\n",
    "tfidf_transformer=TfidfTransformer(smooth_idf=True,use_idf=True)\n",
    "tfidf_transformer.fit(word_count_vector)"
   ]
  },
  {
   "cell_type": "code",
   "execution_count": 20,
   "metadata": {
    "id": "ejHDQvh6Bbe1"
   },
   "outputs": [],
   "source": [
    "# you only needs to do this once, this is a mapping of index to \n",
    "feature_names=cv.get_feature_names()"
   ]
  },
  {
   "cell_type": "code",
   "execution_count": 21,
   "metadata": {
    "colab": {
     "base_uri": "https://localhost:8080/"
    },
    "id": "kSVXZk2NBbe1",
    "outputId": "30b53b37-f058-43a3-d951-096f78466feb"
   },
   "outputs": [
    {
     "data": {
      "text/plain": [
       "['__',\n",
       " '___',\n",
       " '____',\n",
       " '_____',\n",
       " '______',\n",
       " '_______',\n",
       " '________',\n",
       " '_________',\n",
       " '__________',\n",
       " '___________',\n",
       " '____________',\n",
       " '_____________',\n",
       " '______________',\n",
       " '_______________',\n",
       " '________________',\n",
       " '_________________',\n",
       " '__________________',\n",
       " '___________________',\n",
       " '____________________',\n",
       " '_____________________',\n",
       " '______________________',\n",
       " '_______________________',\n",
       " '________________________',\n",
       " '_________________________',\n",
       " '__________________________',\n",
       " '___________________________',\n",
       " '____________________________',\n",
       " '_____________________________',\n",
       " '______________________________',\n",
       " '_______________________________',\n",
       " '________________________________',\n",
       " '_________________________________',\n",
       " '__________________________________',\n",
       " '___________________________________',\n",
       " '____________________________________',\n",
       " '_____________________________________',\n",
       " '______________________________________',\n",
       " '_______________________________________',\n",
       " '________________________________________',\n",
       " '_________________________________________',\n",
       " '__________________________________________',\n",
       " '___________________________________________',\n",
       " '____________________________________________',\n",
       " '_____________________________________________',\n",
       " '______________________________________________',\n",
       " '_______________________________________________',\n",
       " '________________________________________________',\n",
       " '_________________________________________________',\n",
       " '__________________________________________________',\n",
       " '___________________________________________________',\n",
       " '____________________________________________________',\n",
       " '_____________________________________________________',\n",
       " '______________________________________________________',\n",
       " '_______________________________________________________',\n",
       " '________________________________________________________',\n",
       " '_________________________________________________________',\n",
       " '__________________________________________________________',\n",
       " '___________________________________________________________',\n",
       " '____________________________________________________________',\n",
       " '_____________________________________________________________',\n",
       " '______________________________________________________________',\n",
       " '________________________________________________________________',\n",
       " '_________________________________________________________________',\n",
       " '__________________________________________________________________',\n",
       " '___________________________________________________________________',\n",
       " '____________________________________________________________________',\n",
       " '_____________________________________________________________________',\n",
       " '______________________________________________________________________',\n",
       " '________________________________________________________________________',\n",
       " '_____________________________________________________________________________',\n",
       " '______________________________________________________________________________',\n",
       " '____________________________________________________________________________________',\n",
       " '_____________________________________________________________________________________',\n",
       " '_______________________________________________________________________________________',\n",
       " '________________________________________________________________________________________',\n",
       " '_________________________________________________________________________________________',\n",
       " '_____________________________________________________________________________________________',\n",
       " '______________________________________________________________________________________________',\n",
       " '_______________________________________________________________________________________________',\n",
       " '________________________________________________________________________________________________',\n",
       " '________________________________________________________________________________________________________',\n",
       " '___________________________________________________________________________________________________________________________________________',\n",
       " '_____________________________________________________________________________________________________________________________________________________',\n",
       " '_________________________________________________________________________________________________________________________________________________________________________________________________',\n",
       " '_____________________________________________________________________________________________________________________________________________________________________________________________________________________________________________________________________________________________________',\n",
       " '_________________________________________________________________________________________________________________________________________________________________________________________________________________________________________________________________________________________________________________________________________________________________________________________________________________________________________________________________________________________________________________________________________________',\n",
       " '________________________________________________________________________________________________________________________________________________________________________________________________________________________________________________________________________________________________________________________________________________________________________________________________________________________________________________________________________________________________________________________________________________________________________________________________________________________________________________________________________________________________________________________________________________________________________________________________________________________________________________________________________________________________________________________________________________________________________________________________________________________________________________________________________________________________________________________________________________________________________________________________________________________________________________________________________________________________________________________________________________________________________________________________________________________________________________________________________________________________________________________________________________________________________________________________________________________________________________________________________________________________________________________________________________________________________________________________',\n",
       " '_________________________________________________disclaimer_______________',\n",
       " '________________________________________________original',\n",
       " '____________________________________________ᴅɪꜱᴄʟᴀɪᴍᴇʀ',\n",
       " '______________________keep',\n",
       " '______________________surendra____nagvanshi',\n",
       " '_____________________keep',\n",
       " '____________keep_____supporting__',\n",
       " '__________like',\n",
       " '__________tdmqueen',\n",
       " '__________thanks',\n",
       " '_________thanks',\n",
       " '________thanks',\n",
       " '_______thank__you__so___much_',\n",
       " '______all',\n",
       " '______by',\n",
       " '______share',\n",
       " '______subscribe',\n",
       " '_____aam',\n",
       " '_____comment',\n",
       " '_____pubg_with_aditi______',\n",
       " '_____share',\n",
       " '_____stutas',\n",
       " '_____tag____',\n",
       " '____djvicky_belgaum_video',\n",
       " '____full',\n",
       " '____plz',\n",
       " '____thanx',\n",
       " '___chatting',\n",
       " '___https',\n",
       " '___keep',\n",
       " '___kg_productions___',\n",
       " '___new_love_romantic_song_whatsapp_status_',\n",
       " '___official',\n",
       " '___parimalak',\n",
       " '___vfx',\n",
       " '__arabic',\n",
       " '__b',\n",
       " '__blob',\n",
       " '__dhaval',\n",
       " '__extract_me___',\n",
       " '__how_to_use_green_screen_editing_tik_tok_video_ma_editing_kara',\n",
       " '__https',\n",
       " '__i',\n",
       " '__manish',\n",
       " '__mitchikichi',\n",
       " '__mujtaba',\n",
       " '__new_haryanvi_l_song',\n",
       " '__official',\n",
       " '__oo',\n",
       " '__oxvm',\n",
       " '__priyanka',\n",
       " '__remix',\n",
       " '__s__w__a__t__i__k__a',\n",
       " '__stunts',\n",
       " '__supporting',\n",
       " '__supporting___',\n",
       " '__whatsapp',\n",
       " '__ya',\n",
       " '__ye_ham_hamare_car_hai_ringtone',\n",
       " '_a',\n",
       " '_aagman_sohala_',\n",
       " '_aashikabhatia_',\n",
       " '_aberration',\n",
       " '_above_us_',\n",
       " '_ace',\n",
       " '_adarsh_bengali',\n",
       " '_adyogi_brand',\n",
       " '_adysq_eq',\n",
       " '_aesthetic_video_',\n",
       " '_after_we_collided_romantic_status',\n",
       " '_aixq',\n",
       " '_akhilesh_unni',\n",
       " '_alaya_',\n",
       " '_alaya_f',\n",
       " '_album_',\n",
       " '_aledwq',\n",
       " '_alesia',\n",
       " '_alight_motion',\n",
       " '_all',\n",
       " '_all_gоals_',\n",
       " '_all_दब',\n",
       " '_alone',\n",
       " '_aman_jaji',\n",
       " '_aman_jaji_',\n",
       " '_amar_sob_kichu_shes_',\n",
       " '_android_phone_setting_battery_alive_',\n",
       " '_ani',\n",
       " '_ankmde',\n",
       " '_apna',\n",
       " '_apna_time_aayega_',\n",
       " '_apr',\n",
       " '_april',\n",
       " '_apurba',\n",
       " '_aqj',\n",
       " '_ards_gaming',\n",
       " '_arishfakhan_',\n",
       " '_article',\n",
       " '_aspire',\n",
       " '_audio',\n",
       " '_august',\n",
       " '_august_full_screen_status',\n",
       " '_august_independence_status',\n",
       " '_august_raksha_bandhan',\n",
       " '_august_remix_song',\n",
       " '_august_status',\n",
       " '_august_status_song',\n",
       " '_august_status_video',\n",
       " '_august_whatsapp_status',\n",
       " '_augustindependence',\n",
       " '_augustvideo',\n",
       " '_auto_mall',\n",
       " '_av_',\n",
       " '_awnbr',\n",
       " '_b',\n",
       " '_bachpan_ka_pyar_mera_bhul_nahi_jaane_meri_janeman_badshah_ft',\n",
       " '_back_to_the_grind',\n",
       " '_baja_re_baja_tamoko_baja',\n",
       " '_ban_apps_list',\n",
       " '_bangla_natok_',\n",
       " '_bannah',\n",
       " '_barati',\n",
       " '_bass_boosted_i_dj_parasar_netam',\n",
       " '_battery',\n",
       " '_battery_price',\n",
       " '_battery_repair_क',\n",
       " '_battery_क',\n",
       " '_bbb',\n",
       " '_beautiful_girl_dance_green_screen_effects_vfx_effects_green_background_danc',\n",
       " '_beauty',\n",
       " '_before',\n",
       " '_bengali_version_',\n",
       " '_beta_v',\n",
       " '_bhavin',\n",
       " '_bird_machine_',\n",
       " '_black_screen_',\n",
       " '_black_screen_status',\n",
       " '_boney',\n",
       " '_bra',\n",
       " '_bright_light_torch_switch_repair',\n",
       " '_brycqjtifw',\n",
       " '_build',\n",
       " '_bus_mod_',\n",
       " '_button_probelm',\n",
       " '_bwbuky',\n",
       " '_by',\n",
       " '_bycado',\n",
       " '_c',\n",
       " '_carol',\n",
       " '_cbsepreboards',\n",
       " '_cegac_',\n",
       " '_cene',\n",
       " '_cf',\n",
       " '_cg',\n",
       " '_cg_bhakti_mix_',\n",
       " '_cg_dance_mix_',\n",
       " '_cg_dance_remix_',\n",
       " '_cg_style_remix_',\n",
       " '_cg_tapori_mix_',\n",
       " '_channel_',\n",
       " '_chidiya',\n",
       " '_chroma_key',\n",
       " '_ckz',\n",
       " '_cmte',\n",
       " '_coca',\n",
       " '_colourful_lights',\n",
       " '_coming',\n",
       " '_coming_soon',\n",
       " '_coolpro',\n",
       " '_couple',\n",
       " '_cover_',\n",
       " '_cphiwpqbqo',\n",
       " '_creation',\n",
       " '_creen',\n",
       " '_crunch',\n",
       " '_cut_off_',\n",
       " '_cxi',\n",
       " '_cxosygfnog',\n",
       " '_d',\n",
       " '_da',\n",
       " '_danza',\n",
       " '_darpan_shah',\n",
       " '_decoration_light',\n",
       " '_developer',\n",
       " '_dexkplqaowlaohnrryv',\n",
       " '_di',\n",
       " '_dj',\n",
       " '_dj_gulshan_in_the_mix__marathi_dance_mix__',\n",
       " '_dj_mahesh_and_shaile',\n",
       " '_dj_nesh',\n",
       " '_dj_parasar_netam',\n",
       " '_dj_remix',\n",
       " '_dj_samarth',\n",
       " '_dj_sandesh_',\n",
       " '_djad',\n",
       " '_djobcnpdx',\n",
       " '_dl',\n",
       " '_documentary',\n",
       " '_dog',\n",
       " '_dogs_farm_rescue',\n",
       " '_drive_status',\n",
       " '_dsp',\n",
       " '_dtnxsf',\n",
       " '_e',\n",
       " '_e_g',\n",
       " '_edm_version_',\n",
       " '_ef',\n",
       " '_emote',\n",
       " '_encoding',\n",
       " '_eso',\n",
       " '_euro',\n",
       " '_evsuxggg',\n",
       " '_exam_meme',\n",
       " '_extеndеd_hіghlіghts_',\n",
       " '_f',\n",
       " '_failue_whatsapp_status_tamil',\n",
       " '_fake_vs_real',\n",
       " '_fat_loss_workouts',\n",
       " '_fe',\n",
       " '_feather',\n",
       " '_feb_',\n",
       " '_fhk',\n",
       " '_filhaal',\n",
       " '_first',\n",
       " '_fish_hunter',\n",
       " '_fix',\n",
       " '_fmwebp_ql',\n",
       " '_follow',\n",
       " '_football_team',\n",
       " '_free_like_on_tiktok',\n",
       " '_free_stock_footage_',\n",
       " '_ftej',\n",
       " '_full_hd_',\n",
       " '_full_screen_whatsapp_status',\n",
       " '_full_screen_whatsapp_status_',\n",
       " '_fullepisode_',\n",
       " '_funky',\n",
       " '_funny_photo',\n",
       " '_funny_speeches_of_rahul_gandhi',\n",
       " '_funny_video',\n",
       " '_g',\n",
       " '_gaj',\n",
       " '_gaming',\n",
       " '_gbsnfcttvg',\n",
       " '_gcvwlf',\n",
       " '_gdh',\n",
       " '_gh',\n",
       " '_girl_green_screen_vfx_video',\n",
       " '_girl_vlogs',\n",
       " '_git',\n",
       " '_go_down_after_spirited_display_against_uruguay_under_',\n",
       " '_godfather_',\n",
       " '_good_newwz_',\n",
       " '_gpua',\n",
       " '_green',\n",
       " '_green_screen_',\n",
       " '_green_screen_imovie_green_screen_',\n",
       " '_green_screen_status_',\n",
       " '_guru_randhawa_',\n",
       " '_guru_randhawa_f_jay_sean__larissa_bonesi',\n",
       " '_h',\n",
       " '_hacker_playz',\n",
       " '_hand_pump',\n",
       " '_haramkhori',\n",
       " '_haryanvi_apna_system',\n",
       " '_hase_status',\n",
       " '_hbkecg',\n",
       " '_hd',\n",
       " '_hd_',\n",
       " '_headlight_modication',\n",
       " '_headlights',\n",
       " '_headshot',\n",
       " '_headshot_tips_and_tricks_for_headshot',\n",
       " '_heartbreaker',\n",
       " '_hef',\n",
       " '_hell',\n",
       " '_hello_koun_',\n",
       " '_help_म',\n",
       " '_here',\n",
       " '_hevg',\n",
       " '_himesh_reshamya',\n",
       " '_hindi',\n",
       " '_hindi_ringtone',\n",
       " '_homerevise_',\n",
       " '_horror_movie_soundtrack',\n",
       " '_horror_song_status',\n",
       " '_horses',\n",
       " '_hot',\n",
       " '_hot_bangladesh_girls_tik_tok_video',\n",
       " '_how_to_watch_free',\n",
       " '_hr',\n",
       " '_https',\n",
       " '_hv',\n",
       " '_i',\n",
       " '_iadllwjmic',\n",
       " '_ibci',\n",
       " '_idea',\n",
       " '_idv',\n",
       " '_iekacyro',\n",
       " '_iggz',\n",
       " '_ih',\n",
       " '_ij',\n",
       " '_ildhtqgxxg',\n",
       " '_imun',\n",
       " '_in',\n",
       " '_inches_ring_light_unboxing',\n",
       " '_indian_idol_kolkata_audition',\n",
       " '_inkprint_solutions',\n",
       " '_inkprint_solutions_',\n",
       " '_instrumental_ringtone',\n",
       " '_int',\n",
       " '_investigations',\n",
       " '_iptv',\n",
       " '_iqjee',\n",
       " '_iron',\n",
       " '_ix',\n",
       " '_ixbzy',\n",
       " '_ja',\n",
       " '_jac',\n",
       " '_janapada_dj_song_dj_samarth',\n",
       " '_janmashtami',\n",
       " '_january_indian_army_day_status',\n",
       " '_jawaani_jaaneman_',\n",
       " '_jbl',\n",
       " '_jcb_ashoka_leyland_आयशर',\n",
       " '_jingle',\n",
       " '_john',\n",
       " '_john_official',\n",
       " '_jrdw',\n",
       " '_jrs',\n",
       " '_jul',\n",
       " '_june_',\n",
       " '_jvblr',\n",
       " '_jy',\n",
       " '_jyotica',\n",
       " '_k',\n",
       " '_k_p_t_song_tv_app',\n",
       " '_kala_dulha_ban_gya_',\n",
       " '_kamini',\n",
       " '_kanya',\n",
       " '_kanyakumari',\n",
       " '_kareena_k',\n",
       " '_keep',\n",
       " '_khqt',\n",
       " '_kills',\n",
       " '_kinemaster_color_background_video_',\n",
       " '_kishore',\n",
       " '_kiss',\n",
       " '_kit',\n",
       " '_kitten',\n",
       " '_ko_karaar_aaya_status_full_screen',\n",
       " '_kop',\n",
       " '_kr',\n",
       " '_kre',\n",
       " '_krishna_janmastami_special',\n",
       " '_krqmzc',\n",
       " '_kumaar',\n",
       " '_kumaarrula_ke_gaya_ishq_',\n",
       " '_l',\n",
       " '_ladha_swadhyay',\n",
       " '_latest_today_news',\n",
       " '_ldnti',\n",
       " '_led_bulb_क',\n",
       " '_led_bulb_म',\n",
       " '_led_प',\n",
       " '_led_बल',\n",
       " '_li',\n",
       " '_life_status',\n",
       " '_lighsun',\n",
       " '_light',\n",
       " '_like',\n",
       " '_lithium_battery_charger',\n",
       " '_lithum_ion_battery',\n",
       " '_lkfyfcrvku',\n",
       " '_lockdown',\n",
       " '_longest_river_in_the_world',\n",
       " '_love',\n",
       " '_love_',\n",
       " '_love_status',\n",
       " '_lovely',\n",
       " '_lovely_lyrics',\n",
       " '_lrkd',\n",
       " '_lsrxnrps',\n",
       " '_lt_tripod',\n",
       " '_lucknow',\n",
       " '_luxury_premium_car_holi_offer',\n",
       " '_lxfbpqkb',\n",
       " '_ly',\n",
       " '_lycmnh',\n",
       " '_lymvyduh',\n",
       " '_lyrical',\n",
       " '_lyyhttps',\n",
       " '_m',\n",
       " '_manike_mage_hithe_ම',\n",
       " '_manish',\n",
       " '_manj_m',\n",
       " '_masti',\n",
       " '_max_yt',\n",
       " '_max_yt_',\n",
       " '_may_se_milega_ration_free',\n",
       " '_mb_high',\n",
       " '_mc_stan',\n",
       " '_md_group_magarkund',\n",
       " '_md_gruop_magarkund',\n",
       " '_md_grup',\n",
       " '_mdsl',\n",
       " '_me',\n",
       " '_mehazabien',\n",
       " '_mgg',\n",
       " '_minute_crafts',\n",
       " '_mkglirvae',\n",
       " '_mkglirvberp',\n",
       " '_mkglirvbhiceljcicjqvjqpmiefly',\n",
       " '_mkglirvza',\n",
       " '_mkglirvzsuey',\n",
       " '_mkglirvzxkbnfeul',\n",
       " '_mod',\n",
       " '_modification',\n",
       " '_months_old',\n",
       " '_monudhanushshruthilovebgmringtone',\n",
       " '_mr_',\n",
       " '_mr__micky',\n",
       " '_mt',\n",
       " '_mukesh_jaji_',\n",
       " '_mulbhut_kartavya_swadhyay',\n",
       " '_mumzy',\n",
       " '_munish',\n",
       " '_music_player',\n",
       " '_music_wide',\n",
       " '_must',\n",
       " '_n',\n",
       " '_naach_with_rach',\n",
       " '_naach_with_rach_',\n",
       " '_nafrox_',\n",
       " '_nagada_mix_',\n",
       " '_neha_k',\n",
       " '_new',\n",
       " '_new_',\n",
       " '_new_bhojpuri_song_',\n",
       " '_new_breakup_whatsapp_status_video_',\n",
       " '_new_haryanvi_song_',\n",
       " '_new_notification_ringtonetones',\n",
       " '_new_trending_lyrical_status',\n",
       " '_new_year_status',\n",
       " '_nhkumwoy',\n",
       " '_night___',\n",
       " '_ninja',\n",
       " '_njgwqlggataaw',\n",
       " '_no',\n",
       " '_nonstop',\n",
       " '_not_working_problem',\n",
       " '_nurm',\n",
       " '_nvt',\n",
       " '_nxnptxk',\n",
       " '_o',\n",
       " '_o_xzig',\n",
       " '_oamnjg',\n",
       " '_off_whatsapp_status',\n",
       " '_off_बटन_क',\n",
       " '_official',\n",
       " '_ohayo',\n",
       " '_on',\n",
       " '_on_off_बटन_और_सर',\n",
       " '_on_tranding',\n",
       " '_on_trend',\n",
       " '_on_trending',\n",
       " '_on_trending_for_status',\n",
       " '_oq',\n",
       " '_oqueewu',\n",
       " '_original',\n",
       " '_ouhkstqfre',\n",
       " '_ouyjsnmoc',\n",
       " '_overthinking',\n",
       " '_oyvzdowodci',\n",
       " '_p',\n",
       " '_pade_hathiyaro_ki',\n",
       " '_page_',\n",
       " '_parv_mishramanika',\n",
       " '_pe',\n",
       " '_peaker_repair',\n",
       " '_peelwedcem',\n",
       " '_peg',\n",
       " '_pendi_ki_heli',\n",
       " '_pgmb',\n",
       " '_picturebook',\n",
       " '_pin_push_button_switch',\n",
       " '_pin_switch',\n",
       " '_ping_pong_mix_',\n",
       " '_pitched_down_cover_',\n",
       " '_pkpc',\n",
       " '_player',\n",
       " '_poetry',\n",
       " '_pogp',\n",
       " '_pradeep',\n",
       " '_pranjal_dahiya_',\n",
       " '_prem',\n",
       " '_pro',\n",
       " '_pro_camera_photography',\n",
       " '_pro_max',\n",
       " '_pro_pubg',\n",
       " '_pro_upcoming_smartphones_in_tamil',\n",
       " '_pro_vs_iphone_',\n",
       " '_programs_mini_controller_led',\n",
       " '_programs_mini_controller_repair',\n",
       " '_promo',\n",
       " '_pubg',\n",
       " '_pubgml',\n",
       " '_pvfcg',\n",
       " '_q',\n",
       " '_qi',\n",
       " '_ql',\n",
       " '_qq',\n",
       " '_qqmrmii',\n",
       " '_qwjgewzc',\n",
       " '_rab_hasta_hua_rakhe_tumko_',\n",
       " '_race_full',\n",
       " '_rahul',\n",
       " '_rajat_somkuwar',\n",
       " '_ranu',\n",
       " '_rare_groove',\n",
       " '_ratanpur_',\n",
       " '_ravi',\n",
       " '_rcittiulq',\n",
       " '_rdr',\n",
       " '_realme',\n",
       " '_rektron_',\n",
       " '_remix_',\n",
       " '_ringtone',\n",
       " '_ringtone_',\n",
       " '_ritesh',\n",
       " '_rm',\n",
       " '_rme',\n",
       " '_rnksz',\n",
       " '_roda_sher_re',\n",
       " '_roda_श',\n",
       " '_rollercoaster',\n",
       " '_royalcustoms_',\n",
       " '_rpi',\n",
       " '_rqmxxrezq',\n",
       " '_ruchika_jangid_',\n",
       " '_running',\n",
       " '_rupye',\n",
       " '_rupye_aaye',\n",
       " '_ryf',\n",
       " '_rznnyjheye',\n",
       " '_s_h_o_a_i_b__k_h_a_n_',\n",
       " '_sad_lyrics',\n",
       " '_sad_ringtone',\n",
       " '_sad_shayari_mood_off_status',\n",
       " '_sad_song_hindi_',\n",
       " '_sae',\n",
       " '_saidpur',\n",
       " '_saif_ali_khan',\n",
       " '_sameeksha',\n",
       " '_sars_control_and_psychological_effects_of_quarantine_toronto_canada',\n",
       " '_satisfy',\n",
       " '_satisfya',\n",
       " '_savage',\n",
       " '_sb_tech_',\n",
       " '_school',\n",
       " '_secend_whatsapp_status',\n",
       " '_second_whatsapp_status',\n",
       " '_second_whatsappstatus',\n",
       " '_secondwhatsappstatus',\n",
       " '_sep_',\n",
       " '_sep_status',\n",
       " '_series',\n",
       " '_setting_kabhi_storage_full_nahi_hoga',\n",
       " '_shaadi_special_',\n",
       " '_shadev_',\n",
       " '_shadevbadshah_',\n",
       " '_shailesh',\n",
       " '_shivam_grover_ft',\n",
       " '_shorts',\n",
       " '_sittin',\n",
       " '_six',\n",
       " '_sj',\n",
       " '_smiling_cars',\n",
       " '_smoke_atmosphere_hd_',\n",
       " '_something',\n",
       " '_song',\n",
       " '_song_par_photo_lagaye',\n",
       " '_song_r_rajkumar___hindi_film_full_hd_',\n",
       " '_song_status',\n",
       " '_song_status_for_whatsapp',\n",
       " '_song_status_full_screen',\n",
       " '_song_status_sad',\n",
       " '_sonia',\n",
       " '_sonu_sharma_motivation',\n",
       " '_sound_fix',\n",
       " '_sound_horn_fix',\n",
       " '_special_whatsapp_status',\n",
       " '_status',\n",
       " '_stebin_ben__',\n",
       " '_stebin_ben_new_song',\n",
       " '_stutas',\n",
       " '_subscribe_कर_द',\n",
       " '_sunny_inder',\n",
       " '_supporting',\n",
       " '_surendra_nagvanshi_editing_ki_dukanhello',\n",
       " '_suyyash_rai',\n",
       " '_svg_',\n",
       " '_swadhyay',\n",
       " '_swag_gameplay',\n",
       " '_swagger_',\n",
       " '_sy',\n",
       " '_t',\n",
       " '_t__h__a__n__k__s__f__o__r__w__a__t__c__h__i__n__g_',\n",
       " '_tabu',\n",
       " '_tae',\n",
       " '_take_respect_whatsapp_status_tamil',\n",
       " '_tamil',\n",
       " '_tamil_mass_bgm_ringtone',\n",
       " '_tamilnadu',\n",
       " '_tatve',\n",
       " '_tbs',\n",
       " '_team',\n",
       " '_team_profile_atletico_de_kolkata',\n",
       " '_team_profile_chennaiyin_fc',\n",
       " '_team_profile_delhi_dynamos_fc',\n",
       " '_team_profile_fc_goa',\n",
       " '_team_profile_fc_pune_city',\n",
       " '_team_profile_kerala_blasters',\n",
       " '_team_profile_mumbai_city_fc',\n",
       " '_telugu',\n",
       " '_teri_nazar_ne_ye_kya_kar_kiya',\n",
       " '_tfgb',\n",
       " '_tfgbwydrcc',\n",
       " '_th_august_',\n",
       " '_the',\n",
       " '_the_fading',\n",
       " '_the_nightingale_and_the_nobleman_pointers',\n",
       " '_the_rahul_singh',\n",
       " '_there',\n",
       " '_throughout_the_city_',\n",
       " '_thug',\n",
       " '_thw',\n",
       " '_tik_tok_ringtone',\n",
       " '_tik_tok_ringtonenew_ringtone',\n",
       " '_tin',\n",
       " '_title_song_',\n",
       " '_tk',\n",
       " '_to_',\n",
       " '_to_crown_historic_night_in_mumbai',\n",
       " '_tomafo',\n",
       " '_top',\n",
       " '_torch',\n",
       " '_torch_battery',\n",
       " '_torch_repair',\n",
       " '_toxic_op_yt',\n",
       " '_toxic_yt',\n",
       " '_tpfzas',\n",
       " '_trading',\n",
       " '_trailer',\n",
       " '_trending',\n",
       " '_trending_status',\n",
       " '_try',\n",
       " '_twpx',\n",
       " '_tws',\n",
       " '_tws_airpods',\n",
       " '_tws_charging_instructions',\n",
       " '_tws_vs_airpods',\n",
       " '_ucfnm',\n",
       " '_ueygwfw',\n",
       " '_uhdz',\n",
       " '_uhwpfxoymk',\n",
       " '_ujrd',\n",
       " '_urfrnog',\n",
       " '_uudjalmaf',\n",
       " '_uvr',\n",
       " '_uxjbhsc',\n",
       " '_uxyua',\n",
       " '_vassundhara_pandita',\n",
       " '_vd',\n",
       " '_vdu',\n",
       " '_vee',\n",
       " '_very_sad_whatsapp_status_video_',\n",
       " '_vfx',\n",
       " '_vhwwndv',\n",
       " '_vi',\n",
       " '_vi_annajal_kavita_swadhyay',\n",
       " '_video',\n",
       " '_video_in_josh_app',\n",
       " '_villian_mass_ringtone',\n",
       " '_viral_ringtone',\n",
       " '_vishal_',\n",
       " '_vlogs',\n",
       " '_vlpkuu',\n",
       " '_volt_battery_charger',\n",
       " '_volt_led_lights',\n",
       " '_volt_lights',\n",
       " '_volt_lights_fake_or_original',\n",
       " '_vrz',\n",
       " '_vs_india_u_',\n",
       " '_vs_ktmrc',\n",
       " '_vvn_vvn_',\n",
       " '_vyiorldy',\n",
       " '_vzximskvj',\n",
       " '_w',\n",
       " '_waiting_list_latest_news',\n",
       " '_waterfall_scene_',\n",
       " '_watt_',\n",
       " '_watt_led',\n",
       " '_watt_led_bulb_म',\n",
       " '_watt_क',\n",
       " '_web_series_bgm',\n",
       " '_wegonr',\n",
       " '_whatsapp_status',\n",
       " '_whatsapp_status_',\n",
       " '_whatsapp_status_tamil',\n",
       " '_whatsapp_status_tamil_video',\n",
       " '_whatsapp_status_video',\n",
       " '_when',\n",
       " '_wholesome_',\n",
       " '_wi',\n",
       " '_world_cup',\n",
       " '_wzl',\n",
       " '_x',\n",
       " '_x_',\n",
       " '_xbclsnlrdm',\n",
       " '_xboxlive',\n",
       " '_xnmju',\n",
       " '_xo',\n",
       " '_xop',\n",
       " '_xtaofes',\n",
       " '_xtrnfw',\n",
       " '_xws',\n",
       " '_xz',\n",
       " '_yamraj_',\n",
       " '_ydu',\n",
       " '_years_in_human_years',\n",
       " '_yffuutd',\n",
       " '_ynhsfizq',\n",
       " '_ynxhhmn',\n",
       " '_yohani_',\n",
       " '_yohani_ft',\n",
       " '_yojna_',\n",
       " '_yrone',\n",
       " '_ywb',\n",
       " '_yxenyq',\n",
       " '_z',\n",
       " '_zack',\n",
       " '_zcquqqmkla',\n",
       " '_zee',\n",
       " '_zjrnpo',\n",
       " '_zln',\n",
       " '_zmpumg',\n",
       " '_znoyq',\n",
       " '_zo',\n",
       " '_zunqdm',\n",
       " '_zxegq',\n",
       " '_zzlu',\n",
       " '_àŕìjìt',\n",
       " '_अन',\n",
       " '_अपन',\n",
       " '_अभ',\n",
       " '_अम',\n",
       " '_अवस',\n",
       " '_आ',\n",
       " '_आ_गय',\n",
       " '_आ_रह',\n",
       " '_आईन',\n",
       " '_आगमन',\n",
       " '_आठव',\n",
       " '_आण',\n",
       " '_आप_क',\n",
       " '_आपक',\n",
       " '_आपन',\n",
       " '_आपल',\n",
       " '_आस',\n",
       " '_आह',\n",
       " '_इज',\n",
       " '_इत',\n",
       " '_इतन',\n",
       " '_इन',\n",
       " '_इयत',\n",
       " '_इस_प',\n",
       " '_ईश',\n",
       " '_उद',\n",
       " '_उल',\n",
       " '_उस',\n",
       " '_ऊर',\n",
       " '_ए_स',\n",
       " '_एक',\n",
       " '_एलईड',\n",
       " '_ऐस',\n",
       " '_ऑट',\n",
       " '_ऑनल',\n",
       " '_ओळख_स',\n",
       " '_और_अब_क',\n",
       " '_और_बल',\n",
       " '_और_मछ',\n",
       " '_क',\n",
       " '_कर',\n",
       " '_कर_य',\n",
       " '_करत',\n",
       " '_कल',\n",
       " '_कव',\n",
       " '_कवळ_घ',\n",
       " '_कस',\n",
       " '_कह',\n",
       " '_ख',\n",
       " '_खर',\n",
       " '_ग',\n",
       " '_गई_ह',\n",
       " '_गणपत',\n",
       " '_गप',\n",
       " '_गय',\n",
       " '_गलतफ',\n",
       " '_गवत_फ',\n",
       " '_गवतफ',\n",
       " '_घ',\n",
       " '_घर',\n",
       " '_घर_पर_क',\n",
       " '_घर_पर_बन',\n",
       " '_च',\n",
       " '_चल',\n",
       " '_छ',\n",
       " '_छत',\n",
       " '_ज',\n",
       " '_जग',\n",
       " '_जग_स',\n",
       " '_जम',\n",
       " '_जल_य',\n",
       " '_जलत',\n",
       " '_झ',\n",
       " '_ट',\n",
       " '_टच_र',\n",
       " '_ठ',\n",
       " '_ड',\n",
       " '_डर',\n",
       " '_त',\n",
       " '_तक_ऐस',\n",
       " '_तक_क',\n",
       " '_तर',\n",
       " '_द',\n",
       " '_दल',\n",
       " '_दह',\n",
       " '_ध',\n",
       " '_धड',\n",
       " '_धनत',\n",
       " '_धनब',\n",
       " '_धसत',\n",
       " '_न',\n",
       " '_नद',\n",
       " '_नय',\n",
       " '_नह',\n",
       " '_प',\n",
       " '_पर',\n",
       " '_पर_क',\n",
       " '_पर_न',\n",
       " '_पर_ब',\n",
       " '_फ',\n",
       " '_ब',\n",
       " '_बटन_खर',\n",
       " '_बटव',\n",
       " '_बढ',\n",
       " '_बदल',\n",
       " '_बन',\n",
       " '_बल',\n",
       " '_भ',\n",
       " '_भर',\n",
       " '_म',\n",
       " '_मन_च',\n",
       " '_मर',\n",
       " '_मरम',\n",
       " '_मह',\n",
       " '_य',\n",
       " '_र',\n",
       " '_रचन',\n",
       " '_रह',\n",
       " '_ल',\n",
       " '_लग',\n",
       " '_लड',\n",
       " '_लढ',\n",
       " '_व',\n",
       " '_व_क',\n",
       " '_व_स',\n",
       " '_वर',\n",
       " '_वरद',\n",
       " '_वस',\n",
       " '_श',\n",
       " '_स',\n",
       " '_सफ',\n",
       " '_सफर_म',\n",
       " '_सबस',\n",
       " '_सभ',\n",
       " '_सर',\n",
       " '_सह',\n",
       " '_ह',\n",
       " '_हज',\n",
       " '_हव',\n",
       " '_क़',\n",
       " '_দ',\n",
       " '_ল',\n",
       " '_স',\n",
       " '_হ',\n",
       " '_ම',\n",
       " '_මග',\n",
       " '_හ',\n",
       " 'a_',\n",
       " 'a_beautiful_nature_status',\n",
       " 'a_beginner_mass_gain_routine_from',\n",
       " 'a_epu',\n",
       " 'a_funny',\n",
       " 'a_funny_video_download',\n",
       " 'a_jindegi_lovely_lyrics',\n",
       " 'a_jyqgif',\n",
       " 'a_n_i_k_e_t_g_u_p_t_a_',\n",
       " 'a_poyoxrfw',\n",
       " 'a_s',\n",
       " 'a_va',\n",
       " 'a_ycfa',\n",
       " 'a_zdict',\n",
       " ...]"
      ]
     },
     "execution_count": 21,
     "metadata": {},
     "output_type": "execute_result"
    }
   ],
   "source": [
    "feature_names"
   ]
  },
  {
   "cell_type": "markdown",
   "metadata": {
    "id": "nAqVRlu8Bbe2"
   },
   "source": [
    "# Generate tf-idf for the given document"
   ]
  },
  {
   "cell_type": "code",
   "execution_count": 22,
   "metadata": {
    "colab": {
     "base_uri": "https://localhost:8080/"
    },
    "id": "o-4mba8BBbe2",
    "outputId": "75851f33-4968-4c23-8d99-e5d9cd99c1db"
   },
   "outputs": [
    {
     "name": "stdout",
     "output_type": "stream",
     "text": [
      "Collecting tf-idf 10000\n",
      "Collecting tf-idf 20000\n",
      "Collecting tf-idf 30000\n",
      "Collecting tf-idf 40000\n",
      "Collecting tf-idf 50000\n",
      "Collecting tf-idf 60000\n",
      "Collecting tf-idf 70000\n",
      "Collecting tf-idf 80000\n",
      "Collecting tf-idf 90000\n",
      "Collecting tf-idf 100000\n",
      "101727\n"
     ]
    }
   ],
   "source": [
    "i = 0\n",
    "tex_list = df['Processed_text'].tolist()\n",
    "tf_idf_vector_list = []\n",
    "for i in range(len(tex_list)):\n",
    "    tf_idf_vector=tfidf_transformer.transform(cv.transform([tex_list[i]]))\n",
    "    i = i+1\n",
    "    tf_idf_vector_list.append(tf_idf_vector)\n",
    "    # added to list  \n",
    "    if ((i%10000) == 0):\n",
    "        print ('Collecting tf-idf',i)\n",
    "print(len(tf_idf_vector_list))"
   ]
  },
  {
   "cell_type": "code",
   "execution_count": 23,
   "metadata": {
    "colab": {
     "base_uri": "https://localhost:8080/"
    },
    "id": "NCAiNoRnBbe2",
    "outputId": "39304b6e-1cd7-4de1-f053-65209b06369d"
   },
   "outputs": [
    {
     "data": {
      "text/plain": [
       "matrix([[0., 0., 0., ..., 0., 0., 0.]])"
      ]
     },
     "execution_count": 23,
     "metadata": {},
     "output_type": "execute_result"
    }
   ],
   "source": [
    "tf_idf_vector_list[0].todense()"
   ]
  },
  {
   "cell_type": "markdown",
   "metadata": {
    "id": "om49NtkKBbe2"
   },
   "source": [
    "# Label Generation for Supervised Learning\n",
    "K-Means Clustering is done based on Processed text"
   ]
  },
  {
   "cell_type": "code",
   "execution_count": 24,
   "metadata": {
    "id": "3MB52vaYBbe2"
   },
   "outputs": [],
   "source": [
    "#Clustering\n",
    "from sklearn.feature_extraction.text import TfidfVectorizer\n",
    "from sklearn.cluster import KMeans"
   ]
  },
  {
   "cell_type": "code",
   "execution_count": 25,
   "metadata": {
    "id": "M_O4pwKuBbe2"
   },
   "outputs": [],
   "source": [
    "document = df['Processed_text'].values.astype('U')\n",
    "vectorizer = TfidfVectorizer(stop_words='english')\n",
    "features = vectorizer.fit_transform(document)"
   ]
  },
  {
   "cell_type": "code",
   "execution_count": 26,
   "metadata": {
    "id": "FmijpEOEBbe3"
   },
   "outputs": [],
   "source": [
    "k=20 #Obtained from Silhouette_score\n",
    "model = KMeans(n_clusters=k,init='k-means++',max_iter=100,n_init=1)\n",
    "label = model.fit(features)"
   ]
  },
  {
   "cell_type": "markdown",
   "metadata": {
    "id": "inQT9DMdBbe3"
   },
   "source": [
    "# Calculation of optimal value of K"
   ]
  },
  {
   "cell_type": "code",
   "execution_count": 27,
   "metadata": {
    "id": "ZLmg9E90Bbe3"
   },
   "outputs": [],
   "source": [
    "# from sklearn.metrics import silhouette_score\n",
    "\n",
    "# sil = []\n",
    "# kmax = 20\n",
    "# sil\n",
    "# # dissimilarity would not be defined for a single cluster, thus, minimum number of clusters should be 2\n",
    "# for k in range(2, kmax+1):\n",
    "#     kmeans = KMeans(n_clusters = k).fit(features)\n",
    "#     labels = kmeans.labels_\n",
    "#     sil.append(silhouette_score(features, labels, metric = 'euclidean'))\n",
    "#     print(\"Done for k =\",k)\n"
   ]
  },
  {
   "cell_type": "code",
   "execution_count": 28,
   "metadata": {
    "id": "7YIOPkZABbe3"
   },
   "outputs": [],
   "source": [
    "df['cluster'] = model.labels_"
   ]
  },
  {
   "cell_type": "code",
   "execution_count": 29,
   "metadata": {
    "colab": {
     "base_uri": "https://localhost:8080/"
    },
    "id": "La2z7OuaBbe3",
    "outputId": "dbb0e035-c425-49e7-c8dd-4fa7c57a7d4a"
   },
   "outputs": [
    {
     "name": "stdout",
     "output_type": "stream",
     "text": [
      "[3 3 3 ... 3 3 3]\n"
     ]
    }
   ],
   "source": [
    "print(model.labels_)"
   ]
  },
  {
   "cell_type": "code",
   "execution_count": 30,
   "metadata": {
    "colab": {
     "base_uri": "https://localhost:8080/",
     "height": 632
    },
    "id": "xWkfdx0YBbe4",
    "outputId": "d3639866-3ef9-4b4c-8451-b51a7b5e2fb7"
   },
   "outputs": [
    {
     "data": {
      "text/html": [
       "<div>\n",
       "<style scoped>\n",
       "    .dataframe tbody tr th:only-of-type {\n",
       "        vertical-align: middle;\n",
       "    }\n",
       "\n",
       "    .dataframe tbody tr th {\n",
       "        vertical-align: top;\n",
       "    }\n",
       "\n",
       "    .dataframe thead th {\n",
       "        text-align: right;\n",
       "    }\n",
       "</style>\n",
       "<table border=\"1\" class=\"dataframe\">\n",
       "  <thead>\n",
       "    <tr style=\"text-align: right;\">\n",
       "      <th></th>\n",
       "      <th>ContentId</th>\n",
       "      <th>title</th>\n",
       "      <th>viewCount</th>\n",
       "      <th>likeCount</th>\n",
       "      <th>dislikeCount</th>\n",
       "      <th>commentCount</th>\n",
       "      <th>favoriteCount</th>\n",
       "      <th>publishedAt</th>\n",
       "      <th>description</th>\n",
       "      <th>duration</th>\n",
       "      <th>tags</th>\n",
       "      <th>text</th>\n",
       "      <th>Processed_text</th>\n",
       "      <th>Word_Count</th>\n",
       "      <th>cluster</th>\n",
       "    </tr>\n",
       "  </thead>\n",
       "  <tbody>\n",
       "    <tr>\n",
       "      <th>0</th>\n",
       "      <td>Q3ZfBWha5sk</td>\n",
       "      <td>Things I learn from k drama</td>\n",
       "      <td>4</td>\n",
       "      <td>2</td>\n",
       "      <td>0</td>\n",
       "      <td>0</td>\n",
       "      <td>0</td>\n",
       "      <td>2021-08-08T14:03:13Z</td>\n",
       "      <td>#kdrama#koreandrama#kcdrama#koreanwords#annyeo...</td>\n",
       "      <td>PT29S</td>\n",
       "      <td>[]</td>\n",
       "      <td>things i learn from k drama kdrama koreandrama...</td>\n",
       "      <td>thing learn k drama kdrama koreandrama kcdrama...</td>\n",
       "      <td>28</td>\n",
       "      <td>3</td>\n",
       "    </tr>\n",
       "    <tr>\n",
       "      <th>1</th>\n",
       "      <td>HeFfpcQfllk</td>\n",
       "      <td>Love alarm mv x Señorita shawn mendes korean m...</td>\n",
       "      <td>29</td>\n",
       "      <td>4</td>\n",
       "      <td>0</td>\n",
       "      <td>3</td>\n",
       "      <td>0</td>\n",
       "      <td>2021-07-02T22:35:24Z</td>\n",
       "      <td>#kdrama#ytvideo#lovealarms1mv#mv#lovealarm#lov...</td>\n",
       "      <td>PT25S</td>\n",
       "      <td>[]</td>\n",
       "      <td>love alarm mv x señorita shawn mendes korean m...</td>\n",
       "      <td>love alarm mv x señorita shawn mend korean mix...</td>\n",
       "      <td>42</td>\n",
       "      <td>3</td>\n",
       "    </tr>\n",
       "    <tr>\n",
       "      <th>2</th>\n",
       "      <td>gBcTNgWWCeY</td>\n",
       "      <td>K-drama savage girls part 2 (comment down your...</td>\n",
       "      <td>10</td>\n",
       "      <td>4</td>\n",
       "      <td>0</td>\n",
       "      <td>0</td>\n",
       "      <td>0</td>\n",
       "      <td>2021-06-26T22:49:16Z</td>\n",
       "      <td>#kdrama#savagegirlsjkoreandrama#howyoulikethat...</td>\n",
       "      <td>PT1M51S</td>\n",
       "      <td>[]</td>\n",
       "      <td>k drama savage girls part comment down your fi...</td>\n",
       "      <td>k drama savage girl part comment first k drama...</td>\n",
       "      <td>40</td>\n",
       "      <td>3</td>\n",
       "    </tr>\n",
       "    <tr>\n",
       "      <th>3</th>\n",
       "      <td>cpwR1pgz2U0</td>\n",
       "      <td>The tale of the nine tailed part 1 eng sub</td>\n",
       "      <td>5</td>\n",
       "      <td>0</td>\n",
       "      <td>0</td>\n",
       "      <td>0</td>\n",
       "      <td>0</td>\n",
       "      <td>2021-06-17T14:36:28Z</td>\n",
       "      <td>#thetaleoftheninetailed#thetaleoftheninetailed...</td>\n",
       "      <td>PT22M20S</td>\n",
       "      <td>[]</td>\n",
       "      <td>the tale of the nine tailed part eng sub theta...</td>\n",
       "      <td>tale nine tail part eng sub thetaleofthenineta...</td>\n",
       "      <td>48</td>\n",
       "      <td>3</td>\n",
       "    </tr>\n",
       "    <tr>\n",
       "      <th>4</th>\n",
       "      <td>PGKsQxDpf_E</td>\n",
       "      <td>The tale of the nine tailed episode 1</td>\n",
       "      <td>9</td>\n",
       "      <td>2</td>\n",
       "      <td>0</td>\n",
       "      <td>0</td>\n",
       "      <td>0</td>\n",
       "      <td>2021-06-15T12:43:48Z</td>\n",
       "      <td>#thetaleoftheninetailed#kdrama#k&amp;cdrama#thetal...</td>\n",
       "      <td>PT1H5M34S</td>\n",
       "      <td>[]</td>\n",
       "      <td>the tale of the nine tailed episode thetaleoft...</td>\n",
       "      <td>tale nine tail episode thetaleoftheninetailed ...</td>\n",
       "      <td>39</td>\n",
       "      <td>3</td>\n",
       "    </tr>\n",
       "  </tbody>\n",
       "</table>\n",
       "</div>"
      ],
      "text/plain": [
       "     ContentId                                              title viewCount  \\\n",
       "0  Q3ZfBWha5sk                        Things I learn from k drama         4   \n",
       "1  HeFfpcQfllk  Love alarm mv x Señorita shawn mendes korean m...        29   \n",
       "2  gBcTNgWWCeY  K-drama savage girls part 2 (comment down your...        10   \n",
       "3  cpwR1pgz2U0         The tale of the nine tailed part 1 eng sub         5   \n",
       "4  PGKsQxDpf_E              The tale of the nine tailed episode 1         9   \n",
       "\n",
       "  likeCount dislikeCount commentCount favoriteCount           publishedAt  \\\n",
       "0         2            0            0             0  2021-08-08T14:03:13Z   \n",
       "1         4            0            3             0  2021-07-02T22:35:24Z   \n",
       "2         4            0            0             0  2021-06-26T22:49:16Z   \n",
       "3         0            0            0             0  2021-06-17T14:36:28Z   \n",
       "4         2            0            0             0  2021-06-15T12:43:48Z   \n",
       "\n",
       "                                         description   duration tags  \\\n",
       "0  #kdrama#koreandrama#kcdrama#koreanwords#annyeo...      PT29S   []   \n",
       "1  #kdrama#ytvideo#lovealarms1mv#mv#lovealarm#lov...      PT25S   []   \n",
       "2  #kdrama#savagegirlsjkoreandrama#howyoulikethat...    PT1M51S   []   \n",
       "3  #thetaleoftheninetailed#thetaleoftheninetailed...   PT22M20S   []   \n",
       "4  #thetaleoftheninetailed#kdrama#k&cdrama#thetal...  PT1H5M34S   []   \n",
       "\n",
       "                                                text  \\\n",
       "0  things i learn from k drama kdrama koreandrama...   \n",
       "1  love alarm mv x señorita shawn mendes korean m...   \n",
       "2  k drama savage girls part comment down your fi...   \n",
       "3  the tale of the nine tailed part eng sub theta...   \n",
       "4  the tale of the nine tailed episode thetaleoft...   \n",
       "\n",
       "                                      Processed_text  Word_Count  cluster  \n",
       "0  thing learn k drama kdrama koreandrama kcdrama...          28        3  \n",
       "1  love alarm mv x señorita shawn mend korean mix...          42        3  \n",
       "2  k drama savage girl part comment first k drama...          40        3  \n",
       "3  tale nine tail part eng sub thetaleofthenineta...          48        3  \n",
       "4  tale nine tail episode thetaleoftheninetailed ...          39        3  "
      ]
     },
     "execution_count": 30,
     "metadata": {},
     "output_type": "execute_result"
    }
   ],
   "source": [
    "df.head()"
   ]
  },
  {
   "cell_type": "markdown",
   "metadata": {
    "id": "S8vb8CSYBbe4"
   },
   "source": [
    "# Checking number of items in each cluster"
   ]
  },
  {
   "cell_type": "code",
   "execution_count": 31,
   "metadata": {
    "colab": {
     "base_uri": "https://localhost:8080/"
    },
    "id": "ByLyb_6iBbe4",
    "outputId": "1ea54a47-24d1-4815-8305-d09c33d22d76"
   },
   "outputs": [
    {
     "name": "stdout",
     "output_type": "stream",
     "text": [
      "Total count of cluster 0 is 595\n",
      "Total count of cluster 1 is 364\n",
      "Total count of cluster 2 is 2215\n",
      "Total count of cluster 3 is 33701\n",
      "Total count of cluster 4 is 797\n",
      "Total count of cluster 5 is 17886\n",
      "Total count of cluster 6 is 19322\n",
      "Total count of cluster 7 is 1302\n",
      "Total count of cluster 8 is 4213\n",
      "Total count of cluster 9 is 2599\n",
      "Total count of cluster 10 is 1921\n",
      "Total count of cluster 11 is 2169\n",
      "Total count of cluster 12 is 734\n",
      "Total count of cluster 13 is 953\n",
      "Total count of cluster 14 is 543\n",
      "Total count of cluster 15 is 2118\n",
      "Total count of cluster 16 is 4323\n",
      "Total count of cluster 17 is 1951\n",
      "Total count of cluster 18 is 2931\n",
      "Total count of cluster 19 is 1090\n",
      "{'C0': 595, 'C1': 364, 'C2': 2215, 'C3': 33701, 'C4': 797, 'C5': 17886, 'C6': 19322, 'C7': 1302, 'C8': 4213, 'C9': 2599, 'C10': 1921, 'C11': 2169, 'C12': 734, 'C13': 953, 'C14': 543, 'C15': 2118, 'C16': 4323, 'C17': 1951, 'C18': 2931, 'C19': 1090}\n"
     ]
    }
   ],
   "source": [
    "i = 0\n",
    "cluster_dict = {}\n",
    "for i in range(len(df['cluster'].unique())):\n",
    "    count = (df.cluster == i).sum()\n",
    "    print(f\"Total count of cluster {i} is {count}\")\n",
    "    cluster_dict[f'C{i}'] = count\n",
    "print(cluster_dict)"
   ]
  },
  {
   "cell_type": "code",
   "execution_count": 32,
   "metadata": {},
   "outputs": [
    {
     "data": {
      "image/png": "[encoded data removed]",
      "text/plain": [
       "<Figure size 720x360 with 1 Axes>"
      ]
     },
     "metadata": {
      "needs_background": "light"
     },
     "output_type": "display_data"
    }
   ],
   "source": [
    "import numpy as np\n",
    "import matplotlib.pyplot as plt\n",
    "\n",
    "\n",
    "# creating the dataset\n",
    "cluster = list(cluster_dict.keys())\n",
    "count_video = list(cluster_dict.values())\n",
    "\n",
    "fig = plt.figure(figsize = (10, 5))\n",
    "\n",
    "# creating the bar plot\n",
    "plt.bar(cluster, count_video, color ='maroon',width = 0.4)\n",
    "\n",
    "plt.xlabel(\"Cluster Number\")\n",
    "plt.ylabel(\"No. of Videos\")\n",
    "plt.title(\"Video count in each cluster\")\n",
    "plt.show()\n"
   ]
  },
  {
   "cell_type": "code",
   "execution_count": 33,
   "metadata": {},
   "outputs": [
    {
     "data": {
      "text/plain": [
       "10172"
      ]
     },
     "execution_count": 33,
     "metadata": {},
     "output_type": "execute_result"
    }
   ],
   "source": [
    "def Average(lst):\n",
    "    return sum(lst) / len(lst)\n",
    "mean = Average(count_video)\n",
    "int(mean * 2)"
   ]
  },
  {
   "cell_type": "code",
   "execution_count": 49,
   "metadata": {},
   "outputs": [
    {
     "name": "stdout",
     "output_type": "stream",
     "text": [
      "595\n"
     ]
    }
   ],
   "source": [
    "count = (df.cluster == 0).sum()\n",
    "print(count)\n",
    "thres = int(2 * mean)\n",
    "columns = list(df.columns)\n",
    "#columns"
   ]
  },
  {
   "cell_type": "code",
   "execution_count": 50,
   "metadata": {},
   "outputs": [
    {
     "name": "stdout",
     "output_type": "stream",
     "text": [
      "595\n",
      "364\n",
      "2215\n",
      "33701\n",
      "797\n",
      "17886\n",
      "19322\n",
      "1302\n",
      "4213\n",
      "2599\n",
      "1921\n",
      "2169\n",
      "734\n",
      "953\n",
      "543\n",
      "2118\n",
      "4323\n",
      "1951\n",
      "2931\n",
      "1090\n"
     ]
    }
   ],
   "source": [
    "df_new = pd.DataFrame(columns=columns)\n",
    "for i in range(len(df['cluster'].unique())):\n",
    "    count = (df.cluster == i).sum()\n",
    "    print(count)\n",
    "    thres = int(2 * mean)\n",
    "    if count > thres:\n",
    "        temp_df = df.loc[df['cluster'] == i]\n",
    "        temp_df = temp_df.iloc[:thres]\n",
    "        df_new = pd.concat([df_new, temp_df], ignore_index=True)\n",
    "    else:\n",
    "        temp_df = df.loc[df['cluster'] == i]\n",
    "        df_new = pd.concat([df_new, temp_df], ignore_index=True)"
   ]
  },
  {
   "cell_type": "code",
   "execution_count": 51,
   "metadata": {},
   "outputs": [
    {
     "data": {
      "text/html": [
       "<div>\n",
       "<style scoped>\n",
       "    .dataframe tbody tr th:only-of-type {\n",
       "        vertical-align: middle;\n",
       "    }\n",
       "\n",
       "    .dataframe tbody tr th {\n",
       "        vertical-align: top;\n",
       "    }\n",
       "\n",
       "    .dataframe thead th {\n",
       "        text-align: right;\n",
       "    }\n",
       "</style>\n",
       "<table border=\"1\" class=\"dataframe\">\n",
       "  <thead>\n",
       "    <tr style=\"text-align: right;\">\n",
       "      <th></th>\n",
       "      <th>ContentId</th>\n",
       "      <th>title</th>\n",
       "      <th>viewCount</th>\n",
       "      <th>likeCount</th>\n",
       "      <th>dislikeCount</th>\n",
       "      <th>commentCount</th>\n",
       "      <th>favoriteCount</th>\n",
       "      <th>publishedAt</th>\n",
       "      <th>description</th>\n",
       "      <th>duration</th>\n",
       "      <th>tags</th>\n",
       "      <th>text</th>\n",
       "      <th>Processed_text</th>\n",
       "      <th>Word_Count</th>\n",
       "      <th>cluster</th>\n",
       "    </tr>\n",
       "  </thead>\n",
       "  <tbody>\n",
       "    <tr>\n",
       "      <th>0</th>\n",
       "      <td>o28iwR1XQaw</td>\n",
       "      <td>देवर जी जल्दी करके निकल जाओ नहीं तो आपकी पत्नी...</td>\n",
       "      <td>2835</td>\n",
       "      <td>19</td>\n",
       "      <td>9</td>\n",
       "      <td>5</td>\n",
       "      <td>0.0</td>\n",
       "      <td>2021-10-11T15:08:36Z</td>\n",
       "      <td>#csk masti Hindi  bhojpuri entertainment comed...</td>\n",
       "      <td>PT11M19S</td>\n",
       "      <td>['csk masti', 'entertenmaintvideo', 'Hind comd...</td>\n",
       "      <td>द वर ज जल द करक न कल ज ओ नह त आपक पत न आ ज एग ...</td>\n",
       "      <td>द वर ज जल द करक न कल ज ओ नह त आपक पत न आ ज एग ...</td>\n",
       "      <td>53</td>\n",
       "      <td>0</td>\n",
       "    </tr>\n",
       "    <tr>\n",
       "      <th>1</th>\n",
       "      <td>eQBVpfwTt1U</td>\n",
       "      <td>रास्ते में राहगीर साधु को ही पटाकर पीछे से काम...</td>\n",
       "      <td>6877</td>\n",
       "      <td>46</td>\n",
       "      <td>9</td>\n",
       "      <td>7</td>\n",
       "      <td>0.0</td>\n",
       "      <td>2021-10-06T15:30:45Z</td>\n",
       "      <td>#csk masti Hindi  bhojpuri entertainment comed...</td>\n",
       "      <td>PT7M2S</td>\n",
       "      <td>['csk masti', 'entertenmaintvideo', 'Hind comd...</td>\n",
       "      <td>र स त म र हग र स ध क ह पट कर प छ स क म चल न लग...</td>\n",
       "      <td>र स त म र हग र स ध क ह पट कर प छ स क म चल न लग...</td>\n",
       "      <td>56</td>\n",
       "      <td>0</td>\n",
       "    </tr>\n",
       "    <tr>\n",
       "      <th>2</th>\n",
       "      <td>jB574yBRlr8</td>\n",
       "      <td>वीडीयो देखकर आपके होश उड़ जाएंगे इस वीडियो को ...</td>\n",
       "      <td>6989</td>\n",
       "      <td>31</td>\n",
       "      <td>11</td>\n",
       "      <td>13</td>\n",
       "      <td>0.0</td>\n",
       "      <td>2021-10-03T15:09:33Z</td>\n",
       "      <td>#csk masti Hindi  bhojpuri entertainment comed...</td>\n",
       "      <td>PT7M24S</td>\n",
       "      <td>['csk masti', 'entertenmaintvideo', 'Hind comd...</td>\n",
       "      <td>व ड य द खकर आपक ह श उड ज ए ग इस व ड य क अक ल म...</td>\n",
       "      <td>व ड य द खकर आपक ह श उड ज ए ग इस व ड य क अक ल म...</td>\n",
       "      <td>57</td>\n",
       "      <td>0</td>\n",
       "    </tr>\n",
       "    <tr>\n",
       "      <th>3</th>\n",
       "      <td>Idwcd_EbYKY</td>\n",
       "      <td>पड़ोसी देवर ने भाभी को पीछे से माजा मार लिया #...</td>\n",
       "      <td>8521</td>\n",
       "      <td>45</td>\n",
       "      <td>11</td>\n",
       "      <td>12</td>\n",
       "      <td>0.0</td>\n",
       "      <td>2021-09-29T15:09:07Z</td>\n",
       "      <td>#csk masti Hindi  bhojpuri entertainment comed...</td>\n",
       "      <td>PT11M43S</td>\n",
       "      <td>['csk masti', 'entertenmaintvideo', 'Hind comd...</td>\n",
       "      <td>पड स द वर न भ भ क प छ स म ज म र ल य csk masti ...</td>\n",
       "      <td>पड स द वर न भ भ क प छ स म ज म र ल य csk masti ...</td>\n",
       "      <td>52</td>\n",
       "      <td>0</td>\n",
       "    </tr>\n",
       "    <tr>\n",
       "      <th>4</th>\n",
       "      <td>d6GL7dVOMfk</td>\n",
       "      <td>बधारी में गांव के लड़के से मना लिया सुहागरात #...</td>\n",
       "      <td>158729</td>\n",
       "      <td>329</td>\n",
       "      <td>99</td>\n",
       "      <td>22</td>\n",
       "      <td>0.0</td>\n",
       "      <td>2021-09-28T14:55:08Z</td>\n",
       "      <td>#csk masti Hindi  bhojpuri entertainment comed...</td>\n",
       "      <td>PT11M51S</td>\n",
       "      <td>['csk masti', 'entertenmaintvideo', 'Hind comd...</td>\n",
       "      <td>बध र म ग व क लड क स मन ल य स ह गर त csk masti ...</td>\n",
       "      <td>बध र म ग व क लड क स मन ल य स ह गर त csk masti ...</td>\n",
       "      <td>51</td>\n",
       "      <td>0</td>\n",
       "    </tr>\n",
       "  </tbody>\n",
       "</table>\n",
       "</div>"
      ],
      "text/plain": [
       "     ContentId                                              title viewCount  \\\n",
       "0  o28iwR1XQaw  देवर जी जल्दी करके निकल जाओ नहीं तो आपकी पत्नी...      2835   \n",
       "1  eQBVpfwTt1U  रास्ते में राहगीर साधु को ही पटाकर पीछे से काम...      6877   \n",
       "2  jB574yBRlr8  वीडीयो देखकर आपके होश उड़ जाएंगे इस वीडियो को ...      6989   \n",
       "3  Idwcd_EbYKY  पड़ोसी देवर ने भाभी को पीछे से माजा मार लिया #...      8521   \n",
       "4  d6GL7dVOMfk  बधारी में गांव के लड़के से मना लिया सुहागरात #...    158729   \n",
       "\n",
       "  likeCount dislikeCount commentCount favoriteCount           publishedAt  \\\n",
       "0        19            9            5           0.0  2021-10-11T15:08:36Z   \n",
       "1        46            9            7           0.0  2021-10-06T15:30:45Z   \n",
       "2        31           11           13           0.0  2021-10-03T15:09:33Z   \n",
       "3        45           11           12           0.0  2021-09-29T15:09:07Z   \n",
       "4       329           99           22           0.0  2021-09-28T14:55:08Z   \n",
       "\n",
       "                                         description  duration  \\\n",
       "0  #csk masti Hindi  bhojpuri entertainment comed...  PT11M19S   \n",
       "1  #csk masti Hindi  bhojpuri entertainment comed...    PT7M2S   \n",
       "2  #csk masti Hindi  bhojpuri entertainment comed...   PT7M24S   \n",
       "3  #csk masti Hindi  bhojpuri entertainment comed...  PT11M43S   \n",
       "4  #csk masti Hindi  bhojpuri entertainment comed...  PT11M51S   \n",
       "\n",
       "                                                tags  \\\n",
       "0  ['csk masti', 'entertenmaintvideo', 'Hind comd...   \n",
       "1  ['csk masti', 'entertenmaintvideo', 'Hind comd...   \n",
       "2  ['csk masti', 'entertenmaintvideo', 'Hind comd...   \n",
       "3  ['csk masti', 'entertenmaintvideo', 'Hind comd...   \n",
       "4  ['csk masti', 'entertenmaintvideo', 'Hind comd...   \n",
       "\n",
       "                                                text  \\\n",
       "0  द वर ज जल द करक न कल ज ओ नह त आपक पत न आ ज एग ...   \n",
       "1  र स त म र हग र स ध क ह पट कर प छ स क म चल न लग...   \n",
       "2  व ड य द खकर आपक ह श उड ज ए ग इस व ड य क अक ल म...   \n",
       "3  पड स द वर न भ भ क प छ स म ज म र ल य csk masti ...   \n",
       "4  बध र म ग व क लड क स मन ल य स ह गर त csk masti ...   \n",
       "\n",
       "                                      Processed_text Word_Count cluster  \n",
       "0  द वर ज जल द करक न कल ज ओ नह त आपक पत न आ ज एग ...         53       0  \n",
       "1  र स त म र हग र स ध क ह पट कर प छ स क म चल न लग...         56       0  \n",
       "2  व ड य द खकर आपक ह श उड ज ए ग इस व ड य क अक ल म...         57       0  \n",
       "3  पड स द वर न भ भ क प छ स म ज म र ल य csk masti ...         52       0  \n",
       "4  बध र म ग व क लड क स मन ल य स ह गर त csk masti ...         51       0  "
      ]
     },
     "execution_count": 51,
     "metadata": {},
     "output_type": "execute_result"
    }
   ],
   "source": [
    "df_new.head()"
   ]
  },
  {
   "cell_type": "code",
   "execution_count": 52,
   "metadata": {},
   "outputs": [
    {
     "name": "stdout",
     "output_type": "stream",
     "text": [
      "<class 'pandas.core.frame.DataFrame'>\n",
      "RangeIndex: 61334 entries, 0 to 61333\n",
      "Data columns (total 15 columns):\n",
      " #   Column          Non-Null Count  Dtype \n",
      "---  ------          --------------  ----- \n",
      " 0   ContentId       61334 non-null  object\n",
      " 1   title           61334 non-null  string\n",
      " 2   viewCount       61334 non-null  object\n",
      " 3   likeCount       61334 non-null  object\n",
      " 4   dislikeCount    61334 non-null  object\n",
      " 5   commentCount    61334 non-null  object\n",
      " 6   favoriteCount   61334 non-null  object\n",
      " 7   publishedAt     61334 non-null  object\n",
      " 8   description     61334 non-null  string\n",
      " 9   duration        61334 non-null  object\n",
      " 10  tags            61334 non-null  string\n",
      " 11  text            61334 non-null  object\n",
      " 12  Processed_text  61334 non-null  object\n",
      " 13  Word_Count      61334 non-null  object\n",
      " 14  cluster         61334 non-null  object\n",
      "dtypes: object(12), string(3)\n",
      "memory usage: 7.0+ MB\n"
     ]
    }
   ],
   "source": [
    "df_new.info()"
   ]
  },
  {
   "cell_type": "code",
   "execution_count": 53,
   "metadata": {},
   "outputs": [],
   "source": [
    "df_new['cluster'] = df_new['cluster'].astype(float).astype('int32')\n",
    "df_new['Word_Count'] = df_new['Word_Count'].astype(float).astype('int64')"
   ]
  },
  {
   "cell_type": "code",
   "execution_count": 54,
   "metadata": {},
   "outputs": [
    {
     "name": "stdout",
     "output_type": "stream",
     "text": [
      "<class 'pandas.core.frame.DataFrame'>\n",
      "RangeIndex: 61334 entries, 0 to 61333\n",
      "Data columns (total 15 columns):\n",
      " #   Column          Non-Null Count  Dtype \n",
      "---  ------          --------------  ----- \n",
      " 0   ContentId       61334 non-null  object\n",
      " 1   title           61334 non-null  string\n",
      " 2   viewCount       61334 non-null  object\n",
      " 3   likeCount       61334 non-null  object\n",
      " 4   dislikeCount    61334 non-null  object\n",
      " 5   commentCount    61334 non-null  object\n",
      " 6   favoriteCount   61334 non-null  object\n",
      " 7   publishedAt     61334 non-null  object\n",
      " 8   description     61334 non-null  string\n",
      " 9   duration        61334 non-null  object\n",
      " 10  tags            61334 non-null  string\n",
      " 11  text            61334 non-null  object\n",
      " 12  Processed_text  61334 non-null  object\n",
      " 13  Word_Count      61334 non-null  int64 \n",
      " 14  cluster         61334 non-null  int32 \n",
      "dtypes: int32(1), int64(1), object(10), string(3)\n",
      "memory usage: 6.8+ MB\n"
     ]
    }
   ],
   "source": [
    "df_new.info()"
   ]
  },
  {
   "cell_type": "code",
   "execution_count": 55,
   "metadata": {},
   "outputs": [
    {
     "data": {
      "text/html": [
       "<div>\n",
       "<style scoped>\n",
       "    .dataframe tbody tr th:only-of-type {\n",
       "        vertical-align: middle;\n",
       "    }\n",
       "\n",
       "    .dataframe tbody tr th {\n",
       "        vertical-align: top;\n",
       "    }\n",
       "\n",
       "    .dataframe thead th {\n",
       "        text-align: right;\n",
       "    }\n",
       "</style>\n",
       "<table border=\"1\" class=\"dataframe\">\n",
       "  <thead>\n",
       "    <tr style=\"text-align: right;\">\n",
       "      <th></th>\n",
       "      <th>ContentId</th>\n",
       "      <th>title</th>\n",
       "      <th>viewCount</th>\n",
       "      <th>likeCount</th>\n",
       "      <th>dislikeCount</th>\n",
       "      <th>commentCount</th>\n",
       "      <th>favoriteCount</th>\n",
       "      <th>publishedAt</th>\n",
       "      <th>description</th>\n",
       "      <th>duration</th>\n",
       "      <th>tags</th>\n",
       "      <th>text</th>\n",
       "      <th>Processed_text</th>\n",
       "      <th>Word_Count</th>\n",
       "      <th>cluster</th>\n",
       "    </tr>\n",
       "  </thead>\n",
       "  <tbody>\n",
       "    <tr>\n",
       "      <th>0</th>\n",
       "      <td>o28iwR1XQaw</td>\n",
       "      <td>देवर जी जल्दी करके निकल जाओ नहीं तो आपकी पत्नी...</td>\n",
       "      <td>2835</td>\n",
       "      <td>19</td>\n",
       "      <td>9</td>\n",
       "      <td>5</td>\n",
       "      <td>0.0</td>\n",
       "      <td>2021-10-11T15:08:36Z</td>\n",
       "      <td>#csk masti Hindi  bhojpuri entertainment comed...</td>\n",
       "      <td>PT11M19S</td>\n",
       "      <td>['csk masti', 'entertenmaintvideo', 'Hind comd...</td>\n",
       "      <td>द वर ज जल द करक न कल ज ओ नह त आपक पत न आ ज एग ...</td>\n",
       "      <td>द वर ज जल द करक न कल ज ओ नह त आपक पत न आ ज एग ...</td>\n",
       "      <td>53</td>\n",
       "      <td>0</td>\n",
       "    </tr>\n",
       "    <tr>\n",
       "      <th>1</th>\n",
       "      <td>eQBVpfwTt1U</td>\n",
       "      <td>रास्ते में राहगीर साधु को ही पटाकर पीछे से काम...</td>\n",
       "      <td>6877</td>\n",
       "      <td>46</td>\n",
       "      <td>9</td>\n",
       "      <td>7</td>\n",
       "      <td>0.0</td>\n",
       "      <td>2021-10-06T15:30:45Z</td>\n",
       "      <td>#csk masti Hindi  bhojpuri entertainment comed...</td>\n",
       "      <td>PT7M2S</td>\n",
       "      <td>['csk masti', 'entertenmaintvideo', 'Hind comd...</td>\n",
       "      <td>र स त म र हग र स ध क ह पट कर प छ स क म चल न लग...</td>\n",
       "      <td>र स त म र हग र स ध क ह पट कर प छ स क म चल न लग...</td>\n",
       "      <td>56</td>\n",
       "      <td>0</td>\n",
       "    </tr>\n",
       "    <tr>\n",
       "      <th>2</th>\n",
       "      <td>jB574yBRlr8</td>\n",
       "      <td>वीडीयो देखकर आपके होश उड़ जाएंगे इस वीडियो को ...</td>\n",
       "      <td>6989</td>\n",
       "      <td>31</td>\n",
       "      <td>11</td>\n",
       "      <td>13</td>\n",
       "      <td>0.0</td>\n",
       "      <td>2021-10-03T15:09:33Z</td>\n",
       "      <td>#csk masti Hindi  bhojpuri entertainment comed...</td>\n",
       "      <td>PT7M24S</td>\n",
       "      <td>['csk masti', 'entertenmaintvideo', 'Hind comd...</td>\n",
       "      <td>व ड य द खकर आपक ह श उड ज ए ग इस व ड य क अक ल म...</td>\n",
       "      <td>व ड य द खकर आपक ह श उड ज ए ग इस व ड य क अक ल म...</td>\n",
       "      <td>57</td>\n",
       "      <td>0</td>\n",
       "    </tr>\n",
       "    <tr>\n",
       "      <th>3</th>\n",
       "      <td>Idwcd_EbYKY</td>\n",
       "      <td>पड़ोसी देवर ने भाभी को पीछे से माजा मार लिया #...</td>\n",
       "      <td>8521</td>\n",
       "      <td>45</td>\n",
       "      <td>11</td>\n",
       "      <td>12</td>\n",
       "      <td>0.0</td>\n",
       "      <td>2021-09-29T15:09:07Z</td>\n",
       "      <td>#csk masti Hindi  bhojpuri entertainment comed...</td>\n",
       "      <td>PT11M43S</td>\n",
       "      <td>['csk masti', 'entertenmaintvideo', 'Hind comd...</td>\n",
       "      <td>पड स द वर न भ भ क प छ स म ज म र ल य csk masti ...</td>\n",
       "      <td>पड स द वर न भ भ क प छ स म ज म र ल य csk masti ...</td>\n",
       "      <td>52</td>\n",
       "      <td>0</td>\n",
       "    </tr>\n",
       "    <tr>\n",
       "      <th>4</th>\n",
       "      <td>d6GL7dVOMfk</td>\n",
       "      <td>बधारी में गांव के लड़के से मना लिया सुहागरात #...</td>\n",
       "      <td>158729</td>\n",
       "      <td>329</td>\n",
       "      <td>99</td>\n",
       "      <td>22</td>\n",
       "      <td>0.0</td>\n",
       "      <td>2021-09-28T14:55:08Z</td>\n",
       "      <td>#csk masti Hindi  bhojpuri entertainment comed...</td>\n",
       "      <td>PT11M51S</td>\n",
       "      <td>['csk masti', 'entertenmaintvideo', 'Hind comd...</td>\n",
       "      <td>बध र म ग व क लड क स मन ल य स ह गर त csk masti ...</td>\n",
       "      <td>बध र म ग व क लड क स मन ल य स ह गर त csk masti ...</td>\n",
       "      <td>51</td>\n",
       "      <td>0</td>\n",
       "    </tr>\n",
       "  </tbody>\n",
       "</table>\n",
       "</div>"
      ],
      "text/plain": [
       "     ContentId                                              title viewCount  \\\n",
       "0  o28iwR1XQaw  देवर जी जल्दी करके निकल जाओ नहीं तो आपकी पत्नी...      2835   \n",
       "1  eQBVpfwTt1U  रास्ते में राहगीर साधु को ही पटाकर पीछे से काम...      6877   \n",
       "2  jB574yBRlr8  वीडीयो देखकर आपके होश उड़ जाएंगे इस वीडियो को ...      6989   \n",
       "3  Idwcd_EbYKY  पड़ोसी देवर ने भाभी को पीछे से माजा मार लिया #...      8521   \n",
       "4  d6GL7dVOMfk  बधारी में गांव के लड़के से मना लिया सुहागरात #...    158729   \n",
       "\n",
       "  likeCount dislikeCount commentCount favoriteCount           publishedAt  \\\n",
       "0        19            9            5           0.0  2021-10-11T15:08:36Z   \n",
       "1        46            9            7           0.0  2021-10-06T15:30:45Z   \n",
       "2        31           11           13           0.0  2021-10-03T15:09:33Z   \n",
       "3        45           11           12           0.0  2021-09-29T15:09:07Z   \n",
       "4       329           99           22           0.0  2021-09-28T14:55:08Z   \n",
       "\n",
       "                                         description  duration  \\\n",
       "0  #csk masti Hindi  bhojpuri entertainment comed...  PT11M19S   \n",
       "1  #csk masti Hindi  bhojpuri entertainment comed...    PT7M2S   \n",
       "2  #csk masti Hindi  bhojpuri entertainment comed...   PT7M24S   \n",
       "3  #csk masti Hindi  bhojpuri entertainment comed...  PT11M43S   \n",
       "4  #csk masti Hindi  bhojpuri entertainment comed...  PT11M51S   \n",
       "\n",
       "                                                tags  \\\n",
       "0  ['csk masti', 'entertenmaintvideo', 'Hind comd...   \n",
       "1  ['csk masti', 'entertenmaintvideo', 'Hind comd...   \n",
       "2  ['csk masti', 'entertenmaintvideo', 'Hind comd...   \n",
       "3  ['csk masti', 'entertenmaintvideo', 'Hind comd...   \n",
       "4  ['csk masti', 'entertenmaintvideo', 'Hind comd...   \n",
       "\n",
       "                                                text  \\\n",
       "0  द वर ज जल द करक न कल ज ओ नह त आपक पत न आ ज एग ...   \n",
       "1  र स त म र हग र स ध क ह पट कर प छ स क म चल न लग...   \n",
       "2  व ड य द खकर आपक ह श उड ज ए ग इस व ड य क अक ल म...   \n",
       "3  पड स द वर न भ भ क प छ स म ज म र ल य csk masti ...   \n",
       "4  बध र म ग व क लड क स मन ल य स ह गर त csk masti ...   \n",
       "\n",
       "                                      Processed_text  Word_Count  cluster  \n",
       "0  द वर ज जल द करक न कल ज ओ नह त आपक पत न आ ज एग ...          53        0  \n",
       "1  र स त म र हग र स ध क ह पट कर प छ स क म चल न लग...          56        0  \n",
       "2  व ड य द खकर आपक ह श उड ज ए ग इस व ड य क अक ल म...          57        0  \n",
       "3  पड स द वर न भ भ क प छ स म ज म र ल य csk masti ...          52        0  \n",
       "4  बध र म ग व क लड क स मन ल य स ह गर त csk masti ...          51        0  "
      ]
     },
     "execution_count": 55,
     "metadata": {},
     "output_type": "execute_result"
    }
   ],
   "source": [
    "df_new.head()"
   ]
  },
  {
   "cell_type": "code",
   "execution_count": 56,
   "metadata": {},
   "outputs": [
    {
     "data": {
      "text/plain": [
       "array([ 0,  1,  2,  3,  4,  5,  6,  7,  8,  9, 10, 11, 12, 13, 14, 15, 16,\n",
       "       17, 18, 19], dtype=int32)"
      ]
     },
     "execution_count": 56,
     "metadata": {},
     "output_type": "execute_result"
    }
   ],
   "source": [
    "df_new['cluster'].unique()"
   ]
  },
  {
   "cell_type": "code",
   "execution_count": 57,
   "metadata": {},
   "outputs": [
    {
     "name": "stdout",
     "output_type": "stream",
     "text": [
      "Total count of cluster 0 is 595\n",
      "Total count of cluster 1 is 364\n",
      "Total count of cluster 2 is 2215\n",
      "Total count of cluster 3 is 10172\n",
      "Total count of cluster 4 is 797\n",
      "Total count of cluster 5 is 10172\n",
      "Total count of cluster 6 is 10172\n",
      "Total count of cluster 7 is 1302\n",
      "Total count of cluster 8 is 4213\n",
      "Total count of cluster 9 is 2599\n",
      "Total count of cluster 10 is 1921\n",
      "Total count of cluster 11 is 2169\n",
      "Total count of cluster 12 is 734\n",
      "Total count of cluster 13 is 953\n",
      "Total count of cluster 14 is 543\n",
      "Total count of cluster 15 is 2118\n",
      "Total count of cluster 16 is 4323\n",
      "Total count of cluster 17 is 1951\n",
      "Total count of cluster 18 is 2931\n",
      "Total count of cluster 19 is 1090\n",
      "{'C0': 595, 'C1': 364, 'C2': 2215, 'C3': 10172, 'C4': 797, 'C5': 10172, 'C6': 10172, 'C7': 1302, 'C8': 4213, 'C9': 2599, 'C10': 1921, 'C11': 2169, 'C12': 734, 'C13': 953, 'C14': 543, 'C15': 2118, 'C16': 4323, 'C17': 1951, 'C18': 2931, 'C19': 1090}\n"
     ]
    }
   ],
   "source": [
    "i = 0\n",
    "cluster_dict = {}\n",
    "for i in range(len(df_new['cluster'].unique())):\n",
    "    count = (df_new.cluster == i).sum()\n",
    "    print(f\"Total count of cluster {i} is {count}\")\n",
    "    cluster_dict[f'C{i}'] = count\n",
    "print(cluster_dict)"
   ]
  },
  {
   "cell_type": "code",
   "execution_count": 58,
   "metadata": {},
   "outputs": [
    {
     "data": {
      "image/png": "[encoded data removed]",
      "text/plain": [
       "<Figure size 720x360 with 1 Axes>"
      ]
     },
     "metadata": {
      "needs_background": "light"
     },
     "output_type": "display_data"
    }
   ],
   "source": [
    "import numpy as np\n",
    "import matplotlib.pyplot as plt\n",
    "\n",
    "\n",
    "# creating the dataset\n",
    "cluster = list(cluster_dict.keys())\n",
    "count_video = list(cluster_dict.values())\n",
    "\n",
    "fig = plt.figure(figsize = (10, 5))\n",
    "\n",
    "# creating the bar plot\n",
    "plt.bar(cluster, count_video, color ='maroon',width = 0.4)\n",
    "\n",
    "plt.xlabel(\"Cluster Number\")\n",
    "plt.ylabel(\"No. of Videos\")\n",
    "plt.title(\"Video count in each cluster\")\n",
    "plt.show()"
   ]
  },
  {
   "cell_type": "code",
   "execution_count": 59,
   "metadata": {},
   "outputs": [
    {
     "data": {
      "text/html": [
       "<div>\n",
       "<style scoped>\n",
       "    .dataframe tbody tr th:only-of-type {\n",
       "        vertical-align: middle;\n",
       "    }\n",
       "\n",
       "    .dataframe tbody tr th {\n",
       "        vertical-align: top;\n",
       "    }\n",
       "\n",
       "    .dataframe thead th {\n",
       "        text-align: right;\n",
       "    }\n",
       "</style>\n",
       "<table border=\"1\" class=\"dataframe\">\n",
       "  <thead>\n",
       "    <tr style=\"text-align: right;\">\n",
       "      <th></th>\n",
       "      <th>ContentId</th>\n",
       "      <th>title</th>\n",
       "      <th>viewCount</th>\n",
       "      <th>likeCount</th>\n",
       "      <th>dislikeCount</th>\n",
       "      <th>commentCount</th>\n",
       "      <th>favoriteCount</th>\n",
       "      <th>publishedAt</th>\n",
       "      <th>description</th>\n",
       "      <th>duration</th>\n",
       "      <th>tags</th>\n",
       "      <th>text</th>\n",
       "      <th>Processed_text</th>\n",
       "      <th>Word_Count</th>\n",
       "      <th>cluster</th>\n",
       "    </tr>\n",
       "  </thead>\n",
       "  <tbody>\n",
       "    <tr>\n",
       "      <th>0</th>\n",
       "      <td>o28iwR1XQaw</td>\n",
       "      <td>देवर जी जल्दी करके निकल जाओ नहीं तो आपकी पत्नी...</td>\n",
       "      <td>2835</td>\n",
       "      <td>19</td>\n",
       "      <td>9</td>\n",
       "      <td>5</td>\n",
       "      <td>0.0</td>\n",
       "      <td>2021-10-11T15:08:36Z</td>\n",
       "      <td>#csk masti Hindi  bhojpuri entertainment comed...</td>\n",
       "      <td>PT11M19S</td>\n",
       "      <td>['csk masti', 'entertenmaintvideo', 'Hind comd...</td>\n",
       "      <td>द वर ज जल द करक न कल ज ओ नह त आपक पत न आ ज एग ...</td>\n",
       "      <td>द वर ज जल द करक न कल ज ओ नह त आपक पत न आ ज एग ...</td>\n",
       "      <td>53</td>\n",
       "      <td>0</td>\n",
       "    </tr>\n",
       "    <tr>\n",
       "      <th>1</th>\n",
       "      <td>eQBVpfwTt1U</td>\n",
       "      <td>रास्ते में राहगीर साधु को ही पटाकर पीछे से काम...</td>\n",
       "      <td>6877</td>\n",
       "      <td>46</td>\n",
       "      <td>9</td>\n",
       "      <td>7</td>\n",
       "      <td>0.0</td>\n",
       "      <td>2021-10-06T15:30:45Z</td>\n",
       "      <td>#csk masti Hindi  bhojpuri entertainment comed...</td>\n",
       "      <td>PT7M2S</td>\n",
       "      <td>['csk masti', 'entertenmaintvideo', 'Hind comd...</td>\n",
       "      <td>र स त म र हग र स ध क ह पट कर प छ स क म चल न लग...</td>\n",
       "      <td>र स त म र हग र स ध क ह पट कर प छ स क म चल न लग...</td>\n",
       "      <td>56</td>\n",
       "      <td>0</td>\n",
       "    </tr>\n",
       "    <tr>\n",
       "      <th>2</th>\n",
       "      <td>jB574yBRlr8</td>\n",
       "      <td>वीडीयो देखकर आपके होश उड़ जाएंगे इस वीडियो को ...</td>\n",
       "      <td>6989</td>\n",
       "      <td>31</td>\n",
       "      <td>11</td>\n",
       "      <td>13</td>\n",
       "      <td>0.0</td>\n",
       "      <td>2021-10-03T15:09:33Z</td>\n",
       "      <td>#csk masti Hindi  bhojpuri entertainment comed...</td>\n",
       "      <td>PT7M24S</td>\n",
       "      <td>['csk masti', 'entertenmaintvideo', 'Hind comd...</td>\n",
       "      <td>व ड य द खकर आपक ह श उड ज ए ग इस व ड य क अक ल म...</td>\n",
       "      <td>व ड य द खकर आपक ह श उड ज ए ग इस व ड य क अक ल म...</td>\n",
       "      <td>57</td>\n",
       "      <td>0</td>\n",
       "    </tr>\n",
       "    <tr>\n",
       "      <th>3</th>\n",
       "      <td>Idwcd_EbYKY</td>\n",
       "      <td>पड़ोसी देवर ने भाभी को पीछे से माजा मार लिया #...</td>\n",
       "      <td>8521</td>\n",
       "      <td>45</td>\n",
       "      <td>11</td>\n",
       "      <td>12</td>\n",
       "      <td>0.0</td>\n",
       "      <td>2021-09-29T15:09:07Z</td>\n",
       "      <td>#csk masti Hindi  bhojpuri entertainment comed...</td>\n",
       "      <td>PT11M43S</td>\n",
       "      <td>['csk masti', 'entertenmaintvideo', 'Hind comd...</td>\n",
       "      <td>पड स द वर न भ भ क प छ स म ज म र ल य csk masti ...</td>\n",
       "      <td>पड स द वर न भ भ क प छ स म ज म र ल य csk masti ...</td>\n",
       "      <td>52</td>\n",
       "      <td>0</td>\n",
       "    </tr>\n",
       "    <tr>\n",
       "      <th>4</th>\n",
       "      <td>d6GL7dVOMfk</td>\n",
       "      <td>बधारी में गांव के लड़के से मना लिया सुहागरात #...</td>\n",
       "      <td>158729</td>\n",
       "      <td>329</td>\n",
       "      <td>99</td>\n",
       "      <td>22</td>\n",
       "      <td>0.0</td>\n",
       "      <td>2021-09-28T14:55:08Z</td>\n",
       "      <td>#csk masti Hindi  bhojpuri entertainment comed...</td>\n",
       "      <td>PT11M51S</td>\n",
       "      <td>['csk masti', 'entertenmaintvideo', 'Hind comd...</td>\n",
       "      <td>बध र म ग व क लड क स मन ल य स ह गर त csk masti ...</td>\n",
       "      <td>बध र म ग व क लड क स मन ल य स ह गर त csk masti ...</td>\n",
       "      <td>51</td>\n",
       "      <td>0</td>\n",
       "    </tr>\n",
       "  </tbody>\n",
       "</table>\n",
       "</div>"
      ],
      "text/plain": [
       "     ContentId                                              title viewCount  \\\n",
       "0  o28iwR1XQaw  देवर जी जल्दी करके निकल जाओ नहीं तो आपकी पत्नी...      2835   \n",
       "1  eQBVpfwTt1U  रास्ते में राहगीर साधु को ही पटाकर पीछे से काम...      6877   \n",
       "2  jB574yBRlr8  वीडीयो देखकर आपके होश उड़ जाएंगे इस वीडियो को ...      6989   \n",
       "3  Idwcd_EbYKY  पड़ोसी देवर ने भाभी को पीछे से माजा मार लिया #...      8521   \n",
       "4  d6GL7dVOMfk  बधारी में गांव के लड़के से मना लिया सुहागरात #...    158729   \n",
       "\n",
       "  likeCount dislikeCount commentCount favoriteCount           publishedAt  \\\n",
       "0        19            9            5           0.0  2021-10-11T15:08:36Z   \n",
       "1        46            9            7           0.0  2021-10-06T15:30:45Z   \n",
       "2        31           11           13           0.0  2021-10-03T15:09:33Z   \n",
       "3        45           11           12           0.0  2021-09-29T15:09:07Z   \n",
       "4       329           99           22           0.0  2021-09-28T14:55:08Z   \n",
       "\n",
       "                                         description  duration  \\\n",
       "0  #csk masti Hindi  bhojpuri entertainment comed...  PT11M19S   \n",
       "1  #csk masti Hindi  bhojpuri entertainment comed...    PT7M2S   \n",
       "2  #csk masti Hindi  bhojpuri entertainment comed...   PT7M24S   \n",
       "3  #csk masti Hindi  bhojpuri entertainment comed...  PT11M43S   \n",
       "4  #csk masti Hindi  bhojpuri entertainment comed...  PT11M51S   \n",
       "\n",
       "                                                tags  \\\n",
       "0  ['csk masti', 'entertenmaintvideo', 'Hind comd...   \n",
       "1  ['csk masti', 'entertenmaintvideo', 'Hind comd...   \n",
       "2  ['csk masti', 'entertenmaintvideo', 'Hind comd...   \n",
       "3  ['csk masti', 'entertenmaintvideo', 'Hind comd...   \n",
       "4  ['csk masti', 'entertenmaintvideo', 'Hind comd...   \n",
       "\n",
       "                                                text  \\\n",
       "0  द वर ज जल द करक न कल ज ओ नह त आपक पत न आ ज एग ...   \n",
       "1  र स त म र हग र स ध क ह पट कर प छ स क म चल न लग...   \n",
       "2  व ड य द खकर आपक ह श उड ज ए ग इस व ड य क अक ल म...   \n",
       "3  पड स द वर न भ भ क प छ स म ज म र ल य csk masti ...   \n",
       "4  बध र म ग व क लड क स मन ल य स ह गर त csk masti ...   \n",
       "\n",
       "                                      Processed_text  Word_Count  cluster  \n",
       "0  द वर ज जल द करक न कल ज ओ नह त आपक पत न आ ज एग ...          53        0  \n",
       "1  र स त म र हग र स ध क ह पट कर प छ स क म चल न लग...          56        0  \n",
       "2  व ड य द खकर आपक ह श उड ज ए ग इस व ड य क अक ल म...          57        0  \n",
       "3  पड स द वर न भ भ क प छ स म ज म र ल य csk masti ...          52        0  \n",
       "4  बध र म ग व क लड क स मन ल य स ह गर त csk masti ...          51        0  "
      ]
     },
     "execution_count": 59,
     "metadata": {},
     "output_type": "execute_result"
    }
   ],
   "source": [
    "df_new.head()"
   ]
  },
  {
   "cell_type": "markdown",
   "metadata": {
    "id": "pVbZ6tLOBbe4"
   },
   "source": [
    "# Sort the tf-idf vectors by descending order of scores"
   ]
  },
  {
   "cell_type": "code",
   "execution_count": 60,
   "metadata": {
    "id": "DMi97Mh9Bbe4"
   },
   "outputs": [],
   "source": [
    "def sort_coo(coo_matrix):\n",
    "    tuples = zip(coo_matrix.col, coo_matrix.data)\n",
    "    return sorted(tuples, key=lambda x: (x[1], x[0]), reverse=True)"
   ]
  },
  {
   "cell_type": "code",
   "execution_count": 61,
   "metadata": {},
   "outputs": [
    {
     "name": "stdout",
     "output_type": "stream",
     "text": [
      "Collecting tf-idf 10000\n",
      "Collecting tf-idf 20000\n",
      "Collecting tf-idf 30000\n",
      "Collecting tf-idf 40000\n",
      "Collecting tf-idf 50000\n",
      "Collecting tf-idf 60000\n",
      "61334\n"
     ]
    }
   ],
   "source": [
    "i = 0\n",
    "tex_list = df_new['Processed_text'].tolist()\n",
    "tf_idf_vector_list = []\n",
    "for i in range(len(tex_list)):\n",
    "    tf_idf_vector=tfidf_transformer.transform(cv.transform([tex_list[i]]))\n",
    "    i = i+1\n",
    "    tf_idf_vector_list.append(tf_idf_vector)\n",
    "    # added to list  \n",
    "    if ((i%10000) == 0):\n",
    "        print ('Collecting tf-idf',i)\n",
    "print(len(tf_idf_vector_list))"
   ]
  },
  {
   "cell_type": "code",
   "execution_count": 62,
   "metadata": {},
   "outputs": [
    {
     "data": {
      "text/plain": [
       "matrix([[0., 0., 0., ..., 0., 0., 0.]])"
      ]
     },
     "execution_count": 62,
     "metadata": {},
     "output_type": "execute_result"
    }
   ],
   "source": [
    "tf_idf_vector_list[0].todense()"
   ]
  },
  {
   "cell_type": "code",
   "execution_count": 63,
   "metadata": {
    "colab": {
     "base_uri": "https://localhost:8080/"
    },
    "id": "v-10wfaeBbe4",
    "outputId": "30d60aab-2551-4a65-a2ae-493861d877b4"
   },
   "outputs": [
    {
     "name": "stdout",
     "output_type": "stream",
     "text": [
      "Sorting Done for 10000\n",
      "Sorting Done for 20000\n",
      "Sorting Done for 30000\n",
      "Sorting Done for 40000\n",
      "Sorting Done for 50000\n",
      "Sorting Done for 60000\n"
     ]
    }
   ],
   "source": [
    "sorted_items_list=[]\n",
    "i=0\n",
    "for i in range(len(tf_idf_vector_list)):\n",
    "    sorted_items=sort_coo(tf_idf_vector_list[i].tocoo())\n",
    "    i = i+1\n",
    "    sorted_items_list.append(sorted_items)\n",
    "    # added to list  \n",
    "    if ((i%10000) == 0):\n",
    "        print ('Sorting Done for',i)"
   ]
  },
  {
   "cell_type": "code",
   "execution_count": 64,
   "metadata": {
    "colab": {
     "base_uri": "https://localhost:8080/"
    },
    "id": "MKHHWLh2Bbe4",
    "outputId": "a860117b-588f-48ca-a36e-e376626868e8"
   },
   "outputs": [
    {
     "data": {
      "text/plain": [
       "61334"
      ]
     },
     "execution_count": 64,
     "metadata": {},
     "output_type": "execute_result"
    }
   ],
   "source": [
    "len(sorted_items_list)"
   ]
  },
  {
   "cell_type": "markdown",
   "metadata": {
    "id": "u7SEc6KZBbe4"
   },
   "source": [
    "# Extract only the top n; n here is 5"
   ]
  },
  {
   "cell_type": "code",
   "execution_count": 65,
   "metadata": {
    "id": "W5zY850oBbe5"
   },
   "outputs": [],
   "source": [
    "def extract_topn_from_vector(feature_names, sorted_items, topn=5):\n",
    "    \"\"\"get the feature names and tf-idf score of top n items\"\"\"\n",
    "    \n",
    "    #use only topn items from vector\n",
    "    sorted_items = sorted_items[:topn]\n",
    "\n",
    "    score_vals = []\n",
    "    feature_vals = []\n",
    "    \n",
    "    # word index and corresponding tf-idf score\n",
    "    for idx, score in sorted_items:\n",
    "        \n",
    "        #keep track of feature name and its corresponding score\n",
    "        score_vals.append(round(score, 3))\n",
    "        feature_vals.append(feature_names[idx])\n",
    "\n",
    "    #create a tuples of feature,score\n",
    "    #results = zip(feature_vals,score_vals)\n",
    "    results= {}\n",
    "    for idx in range(len(feature_vals)):\n",
    "        results[feature_vals[idx]]=score_vals[idx]\n",
    "    \n",
    "    return results"
   ]
  },
  {
   "cell_type": "code",
   "execution_count": 66,
   "metadata": {
    "colab": {
     "base_uri": "https://localhost:8080/"
    },
    "id": "7HRYwC68Bbe5",
    "outputId": "a573a4cc-8e60-4046-f270-7512e77e2d38"
   },
   "outputs": [
    {
     "name": "stdout",
     "output_type": "stream",
     "text": [
      "Keywords added for 10000\n",
      "Keywords added for 20000\n",
      "Keywords added for 30000\n",
      "Keywords added for 40000\n",
      "Keywords added for 50000\n",
      "Keywords added for 60000\n"
     ]
    }
   ],
   "source": [
    "keyword_list = []\n",
    "i=0\n",
    "for i in range(len(sorted_items_list)):\n",
    "    keywords=extract_topn_from_vector(feature_names,sorted_items_list[i],5)\n",
    "    i = i+1\n",
    "    keyword_list.append(keywords)\n",
    "    # added to list  \n",
    "    if ((i%10000) == 0):\n",
    "        print ('Keywords added for',i)"
   ]
  },
  {
   "cell_type": "code",
   "execution_count": 67,
   "metadata": {
    "colab": {
     "base_uri": "https://localhost:8080/"
    },
    "id": "-1v8P5OvBbe5",
    "outputId": "88864c61-5284-4dfc-9d6b-cf838c5c4098"
   },
   "outputs": [
    {
     "data": {
      "text/plain": [
       "61334"
      ]
     },
     "execution_count": 67,
     "metadata": {},
     "output_type": "execute_result"
    }
   ],
   "source": [
    "len(keyword_list)"
   ]
  },
  {
   "cell_type": "code",
   "execution_count": 68,
   "metadata": {
    "colab": {
     "base_uri": "https://localhost:8080/"
    },
    "id": "EwXQ5W3mBbe5",
    "outputId": "52ff92fe-a578-47e1-a172-d6e16377518c"
   },
   "outputs": [
    {
     "data": {
      "text/plain": [
       "61334"
      ]
     },
     "execution_count": 68,
     "metadata": {},
     "output_type": "execute_result"
    }
   ],
   "source": [
    "def getList(dict):\n",
    "    return list(dict.keys())\n",
    "key_list = []\n",
    "i = 0\n",
    "for i in range(len(keyword_list)):\n",
    "    keys = getList(keyword_list[i])\n",
    "    key_list.append(keys)\n",
    "    \n",
    "len(key_list)\n",
    "    "
   ]
  },
  {
   "cell_type": "code",
   "execution_count": 69,
   "metadata": {
    "colab": {
     "base_uri": "https://localhost:8080/"
    },
    "id": "afLHLYwOBbe5",
    "outputId": "80d191c5-1092-447c-973b-5ba4d001dd27"
   },
   "outputs": [
    {
     "data": {
      "text/plain": [
       "['masti', 'csk', 'comdy', 'rajbhar', 'bhojuperi']"
      ]
     },
     "execution_count": 69,
     "metadata": {},
     "output_type": "execute_result"
    }
   ],
   "source": [
    "key_list[0]"
   ]
  },
  {
   "cell_type": "code",
   "execution_count": 70,
   "metadata": {
    "id": "4WGJ6RMgBbe5"
   },
   "outputs": [],
   "source": [
    "df_new['keywords'] = key_list"
   ]
  },
  {
   "cell_type": "code",
   "execution_count": 71,
   "metadata": {
    "colab": {
     "base_uri": "https://localhost:8080/",
     "height": 632
    },
    "id": "lR8dE7nRBbe5",
    "outputId": "61608d59-df2c-41a5-9789-7ffc00e4a6fe"
   },
   "outputs": [
    {
     "data": {
      "text/html": [
       "<div>\n",
       "<style scoped>\n",
       "    .dataframe tbody tr th:only-of-type {\n",
       "        vertical-align: middle;\n",
       "    }\n",
       "\n",
       "    .dataframe tbody tr th {\n",
       "        vertical-align: top;\n",
       "    }\n",
       "\n",
       "    .dataframe thead th {\n",
       "        text-align: right;\n",
       "    }\n",
       "</style>\n",
       "<table border=\"1\" class=\"dataframe\">\n",
       "  <thead>\n",
       "    <tr style=\"text-align: right;\">\n",
       "      <th></th>\n",
       "      <th>ContentId</th>\n",
       "      <th>title</th>\n",
       "      <th>viewCount</th>\n",
       "      <th>likeCount</th>\n",
       "      <th>dislikeCount</th>\n",
       "      <th>commentCount</th>\n",
       "      <th>favoriteCount</th>\n",
       "      <th>publishedAt</th>\n",
       "      <th>description</th>\n",
       "      <th>duration</th>\n",
       "      <th>tags</th>\n",
       "      <th>text</th>\n",
       "      <th>Processed_text</th>\n",
       "      <th>Word_Count</th>\n",
       "      <th>cluster</th>\n",
       "      <th>keywords</th>\n",
       "    </tr>\n",
       "  </thead>\n",
       "  <tbody>\n",
       "    <tr>\n",
       "      <th>0</th>\n",
       "      <td>o28iwR1XQaw</td>\n",
       "      <td>देवर जी जल्दी करके निकल जाओ नहीं तो आपकी पत्नी...</td>\n",
       "      <td>2835</td>\n",
       "      <td>19</td>\n",
       "      <td>9</td>\n",
       "      <td>5</td>\n",
       "      <td>0.0</td>\n",
       "      <td>2021-10-11T15:08:36Z</td>\n",
       "      <td>#csk masti Hindi  bhojpuri entertainment comed...</td>\n",
       "      <td>PT11M19S</td>\n",
       "      <td>['csk masti', 'entertenmaintvideo', 'Hind comd...</td>\n",
       "      <td>द वर ज जल द करक न कल ज ओ नह त आपक पत न आ ज एग ...</td>\n",
       "      <td>द वर ज जल द करक न कल ज ओ नह त आपक पत न आ ज एग ...</td>\n",
       "      <td>53</td>\n",
       "      <td>0</td>\n",
       "      <td>[masti, csk, comdy, rajbhar, bhojuperi]</td>\n",
       "    </tr>\n",
       "    <tr>\n",
       "      <th>1</th>\n",
       "      <td>eQBVpfwTt1U</td>\n",
       "      <td>रास्ते में राहगीर साधु को ही पटाकर पीछे से काम...</td>\n",
       "      <td>6877</td>\n",
       "      <td>46</td>\n",
       "      <td>9</td>\n",
       "      <td>7</td>\n",
       "      <td>0.0</td>\n",
       "      <td>2021-10-06T15:30:45Z</td>\n",
       "      <td>#csk masti Hindi  bhojpuri entertainment comed...</td>\n",
       "      <td>PT7M2S</td>\n",
       "      <td>['csk masti', 'entertenmaintvideo', 'Hind comd...</td>\n",
       "      <td>र स त म र हग र स ध क ह पट कर प छ स क म चल न लग...</td>\n",
       "      <td>र स त म र हग र स ध क ह पट कर प छ स क म चल न लग...</td>\n",
       "      <td>56</td>\n",
       "      <td>0</td>\n",
       "      <td>[masti, csk, comdy, हग, पट]</td>\n",
       "    </tr>\n",
       "    <tr>\n",
       "      <th>2</th>\n",
       "      <td>jB574yBRlr8</td>\n",
       "      <td>वीडीयो देखकर आपके होश उड़ जाएंगे इस वीडियो को ...</td>\n",
       "      <td>6989</td>\n",
       "      <td>31</td>\n",
       "      <td>11</td>\n",
       "      <td>13</td>\n",
       "      <td>0.0</td>\n",
       "      <td>2021-10-03T15:09:33Z</td>\n",
       "      <td>#csk masti Hindi  bhojpuri entertainment comed...</td>\n",
       "      <td>PT7M24S</td>\n",
       "      <td>['csk masti', 'entertenmaintvideo', 'Hind comd...</td>\n",
       "      <td>व ड य द खकर आपक ह श उड ज ए ग इस व ड य क अक ल म...</td>\n",
       "      <td>व ड य द खकर आपक ह श उड ज ए ग इस व ड य क अक ल म...</td>\n",
       "      <td>57</td>\n",
       "      <td>0</td>\n",
       "      <td>[masti, csk, comdy, rajbhar, bhojuperi]</td>\n",
       "    </tr>\n",
       "    <tr>\n",
       "      <th>3</th>\n",
       "      <td>Idwcd_EbYKY</td>\n",
       "      <td>पड़ोसी देवर ने भाभी को पीछे से माजा मार लिया #...</td>\n",
       "      <td>8521</td>\n",
       "      <td>45</td>\n",
       "      <td>11</td>\n",
       "      <td>12</td>\n",
       "      <td>0.0</td>\n",
       "      <td>2021-09-29T15:09:07Z</td>\n",
       "      <td>#csk masti Hindi  bhojpuri entertainment comed...</td>\n",
       "      <td>PT11M43S</td>\n",
       "      <td>['csk masti', 'entertenmaintvideo', 'Hind comd...</td>\n",
       "      <td>पड स द वर न भ भ क प छ स म ज म र ल य csk masti ...</td>\n",
       "      <td>पड स द वर न भ भ क प छ स म ज म र ल य csk masti ...</td>\n",
       "      <td>52</td>\n",
       "      <td>0</td>\n",
       "      <td>[masti, csk, comdy, rajbhar, bhojuperi]</td>\n",
       "    </tr>\n",
       "    <tr>\n",
       "      <th>4</th>\n",
       "      <td>d6GL7dVOMfk</td>\n",
       "      <td>बधारी में गांव के लड़के से मना लिया सुहागरात #...</td>\n",
       "      <td>158729</td>\n",
       "      <td>329</td>\n",
       "      <td>99</td>\n",
       "      <td>22</td>\n",
       "      <td>0.0</td>\n",
       "      <td>2021-09-28T14:55:08Z</td>\n",
       "      <td>#csk masti Hindi  bhojpuri entertainment comed...</td>\n",
       "      <td>PT11M51S</td>\n",
       "      <td>['csk masti', 'entertenmaintvideo', 'Hind comd...</td>\n",
       "      <td>बध र म ग व क लड क स मन ल य स ह गर त csk masti ...</td>\n",
       "      <td>बध र म ग व क लड क स मन ल य स ह गर त csk masti ...</td>\n",
       "      <td>51</td>\n",
       "      <td>0</td>\n",
       "      <td>[masti, csk, comdy, बध, rajbhar]</td>\n",
       "    </tr>\n",
       "  </tbody>\n",
       "</table>\n",
       "</div>"
      ],
      "text/plain": [
       "     ContentId                                              title viewCount  \\\n",
       "0  o28iwR1XQaw  देवर जी जल्दी करके निकल जाओ नहीं तो आपकी पत्नी...      2835   \n",
       "1  eQBVpfwTt1U  रास्ते में राहगीर साधु को ही पटाकर पीछे से काम...      6877   \n",
       "2  jB574yBRlr8  वीडीयो देखकर आपके होश उड़ जाएंगे इस वीडियो को ...      6989   \n",
       "3  Idwcd_EbYKY  पड़ोसी देवर ने भाभी को पीछे से माजा मार लिया #...      8521   \n",
       "4  d6GL7dVOMfk  बधारी में गांव के लड़के से मना लिया सुहागरात #...    158729   \n",
       "\n",
       "  likeCount dislikeCount commentCount favoriteCount           publishedAt  \\\n",
       "0        19            9            5           0.0  2021-10-11T15:08:36Z   \n",
       "1        46            9            7           0.0  2021-10-06T15:30:45Z   \n",
       "2        31           11           13           0.0  2021-10-03T15:09:33Z   \n",
       "3        45           11           12           0.0  2021-09-29T15:09:07Z   \n",
       "4       329           99           22           0.0  2021-09-28T14:55:08Z   \n",
       "\n",
       "                                         description  duration  \\\n",
       "0  #csk masti Hindi  bhojpuri entertainment comed...  PT11M19S   \n",
       "1  #csk masti Hindi  bhojpuri entertainment comed...    PT7M2S   \n",
       "2  #csk masti Hindi  bhojpuri entertainment comed...   PT7M24S   \n",
       "3  #csk masti Hindi  bhojpuri entertainment comed...  PT11M43S   \n",
       "4  #csk masti Hindi  bhojpuri entertainment comed...  PT11M51S   \n",
       "\n",
       "                                                tags  \\\n",
       "0  ['csk masti', 'entertenmaintvideo', 'Hind comd...   \n",
       "1  ['csk masti', 'entertenmaintvideo', 'Hind comd...   \n",
       "2  ['csk masti', 'entertenmaintvideo', 'Hind comd...   \n",
       "3  ['csk masti', 'entertenmaintvideo', 'Hind comd...   \n",
       "4  ['csk masti', 'entertenmaintvideo', 'Hind comd...   \n",
       "\n",
       "                                                text  \\\n",
       "0  द वर ज जल द करक न कल ज ओ नह त आपक पत न आ ज एग ...   \n",
       "1  र स त म र हग र स ध क ह पट कर प छ स क म चल न लग...   \n",
       "2  व ड य द खकर आपक ह श उड ज ए ग इस व ड य क अक ल म...   \n",
       "3  पड स द वर न भ भ क प छ स म ज म र ल य csk masti ...   \n",
       "4  बध र म ग व क लड क स मन ल य स ह गर त csk masti ...   \n",
       "\n",
       "                                      Processed_text  Word_Count  cluster  \\\n",
       "0  द वर ज जल द करक न कल ज ओ नह त आपक पत न आ ज एग ...          53        0   \n",
       "1  र स त म र हग र स ध क ह पट कर प छ स क म चल न लग...          56        0   \n",
       "2  व ड य द खकर आपक ह श उड ज ए ग इस व ड य क अक ल म...          57        0   \n",
       "3  पड स द वर न भ भ क प छ स म ज म र ल य csk masti ...          52        0   \n",
       "4  बध र म ग व क लड क स मन ल य स ह गर त csk masti ...          51        0   \n",
       "\n",
       "                                  keywords  \n",
       "0  [masti, csk, comdy, rajbhar, bhojuperi]  \n",
       "1              [masti, csk, comdy, हग, पट]  \n",
       "2  [masti, csk, comdy, rajbhar, bhojuperi]  \n",
       "3  [masti, csk, comdy, rajbhar, bhojuperi]  \n",
       "4         [masti, csk, comdy, बध, rajbhar]  "
      ]
     },
     "execution_count": 71,
     "metadata": {},
     "output_type": "execute_result"
    }
   ],
   "source": [
    "df_new.head()"
   ]
  },
  {
   "cell_type": "code",
   "execution_count": 72,
   "metadata": {
    "id": "GIuud5V7Bbe5"
   },
   "outputs": [],
   "source": [
    "count_list = []\n",
    "key_words=''\n",
    "keyword_list = df_new['keywords']\n",
    "combine_keyword = [[' '.join(i)] for i in keyword_list]\n",
    "df_new['combine_keywords'] = combine_keyword"
   ]
  },
  {
   "cell_type": "code",
   "execution_count": 73,
   "metadata": {
    "colab": {
     "base_uri": "https://localhost:8080/",
     "height": 632
    },
    "id": "h0FsvohcBbe6",
    "outputId": "61a5df33-806c-4dc0-c069-f940fbfc5647"
   },
   "outputs": [
    {
     "data": {
      "text/html": [
       "<div>\n",
       "<style scoped>\n",
       "    .dataframe tbody tr th:only-of-type {\n",
       "        vertical-align: middle;\n",
       "    }\n",
       "\n",
       "    .dataframe tbody tr th {\n",
       "        vertical-align: top;\n",
       "    }\n",
       "\n",
       "    .dataframe thead th {\n",
       "        text-align: right;\n",
       "    }\n",
       "</style>\n",
       "<table border=\"1\" class=\"dataframe\">\n",
       "  <thead>\n",
       "    <tr style=\"text-align: right;\">\n",
       "      <th></th>\n",
       "      <th>ContentId</th>\n",
       "      <th>title</th>\n",
       "      <th>viewCount</th>\n",
       "      <th>likeCount</th>\n",
       "      <th>dislikeCount</th>\n",
       "      <th>commentCount</th>\n",
       "      <th>favoriteCount</th>\n",
       "      <th>publishedAt</th>\n",
       "      <th>description</th>\n",
       "      <th>duration</th>\n",
       "      <th>tags</th>\n",
       "      <th>text</th>\n",
       "      <th>Processed_text</th>\n",
       "      <th>Word_Count</th>\n",
       "      <th>cluster</th>\n",
       "      <th>keywords</th>\n",
       "      <th>combine_keywords</th>\n",
       "    </tr>\n",
       "  </thead>\n",
       "  <tbody>\n",
       "    <tr>\n",
       "      <th>61329</th>\n",
       "      <td>itd0Nd5AYN8</td>\n",
       "      <td>How to Present Prawn Cocktail | Gordon Ramsay</td>\n",
       "      <td>209991</td>\n",
       "      <td>2625</td>\n",
       "      <td>104</td>\n",
       "      <td>4</td>\n",
       "      <td>0</td>\n",
       "      <td>2009-11-04T10:03:37Z</td>\n",
       "      <td>Gordon Ramsay shows Kirstie Allsopp how to pre...</td>\n",
       "      <td>PT2M14S</td>\n",
       "      <td>['Gordon Ramsay', 'Gordon Ramsay recipe', 'Gor...</td>\n",
       "      <td>how to present prawn cocktail gordon ramsaygor...</td>\n",
       "      <td>present prawn cocktail gordon ramsaygordon ram...</td>\n",
       "      <td>129</td>\n",
       "      <td>19</td>\n",
       "      <td>[gordon, ramsay, prawn, cook, cocktail]</td>\n",
       "      <td>[gordon ramsay prawn cook cocktail]</td>\n",
       "    </tr>\n",
       "    <tr>\n",
       "      <th>61330</th>\n",
       "      <td>qSHXG-5ShFk</td>\n",
       "      <td>How to Make Mayonnaise | Gordon Ramsay</td>\n",
       "      <td>8456642</td>\n",
       "      <td>86466</td>\n",
       "      <td>2597</td>\n",
       "      <td>683</td>\n",
       "      <td>0</td>\n",
       "      <td>2009-11-04T10:02:17Z</td>\n",
       "      <td>Gordon Ramsay shows how to make mayonnaise. Hi...</td>\n",
       "      <td>PT1M45S</td>\n",
       "      <td>['Gordon Ramsay', 'Gordon Ramsay recipe', 'Gor...</td>\n",
       "      <td>how to make mayonnaise gordon ramsaygordon ram...</td>\n",
       "      <td>make mayonnaise gordon ramsaygordon ramsay sho...</td>\n",
       "      <td>107</td>\n",
       "      <td>19</td>\n",
       "      <td>[gordon, ramsay, mayonnaise, recipe, cook]</td>\n",
       "      <td>[gordon ramsay mayonnaise recipe cook]</td>\n",
       "    </tr>\n",
       "    <tr>\n",
       "      <th>61331</th>\n",
       "      <td>-tZaY-bl5aM</td>\n",
       "      <td>Chris Moyles Strips While Louis Walsh and Kell...</td>\n",
       "      <td>20954</td>\n",
       "      <td>304</td>\n",
       "      <td>15</td>\n",
       "      <td>1</td>\n",
       "      <td>0</td>\n",
       "      <td>2009-11-04T10:00:27Z</td>\n",
       "      <td>Chris Moyles is cooking along live with Gordon...</td>\n",
       "      <td>PT1M4S</td>\n",
       "      <td>['Gordon Ramsay', 'Gordon Ramsay recipe', 'Gor...</td>\n",
       "      <td>chris moyles strips while louis walsh and kell...</td>\n",
       "      <td>chris moyles strip louis walsh kelly jones wat...</td>\n",
       "      <td>120</td>\n",
       "      <td>19</td>\n",
       "      <td>[gordon, ramsay, cook, walsh, gordonramsay]</td>\n",
       "      <td>[gordon ramsay cook walsh gordonramsay]</td>\n",
       "    </tr>\n",
       "    <tr>\n",
       "      <th>61332</th>\n",
       "      <td>j9aaBv5se68</td>\n",
       "      <td>Andi Peters is Better Than Chef | Gordon Ramsay</td>\n",
       "      <td>99588</td>\n",
       "      <td>740</td>\n",
       "      <td>6</td>\n",
       "      <td>10</td>\n",
       "      <td>0</td>\n",
       "      <td>2009-11-04T09:59:57Z</td>\n",
       "      <td>Andy Peters beats Gordon Ramsay in the chocola...</td>\n",
       "      <td>PT55S</td>\n",
       "      <td>['Gordon Ramsay', 'Gordon Ramsay recipe', 'Gor...</td>\n",
       "      <td>andi peters is better than chef gordon ramsaya...</td>\n",
       "      <td>andi peter good chef gordon ramsayandy peter b...</td>\n",
       "      <td>114</td>\n",
       "      <td>19</td>\n",
       "      <td>[gordon, ramsay, andi, cook, peter]</td>\n",
       "      <td>[gordon ramsay andi cook peter]</td>\n",
       "    </tr>\n",
       "    <tr>\n",
       "      <th>61333</th>\n",
       "      <td>UBJtUcnn2RI</td>\n",
       "      <td>Minted Pea and Watercress Veloute | Gordon Ramsay</td>\n",
       "      <td>200496</td>\n",
       "      <td>1708</td>\n",
       "      <td>60</td>\n",
       "      <td>17</td>\n",
       "      <td>0</td>\n",
       "      <td>2009-11-04T09:59:22Z</td>\n",
       "      <td>Gordon Ramsay's recipe for Minted Pea and Wate...</td>\n",
       "      <td>PT32S</td>\n",
       "      <td>['Gordon Ramsay', 'Gordon Ramsay recipe', 'Gor...</td>\n",
       "      <td>minted pea and watercress veloute gordon ramsa...</td>\n",
       "      <td>mint pea watercress veloute gordon ramsaygordo...</td>\n",
       "      <td>103</td>\n",
       "      <td>19</td>\n",
       "      <td>[gordon, ramsay, cook, watercress, gordonramsay]</td>\n",
       "      <td>[gordon ramsay cook watercress gordonramsay]</td>\n",
       "    </tr>\n",
       "  </tbody>\n",
       "</table>\n",
       "</div>"
      ],
      "text/plain": [
       "         ContentId                                              title  \\\n",
       "61329  itd0Nd5AYN8      How to Present Prawn Cocktail | Gordon Ramsay   \n",
       "61330  qSHXG-5ShFk             How to Make Mayonnaise | Gordon Ramsay   \n",
       "61331  -tZaY-bl5aM  Chris Moyles Strips While Louis Walsh and Kell...   \n",
       "61332  j9aaBv5se68    Andi Peters is Better Than Chef | Gordon Ramsay   \n",
       "61333  UBJtUcnn2RI  Minted Pea and Watercress Veloute | Gordon Ramsay   \n",
       "\n",
       "      viewCount likeCount dislikeCount commentCount favoriteCount  \\\n",
       "61329    209991      2625          104            4             0   \n",
       "61330   8456642     86466         2597          683             0   \n",
       "61331     20954       304           15            1             0   \n",
       "61332     99588       740            6           10             0   \n",
       "61333    200496      1708           60           17             0   \n",
       "\n",
       "                publishedAt  \\\n",
       "61329  2009-11-04T10:03:37Z   \n",
       "61330  2009-11-04T10:02:17Z   \n",
       "61331  2009-11-04T10:00:27Z   \n",
       "61332  2009-11-04T09:59:57Z   \n",
       "61333  2009-11-04T09:59:22Z   \n",
       "\n",
       "                                             description duration  \\\n",
       "61329  Gordon Ramsay shows Kirstie Allsopp how to pre...  PT2M14S   \n",
       "61330  Gordon Ramsay shows how to make mayonnaise. Hi...  PT1M45S   \n",
       "61331  Chris Moyles is cooking along live with Gordon...   PT1M4S   \n",
       "61332  Andy Peters beats Gordon Ramsay in the chocola...    PT55S   \n",
       "61333  Gordon Ramsay's recipe for Minted Pea and Wate...    PT32S   \n",
       "\n",
       "                                                    tags  \\\n",
       "61329  ['Gordon Ramsay', 'Gordon Ramsay recipe', 'Gor...   \n",
       "61330  ['Gordon Ramsay', 'Gordon Ramsay recipe', 'Gor...   \n",
       "61331  ['Gordon Ramsay', 'Gordon Ramsay recipe', 'Gor...   \n",
       "61332  ['Gordon Ramsay', 'Gordon Ramsay recipe', 'Gor...   \n",
       "61333  ['Gordon Ramsay', 'Gordon Ramsay recipe', 'Gor...   \n",
       "\n",
       "                                                    text  \\\n",
       "61329  how to present prawn cocktail gordon ramsaygor...   \n",
       "61330  how to make mayonnaise gordon ramsaygordon ram...   \n",
       "61331  chris moyles strips while louis walsh and kell...   \n",
       "61332  andi peters is better than chef gordon ramsaya...   \n",
       "61333  minted pea and watercress veloute gordon ramsa...   \n",
       "\n",
       "                                          Processed_text  Word_Count  cluster  \\\n",
       "61329  present prawn cocktail gordon ramsaygordon ram...         129       19   \n",
       "61330  make mayonnaise gordon ramsaygordon ramsay sho...         107       19   \n",
       "61331  chris moyles strip louis walsh kelly jones wat...         120       19   \n",
       "61332  andi peter good chef gordon ramsayandy peter b...         114       19   \n",
       "61333  mint pea watercress veloute gordon ramsaygordo...         103       19   \n",
       "\n",
       "                                               keywords  \\\n",
       "61329           [gordon, ramsay, prawn, cook, cocktail]   \n",
       "61330        [gordon, ramsay, mayonnaise, recipe, cook]   \n",
       "61331       [gordon, ramsay, cook, walsh, gordonramsay]   \n",
       "61332               [gordon, ramsay, andi, cook, peter]   \n",
       "61333  [gordon, ramsay, cook, watercress, gordonramsay]   \n",
       "\n",
       "                                   combine_keywords  \n",
       "61329           [gordon ramsay prawn cook cocktail]  \n",
       "61330        [gordon ramsay mayonnaise recipe cook]  \n",
       "61331       [gordon ramsay cook walsh gordonramsay]  \n",
       "61332               [gordon ramsay andi cook peter]  \n",
       "61333  [gordon ramsay cook watercress gordonramsay]  "
      ]
     },
     "execution_count": 73,
     "metadata": {},
     "output_type": "execute_result"
    }
   ],
   "source": [
    "df_new.tail()"
   ]
  },
  {
   "cell_type": "code",
   "execution_count": 74,
   "metadata": {
    "colab": {
     "base_uri": "https://localhost:8080/",
     "height": 632
    },
    "id": "2JUgDKoJBbe6",
    "outputId": "0d1841f3-3304-4f4d-8b3b-164efb1e8fdc"
   },
   "outputs": [
    {
     "data": {
      "text/html": [
       "<div>\n",
       "<style scoped>\n",
       "    .dataframe tbody tr th:only-of-type {\n",
       "        vertical-align: middle;\n",
       "    }\n",
       "\n",
       "    .dataframe tbody tr th {\n",
       "        vertical-align: top;\n",
       "    }\n",
       "\n",
       "    .dataframe thead th {\n",
       "        text-align: right;\n",
       "    }\n",
       "</style>\n",
       "<table border=\"1\" class=\"dataframe\">\n",
       "  <thead>\n",
       "    <tr style=\"text-align: right;\">\n",
       "      <th></th>\n",
       "      <th>ContentId</th>\n",
       "      <th>title</th>\n",
       "      <th>viewCount</th>\n",
       "      <th>likeCount</th>\n",
       "      <th>dislikeCount</th>\n",
       "      <th>commentCount</th>\n",
       "      <th>favoriteCount</th>\n",
       "      <th>publishedAt</th>\n",
       "      <th>description</th>\n",
       "      <th>duration</th>\n",
       "      <th>tags</th>\n",
       "      <th>text</th>\n",
       "      <th>Processed_text</th>\n",
       "      <th>Word_Count</th>\n",
       "      <th>cluster</th>\n",
       "      <th>keywords</th>\n",
       "      <th>combine_keywords</th>\n",
       "    </tr>\n",
       "  </thead>\n",
       "  <tbody>\n",
       "    <tr>\n",
       "      <th>0</th>\n",
       "      <td>o28iwR1XQaw</td>\n",
       "      <td>देवर जी जल्दी करके निकल जाओ नहीं तो आपकी पत्नी...</td>\n",
       "      <td>2835</td>\n",
       "      <td>19</td>\n",
       "      <td>9</td>\n",
       "      <td>5</td>\n",
       "      <td>0.0</td>\n",
       "      <td>2021-10-11T15:08:36Z</td>\n",
       "      <td>#csk masti Hindi  bhojpuri entertainment comed...</td>\n",
       "      <td>PT11M19S</td>\n",
       "      <td>['csk masti', 'entertenmaintvideo', 'Hind comd...</td>\n",
       "      <td>द वर ज जल द करक न कल ज ओ नह त आपक पत न आ ज एग ...</td>\n",
       "      <td>द वर ज जल द करक न कल ज ओ नह त आपक पत न आ ज एग ...</td>\n",
       "      <td>53</td>\n",
       "      <td>0</td>\n",
       "      <td>[masti, csk, comdy, rajbhar, bhojuperi]</td>\n",
       "      <td>masti csk comdy rajbhar bhojuperi</td>\n",
       "    </tr>\n",
       "    <tr>\n",
       "      <th>1</th>\n",
       "      <td>eQBVpfwTt1U</td>\n",
       "      <td>रास्ते में राहगीर साधु को ही पटाकर पीछे से काम...</td>\n",
       "      <td>6877</td>\n",
       "      <td>46</td>\n",
       "      <td>9</td>\n",
       "      <td>7</td>\n",
       "      <td>0.0</td>\n",
       "      <td>2021-10-06T15:30:45Z</td>\n",
       "      <td>#csk masti Hindi  bhojpuri entertainment comed...</td>\n",
       "      <td>PT7M2S</td>\n",
       "      <td>['csk masti', 'entertenmaintvideo', 'Hind comd...</td>\n",
       "      <td>र स त म र हग र स ध क ह पट कर प छ स क म चल न लग...</td>\n",
       "      <td>र स त म र हग र स ध क ह पट कर प छ स क म चल न लग...</td>\n",
       "      <td>56</td>\n",
       "      <td>0</td>\n",
       "      <td>[masti, csk, comdy, हग, पट]</td>\n",
       "      <td>masti csk comdy हग पट</td>\n",
       "    </tr>\n",
       "    <tr>\n",
       "      <th>2</th>\n",
       "      <td>jB574yBRlr8</td>\n",
       "      <td>वीडीयो देखकर आपके होश उड़ जाएंगे इस वीडियो को ...</td>\n",
       "      <td>6989</td>\n",
       "      <td>31</td>\n",
       "      <td>11</td>\n",
       "      <td>13</td>\n",
       "      <td>0.0</td>\n",
       "      <td>2021-10-03T15:09:33Z</td>\n",
       "      <td>#csk masti Hindi  bhojpuri entertainment comed...</td>\n",
       "      <td>PT7M24S</td>\n",
       "      <td>['csk masti', 'entertenmaintvideo', 'Hind comd...</td>\n",
       "      <td>व ड य द खकर आपक ह श उड ज ए ग इस व ड य क अक ल म...</td>\n",
       "      <td>व ड य द खकर आपक ह श उड ज ए ग इस व ड य क अक ल म...</td>\n",
       "      <td>57</td>\n",
       "      <td>0</td>\n",
       "      <td>[masti, csk, comdy, rajbhar, bhojuperi]</td>\n",
       "      <td>masti csk comdy rajbhar bhojuperi</td>\n",
       "    </tr>\n",
       "    <tr>\n",
       "      <th>3</th>\n",
       "      <td>Idwcd_EbYKY</td>\n",
       "      <td>पड़ोसी देवर ने भाभी को पीछे से माजा मार लिया #...</td>\n",
       "      <td>8521</td>\n",
       "      <td>45</td>\n",
       "      <td>11</td>\n",
       "      <td>12</td>\n",
       "      <td>0.0</td>\n",
       "      <td>2021-09-29T15:09:07Z</td>\n",
       "      <td>#csk masti Hindi  bhojpuri entertainment comed...</td>\n",
       "      <td>PT11M43S</td>\n",
       "      <td>['csk masti', 'entertenmaintvideo', 'Hind comd...</td>\n",
       "      <td>पड स द वर न भ भ क प छ स म ज म र ल य csk masti ...</td>\n",
       "      <td>पड स द वर न भ भ क प छ स म ज म र ल य csk masti ...</td>\n",
       "      <td>52</td>\n",
       "      <td>0</td>\n",
       "      <td>[masti, csk, comdy, rajbhar, bhojuperi]</td>\n",
       "      <td>masti csk comdy rajbhar bhojuperi</td>\n",
       "    </tr>\n",
       "    <tr>\n",
       "      <th>4</th>\n",
       "      <td>d6GL7dVOMfk</td>\n",
       "      <td>बधारी में गांव के लड़के से मना लिया सुहागरात #...</td>\n",
       "      <td>158729</td>\n",
       "      <td>329</td>\n",
       "      <td>99</td>\n",
       "      <td>22</td>\n",
       "      <td>0.0</td>\n",
       "      <td>2021-09-28T14:55:08Z</td>\n",
       "      <td>#csk masti Hindi  bhojpuri entertainment comed...</td>\n",
       "      <td>PT11M51S</td>\n",
       "      <td>['csk masti', 'entertenmaintvideo', 'Hind comd...</td>\n",
       "      <td>बध र म ग व क लड क स मन ल य स ह गर त csk masti ...</td>\n",
       "      <td>बध र म ग व क लड क स मन ल य स ह गर त csk masti ...</td>\n",
       "      <td>51</td>\n",
       "      <td>0</td>\n",
       "      <td>[masti, csk, comdy, बध, rajbhar]</td>\n",
       "      <td>masti csk comdy बध rajbhar</td>\n",
       "    </tr>\n",
       "  </tbody>\n",
       "</table>\n",
       "</div>"
      ],
      "text/plain": [
       "     ContentId                                              title viewCount  \\\n",
       "0  o28iwR1XQaw  देवर जी जल्दी करके निकल जाओ नहीं तो आपकी पत्नी...      2835   \n",
       "1  eQBVpfwTt1U  रास्ते में राहगीर साधु को ही पटाकर पीछे से काम...      6877   \n",
       "2  jB574yBRlr8  वीडीयो देखकर आपके होश उड़ जाएंगे इस वीडियो को ...      6989   \n",
       "3  Idwcd_EbYKY  पड़ोसी देवर ने भाभी को पीछे से माजा मार लिया #...      8521   \n",
       "4  d6GL7dVOMfk  बधारी में गांव के लड़के से मना लिया सुहागरात #...    158729   \n",
       "\n",
       "  likeCount dislikeCount commentCount favoriteCount           publishedAt  \\\n",
       "0        19            9            5           0.0  2021-10-11T15:08:36Z   \n",
       "1        46            9            7           0.0  2021-10-06T15:30:45Z   \n",
       "2        31           11           13           0.0  2021-10-03T15:09:33Z   \n",
       "3        45           11           12           0.0  2021-09-29T15:09:07Z   \n",
       "4       329           99           22           0.0  2021-09-28T14:55:08Z   \n",
       "\n",
       "                                         description  duration  \\\n",
       "0  #csk masti Hindi  bhojpuri entertainment comed...  PT11M19S   \n",
       "1  #csk masti Hindi  bhojpuri entertainment comed...    PT7M2S   \n",
       "2  #csk masti Hindi  bhojpuri entertainment comed...   PT7M24S   \n",
       "3  #csk masti Hindi  bhojpuri entertainment comed...  PT11M43S   \n",
       "4  #csk masti Hindi  bhojpuri entertainment comed...  PT11M51S   \n",
       "\n",
       "                                                tags  \\\n",
       "0  ['csk masti', 'entertenmaintvideo', 'Hind comd...   \n",
       "1  ['csk masti', 'entertenmaintvideo', 'Hind comd...   \n",
       "2  ['csk masti', 'entertenmaintvideo', 'Hind comd...   \n",
       "3  ['csk masti', 'entertenmaintvideo', 'Hind comd...   \n",
       "4  ['csk masti', 'entertenmaintvideo', 'Hind comd...   \n",
       "\n",
       "                                                text  \\\n",
       "0  द वर ज जल द करक न कल ज ओ नह त आपक पत न आ ज एग ...   \n",
       "1  र स त म र हग र स ध क ह पट कर प छ स क म चल न लग...   \n",
       "2  व ड य द खकर आपक ह श उड ज ए ग इस व ड य क अक ल म...   \n",
       "3  पड स द वर न भ भ क प छ स म ज म र ल य csk masti ...   \n",
       "4  बध र म ग व क लड क स मन ल य स ह गर त csk masti ...   \n",
       "\n",
       "                                      Processed_text  Word_Count  cluster  \\\n",
       "0  द वर ज जल द करक न कल ज ओ नह त आपक पत न आ ज एग ...          53        0   \n",
       "1  र स त म र हग र स ध क ह पट कर प छ स क म चल न लग...          56        0   \n",
       "2  व ड य द खकर आपक ह श उड ज ए ग इस व ड य क अक ल म...          57        0   \n",
       "3  पड स द वर न भ भ क प छ स म ज म र ल य csk masti ...          52        0   \n",
       "4  बध र म ग व क लड क स मन ल य स ह गर त csk masti ...          51        0   \n",
       "\n",
       "                                  keywords                   combine_keywords  \n",
       "0  [masti, csk, comdy, rajbhar, bhojuperi]  masti csk comdy rajbhar bhojuperi  \n",
       "1              [masti, csk, comdy, हग, पट]              masti csk comdy हग पट  \n",
       "2  [masti, csk, comdy, rajbhar, bhojuperi]  masti csk comdy rajbhar bhojuperi  \n",
       "3  [masti, csk, comdy, rajbhar, bhojuperi]  masti csk comdy rajbhar bhojuperi  \n",
       "4         [masti, csk, comdy, बध, rajbhar]         masti csk comdy बध rajbhar  "
      ]
     },
     "execution_count": 74,
     "metadata": {},
     "output_type": "execute_result"
    }
   ],
   "source": [
    "data = df_new['combine_keywords']\n",
    "result = []\n",
    "for sublist in data:\n",
    "    for item in sublist:\n",
    "        result.append(item)\n",
    "\n",
    "df_new['combine_keywords'] = result\n",
    "df_new.head()"
   ]
  },
  {
   "cell_type": "code",
   "execution_count": 75,
   "metadata": {},
   "outputs": [],
   "source": [
    "df_new.to_csv('Final.csv')"
   ]
  },
  {
   "cell_type": "code",
   "execution_count": 76,
   "metadata": {},
   "outputs": [
    {
     "data": {
      "text/plain": [
       "ContentId           0\n",
       "title               0\n",
       "viewCount           0\n",
       "likeCount           0\n",
       "dislikeCount        0\n",
       "commentCount        0\n",
       "favoriteCount       0\n",
       "publishedAt         0\n",
       "description         0\n",
       "duration            0\n",
       "tags                0\n",
       "text                0\n",
       "Processed_text      0\n",
       "Word_Count          0\n",
       "cluster             0\n",
       "keywords            0\n",
       "combine_keywords    0\n",
       "dtype: int64"
      ]
     },
     "execution_count": 76,
     "metadata": {},
     "output_type": "execute_result"
    }
   ],
   "source": [
    "df_new.isnull().sum()"
   ]
  },
  {
   "cell_type": "markdown",
   "metadata": {
    "id": "ZZzsGEnGBbe6"
   },
   "source": [
    "# Input Data"
   ]
  },
  {
   "cell_type": "code",
   "execution_count": 77,
   "metadata": {
    "id": "B6Ib4Vn_Bbe6"
   },
   "outputs": [],
   "source": [
    "import numpy as np\n",
    "input_data = np.array(df_new['combine_keywords'])\n",
    "input_data = input_data.flatten()"
   ]
  },
  {
   "cell_type": "code",
   "execution_count": 78,
   "metadata": {
    "colab": {
     "base_uri": "https://localhost:8080/"
    },
    "id": "kGlb143hBbe6",
    "outputId": "0c9b962c-e0cf-4d80-dc54-1a7aad9df175"
   },
   "outputs": [
    {
     "data": {
      "text/plain": [
       "(61334,)"
      ]
     },
     "execution_count": 78,
     "metadata": {},
     "output_type": "execute_result"
    }
   ],
   "source": [
    "input_data.shape"
   ]
  },
  {
   "cell_type": "markdown",
   "metadata": {
    "id": "ArM7uhgSBbe6"
   },
   "source": [
    "# Output Data"
   ]
  },
  {
   "cell_type": "code",
   "execution_count": 79,
   "metadata": {
    "id": "QFyTJ1QnBbe6"
   },
   "outputs": [],
   "source": [
    "output_data = df_new['cluster']"
   ]
  },
  {
   "cell_type": "code",
   "execution_count": 80,
   "metadata": {
    "colab": {
     "base_uri": "https://localhost:8080/"
    },
    "id": "53EqRbHHOipw",
    "outputId": "562051e9-9022-45e9-9f0e-ba9d0d9431a3"
   },
   "outputs": [
    {
     "data": {
      "text/plain": [
       "(61334,)"
      ]
     },
     "execution_count": 80,
     "metadata": {},
     "output_type": "execute_result"
    }
   ],
   "source": [
    "output_data.shape"
   ]
  },
  {
   "cell_type": "markdown",
   "metadata": {
    "id": "zy_lmt8oBbe6"
   },
   "source": [
    "# Train test split"
   ]
  },
  {
   "cell_type": "code",
   "execution_count": 81,
   "metadata": {
    "colab": {
     "base_uri": "https://localhost:8080/"
    },
    "id": "27TCuwhTBbe6",
    "outputId": "4557dcda-a0f0-403b-bc81-f85699b838f2"
   },
   "outputs": [
    {
     "data": {
      "text/plain": [
       "(49067,)"
      ]
     },
     "execution_count": 81,
     "metadata": {},
     "output_type": "execute_result"
    }
   ],
   "source": [
    "from sklearn.model_selection import train_test_split\n",
    "x_train,x_test,y_train,y_test=train_test_split (input_data,output_data,test_size=0.20,random_state=0)\n",
    "y_train.shape"
   ]
  },
  {
   "cell_type": "markdown",
   "metadata": {
    "id": "WR960MdsBbe7"
   },
   "source": [
    "# Text to numerical conversion"
   ]
  },
  {
   "cell_type": "code",
   "execution_count": 82,
   "metadata": {
    "colab": {
     "base_uri": "https://localhost:8080/"
    },
    "id": "p8GZY_C6Bbe7",
    "outputId": "0312c110-6a2a-4ed4-ab6c-f4a3f7d4aaf7"
   },
   "outputs": [
    {
     "data": {
      "text/plain": [
       "<49067x28875 sparse matrix of type '<class 'numpy.float64'>'\n",
       "\twith 245235 stored elements in Compressed Sparse Row format>"
      ]
     },
     "execution_count": 82,
     "metadata": {},
     "output_type": "execute_result"
    }
   ],
   "source": [
    "from sklearn.feature_extraction.text import TfidfVectorizer\n",
    "vectorizer = TfidfVectorizer()\n",
    "train_data=vectorizer.fit_transform(x_train)\n",
    "test_data=vectorizer.transform(x_test)\n",
    "train_data"
   ]
  },
  {
   "cell_type": "code",
   "execution_count": 83,
   "metadata": {
    "colab": {
     "base_uri": "https://localhost:8080/"
    },
    "id": "jCzVHvAnRIz4",
    "outputId": "71e5de15-a234-4019-b76a-e0a08c0ec1c1"
   },
   "outputs": [
    {
     "data": {
      "text/plain": [
       "(49067, 28875)"
      ]
     },
     "execution_count": 83,
     "metadata": {},
     "output_type": "execute_result"
    }
   ],
   "source": [
    "train_data.shape"
   ]
  },
  {
   "cell_type": "code",
   "execution_count": 84,
   "metadata": {
    "id": "Y9bjfmccQYcl"
   },
   "outputs": [],
   "source": [
    "# from sklearn.decomposition import TruncatedSVD\n",
    "# def svd_tfidf_matrix(matrix):\n",
    "#     svd = TruncatedSVD(n_components=3)\n",
    "#     return svd.fit_transform(matrix)"
   ]
  },
  {
   "cell_type": "code",
   "execution_count": 85,
   "metadata": {
    "id": "tIvhh-ehBbe7"
   },
   "outputs": [],
   "source": [
    "# train_data = svd_tfidf_matrix(matrix=train_data)"
   ]
  },
  {
   "cell_type": "code",
   "execution_count": 86,
   "metadata": {
    "id": "wBEv7Su7RXne"
   },
   "outputs": [],
   "source": [
    "# test_data = svd_tfidf_matrix(matrix=test_data)"
   ]
  },
  {
   "cell_type": "code",
   "execution_count": 87,
   "metadata": {
    "colab": {
     "base_uri": "https://localhost:8080/"
    },
    "id": "TND7xzJRBbe7",
    "outputId": "5162da16-33dc-478b-88ff-dd7875639ea2"
   },
   "outputs": [
    {
     "data": {
      "text/plain": [
       "(49067, 28875)"
      ]
     },
     "execution_count": 87,
     "metadata": {},
     "output_type": "execute_result"
    }
   ],
   "source": [
    "train_data.shape"
   ]
  },
  {
   "cell_type": "code",
   "execution_count": 88,
   "metadata": {
    "colab": {
     "base_uri": "https://localhost:8080/"
    },
    "id": "CKciktSOBbe7",
    "outputId": "330ccb55-a4a1-4ccb-9b5b-cf0f316a3b30"
   },
   "outputs": [
    {
     "data": {
      "text/plain": [
       "(12267, 28875)"
      ]
     },
     "execution_count": 88,
     "metadata": {},
     "output_type": "execute_result"
    }
   ],
   "source": [
    "test_data.shape"
   ]
  },
  {
   "cell_type": "code",
   "execution_count": 89,
   "metadata": {},
   "outputs": [
    {
     "data": {
      "text/plain": [
       "pandas.core.series.Series"
      ]
     },
     "execution_count": 89,
     "metadata": {},
     "output_type": "execute_result"
    }
   ],
   "source": [
    "type(y_train)"
   ]
  },
  {
   "cell_type": "code",
   "execution_count": 90,
   "metadata": {},
   "outputs": [
    {
     "data": {
      "text/plain": [
       "scipy.sparse.csr.csr_matrix"
      ]
     },
     "execution_count": 90,
     "metadata": {},
     "output_type": "execute_result"
    }
   ],
   "source": [
    "type(train_data)"
   ]
  },
  {
   "cell_type": "markdown",
   "metadata": {
    "id": "wA9eIsbtXlCg"
   },
   "source": [
    "# DecisionTreeClassifier"
   ]
  },
  {
   "cell_type": "code",
   "execution_count": 91,
   "metadata": {
    "colab": {
     "base_uri": "https://localhost:8080/"
    },
    "id": "1iHKN8CRBbe9",
    "outputId": "85d8b53d-32d9-48d2-fcea-e9de2b85c1ac"
   },
   "outputs": [
    {
     "name": "stdout",
     "output_type": "stream",
     "text": [
      "0.6896080869015836\n",
      "0.6890030162223852\n"
     ]
    }
   ],
   "source": [
    "from sklearn.tree import DecisionTreeClassifier\n",
    "model3=DecisionTreeClassifier(max_depth=20,random_state=0)\n",
    "model3.fit(train_data, y_train)\n",
    "print(model3.score(train_data, y_train))\n",
    "print(model3.score(test_data,y_test))"
   ]
  },
  {
   "cell_type": "code",
   "execution_count": 92,
   "metadata": {},
   "outputs": [],
   "source": [
    "#Predict the response for test dataset\n",
    "y_pred = model3.predict(test_data)"
   ]
  },
  {
   "cell_type": "code",
   "execution_count": 93,
   "metadata": {},
   "outputs": [],
   "source": [
    "# save the model to disk\n",
    "import pickle\n",
    "filename = 'decisionTree.pkl'\n",
    "pickle.dump(model3, open(filename, 'wb'))"
   ]
  },
  {
   "cell_type": "code",
   "execution_count": 94,
   "metadata": {},
   "outputs": [
    {
     "name": "stdout",
     "output_type": "stream",
     "text": [
      "  (0, 3718)\t0.37798710144990433\n",
      "  (0, 6263)\t0.5249131892043349\n",
      "  (0, 14919)\t0.3546445366038528\n",
      "  (0, 27800)\t0.48744778355794244\n",
      "  (0, 28316)\t0.4671336060468373\n"
     ]
    }
   ],
   "source": [
    "print(test_data[0])"
   ]
  },
  {
   "cell_type": "code",
   "execution_count": 95,
   "metadata": {},
   "outputs": [
    {
     "name": "stdout",
     "output_type": "stream",
     "text": [
      "Accuracy: 0.6890030162223852\n"
     ]
    }
   ],
   "source": [
    "from sklearn import metrics #Import scikit-learn metrics module for accuracy calculation\n",
    "# Model Accuracy, how often is the classifier correct?\n",
    "print(\"Accuracy:\",metrics.accuracy_score(y_test, y_pred))"
   ]
  },
  {
   "cell_type": "code",
   "execution_count": 96,
   "metadata": {},
   "outputs": [],
   "source": [
    "from sklearn.metrics import classification_report, confusion_matrix"
   ]
  },
  {
   "cell_type": "code",
   "execution_count": 97,
   "metadata": {},
   "outputs": [
    {
     "name": "stdout",
     "output_type": "stream",
     "text": [
      "              precision    recall  f1-score   support\n",
      "\n",
      "           0       0.97      0.56      0.71       117\n",
      "           1       1.00      1.00      1.00        82\n",
      "           2       1.00      0.93      0.96       435\n",
      "           3       0.96      0.09      0.16      2021\n",
      "           4       1.00      1.00      1.00       131\n",
      "           5       1.00      1.00      1.00      1982\n",
      "           6       0.35      1.00      0.52      2053\n",
      "           7       0.98      0.99      0.98       264\n",
      "           8       0.98      0.48      0.64       821\n",
      "           9       0.96      0.98      0.97       549\n",
      "          10       1.00      0.98      0.99       378\n",
      "          11       1.00      0.81      0.90       471\n",
      "          12       1.00      1.00      1.00       158\n",
      "          13       0.98      0.92      0.95       196\n",
      "          14       0.95      1.00      0.97       114\n",
      "          15       0.62      0.01      0.02       430\n",
      "          16       0.96      0.48      0.64       830\n",
      "          17       1.00      0.98      0.99       375\n",
      "          18       0.99      0.25      0.40       624\n",
      "          19       1.00      1.00      1.00       236\n",
      "\n",
      "    accuracy                           0.69     12267\n",
      "   macro avg       0.94      0.77      0.79     12267\n",
      "weighted avg       0.86      0.69      0.66     12267\n",
      "\n"
     ]
    }
   ],
   "source": [
    "print(classification_report(y_test, y_pred))"
   ]
  },
  {
   "cell_type": "code",
   "execution_count": 98,
   "metadata": {},
   "outputs": [
    {
     "name": "stdout",
     "output_type": "stream",
     "text": [
      "[[  65    0    0    0    0    0   52    0    0    0    0    0    0    0\n",
      "     0    0    0    0    0    0]\n",
      " [   0   82    0    0    0    0    0    0    0    0    0    0    0    0\n",
      "     0    0    0    0    0    0]\n",
      " [   0    0  405    0    0    0   29    0    0    0    0    0    0    0\n",
      "     0    1    0    0    0    0]\n",
      " [   1    0    0  174    0    0 1809    2    4   11    0    0    0    3\n",
      "     4    0   13    0    0    0]\n",
      " [   0    0    0    0  131    0    0    0    0    0    0    0    0    0\n",
      "     0    0    0    0    0    0]\n",
      " [   0    0    0    0    0 1982    0    0    0    0    0    0    0    0\n",
      "     0    0    0    0    0    0]\n",
      " [   0    0    0    0    0    0 2051    2    0    0    0    0    0    0\n",
      "     0    0    0    0    0    0]\n",
      " [   0    0    0    1    0    0    2  261    0    0    0    0    0    0\n",
      "     0    0    0    0    0    0]\n",
      " [   0    0    0    0    0    0  425    0  393    2    0    0    0    0\n",
      "     0    0    0    0    1    0]\n",
      " [   0    0    0    1    0    0    9    0    0  538    0    0    0    0\n",
      "     0    0    1    0    0    0]\n",
      " [   1    0    0    0    0    0    6    0    0    1  370    0    0    0\n",
      "     0    0    0    0    0    0]\n",
      " [   0    0    0    0    0    0   88    0    0    0    0  383    0    0\n",
      "     0    0    0    0    0    0]\n",
      " [   0    0    0    0    0    0    0    0    0    0    0    0  158    0\n",
      "     0    0    0    0    0    0]\n",
      " [   0    0    0    0    0    0   16    0    0    0    0    0    0  180\n",
      "     0    0    0    0    0    0]\n",
      " [   0    0    0    0    0    0    0    0    0    0    0    0    0    0\n",
      "   114    0    0    0    0    0]\n",
      " [   0    0    0    0    0    1  421    0    0    1    0    0    0    0\n",
      "     0    5    2    0    0    0]\n",
      " [   0    0    0    5    0    0  414    0    0    8    0    0    0    0\n",
      "     1    2  400    0    0    0]\n",
      " [   0    0    0    0    0    0    7    0    0    0    0    0    0    0\n",
      "     0    0    0  368    0    0]\n",
      " [   0    0    0    0    0    0  460    1    6    0    0    0    0    0\n",
      "     1    0    0    0  156    0]\n",
      " [   0    0    0    0    0    0    0    0    0    0    0    0    0    0\n",
      "     0    0    0    0    0  236]]\n"
     ]
    }
   ],
   "source": [
    " print(confusion_matrix(y_test, y_pred))"
   ]
  },
  {
   "cell_type": "code",
   "execution_count": 111,
   "metadata": {},
   "outputs": [],
   "source": [
    "keyword = \"comedy videos\""
   ]
  },
  {
   "cell_type": "code",
   "execution_count": 112,
   "metadata": {},
   "outputs": [
    {
     "data": {
      "text/plain": [
       "<1x28875 sparse matrix of type '<class 'numpy.float64'>'\n",
       "\twith 1 stored elements in Compressed Sparse Row format>"
      ]
     },
     "execution_count": 112,
     "metadata": {},
     "output_type": "execute_result"
    }
   ],
   "source": [
    "#vect_out=cv.fit_transform(keyword)\n",
    "#tfidf_transformer.fit(vect_out)\n",
    "keyword_data=np.array(keyword)\n",
    "keyword_data = keyword_data.flatten()\n",
    "keyword_vect=vectorizer.transform(keyword_data)\n",
    "keyword_vect"
   ]
  },
  {
   "cell_type": "code",
   "execution_count": 113,
   "metadata": {},
   "outputs": [
    {
     "name": "stdout",
     "output_type": "stream",
     "text": [
      "[6]\n"
     ]
    }
   ],
   "source": [
    "# load the model from disk\n",
    "loaded_model = pickle.load(open(filename, 'rb'))\n",
    "result = loaded_model.predict(keyword_vect)\n",
    "print(result)"
   ]
  },
  {
   "cell_type": "code",
   "execution_count": 114,
   "metadata": {},
   "outputs": [
    {
     "name": "stdout",
     "output_type": "stream",
     "text": [
      "[6]\n"
     ]
    }
   ],
   "source": [
    "result = loaded_model.predict(keyword_vect)\n",
    "print(result)"
   ]
  },
  {
   "cell_type": "code",
   "execution_count": 115,
   "metadata": {},
   "outputs": [
    {
     "data": {
      "text/html": [
       "<div>\n",
       "<style scoped>\n",
       "    .dataframe tbody tr th:only-of-type {\n",
       "        vertical-align: middle;\n",
       "    }\n",
       "\n",
       "    .dataframe tbody tr th {\n",
       "        vertical-align: top;\n",
       "    }\n",
       "\n",
       "    .dataframe thead th {\n",
       "        text-align: right;\n",
       "    }\n",
       "</style>\n",
       "<table border=\"1\" class=\"dataframe\">\n",
       "  <thead>\n",
       "    <tr style=\"text-align: right;\">\n",
       "      <th></th>\n",
       "      <th>ContentId</th>\n",
       "      <th>title</th>\n",
       "      <th>viewCount</th>\n",
       "      <th>likeCount</th>\n",
       "      <th>dislikeCount</th>\n",
       "      <th>commentCount</th>\n",
       "      <th>favoriteCount</th>\n",
       "      <th>publishedAt</th>\n",
       "      <th>description</th>\n",
       "      <th>duration</th>\n",
       "      <th>tags</th>\n",
       "      <th>text</th>\n",
       "      <th>Processed_text</th>\n",
       "      <th>Word_Count</th>\n",
       "      <th>cluster</th>\n",
       "    </tr>\n",
       "  </thead>\n",
       "  <tbody>\n",
       "    <tr>\n",
       "      <th>4995</th>\n",
       "      <td>d9NsogHv768</td>\n",
       "      <td>School Students Explain What is N Corona Virus...</td>\n",
       "      <td>127</td>\n",
       "      <td>16</td>\n",
       "      <td>1</td>\n",
       "      <td>0</td>\n",
       "      <td>0</td>\n",
       "      <td>2020-01-31T13:17:08Z</td>\n",
       "      <td>#Corona #Covid19 #CoronaVirus #Lockdown\n",
       "\n",
       "\n",
       "⬇️Su...</td>\n",
       "      <td>PT4M21S</td>\n",
       "      <td>['chandigarh news', 'what is coronavirus', 'co...</td>\n",
       "      <td>school students explain what is n corona virus...</td>\n",
       "      <td>school student explain n corona virus prevent ...</td>\n",
       "      <td>124</td>\n",
       "      <td>6</td>\n",
       "    </tr>\n",
       "    <tr>\n",
       "      <th>5710</th>\n",
       "      <td>sysNV2mULnw</td>\n",
       "      <td>जर्मनी जाने के आसान तरीके  Work Permit Visa Ge...</td>\n",
       "      <td>9151</td>\n",
       "      <td>150</td>\n",
       "      <td>11</td>\n",
       "      <td>17</td>\n",
       "      <td>0</td>\n",
       "      <td>2017-05-04T09:23:00Z</td>\n",
       "      <td>#GermanImmigration #GermanyWorkPermit #Immigra...</td>\n",
       "      <td>PT9M57S</td>\n",
       "      <td>['german visa', 'germany visa', 'student visa'...</td>\n",
       "      <td>जर मन ज न क आस न तर क work permit visa germany...</td>\n",
       "      <td>जर मन ज न क आस न तर क work permit visa germany...</td>\n",
       "      <td>145</td>\n",
       "      <td>6</td>\n",
       "    </tr>\n",
       "    <tr>\n",
       "      <th>14004</th>\n",
       "      <td>uc0F_rQ8WUY</td>\n",
       "      <td>Mazdooro ka Dard.. | Part-1| Dhiraj | Harish |...</td>\n",
       "      <td>415</td>\n",
       "      <td>89</td>\n",
       "      <td>1</td>\n",
       "      <td>36</td>\n",
       "      <td>0</td>\n",
       "      <td>2020-06-16T19:27:09Z</td>\n",
       "      <td>Hello everyone,welcome back hope you guys enjo...</td>\n",
       "      <td>PT6M55S</td>\n",
       "      <td>['#\\nmazdoor', '#mazdoor', '#mazdoorcryin', '#...</td>\n",
       "      <td>mazdooro ka dard part dhiraj harish xgh hello ...</td>\n",
       "      <td>mazdooro ka dard part dhiraj harish xgh hello ...</td>\n",
       "      <td>634</td>\n",
       "      <td>6</td>\n",
       "    </tr>\n",
       "    <tr>\n",
       "      <th>16472</th>\n",
       "      <td>1wfZ2mRn1qc</td>\n",
       "      <td>How did COVID change tourism? | COVID-19 Special</td>\n",
       "      <td>1569</td>\n",
       "      <td>44</td>\n",
       "      <td>7</td>\n",
       "      <td>12</td>\n",
       "      <td>0</td>\n",
       "      <td>2021-10-14T12:37:51Z</td>\n",
       "      <td>The pandemic was a respite for overrun cities ...</td>\n",
       "      <td>PT11M13S</td>\n",
       "      <td>['DW News', 'COVID-19', 'Coronavirus', 'Touris...</td>\n",
       "      <td>how did covid change tourism covid specialthe ...</td>\n",
       "      <td>covid change tourism covid specialthe pandemic...</td>\n",
       "      <td>96</td>\n",
       "      <td>6</td>\n",
       "    </tr>\n",
       "    <tr>\n",
       "      <th>16473</th>\n",
       "      <td>yIFOnrB0kk0</td>\n",
       "      <td>Poland plans to build a 350-million Euro wall ...</td>\n",
       "      <td>9851</td>\n",
       "      <td>268</td>\n",
       "      <td>70</td>\n",
       "      <td>371</td>\n",
       "      <td>0</td>\n",
       "      <td>2021-10-14T11:07:22Z</td>\n",
       "      <td>Warsaw has drafted a bill to spend over 350-mi...</td>\n",
       "      <td>PT8M19S</td>\n",
       "      <td>['DW News', 'EU borders', 'Poland Belarus bord...</td>\n",
       "      <td>poland plans to build a million euro wall at b...</td>\n",
       "      <td>poland plan build million euro wall belarus bo...</td>\n",
       "      <td>115</td>\n",
       "      <td>6</td>\n",
       "    </tr>\n",
       "    <tr>\n",
       "      <th>...</th>\n",
       "      <td>...</td>\n",
       "      <td>...</td>\n",
       "      <td>...</td>\n",
       "      <td>...</td>\n",
       "      <td>...</td>\n",
       "      <td>...</td>\n",
       "      <td>...</td>\n",
       "      <td>...</td>\n",
       "      <td>...</td>\n",
       "      <td>...</td>\n",
       "      <td>...</td>\n",
       "      <td>...</td>\n",
       "      <td>...</td>\n",
       "      <td>...</td>\n",
       "      <td>...</td>\n",
       "    </tr>\n",
       "    <tr>\n",
       "      <th>78875</th>\n",
       "      <td>GCsX-Js6BFo</td>\n",
       "      <td>Minimilton pro player #youtubeindia #mayojapan...</td>\n",
       "      <td>4</td>\n",
       "      <td>0</td>\n",
       "      <td>1</td>\n",
       "      <td>0</td>\n",
       "      <td>0.0</td>\n",
       "      <td>2020-08-09T17:39:45Z</td>\n",
       "      <td>हिंदी में खोजें\n",
       "\n",
       "डोनाल्ड ट्रम्प\n",
       "\n",
       "Donald Trump\n",
       "...</td>\n",
       "      <td>PT4M31S</td>\n",
       "      <td>[]</td>\n",
       "      <td>minimilton pro player youtubeindia mayojapan a...</td>\n",
       "      <td>minimilton pro player youtubeindia mayojapan a...</td>\n",
       "      <td>465</td>\n",
       "      <td>6</td>\n",
       "    </tr>\n",
       "    <tr>\n",
       "      <th>81953</th>\n",
       "      <td>hRgMVqTRLQ0</td>\n",
       "      <td>How to Fix Pen Drive memory loss</td>\n",
       "      <td>275</td>\n",
       "      <td>1</td>\n",
       "      <td>0</td>\n",
       "      <td>1</td>\n",
       "      <td>0.0</td>\n",
       "      <td>2018-07-29T15:31:37Z</td>\n",
       "      <td>Easy fix to pen/ thumb drive memory loss. If p...</td>\n",
       "      <td>PT2M40S</td>\n",
       "      <td>['Pen drive fix', 'memory loss fix', 'pen driv...</td>\n",
       "      <td>how to fix pen drive memory losseasy fix to pe...</td>\n",
       "      <td>fix pen drive memory losseasy fix pen thumb dr...</td>\n",
       "      <td>44</td>\n",
       "      <td>6</td>\n",
       "    </tr>\n",
       "    <tr>\n",
       "      <th>83097</th>\n",
       "      <td>8znP2U3va3c</td>\n",
       "      <td>#COVID-19#NMC#CORONA | DEAD BODY EXCHANGE | दो...</td>\n",
       "      <td>183</td>\n",
       "      <td>12</td>\n",
       "      <td>0</td>\n",
       "      <td>0</td>\n",
       "      <td>0.0</td>\n",
       "      <td>2020-09-08T05:27:43Z</td>\n",
       "      <td>नागपूर महापालिकेचा भोंगळ कारभार! मृतदेहांची अद...</td>\n",
       "      <td>PT2M27S</td>\n",
       "      <td>['Coronavirus', 'Nagpur', 'coronavirus in nagp...</td>\n",
       "      <td>covid nmc corona dead body exchange द ष क ण श...</td>\n",
       "      <td>covid nmc corona dead body exchange द ष क ण श ...</td>\n",
       "      <td>395</td>\n",
       "      <td>6</td>\n",
       "    </tr>\n",
       "    <tr>\n",
       "      <th>87243</th>\n",
       "      <td>S4EdjSTDqsg</td>\n",
       "      <td>#coronavirus #Covid19 Coronavirus symptoms and...</td>\n",
       "      <td>21</td>\n",
       "      <td>10</td>\n",
       "      <td>0</td>\n",
       "      <td>0</td>\n",
       "      <td>0.0</td>\n",
       "      <td>2020-04-07T13:23:39Z</td>\n",
       "      <td>#coronavirus #Covid19 Coronavirus symptoms and...</td>\n",
       "      <td>PT1M42S</td>\n",
       "      <td>['Corona virus news', 'symptoms of coronavirus...</td>\n",
       "      <td>coronavirus covid coronavirus symptoms and pr...</td>\n",
       "      <td>coronavirus covid coronavirus symptom precauti...</td>\n",
       "      <td>26</td>\n",
       "      <td>6</td>\n",
       "    </tr>\n",
       "    <tr>\n",
       "      <th>91177</th>\n",
       "      <td>LOoERytVhUo</td>\n",
       "      <td>COVID-19 Tests for Flying IN and OUT of India</td>\n",
       "      <td>53724</td>\n",
       "      <td>1847</td>\n",
       "      <td>58</td>\n",
       "      <td>320</td>\n",
       "      <td>0.0</td>\n",
       "      <td>2020-09-28T16:08:23Z</td>\n",
       "      <td>If you're flying out of India many countries w...</td>\n",
       "      <td>PT4M11S</td>\n",
       "      <td>['India', 'Hindi Speaking Foreigner', 'Indian'...</td>\n",
       "      <td>covid tests for flying in and out of indiaif y...</td>\n",
       "      <td>covid test fly indiaif fly india many country ...</td>\n",
       "      <td>226</td>\n",
       "      <td>6</td>\n",
       "    </tr>\n",
       "  </tbody>\n",
       "</table>\n",
       "<p>19322 rows × 15 columns</p>\n",
       "</div>"
      ],
      "text/plain": [
       "         ContentId                                              title  \\\n",
       "4995   d9NsogHv768  School Students Explain What is N Corona Virus...   \n",
       "5710   sysNV2mULnw  जर्मनी जाने के आसान तरीके  Work Permit Visa Ge...   \n",
       "14004  uc0F_rQ8WUY  Mazdooro ka Dard.. | Part-1| Dhiraj | Harish |...   \n",
       "16472  1wfZ2mRn1qc   How did COVID change tourism? | COVID-19 Special   \n",
       "16473  yIFOnrB0kk0  Poland plans to build a 350-million Euro wall ...   \n",
       "...            ...                                                ...   \n",
       "78875  GCsX-Js6BFo  Minimilton pro player #youtubeindia #mayojapan...   \n",
       "81953  hRgMVqTRLQ0                   How to Fix Pen Drive memory loss   \n",
       "83097  8znP2U3va3c  #COVID-19#NMC#CORONA | DEAD BODY EXCHANGE | दो...   \n",
       "87243  S4EdjSTDqsg  #coronavirus #Covid19 Coronavirus symptoms and...   \n",
       "91177  LOoERytVhUo      COVID-19 Tests for Flying IN and OUT of India   \n",
       "\n",
       "      viewCount likeCount dislikeCount commentCount favoriteCount  \\\n",
       "4995        127        16            1            0             0   \n",
       "5710       9151       150           11           17             0   \n",
       "14004       415        89            1           36             0   \n",
       "16472      1569        44            7           12             0   \n",
       "16473      9851       268           70          371             0   \n",
       "...         ...       ...          ...          ...           ...   \n",
       "78875         4         0            1            0           0.0   \n",
       "81953       275         1            0            1           0.0   \n",
       "83097       183        12            0            0           0.0   \n",
       "87243        21        10            0            0           0.0   \n",
       "91177     53724      1847           58          320           0.0   \n",
       "\n",
       "                publishedAt  \\\n",
       "4995   2020-01-31T13:17:08Z   \n",
       "5710   2017-05-04T09:23:00Z   \n",
       "14004  2020-06-16T19:27:09Z   \n",
       "16472  2021-10-14T12:37:51Z   \n",
       "16473  2021-10-14T11:07:22Z   \n",
       "...                     ...   \n",
       "78875  2020-08-09T17:39:45Z   \n",
       "81953  2018-07-29T15:31:37Z   \n",
       "83097  2020-09-08T05:27:43Z   \n",
       "87243  2020-04-07T13:23:39Z   \n",
       "91177  2020-09-28T16:08:23Z   \n",
       "\n",
       "                                             description  duration  \\\n",
       "4995   #Corona #Covid19 #CoronaVirus #Lockdown\n",
       "\n",
       "\n",
       "⬇️Su...   PT4M21S   \n",
       "5710   #GermanImmigration #GermanyWorkPermit #Immigra...   PT9M57S   \n",
       "14004  Hello everyone,welcome back hope you guys enjo...   PT6M55S   \n",
       "16472  The pandemic was a respite for overrun cities ...  PT11M13S   \n",
       "16473  Warsaw has drafted a bill to spend over 350-mi...   PT8M19S   \n",
       "...                                                  ...       ...   \n",
       "78875  हिंदी में खोजें\n",
       "\n",
       "डोनाल्ड ट्रम्प\n",
       "\n",
       "Donald Trump\n",
       "...   PT4M31S   \n",
       "81953  Easy fix to pen/ thumb drive memory loss. If p...   PT2M40S   \n",
       "83097  नागपूर महापालिकेचा भोंगळ कारभार! मृतदेहांची अद...   PT2M27S   \n",
       "87243  #coronavirus #Covid19 Coronavirus symptoms and...   PT1M42S   \n",
       "91177  If you're flying out of India many countries w...   PT4M11S   \n",
       "\n",
       "                                                    tags  \\\n",
       "4995   ['chandigarh news', 'what is coronavirus', 'co...   \n",
       "5710   ['german visa', 'germany visa', 'student visa'...   \n",
       "14004  ['#\\nmazdoor', '#mazdoor', '#mazdoorcryin', '#...   \n",
       "16472  ['DW News', 'COVID-19', 'Coronavirus', 'Touris...   \n",
       "16473  ['DW News', 'EU borders', 'Poland Belarus bord...   \n",
       "...                                                  ...   \n",
       "78875                                                 []   \n",
       "81953  ['Pen drive fix', 'memory loss fix', 'pen driv...   \n",
       "83097  ['Coronavirus', 'Nagpur', 'coronavirus in nagp...   \n",
       "87243  ['Corona virus news', 'symptoms of coronavirus...   \n",
       "91177  ['India', 'Hindi Speaking Foreigner', 'Indian'...   \n",
       "\n",
       "                                                    text  \\\n",
       "4995   school students explain what is n corona virus...   \n",
       "5710   जर मन ज न क आस न तर क work permit visa germany...   \n",
       "14004  mazdooro ka dard part dhiraj harish xgh hello ...   \n",
       "16472  how did covid change tourism covid specialthe ...   \n",
       "16473  poland plans to build a million euro wall at b...   \n",
       "...                                                  ...   \n",
       "78875  minimilton pro player youtubeindia mayojapan a...   \n",
       "81953  how to fix pen drive memory losseasy fix to pe...   \n",
       "83097   covid nmc corona dead body exchange द ष क ण श...   \n",
       "87243   coronavirus covid coronavirus symptoms and pr...   \n",
       "91177  covid tests for flying in and out of indiaif y...   \n",
       "\n",
       "                                          Processed_text  Word_Count  cluster  \n",
       "4995   school student explain n corona virus prevent ...         124        6  \n",
       "5710   जर मन ज न क आस न तर क work permit visa germany...         145        6  \n",
       "14004  mazdooro ka dard part dhiraj harish xgh hello ...         634        6  \n",
       "16472  covid change tourism covid specialthe pandemic...          96        6  \n",
       "16473  poland plan build million euro wall belarus bo...         115        6  \n",
       "...                                                  ...         ...      ...  \n",
       "78875  minimilton pro player youtubeindia mayojapan a...         465        6  \n",
       "81953  fix pen drive memory losseasy fix pen thumb dr...          44        6  \n",
       "83097  covid nmc corona dead body exchange द ष क ण श ...         395        6  \n",
       "87243  coronavirus covid coronavirus symptom precauti...          26        6  \n",
       "91177  covid test fly indiaif fly india many country ...         226        6  \n",
       "\n",
       "[19322 rows x 15 columns]"
      ]
     },
     "execution_count": 115,
     "metadata": {},
     "output_type": "execute_result"
    }
   ],
   "source": [
    "result_cluster = df.loc[df['cluster'] == result[0]]\n",
    "result_cluster"
   ]
  },
  {
   "cell_type": "code",
   "execution_count": 116,
   "metadata": {},
   "outputs": [
    {
     "name": "stderr",
     "output_type": "stream",
     "text": [
      "<ipython-input-116-c4fa36583f0d>:1: SettingWithCopyWarning: \n",
      "A value is trying to be set on a copy of a slice from a DataFrame.\n",
      "Try using .loc[row_indexer,col_indexer] = value instead\n",
      "\n",
      "See the caveats in the documentation: https://pandas.pydata.org/pandas-docs/stable/user_guide/indexing.html#returning-a-view-versus-a-copy\n",
      "  result_cluster['viewCount'] = pd.to_numeric(df['viewCount'],errors='coerce')\n"
     ]
    }
   ],
   "source": [
    "result_cluster['viewCount'] = pd.to_numeric(df['viewCount'],errors='coerce')"
   ]
  },
  {
   "cell_type": "code",
   "execution_count": 117,
   "metadata": {},
   "outputs": [
    {
     "name": "stderr",
     "output_type": "stream",
     "text": [
      "<ipython-input-117-a71555df4c4a>:1: SettingWithCopyWarning: \n",
      "A value is trying to be set on a copy of a slice from a DataFrame.\n",
      "Try using .loc[row_indexer,col_indexer] = value instead\n",
      "\n",
      "See the caveats in the documentation: https://pandas.pydata.org/pandas-docs/stable/user_guide/indexing.html#returning-a-view-versus-a-copy\n",
      "  result_cluster['viewCount'] = result_cluster['viewCount'].fillna(0)\n"
     ]
    }
   ],
   "source": [
    "result_cluster['viewCount'] = result_cluster['viewCount'].fillna(0)"
   ]
  },
  {
   "cell_type": "code",
   "execution_count": 118,
   "metadata": {},
   "outputs": [
    {
     "name": "stderr",
     "output_type": "stream",
     "text": [
      "<ipython-input-118-2fa0e82fe5af>:1: SettingWithCopyWarning: \n",
      "A value is trying to be set on a copy of a slice from a DataFrame.\n",
      "Try using .loc[row_indexer,col_indexer] = value instead\n",
      "\n",
      "See the caveats in the documentation: https://pandas.pydata.org/pandas-docs/stable/user_guide/indexing.html#returning-a-view-versus-a-copy\n",
      "  result_cluster['viewCount'] = result_cluster['viewCount'].astype('int32')\n"
     ]
    }
   ],
   "source": [
    "result_cluster['viewCount'] = result_cluster['viewCount'].astype('int32')"
   ]
  },
  {
   "cell_type": "code",
   "execution_count": 119,
   "metadata": {},
   "outputs": [
    {
     "data": {
      "text/plain": [
       "dtype('int32')"
      ]
     },
     "execution_count": 119,
     "metadata": {},
     "output_type": "execute_result"
    }
   ],
   "source": [
    "result_cluster['viewCount'].dtype"
   ]
  },
  {
   "cell_type": "code",
   "execution_count": 120,
   "metadata": {},
   "outputs": [
    {
     "data": {
      "text/html": [
       "<div>\n",
       "<style scoped>\n",
       "    .dataframe tbody tr th:only-of-type {\n",
       "        vertical-align: middle;\n",
       "    }\n",
       "\n",
       "    .dataframe tbody tr th {\n",
       "        vertical-align: top;\n",
       "    }\n",
       "\n",
       "    .dataframe thead th {\n",
       "        text-align: right;\n",
       "    }\n",
       "</style>\n",
       "<table border=\"1\" class=\"dataframe\">\n",
       "  <thead>\n",
       "    <tr style=\"text-align: right;\">\n",
       "      <th></th>\n",
       "      <th>ContentId</th>\n",
       "      <th>title</th>\n",
       "      <th>viewCount</th>\n",
       "      <th>likeCount</th>\n",
       "      <th>dislikeCount</th>\n",
       "      <th>commentCount</th>\n",
       "      <th>favoriteCount</th>\n",
       "      <th>publishedAt</th>\n",
       "      <th>description</th>\n",
       "      <th>duration</th>\n",
       "      <th>tags</th>\n",
       "      <th>text</th>\n",
       "      <th>Processed_text</th>\n",
       "      <th>Word_Count</th>\n",
       "      <th>cluster</th>\n",
       "    </tr>\n",
       "  </thead>\n",
       "  <tbody>\n",
       "    <tr>\n",
       "      <th>26841</th>\n",
       "      <td>-SgqGEX_DOw</td>\n",
       "      <td>#gettingsome: Disabled and sexually active | L...</td>\n",
       "      <td>12212930</td>\n",
       "      <td>69613</td>\n",
       "      <td>5994</td>\n",
       "      <td>2083</td>\n",
       "      <td>0</td>\n",
       "      <td>2015-10-30T09:55:35Z</td>\n",
       "      <td>This woman and her fiance need help to move bu...</td>\n",
       "      <td>PT12M37S</td>\n",
       "      <td>['sex', '#gettingsome', 'disabled people', 'Li...</td>\n",
       "      <td>gettingsome disabled and sexually active life...</td>\n",
       "      <td>gettingsome disable sexually active life links...</td>\n",
       "      <td>33</td>\n",
       "      <td>6</td>\n",
       "    </tr>\n",
       "    <tr>\n",
       "      <th>19033</th>\n",
       "      <td>PLOwKTY81y4</td>\n",
       "      <td>Massive explosion in Beirut | DW News</td>\n",
       "      <td>9172417</td>\n",
       "      <td>57889</td>\n",
       "      <td>3987</td>\n",
       "      <td>12301</td>\n",
       "      <td>0</td>\n",
       "      <td>2020-08-04T16:34:51Z</td>\n",
       "      <td>Breaking news from Lebanon: The capital Beirut...</td>\n",
       "      <td>PT4M18S</td>\n",
       "      <td>['beirut explosion', 'beirut', 'lebanon', 'exp...</td>\n",
       "      <td>massive explosion in beirut dw newsbreaking ne...</td>\n",
       "      <td>massive explosion beirut dw newsbreaking news ...</td>\n",
       "      <td>102</td>\n",
       "      <td>6</td>\n",
       "    </tr>\n",
       "    <tr>\n",
       "      <th>21474</th>\n",
       "      <td>T0NINJOuaf4</td>\n",
       "      <td>The German sauna culture – nudity and all | Me...</td>\n",
       "      <td>8789237</td>\n",
       "      <td>13941</td>\n",
       "      <td>3686</td>\n",
       "      <td>1552</td>\n",
       "      <td>0</td>\n",
       "      <td>2018-12-05T08:40:02Z</td>\n",
       "      <td>The Germans might not have invented the sauna ...</td>\n",
       "      <td>PT2M53S</td>\n",
       "      <td>['Germany', 'German', 'culture shock', 'German...</td>\n",
       "      <td>the german sauna culture nudity and all meet t...</td>\n",
       "      <td>german sauna culture nudity meet germansthe ge...</td>\n",
       "      <td>141</td>\n",
       "      <td>6</td>\n",
       "    </tr>\n",
       "    <tr>\n",
       "      <th>28276</th>\n",
       "      <td>3inhQffPlAI</td>\n",
       "      <td>Jerusalem: Three religions, three families | F...</td>\n",
       "      <td>7611990</td>\n",
       "      <td>48599</td>\n",
       "      <td>4807</td>\n",
       "      <td>1995</td>\n",
       "      <td>0</td>\n",
       "      <td>2015-03-01T15:01:05Z</td>\n",
       "      <td>The Old City of Jerusalem covers less than one...</td>\n",
       "      <td>PT26M7S</td>\n",
       "      <td>['Jerusalem', 'Jews', 'Christians', 'Muslims',...</td>\n",
       "      <td>jerusalem three religions three families faith...</td>\n",
       "      <td>jerusalem three religion three family faith ma...</td>\n",
       "      <td>61</td>\n",
       "      <td>6</td>\n",
       "    </tr>\n",
       "    <tr>\n",
       "      <th>30643</th>\n",
       "      <td>nl3XZkQts3Q</td>\n",
       "      <td>The booming meat industry - Germany the world'...</td>\n",
       "      <td>7088504</td>\n",
       "      <td>8852</td>\n",
       "      <td>5715</td>\n",
       "      <td>2135</td>\n",
       "      <td>0</td>\n",
       "      <td>2014-02-26T14:09:07Z</td>\n",
       "      <td>The Tönnies factory reflects the boom in busin...</td>\n",
       "      <td>PT5M38S</td>\n",
       "      <td>['Tönnies', 'pork', 'cheap meat', 'export', 'm...</td>\n",
       "      <td>the booming meat industry germany the world s ...</td>\n",
       "      <td>boom meat industry germany world second big po...</td>\n",
       "      <td>67</td>\n",
       "      <td>6</td>\n",
       "    </tr>\n",
       "    <tr>\n",
       "      <th>18824</th>\n",
       "      <td>VkuNWDG3yNM</td>\n",
       "      <td>Taiwan: China's next target? | DW Analysis</td>\n",
       "      <td>6030985</td>\n",
       "      <td>58362</td>\n",
       "      <td>7805</td>\n",
       "      <td>24309</td>\n",
       "      <td>0</td>\n",
       "      <td>2020-09-18T16:09:03Z</td>\n",
       "      <td>Despite China’s increasingly aggressive behavi...</td>\n",
       "      <td>PT56M19S</td>\n",
       "      <td>['taiwan', 'china', 'china taiwan', 'taiwan ch...</td>\n",
       "      <td>taiwan china s next target dw analysisdespite ...</td>\n",
       "      <td>taiwan china next target dw analysisdespite ch...</td>\n",
       "      <td>385</td>\n",
       "      <td>6</td>\n",
       "    </tr>\n",
       "    <tr>\n",
       "      <th>28557</th>\n",
       "      <td>yz-Y7o7EETc</td>\n",
       "      <td>TV reporter live on air during Paris explosion...</td>\n",
       "      <td>5836070</td>\n",
       "      <td>65628</td>\n",
       "      <td>2366</td>\n",
       "      <td>768</td>\n",
       "      <td>0</td>\n",
       "      <td>2015-01-09T17:04:45Z</td>\n",
       "      <td>Police storm kosher supermarket in Paris while...</td>\n",
       "      <td>PT1M39S</td>\n",
       "      <td>['Paris', 'Georg Matthes', 'siege', 'hostage',...</td>\n",
       "      <td>tv reporter live on air during paris explosion...</td>\n",
       "      <td>tv reporter live air paris explosion journalpo...</td>\n",
       "      <td>32</td>\n",
       "      <td>6</td>\n",
       "    </tr>\n",
       "    <tr>\n",
       "      <th>19636</th>\n",
       "      <td>yDWJtSsTnNM</td>\n",
       "      <td>Coronavirus Update: Italy reports record death...</td>\n",
       "      <td>5636021</td>\n",
       "      <td>25518</td>\n",
       "      <td>2256</td>\n",
       "      <td>5566</td>\n",
       "      <td>0</td>\n",
       "      <td>2020-03-19T10:04:31Z</td>\n",
       "      <td>Italy has reported the highest one-day death t...</td>\n",
       "      <td>PT21M52S</td>\n",
       "      <td>['coronavirus', 'corona virus', 'virus outbrea...</td>\n",
       "      <td>coronavirus update italy reports record death ...</td>\n",
       "      <td>coronavirus update italy report record death t...</td>\n",
       "      <td>258</td>\n",
       "      <td>6</td>\n",
       "    </tr>\n",
       "    <tr>\n",
       "      <th>19031</th>\n",
       "      <td>wqKn_3iJOP4</td>\n",
       "      <td>Beirut explosion - Multi-angle footage | DW News</td>\n",
       "      <td>4590561</td>\n",
       "      <td>29276</td>\n",
       "      <td>2948</td>\n",
       "      <td>7548</td>\n",
       "      <td>0</td>\n",
       "      <td>2020-08-04T18:03:14Z</td>\n",
       "      <td>Breaking news from Lebanon: The capital Beirut...</td>\n",
       "      <td>PT23S</td>\n",
       "      <td>['beirut explosion', 'beirut', 'lebanon', 'exp...</td>\n",
       "      <td>beirut explosion multi angle footage dw newsbr...</td>\n",
       "      <td>beirut explosion multi angle footage dw newsbr...</td>\n",
       "      <td>107</td>\n",
       "      <td>6</td>\n",
       "    </tr>\n",
       "    <tr>\n",
       "      <th>19620</th>\n",
       "      <td>H_JjhDvePV8</td>\n",
       "      <td>Coronavirus update: Italy struggles to combat ...</td>\n",
       "      <td>3274240</td>\n",
       "      <td>20305</td>\n",
       "      <td>1141</td>\n",
       "      <td>5326</td>\n",
       "      <td>0</td>\n",
       "      <td>2020-03-22T14:00:58Z</td>\n",
       "      <td>Italy is struggling most to combat Covid-19, w...</td>\n",
       "      <td>PT9M47S</td>\n",
       "      <td>['DW News', 'coronavirus', 'corona virus', 'vi...</td>\n",
       "      <td>coronavirus update italy struggles to combat t...</td>\n",
       "      <td>coronavirus update italy struggle combat tsuna...</td>\n",
       "      <td>187</td>\n",
       "      <td>6</td>\n",
       "    </tr>\n",
       "  </tbody>\n",
       "</table>\n",
       "</div>"
      ],
      "text/plain": [
       "         ContentId                                              title  \\\n",
       "26841  -SgqGEX_DOw  #gettingsome: Disabled and sexually active | L...   \n",
       "19033  PLOwKTY81y4              Massive explosion in Beirut | DW News   \n",
       "21474  T0NINJOuaf4  The German sauna culture – nudity and all | Me...   \n",
       "28276  3inhQffPlAI  Jerusalem: Three religions, three families | F...   \n",
       "30643  nl3XZkQts3Q  The booming meat industry - Germany the world'...   \n",
       "18824  VkuNWDG3yNM         Taiwan: China's next target? | DW Analysis   \n",
       "28557  yz-Y7o7EETc  TV reporter live on air during Paris explosion...   \n",
       "19636  yDWJtSsTnNM  Coronavirus Update: Italy reports record death...   \n",
       "19031  wqKn_3iJOP4   Beirut explosion - Multi-angle footage | DW News   \n",
       "19620  H_JjhDvePV8  Coronavirus update: Italy struggles to combat ...   \n",
       "\n",
       "       viewCount likeCount dislikeCount commentCount favoriteCount  \\\n",
       "26841   12212930     69613         5994         2083             0   \n",
       "19033    9172417     57889         3987        12301             0   \n",
       "21474    8789237     13941         3686         1552             0   \n",
       "28276    7611990     48599         4807         1995             0   \n",
       "30643    7088504      8852         5715         2135             0   \n",
       "18824    6030985     58362         7805        24309             0   \n",
       "28557    5836070     65628         2366          768             0   \n",
       "19636    5636021     25518         2256         5566             0   \n",
       "19031    4590561     29276         2948         7548             0   \n",
       "19620    3274240     20305         1141         5326             0   \n",
       "\n",
       "                publishedAt  \\\n",
       "26841  2015-10-30T09:55:35Z   \n",
       "19033  2020-08-04T16:34:51Z   \n",
       "21474  2018-12-05T08:40:02Z   \n",
       "28276  2015-03-01T15:01:05Z   \n",
       "30643  2014-02-26T14:09:07Z   \n",
       "18824  2020-09-18T16:09:03Z   \n",
       "28557  2015-01-09T17:04:45Z   \n",
       "19636  2020-03-19T10:04:31Z   \n",
       "19031  2020-08-04T18:03:14Z   \n",
       "19620  2020-03-22T14:00:58Z   \n",
       "\n",
       "                                             description  duration  \\\n",
       "26841  This woman and her fiance need help to move bu...  PT12M37S   \n",
       "19033  Breaking news from Lebanon: The capital Beirut...   PT4M18S   \n",
       "21474  The Germans might not have invented the sauna ...   PT2M53S   \n",
       "28276  The Old City of Jerusalem covers less than one...   PT26M7S   \n",
       "30643  The Tönnies factory reflects the boom in busin...   PT5M38S   \n",
       "18824  Despite China’s increasingly aggressive behavi...  PT56M19S   \n",
       "28557  Police storm kosher supermarket in Paris while...   PT1M39S   \n",
       "19636  Italy has reported the highest one-day death t...  PT21M52S   \n",
       "19031  Breaking news from Lebanon: The capital Beirut...     PT23S   \n",
       "19620  Italy is struggling most to combat Covid-19, w...   PT9M47S   \n",
       "\n",
       "                                                    tags  \\\n",
       "26841  ['sex', '#gettingsome', 'disabled people', 'Li...   \n",
       "19033  ['beirut explosion', 'beirut', 'lebanon', 'exp...   \n",
       "21474  ['Germany', 'German', 'culture shock', 'German...   \n",
       "28276  ['Jerusalem', 'Jews', 'Christians', 'Muslims',...   \n",
       "30643  ['Tönnies', 'pork', 'cheap meat', 'export', 'm...   \n",
       "18824  ['taiwan', 'china', 'china taiwan', 'taiwan ch...   \n",
       "28557  ['Paris', 'Georg Matthes', 'siege', 'hostage',...   \n",
       "19636  ['coronavirus', 'corona virus', 'virus outbrea...   \n",
       "19031  ['beirut explosion', 'beirut', 'lebanon', 'exp...   \n",
       "19620  ['DW News', 'coronavirus', 'corona virus', 'vi...   \n",
       "\n",
       "                                                    text  \\\n",
       "26841   gettingsome disabled and sexually active life...   \n",
       "19033  massive explosion in beirut dw newsbreaking ne...   \n",
       "21474  the german sauna culture nudity and all meet t...   \n",
       "28276  jerusalem three religions three families faith...   \n",
       "30643  the booming meat industry germany the world s ...   \n",
       "18824  taiwan china s next target dw analysisdespite ...   \n",
       "28557  tv reporter live on air during paris explosion...   \n",
       "19636  coronavirus update italy reports record death ...   \n",
       "19031  beirut explosion multi angle footage dw newsbr...   \n",
       "19620  coronavirus update italy struggles to combat t...   \n",
       "\n",
       "                                          Processed_text  Word_Count  cluster  \n",
       "26841  gettingsome disable sexually active life links...          33        6  \n",
       "19033  massive explosion beirut dw newsbreaking news ...         102        6  \n",
       "21474  german sauna culture nudity meet germansthe ge...         141        6  \n",
       "28276  jerusalem three religion three family faith ma...          61        6  \n",
       "30643  boom meat industry germany world second big po...          67        6  \n",
       "18824  taiwan china next target dw analysisdespite ch...         385        6  \n",
       "28557  tv reporter live air paris explosion journalpo...          32        6  \n",
       "19636  coronavirus update italy report record death t...         258        6  \n",
       "19031  beirut explosion multi angle footage dw newsbr...         107        6  \n",
       "19620  coronavirus update italy struggle combat tsuna...         187        6  "
      ]
     },
     "execution_count": 120,
     "metadata": {},
     "output_type": "execute_result"
    }
   ],
   "source": [
    "#Ten largest values in view Count column\n",
    "recommended_data = result_cluster.nlargest(10,['viewCount'])\n",
    "recommended_data"
   ]
  },
  {
   "cell_type": "code",
   "execution_count": 121,
   "metadata": {},
   "outputs": [
    {
     "data": {
      "text/html": [
       "<div>\n",
       "<style scoped>\n",
       "    .dataframe tbody tr th:only-of-type {\n",
       "        vertical-align: middle;\n",
       "    }\n",
       "\n",
       "    .dataframe tbody tr th {\n",
       "        vertical-align: top;\n",
       "    }\n",
       "\n",
       "    .dataframe thead th {\n",
       "        text-align: right;\n",
       "    }\n",
       "</style>\n",
       "<table border=\"1\" class=\"dataframe\">\n",
       "  <thead>\n",
       "    <tr style=\"text-align: right;\">\n",
       "      <th></th>\n",
       "      <th>ContentId</th>\n",
       "      <th>title</th>\n",
       "    </tr>\n",
       "  </thead>\n",
       "  <tbody>\n",
       "    <tr>\n",
       "      <th>26841</th>\n",
       "      <td>-SgqGEX_DOw</td>\n",
       "      <td>#gettingsome: Disabled and sexually active | L...</td>\n",
       "    </tr>\n",
       "    <tr>\n",
       "      <th>19033</th>\n",
       "      <td>PLOwKTY81y4</td>\n",
       "      <td>Massive explosion in Beirut | DW News</td>\n",
       "    </tr>\n",
       "    <tr>\n",
       "      <th>21474</th>\n",
       "      <td>T0NINJOuaf4</td>\n",
       "      <td>The German sauna culture – nudity and all | Me...</td>\n",
       "    </tr>\n",
       "    <tr>\n",
       "      <th>28276</th>\n",
       "      <td>3inhQffPlAI</td>\n",
       "      <td>Jerusalem: Three religions, three families | F...</td>\n",
       "    </tr>\n",
       "    <tr>\n",
       "      <th>30643</th>\n",
       "      <td>nl3XZkQts3Q</td>\n",
       "      <td>The booming meat industry - Germany the world'...</td>\n",
       "    </tr>\n",
       "    <tr>\n",
       "      <th>18824</th>\n",
       "      <td>VkuNWDG3yNM</td>\n",
       "      <td>Taiwan: China's next target? | DW Analysis</td>\n",
       "    </tr>\n",
       "    <tr>\n",
       "      <th>28557</th>\n",
       "      <td>yz-Y7o7EETc</td>\n",
       "      <td>TV reporter live on air during Paris explosion...</td>\n",
       "    </tr>\n",
       "    <tr>\n",
       "      <th>19636</th>\n",
       "      <td>yDWJtSsTnNM</td>\n",
       "      <td>Coronavirus Update: Italy reports record death...</td>\n",
       "    </tr>\n",
       "    <tr>\n",
       "      <th>19031</th>\n",
       "      <td>wqKn_3iJOP4</td>\n",
       "      <td>Beirut explosion - Multi-angle footage | DW News</td>\n",
       "    </tr>\n",
       "    <tr>\n",
       "      <th>19620</th>\n",
       "      <td>H_JjhDvePV8</td>\n",
       "      <td>Coronavirus update: Italy struggles to combat ...</td>\n",
       "    </tr>\n",
       "  </tbody>\n",
       "</table>\n",
       "</div>"
      ],
      "text/plain": [
       "         ContentId                                              title\n",
       "26841  -SgqGEX_DOw  #gettingsome: Disabled and sexually active | L...\n",
       "19033  PLOwKTY81y4              Massive explosion in Beirut | DW News\n",
       "21474  T0NINJOuaf4  The German sauna culture – nudity and all | Me...\n",
       "28276  3inhQffPlAI  Jerusalem: Three religions, three families | F...\n",
       "30643  nl3XZkQts3Q  The booming meat industry - Germany the world'...\n",
       "18824  VkuNWDG3yNM         Taiwan: China's next target? | DW Analysis\n",
       "28557  yz-Y7o7EETc  TV reporter live on air during Paris explosion...\n",
       "19636  yDWJtSsTnNM  Coronavirus Update: Italy reports record death...\n",
       "19031  wqKn_3iJOP4   Beirut explosion - Multi-angle footage | DW News\n",
       "19620  H_JjhDvePV8  Coronavirus update: Italy struggles to combat ..."
      ]
     },
     "execution_count": 121,
     "metadata": {},
     "output_type": "execute_result"
    }
   ],
   "source": [
    "recommendation_videos = recommended_data[['ContentId','title']]\n",
    "recommendation_videos"
   ]
  },
  {
   "cell_type": "code",
   "execution_count": null,
   "metadata": {},
   "outputs": [],
   "source": []
  },
  {
   "cell_type": "code",
   "execution_count": null,
   "metadata": {},
   "outputs": [],
   "source": []
  }
 ],
 "metadata": {
  "colab": {
   "name": "Modelling.ipynb",
   "provenance": []
  },
  "kernelspec": {
   "display_name": "Python 3",
   "language": "python",
   "name": "python3"
  },
  "language_info": {
   "codemirror_mode": {
    "name": "ipython",
    "version": 3
   },
   "file_extension": ".py",
   "mimetype": "text/x-python",
   "name": "python",
   "nbconvert_exporter": "python",
   "pygments_lexer": "ipython3",
   "version": "3.8.8"
  }
 },
 "nbformat": 4,
 "nbformat_minor": 1
}
