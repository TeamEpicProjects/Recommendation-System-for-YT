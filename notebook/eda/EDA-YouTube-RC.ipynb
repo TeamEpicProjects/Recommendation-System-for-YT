{
 "cells": [
  {
   "cell_type": "code",
   "execution_count": 9,
   "id": "spoken-scanner",
   "metadata": {},
   "outputs": [
    {
     "name": "stdout",
     "output_type": "stream",
     "text": [
      "C:\\Users\\vgarg\\Documents\\GitHub\\Recommendation-System-for-YT\\notebook\\eda\n",
      "C:\\Users\\vgarg\\Documents\\GitHub\\Recommendation-System-for-YT\\notebook\n",
      "C:\\Users\\vgarg\\Documents\\GitHub\\Recommendation-System-for-YT\n",
      "C:\\Users\\vgarg\\Documents\\GitHub\\Recommendation-System-for-YT\\data\\raw\n"
     ]
    }
   ],
   "source": [
    "import os\n",
    "import sys\n",
    "\n",
    "absolutepath = os.path.dirname(os.path.abspath(\"__file__\"))\n",
    "print(absolutepath)\n",
    "\n",
    "fileDirectory = os.path.dirname(absolutepath)\n",
    "print(fileDirectory)\n",
    "#Path of parent directory\n",
    "parentDirectory = os.path.dirname(fileDirectory)\n",
    "print(parentDirectory)\n",
    "#Navigate to Strings directory\n",
    "newPath = os.path.join(parentDirectory, 'data', 'raw')   \n",
    "print(newPath)"
   ]
  },
  {
   "cell_type": "code",
   "execution_count": 10,
   "id": "painted-causing",
   "metadata": {},
   "outputs": [],
   "source": [
    "import zipfile"
   ]
  },
  {
   "cell_type": "code",
   "execution_count": 11,
   "id": "sporting-ribbon",
   "metadata": {},
   "outputs": [],
   "source": [
    "with zipfile.ZipFile(newPath+\"\\youTubeVideoData_680473.zip\",\"r\") as zip_ref:\n",
    "    zip_ref.extractall(absolutepath)"
   ]
  },
  {
   "cell_type": "code",
   "execution_count": 6,
   "id": "received-discretion",
   "metadata": {},
   "outputs": [
    {
     "data": {
      "text/plain": [
       "'C:\\\\Users\\\\vgarg\\\\Documents\\\\GitHub\\\\Recommendation-System-for-YT\\\\notebook\\\\eda'"
      ]
     },
     "execution_count": 6,
     "metadata": {},
     "output_type": "execute_result"
    }
   ],
   "source": [
    "os.path.dirname(os.path.abspath(\"__file__\"))"
   ]
  },
  {
   "cell_type": "code",
   "execution_count": null,
   "id": "ambient-brush",
   "metadata": {},
   "outputs": [],
   "source": []
  }
 ],
 "metadata": {
  "kernelspec": {
   "display_name": "Python 3",
   "language": "python",
   "name": "python3"
  },
  "language_info": {
   "codemirror_mode": {
    "name": "ipython",
    "version": 3
   },
   "file_extension": ".py",
   "mimetype": "text/x-python",
   "name": "python",
   "nbconvert_exporter": "python",
   "pygments_lexer": "ipython3",
   "version": "3.8.3"
  }
 },
 "nbformat": 4,
 "nbformat_minor": 5
}
