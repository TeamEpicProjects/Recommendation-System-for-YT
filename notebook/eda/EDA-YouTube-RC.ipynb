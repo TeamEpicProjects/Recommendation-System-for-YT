{
 "cells": [
  {
   "cell_type": "code",
   "execution_count": 24,
   "id": "detailed-bracelet",
   "metadata": {},
   "outputs": [],
   "source": [
    "import matplotlib.pyplot as plt\n",
    "import numpy as np # convert pictures to Arrays\n",
    "import pandas as pd\n",
    "import seaborn as sns\n",
    "import zipfile\n",
    "import os\n",
    "import sys\n",
    "from datetime import datetime\n",
    "from wordcloud import WordCloud, STOPWORDS\n",
    "import warnings\n",
    "from sklearn.feature_extraction.text import TfidfVectorizer\n",
    "import re\n",
    "from sklearn.feature_extraction.text import CountVectorizer\n",
    "from sklearn.feature_extraction.text import TfidfTransformer\n",
    "from PIL import Image # To read pictures\n",
    "\n",
    "warnings.filterwarnings('ignore')\n",
    "#global declaration\n",
    "FILE_NAME = '\\youTubeVideoData_680473'\n",
    "sns.set()"
   ]
  },
  {
   "cell_type": "code",
   "execution_count": 25,
   "id": "religious-nicaragua",
   "metadata": {},
   "outputs": [
    {
     "name": "stdout",
     "output_type": "stream",
     "text": [
      "C:\\Users\\vgarg\\Documents\\GitHub\\Recommendation-System-for-YT\\notebook\\eda\n",
      "C:\\Users\\vgarg\\Documents\\GitHub\\Recommendation-System-for-YT\\notebook\n",
      "C:\\Users\\vgarg\\Documents\\GitHub\\Recommendation-System-for-YT\n",
      "C:\\Users\\vgarg\\Documents\\GitHub\\Recommendation-System-for-YT\\data\\raw\n"
     ]
    }
   ],
   "source": [
    "absolutepath = os.path.dirname(os.path.abspath(\"__file__\"))\n",
    "print(absolutepath)\n",
    "\n",
    "fileDirectory = os.path.dirname(absolutepath)\n",
    "print(fileDirectory)#Path of parent directory\n",
    "parentDirectory = os.path.dirname(fileDirectory)\n",
    "print(parentDirectory)\n",
    "#Navigate to Strings directory\n",
    "newPath = os.path.join(parentDirectory, 'data', 'raw')   \n",
    "print(newPath)"
   ]
  },
  {
   "cell_type": "code",
   "execution_count": 26,
   "id": "sporting-ribbon",
   "metadata": {},
   "outputs": [],
   "source": [
    "# unzipping the datafile from data raw folder to \n",
    "with zipfile.ZipFile(newPath+FILE_NAME+'.zip',\"r\") as zip_ref:\n",
    "    zip_ref.extractall(absolutepath)"
   ]
  },
  {
   "cell_type": "code",
   "execution_count": 27,
   "id": "5a22fd4c",
   "metadata": {},
   "outputs": [
    {
     "data": {
      "text/plain": [
       "'C:\\\\Users\\\\vgarg\\\\Documents\\\\GitHub\\\\Recommendation-System-for-YT\\\\notebook\\\\eda\\\\youTubeVideoData_680473'"
      ]
     },
     "execution_count": 27,
     "metadata": {},
     "output_type": "execute_result"
    }
   ],
   "source": [
    "absolutepath+FILE_NAME"
   ]
  },
  {
   "cell_type": "code",
   "execution_count": 28,
   "id": "organizational-court",
   "metadata": {},
   "outputs": [],
   "source": [
    "df = pd.read_csv(absolutepath+FILE_NAME+'.csv', index_col=0, low_memory=False)"
   ]
  },
  {
   "cell_type": "code",
   "execution_count": 29,
   "id": "derived-wilderness",
   "metadata": {},
   "outputs": [],
   "source": [
    "for column in df.columns:\n",
    "    if (column.find('Count')>0): \n",
    "        df[column].replace('[]','0', inplace = True)\n",
    "        df[column].replace('','0', inplace = True)\n",
    "        df = df.astype({column:int})\n",
    "    else:\n",
    "        df[column] = df[column].convert_dtypes()"
   ]
  },
  {
   "cell_type": "code",
   "execution_count": 30,
   "id": "impossible-badge",
   "metadata": {},
   "outputs": [
    {
     "data": {
      "text/plain": [
       "(680473, 12)"
      ]
     },
     "execution_count": 30,
     "metadata": {},
     "output_type": "execute_result"
    }
   ],
   "source": [
    "df.shape"
   ]
  },
  {
   "cell_type": "code",
   "execution_count": 31,
   "id": "assumed-simple",
   "metadata": {},
   "outputs": [
    {
     "data": {
      "text/plain": [
       "array(['ContentId', 'title', 'viewCount', 'likeCount', 'dislikeCount',\n",
       "       'commentCount', 'favoriteCount', 'publishedAt', 'description',\n",
       "       'topicCategories', 'duration', 'tags'], dtype=object)"
      ]
     },
     "execution_count": 31,
     "metadata": {},
     "output_type": "execute_result"
    }
   ],
   "source": [
    "df.columns.values"
   ]
  },
  {
   "cell_type": "code",
   "execution_count": 32,
   "id": "9015903a",
   "metadata": {},
   "outputs": [],
   "source": [
    "df = df.drop('topicCategories', axis = 1)"
   ]
  },
  {
   "cell_type": "code",
   "execution_count": 33,
   "id": "contained-immune",
   "metadata": {},
   "outputs": [
    {
     "data": {
      "text/plain": [
       "ContentId        string\n",
       "title            string\n",
       "viewCount         int32\n",
       "likeCount         int32\n",
       "dislikeCount      int32\n",
       "commentCount      int32\n",
       "favoriteCount     int32\n",
       "publishedAt      string\n",
       "description      string\n",
       "duration         string\n",
       "tags             string\n",
       "dtype: object"
      ]
     },
     "execution_count": 33,
     "metadata": {},
     "output_type": "execute_result"
    }
   ],
   "source": [
    "df.dtypes"
   ]
  },
  {
   "cell_type": "code",
   "execution_count": 34,
   "id": "later-mills",
   "metadata": {},
   "outputs": [
    {
     "data": {
      "text/plain": [
       "680473"
      ]
     },
     "execution_count": 34,
     "metadata": {},
     "output_type": "execute_result"
    }
   ],
   "source": [
    "(df['favoriteCount'] == 0). sum()"
   ]
  },
  {
   "cell_type": "code",
   "execution_count": 35,
   "id": "present-moderator",
   "metadata": {},
   "outputs": [],
   "source": [
    "df.drop('favoriteCount',axis =1, inplace = True)"
   ]
  },
  {
   "cell_type": "code",
   "execution_count": 36,
   "id": "blind-journey",
   "metadata": {},
   "outputs": [
    {
     "data": {
      "text/plain": [
       "9708"
      ]
     },
     "execution_count": 36,
     "metadata": {},
     "output_type": "execute_result"
    }
   ],
   "source": [
    "#missing value check\n",
    "df.isnull().sum().sum()"
   ]
  },
  {
   "cell_type": "code",
   "execution_count": 37,
   "id": "addressed-convergence",
   "metadata": {},
   "outputs": [
    {
     "data": {
      "text/html": [
       "<div>\n",
       "<style scoped>\n",
       "    .dataframe tbody tr th:only-of-type {\n",
       "        vertical-align: middle;\n",
       "    }\n",
       "\n",
       "    .dataframe tbody tr th {\n",
       "        vertical-align: top;\n",
       "    }\n",
       "\n",
       "    .dataframe thead th {\n",
       "        text-align: right;\n",
       "    }\n",
       "</style>\n",
       "<table border=\"1\" class=\"dataframe\">\n",
       "  <thead>\n",
       "    <tr style=\"text-align: right;\">\n",
       "      <th></th>\n",
       "      <th>viewCount</th>\n",
       "      <th>likeCount</th>\n",
       "      <th>dislikeCount</th>\n",
       "      <th>commentCount</th>\n",
       "    </tr>\n",
       "  </thead>\n",
       "  <tbody>\n",
       "    <tr>\n",
       "      <th>0</th>\n",
       "      <td>10814444</td>\n",
       "      <td>298544</td>\n",
       "      <td>11821</td>\n",
       "      <td>36687</td>\n",
       "    </tr>\n",
       "    <tr>\n",
       "      <th>1</th>\n",
       "      <td>1432519</td>\n",
       "      <td>48398</td>\n",
       "      <td>972</td>\n",
       "      <td>3475</td>\n",
       "    </tr>\n",
       "    <tr>\n",
       "      <th>2</th>\n",
       "      <td>20686975</td>\n",
       "      <td>297683</td>\n",
       "      <td>15042</td>\n",
       "      <td>22395</td>\n",
       "    </tr>\n",
       "    <tr>\n",
       "      <th>3</th>\n",
       "      <td>531332</td>\n",
       "      <td>21739</td>\n",
       "      <td>654</td>\n",
       "      <td>1592</td>\n",
       "    </tr>\n",
       "    <tr>\n",
       "      <th>4</th>\n",
       "      <td>386427</td>\n",
       "      <td>17893</td>\n",
       "      <td>274</td>\n",
       "      <td>407</td>\n",
       "    </tr>\n",
       "    <tr>\n",
       "      <th>...</th>\n",
       "      <td>...</td>\n",
       "      <td>...</td>\n",
       "      <td>...</td>\n",
       "      <td>...</td>\n",
       "    </tr>\n",
       "    <tr>\n",
       "      <th>149522</th>\n",
       "      <td>4655</td>\n",
       "      <td>125</td>\n",
       "      <td>4</td>\n",
       "      <td>27</td>\n",
       "    </tr>\n",
       "    <tr>\n",
       "      <th>150399</th>\n",
       "      <td>15018</td>\n",
       "      <td>439</td>\n",
       "      <td>12</td>\n",
       "      <td>58</td>\n",
       "    </tr>\n",
       "    <tr>\n",
       "      <th>150416</th>\n",
       "      <td>8493</td>\n",
       "      <td>261</td>\n",
       "      <td>14</td>\n",
       "      <td>11</td>\n",
       "    </tr>\n",
       "    <tr>\n",
       "      <th>161424</th>\n",
       "      <td>25228</td>\n",
       "      <td>1510</td>\n",
       "      <td>23</td>\n",
       "      <td>110</td>\n",
       "    </tr>\n",
       "    <tr>\n",
       "      <th>252543</th>\n",
       "      <td>65759</td>\n",
       "      <td>759</td>\n",
       "      <td>81</td>\n",
       "      <td>95</td>\n",
       "    </tr>\n",
       "  </tbody>\n",
       "</table>\n",
       "<p>680473 rows × 4 columns</p>\n",
       "</div>"
      ],
      "text/plain": [
       "        viewCount  likeCount  dislikeCount  commentCount\n",
       "0        10814444     298544         11821         36687\n",
       "1         1432519      48398           972          3475\n",
       "2        20686975     297683         15042         22395\n",
       "3          531332      21739           654          1592\n",
       "4          386427      17893           274           407\n",
       "...           ...        ...           ...           ...\n",
       "149522       4655        125             4            27\n",
       "150399      15018        439            12            58\n",
       "150416       8493        261            14            11\n",
       "161424      25228       1510            23           110\n",
       "252543      65759        759            81            95\n",
       "\n",
       "[680473 rows x 4 columns]"
      ]
     },
     "execution_count": 37,
     "metadata": {},
     "output_type": "execute_result"
    }
   ],
   "source": [
    "# df_plot = df.drop(['title'])\n",
    "count_col = []\n",
    "for column in df.columns:\n",
    "    if (column.find('Count')<0):\n",
    "        count_col.append(column)\n",
    "df_eda = df.drop(count_col, axis = 1)\n",
    "df_eda.columns.values\n",
    "df_eda"
   ]
  },
  {
   "cell_type": "code",
   "execution_count": 38,
   "id": "788f0eaf",
   "metadata": {},
   "outputs": [
    {
     "data": {
      "text/html": [
       "<div>\n",
       "<style scoped>\n",
       "    .dataframe tbody tr th:only-of-type {\n",
       "        vertical-align: middle;\n",
       "    }\n",
       "\n",
       "    .dataframe tbody tr th {\n",
       "        vertical-align: top;\n",
       "    }\n",
       "\n",
       "    .dataframe thead th {\n",
       "        text-align: right;\n",
       "    }\n",
       "</style>\n",
       "<table border=\"1\" class=\"dataframe\">\n",
       "  <thead>\n",
       "    <tr style=\"text-align: right;\">\n",
       "      <th></th>\n",
       "      <th>ContentId</th>\n",
       "      <th>title</th>\n",
       "      <th>viewCount</th>\n",
       "      <th>likeCount</th>\n",
       "      <th>dislikeCount</th>\n",
       "      <th>commentCount</th>\n",
       "      <th>publishedAt</th>\n",
       "      <th>description</th>\n",
       "      <th>duration</th>\n",
       "      <th>tags</th>\n",
       "    </tr>\n",
       "  </thead>\n",
       "  <tbody>\n",
       "    <tr>\n",
       "      <th>0</th>\n",
       "      <td>uzl8Fooi_LE</td>\n",
       "      <td>Jodaa (Official Video) Jatinder Shah, Afsana K...</td>\n",
       "      <td>10814444</td>\n",
       "      <td>298544</td>\n",
       "      <td>11821</td>\n",
       "      <td>36687</td>\n",
       "      <td>2021-10-11T05:30:09Z</td>\n",
       "      <td>Universal Music proudly brings to you legendar...</td>\n",
       "      <td>PT4M52S</td>\n",
       "      <td>['vyrl originals', 'vyrl original', 'jodaa', '...</td>\n",
       "    </tr>\n",
       "    <tr>\n",
       "      <th>1</th>\n",
       "      <td>w8yoR0IMs08</td>\n",
       "      <td>Jodaa (Official Teaser) Jatinder Shah, Afsana ...</td>\n",
       "      <td>1432519</td>\n",
       "      <td>48398</td>\n",
       "      <td>972</td>\n",
       "      <td>3475</td>\n",
       "      <td>2021-10-09T05:30:03Z</td>\n",
       "      <td>Universal Music brings to you the teaser of th...</td>\n",
       "      <td>PT29S</td>\n",
       "      <td>['vyrl originals', 'vyrl original', 'jodaa', '...</td>\n",
       "    </tr>\n",
       "    <tr>\n",
       "      <th>2</th>\n",
       "      <td>JngV9Ix5hnk</td>\n",
       "      <td>Majnu (Official Video) Sukriti, Prakriti, Mell...</td>\n",
       "      <td>20686975</td>\n",
       "      <td>297683</td>\n",
       "      <td>15042</td>\n",
       "      <td>22395</td>\n",
       "      <td>2021-09-30T05:30:13Z</td>\n",
       "      <td>After all the love you have given their hit si...</td>\n",
       "      <td>PT3M30S</td>\n",
       "      <td>['vyrl originals', 'vyrl original', 'sukriti',...</td>\n",
       "    </tr>\n",
       "    <tr>\n",
       "      <th>3</th>\n",
       "      <td>8AOZLArpvOA</td>\n",
       "      <td>Majnu (Official Teaser) Sukriti, Prakriti, Mel...</td>\n",
       "      <td>531332</td>\n",
       "      <td>21739</td>\n",
       "      <td>654</td>\n",
       "      <td>1592</td>\n",
       "      <td>2021-09-28T05:32:03Z</td>\n",
       "      <td>This one's for all the Majnu's in the house! 😉...</td>\n",
       "      <td>PT29S</td>\n",
       "      <td>['sukriti', 'sukriti kakar', 'prakriti', 'prak...</td>\n",
       "    </tr>\n",
       "    <tr>\n",
       "      <th>4</th>\n",
       "      <td>C7mF13gjjd0</td>\n",
       "      <td>Vishal Mishra - Aaj Bhi (WORMONO LoFi Remake) ...</td>\n",
       "      <td>386427</td>\n",
       "      <td>17893</td>\n",
       "      <td>274</td>\n",
       "      <td>407</td>\n",
       "      <td>2021-09-27T05:30:09Z</td>\n",
       "      <td>VYRL Originals presents WORMONO LoFi Remake of...</td>\n",
       "      <td>PT3M37S</td>\n",
       "      <td>['vyrl originals', 'Aaj Bhi', 'vishal mishra',...</td>\n",
       "    </tr>\n",
       "  </tbody>\n",
       "</table>\n",
       "</div>"
      ],
      "text/plain": [
       "     ContentId                                              title  viewCount  \\\n",
       "0  uzl8Fooi_LE  Jodaa (Official Video) Jatinder Shah, Afsana K...   10814444   \n",
       "1  w8yoR0IMs08  Jodaa (Official Teaser) Jatinder Shah, Afsana ...    1432519   \n",
       "2  JngV9Ix5hnk  Majnu (Official Video) Sukriti, Prakriti, Mell...   20686975   \n",
       "3  8AOZLArpvOA  Majnu (Official Teaser) Sukriti, Prakriti, Mel...     531332   \n",
       "4  C7mF13gjjd0  Vishal Mishra - Aaj Bhi (WORMONO LoFi Remake) ...     386427   \n",
       "\n",
       "   likeCount  dislikeCount  commentCount           publishedAt  \\\n",
       "0     298544         11821         36687  2021-10-11T05:30:09Z   \n",
       "1      48398           972          3475  2021-10-09T05:30:03Z   \n",
       "2     297683         15042         22395  2021-09-30T05:30:13Z   \n",
       "3      21739           654          1592  2021-09-28T05:32:03Z   \n",
       "4      17893           274           407  2021-09-27T05:30:09Z   \n",
       "\n",
       "                                         description duration  \\\n",
       "0  Universal Music proudly brings to you legendar...  PT4M52S   \n",
       "1  Universal Music brings to you the teaser of th...    PT29S   \n",
       "2  After all the love you have given their hit si...  PT3M30S   \n",
       "3  This one's for all the Majnu's in the house! 😉...    PT29S   \n",
       "4  VYRL Originals presents WORMONO LoFi Remake of...  PT3M37S   \n",
       "\n",
       "                                                tags  \n",
       "0  ['vyrl originals', 'vyrl original', 'jodaa', '...  \n",
       "1  ['vyrl originals', 'vyrl original', 'jodaa', '...  \n",
       "2  ['vyrl originals', 'vyrl original', 'sukriti',...  \n",
       "3  ['sukriti', 'sukriti kakar', 'prakriti', 'prak...  \n",
       "4  ['vyrl originals', 'Aaj Bhi', 'vishal mishra',...  "
      ]
     },
     "execution_count": 38,
     "metadata": {},
     "output_type": "execute_result"
    }
   ],
   "source": [
    "df.head()"
   ]
  },
  {
   "cell_type": "code",
   "execution_count": 39,
   "id": "promising-southeast",
   "metadata": {},
   "outputs": [],
   "source": [
    "df_eda = df_eda.loc[~df.index.duplicated(), :]"
   ]
  },
  {
   "cell_type": "code",
   "execution_count": 40,
   "id": "korean-separate",
   "metadata": {},
   "outputs": [
    {
     "data": {
      "text/html": [
       "<div>\n",
       "<style scoped>\n",
       "    .dataframe tbody tr th:only-of-type {\n",
       "        vertical-align: middle;\n",
       "    }\n",
       "\n",
       "    .dataframe tbody tr th {\n",
       "        vertical-align: top;\n",
       "    }\n",
       "\n",
       "    .dataframe thead th {\n",
       "        text-align: right;\n",
       "    }\n",
       "</style>\n",
       "<table border=\"1\" class=\"dataframe\">\n",
       "  <thead>\n",
       "    <tr style=\"text-align: right;\">\n",
       "      <th></th>\n",
       "      <th>viewCount</th>\n",
       "      <th>likeCount</th>\n",
       "      <th>dislikeCount</th>\n",
       "      <th>commentCount</th>\n",
       "    </tr>\n",
       "  </thead>\n",
       "  <tbody>\n",
       "    <tr>\n",
       "      <th>0</th>\n",
       "      <td>10814444</td>\n",
       "      <td>298544</td>\n",
       "      <td>11821</td>\n",
       "      <td>36687</td>\n",
       "    </tr>\n",
       "    <tr>\n",
       "      <th>1</th>\n",
       "      <td>1432519</td>\n",
       "      <td>48398</td>\n",
       "      <td>972</td>\n",
       "      <td>3475</td>\n",
       "    </tr>\n",
       "    <tr>\n",
       "      <th>2</th>\n",
       "      <td>20686975</td>\n",
       "      <td>297683</td>\n",
       "      <td>15042</td>\n",
       "      <td>22395</td>\n",
       "    </tr>\n",
       "    <tr>\n",
       "      <th>3</th>\n",
       "      <td>531332</td>\n",
       "      <td>21739</td>\n",
       "      <td>654</td>\n",
       "      <td>1592</td>\n",
       "    </tr>\n",
       "    <tr>\n",
       "      <th>4</th>\n",
       "      <td>386427</td>\n",
       "      <td>17893</td>\n",
       "      <td>274</td>\n",
       "      <td>407</td>\n",
       "    </tr>\n",
       "    <tr>\n",
       "      <th>...</th>\n",
       "      <td>...</td>\n",
       "      <td>...</td>\n",
       "      <td>...</td>\n",
       "      <td>...</td>\n",
       "    </tr>\n",
       "    <tr>\n",
       "      <th>55723</th>\n",
       "      <td>1952</td>\n",
       "      <td>7</td>\n",
       "      <td>0</td>\n",
       "      <td>0</td>\n",
       "    </tr>\n",
       "    <tr>\n",
       "      <th>55925</th>\n",
       "      <td>4735</td>\n",
       "      <td>85</td>\n",
       "      <td>2</td>\n",
       "      <td>4</td>\n",
       "    </tr>\n",
       "    <tr>\n",
       "      <th>55940</th>\n",
       "      <td>571</td>\n",
       "      <td>1</td>\n",
       "      <td>0</td>\n",
       "      <td>1</td>\n",
       "    </tr>\n",
       "    <tr>\n",
       "      <th>56332</th>\n",
       "      <td>3635</td>\n",
       "      <td>27</td>\n",
       "      <td>2</td>\n",
       "      <td>2</td>\n",
       "    </tr>\n",
       "    <tr>\n",
       "      <th>56378</th>\n",
       "      <td>1662</td>\n",
       "      <td>7</td>\n",
       "      <td>2</td>\n",
       "      <td>1</td>\n",
       "    </tr>\n",
       "  </tbody>\n",
       "</table>\n",
       "<p>462849 rows × 4 columns</p>\n",
       "</div>"
      ],
      "text/plain": [
       "       viewCount  likeCount  dislikeCount  commentCount\n",
       "0       10814444     298544         11821         36687\n",
       "1        1432519      48398           972          3475\n",
       "2       20686975     297683         15042         22395\n",
       "3         531332      21739           654          1592\n",
       "4         386427      17893           274           407\n",
       "...          ...        ...           ...           ...\n",
       "55723       1952          7             0             0\n",
       "55925       4735         85             2             4\n",
       "55940        571          1             0             1\n",
       "56332       3635         27             2             2\n",
       "56378       1662          7             2             1\n",
       "\n",
       "[462849 rows x 4 columns]"
      ]
     },
     "execution_count": 40,
     "metadata": {},
     "output_type": "execute_result"
    }
   ],
   "source": [
    "df_eda"
   ]
  },
  {
   "cell_type": "code",
   "execution_count": 41,
   "id": "pleasant-values",
   "metadata": {},
   "outputs": [
    {
     "data": {
      "text/html": [
       "<div>\n",
       "<style scoped>\n",
       "    .dataframe tbody tr th:only-of-type {\n",
       "        vertical-align: middle;\n",
       "    }\n",
       "\n",
       "    .dataframe tbody tr th {\n",
       "        vertical-align: top;\n",
       "    }\n",
       "\n",
       "    .dataframe thead th {\n",
       "        text-align: right;\n",
       "    }\n",
       "</style>\n",
       "<table border=\"1\" class=\"dataframe\">\n",
       "  <thead>\n",
       "    <tr style=\"text-align: right;\">\n",
       "      <th></th>\n",
       "      <th>viewCount</th>\n",
       "      <th>likeCount</th>\n",
       "      <th>dislikeCount</th>\n",
       "      <th>commentCount</th>\n",
       "    </tr>\n",
       "  </thead>\n",
       "  <tbody>\n",
       "    <tr>\n",
       "      <th>count</th>\n",
       "      <td>4.628490e+05</td>\n",
       "      <td>4.628490e+05</td>\n",
       "      <td>462849.000000</td>\n",
       "      <td>4.628490e+05</td>\n",
       "    </tr>\n",
       "    <tr>\n",
       "      <th>mean</th>\n",
       "      <td>5.298768e+05</td>\n",
       "      <td>9.397322e+03</td>\n",
       "      <td>437.643726</td>\n",
       "      <td>4.562833e+02</td>\n",
       "    </tr>\n",
       "    <tr>\n",
       "      <th>std</th>\n",
       "      <td>5.944080e+06</td>\n",
       "      <td>8.126736e+04</td>\n",
       "      <td>5203.641355</td>\n",
       "      <td>8.177980e+03</td>\n",
       "    </tr>\n",
       "    <tr>\n",
       "      <th>min</th>\n",
       "      <td>0.000000e+00</td>\n",
       "      <td>0.000000e+00</td>\n",
       "      <td>0.000000</td>\n",
       "      <td>0.000000e+00</td>\n",
       "    </tr>\n",
       "    <tr>\n",
       "      <th>25%</th>\n",
       "      <td>1.943000e+03</td>\n",
       "      <td>1.900000e+01</td>\n",
       "      <td>2.000000</td>\n",
       "      <td>1.000000e+00</td>\n",
       "    </tr>\n",
       "    <tr>\n",
       "      <th>50%</th>\n",
       "      <td>1.565300e+04</td>\n",
       "      <td>2.020000e+02</td>\n",
       "      <td>13.000000</td>\n",
       "      <td>1.100000e+01</td>\n",
       "    </tr>\n",
       "    <tr>\n",
       "      <th>75%</th>\n",
       "      <td>1.317480e+05</td>\n",
       "      <td>1.756000e+03</td>\n",
       "      <td>89.000000</td>\n",
       "      <td>7.500000e+01</td>\n",
       "    </tr>\n",
       "    <tr>\n",
       "      <th>max</th>\n",
       "      <td>1.168627e+09</td>\n",
       "      <td>1.798469e+07</td>\n",
       "      <td>874071.000000</td>\n",
       "      <td>3.172471e+06</td>\n",
       "    </tr>\n",
       "  </tbody>\n",
       "</table>\n",
       "</div>"
      ],
      "text/plain": [
       "          viewCount     likeCount   dislikeCount  commentCount\n",
       "count  4.628490e+05  4.628490e+05  462849.000000  4.628490e+05\n",
       "mean   5.298768e+05  9.397322e+03     437.643726  4.562833e+02\n",
       "std    5.944080e+06  8.126736e+04    5203.641355  8.177980e+03\n",
       "min    0.000000e+00  0.000000e+00       0.000000  0.000000e+00\n",
       "25%    1.943000e+03  1.900000e+01       2.000000  1.000000e+00\n",
       "50%    1.565300e+04  2.020000e+02      13.000000  1.100000e+01\n",
       "75%    1.317480e+05  1.756000e+03      89.000000  7.500000e+01\n",
       "max    1.168627e+09  1.798469e+07  874071.000000  3.172471e+06"
      ]
     },
     "execution_count": 41,
     "metadata": {},
     "output_type": "execute_result"
    }
   ],
   "source": [
    "df_eda.describe()\n",
    "    "
   ]
  },
  {
   "cell_type": "code",
   "execution_count": 19,
   "id": "therapeutic-stuff",
   "metadata": {},
   "outputs": [
    {
     "data": {
      "text/plain": [
       "<seaborn.axisgrid.PairGrid at 0x20b67af45e0>"
      ]
     },
     "execution_count": 19,
     "metadata": {},
     "output_type": "execute_result"
    },
    {
     "data": {
      "text/plain": [
       "<Figure size 2160x2160 with 0 Axes>"
      ]
     },
     "metadata": {},
     "output_type": "display_data"
    },
    {
     "data": {
      "image/png": "[encoded data removed]",
      "text/plain": [
       "<Figure size 720x720 with 16 Axes>"
      ]
     },
     "metadata": {},
     "output_type": "display_data"
    }
   ],
   "source": [
    "plt.figure(figsize=(30,30)) \n",
    "g=sns.PairGrid(df_eda)\n",
    "g.map(sns.scatterplot)"
   ]
  },
  {
   "cell_type": "code",
   "execution_count": 20,
   "id": "initial-yesterday",
   "metadata": {},
   "outputs": [
    {
     "data": {
      "text/plain": [
       "<AxesSubplot:>"
      ]
     },
     "execution_count": 20,
     "metadata": {},
     "output_type": "execute_result"
    },
    {
     "data": {
      "image/png": "[encoded data removed]",
      "text/plain": [
       "<Figure size 720x720 with 2 Axes>"
      ]
     },
     "metadata": {},
     "output_type": "display_data"
    }
   ],
   "source": [
    "plt.figure(figsize=(10,10)) \n",
    "sns.heatmap(df_eda.corr(), annot=True,cmap = 'YlGn')"
   ]
  },
  {
   "cell_type": "code",
   "execution_count": 64,
   "id": "a1773f51",
   "metadata": {},
   "outputs": [],
   "source": [
    "def pre_process(text):\n",
    "    \n",
    "    # lowercase\n",
    "    text=text.lower()\n",
    "    \n",
    "    #remove tags\n",
    "    text=re.sub(\"\",\"\",text)\n",
    "    \n",
    "    # remove special characters and digits\n",
    "    text=re.sub(\"(\\\\d|\\\\W)+\",\" \",text)\n",
    "    \n",
    "    return text\n",
    "\n",
    "def get_stop_words(stop_file_path):\n",
    "    \"\"\"load stop words \"\"\"\n",
    "    \n",
    "    with open(stop_file_path, 'r', encoding=\"utf-8\") as f:\n",
    "        stopwords = f.readlines()\n",
    "        stop_set = set(m.strip() for m in stopwords)\n",
    "        return frozenset(stop_set)\n",
    "    \n",
    "def sort_coo(coo_matrix):\n",
    "    tuples = zip(coo_matrix.col, coo_matrix.data)\n",
    "    return sorted(tuples, key=lambda x: (x[1], x[0]), reverse=True)\n",
    "\n",
    "def extract_topn_from_vector(feature_names, sorted_items, topn=5):\n",
    "    \"\"\"get the feature names and tf-idf score of top n items\"\"\"\n",
    "    \n",
    "    #use only topn items from vector\n",
    "    sorted_items = sorted_items[:topn]\n",
    "\n",
    "    score_vals = []\n",
    "    feature_vals = []\n",
    "    \n",
    "    # word index and corresponding tf-idf score\n",
    "    for idx, score in sorted_items:\n",
    "        \n",
    "        #keep track of feature name and its corresponding score\n",
    "        score_vals.append(round(score, 3))\n",
    "        feature_vals.append(feature_names[idx])\n",
    "\n",
    "    #create a tuples of feature,score\n",
    "    #results = zip(feature_vals,score_vals)\n",
    "    results= {}\n",
    "    for idx in range(len(feature_vals)):\n",
    "        results[feature_vals[idx]]=score_vals[idx]\n",
    "    \n",
    "    return results\n",
    "\n",
    "def tfidf(filename, image):\n",
    "    df = pd.read_csv(filename,index_col=[0])\n",
    "    print(\"Data Read\")\n",
    "    df['title'] = df['title'].convert_dtypes()\n",
    "    df['description'] = df['description'].convert_dtypes()\n",
    "    df = df.dropna()\n",
    "    df = df.reset_index(drop=True)\n",
    "    print(\"Null values dropped\")\n",
    "    df['text'] = df['title'] + df['description']\n",
    "\n",
    "#     df = df[:10] ## TO BE DELETE, just for POC coding\n",
    "\n",
    "    df['text'] = df['text'].apply(lambda x:pre_process(x))\n",
    "\n",
    "    #load a set of stop words\n",
    "    stopwords=get_stop_words(r\"C:\\Users\\vgarg\\Documents\\GitHub\\Recommendation-System-for-YT\\notebook\\Preprocessing\\resources\\stopwords.txt\")\n",
    "\n",
    "    #get the text column \n",
    "    docs=df['text'].tolist()\n",
    "\n",
    "    #create a vocabulary of words, \n",
    "    #ignore words that appear in 85% of documents, \n",
    "    #eliminate stop words\n",
    "    cv=CountVectorizer(max_df=0.85,stop_words=stopwords)\n",
    "    word_count_vector=cv.fit_transform(docs)\n",
    "#     print(list(cv.vocabulary_.keys())[:10])\n",
    "    \n",
    "    tfidf_transformer=TfidfTransformer(smooth_idf=True,use_idf=True)\n",
    "    tfidf_transformer.fit(word_count_vector)\n",
    "    # you only needs to do this once, this is a mapping of index to \n",
    "    feature_names=cv.get_feature_names()\n",
    "    i = 0\n",
    "    tex_list = df['text'].tolist()\n",
    "    tf_idf_vector_list = []\n",
    "    for i in range(len(tex_list)):\n",
    "        tf_idf_vector=tfidf_transformer.transform(cv.transform([tex_list[i]]))\n",
    "        i = i+1\n",
    "        tf_idf_vector_list.append(tf_idf_vector)\n",
    "    print(\"Tf-idf Generated\")\n",
    "    \n",
    "    sorted_items_list=[]\n",
    "    i=0\n",
    "    for i in range(len(tf_idf_vector_list)):\n",
    "        sorted_items=sort_coo(tf_idf_vector_list[i].tocoo())\n",
    "        i = i+1\n",
    "        sorted_items_list.append(sorted_items)\n",
    "    print(\"Sorting Complete\")\n",
    "    keyword_list = []\n",
    "    i=0\n",
    "    for i in range(len(sorted_items_list)):\n",
    "        keywords=extract_topn_from_vector(feature_names,sorted_items_list[i],5)\n",
    "        i = i+1\n",
    "        keyword_list.append(keywords)\n",
    "    print(\"Top 5 extraction done\")\n",
    "    count_list = []\n",
    "    comment_words=''\n",
    "    for i  in range(len(keyword_list)):\n",
    "        for k in keyword_list[i]:\n",
    "            count_list.append(k)\n",
    "#             if((i%10000)==0):\n",
    "#                 print(\"Keywords added\",i)\n",
    "            comment_words += \"\".join(k)+\" \"\n",
    "    print(\"Keywords text file create\")\n",
    "    \n",
    "    mask = np.array(Image.open(image))# Path for Image of the state\n",
    "    \n",
    "    wordcloud = WordCloud(width = 2000, height = 1600,\n",
    "                background_color ='white',\n",
    "                stopwords = stopwords,\n",
    "                min_font_size = 5,\n",
    "                mask = mask,\n",
    "                collocations=False).generate(comment_words)\n",
    "    return wordcloud\n",
    "#     plot the WordCloud image                      \n",
    "#     plt.figure(figsize = (8, 8), facecolor = None)\n",
    "#     plt.imshow(wordcloud)\n",
    "#     plt.axis(\"off\")\n",
    "#     plt.tight_layout(pad = 0)\n",
    "\n",
    "#     plt.imshow(wordcloud, interpolation='bilinear')"
   ]
  },
  {
   "cell_type": "code",
   "execution_count": 65,
   "id": "decreased-jewel",
   "metadata": {},
   "outputs": [],
   "source": [
    "## get all state data file name and image file name and store \n",
    "def get_state_data(states, zip_files):\n",
    "    absolutepath = os.path.dirname(os.path.abspath(\"__file__\"))\n",
    "    print(absolutepath)\n",
    "\n",
    "    fileDirectory = os.path.dirname(absolutepath)\n",
    "    print(fileDirectory)#Path of parent directory\n",
    "    parentDirectory = os.path.dirname(fileDirectory)\n",
    "    print(parentDirectory)\n",
    "    #Navigate to Strings directory\n",
    "    newPath = os.path.join(parentDirectory, 'data', 'raw')   \n",
    "    print(newPath)\n",
    "    for zip_file in zip_files:      \n",
    "        with zipfile.ZipFile(newPath+'\\\\'+zip_file+'.zip',\"r\") as zip_ref:\n",
    "            zip_ref.extractall(absolutepath)\n",
    "    image_files = []\n",
    "    data_files = []\n",
    "    for state in states:\n",
    "        image_files.append(absolutepath+'\\\\'+state+'.png')\n",
    "        data_files.append(absolutepath+'\\\\'+'youTubeSearchList'+state+'.csv')\n",
    "    return image_files, data_files  \n",
    "    "
   ]
  },
  {
   "cell_type": "code",
   "execution_count": 66,
   "id": "capable-uzbekistan",
   "metadata": {},
   "outputs": [],
   "source": [
    "# # Change existing images to high resolution image\n",
    "\n",
    "\n",
    "# # img_interp.py\n",
    "# import os\n",
    "# import sys\n",
    "# import numpy as np\n",
    "# from scipy.interpolate import griddata\n",
    "# import matplotlib.pyplot as plt\n",
    "# from PIL import Image\n",
    "\n",
    "# image_files,data_files = get_state_data(states,zip_files)\n",
    "\n",
    "# def make_interpolated_image(nsamples, image):\n",
    "#     ix = np.random.randint(im.shape[1], size=nsamples)\n",
    "#     iy = np.random.randint(im.shape[0], size=nsamples)\n",
    "#     samples = im[iy,ix]\n",
    "#     int_im = griddata((iy, ix), samples, (Y, X))\n",
    "#     return int_im\n",
    "\n",
    "# for image in image_files:\n",
    "#     # Read in image and convert to greyscale array object\n",
    "#     img_name = image\n",
    "#     im = Image.open(img_name)\n",
    "#     im = np.array(im.convert('L'))\n",
    "    \n",
    "#     # A meshgrid of pixel coordinates\n",
    "#     nx, ny = im.shape[1], im.shape[0]\n",
    "#     X, Y = np.meshgrid(np.arange(0, nx, 1), np.arange(0, ny, 1))\n",
    "    \n",
    "#     # Create a figure of nrows x ncols subplots, and orient it appropriately\n",
    "#     # for the aspect ratio of the image.\n",
    "    \n",
    "#     plt.figure(figsize = (6,6), facecolor = None)\n",
    "    \n",
    "#     # Convert an integer i to coordinates in the ax array\n",
    "#     get_indices = lambda i: (i // nrows, i % ncols)\n",
    "    \n",
    "#     # Sample 100, 1,000, 10,000 and 100,000 points and plot the interpolated\n",
    "#     # images in the figure\n",
    "#     nsamples = 1000000\n",
    "#     # axes = ax[get_indices(i)]\n",
    "#     plt.imshow(make_interpolated_image(nsamples,image),\n",
    "#                           cmap=plt.get_cmap('Greys_r'))\n",
    "#     # plt.set_xticks([])\n",
    "#     # plt.set_yticks([])\n",
    "#     # plt.title('nsamples = {0:d}'.format(nsamples))\n",
    "#     filestem = os.path.splitext(os.path.basename(img_name))[0]\n",
    "#     plt.savefig(image, dpi=300)\n",
    "    "
   ]
  },
  {
   "cell_type": "code",
   "execution_count": 67,
   "id": "pleased-cleaning",
   "metadata": {},
   "outputs": [],
   "source": [
    "# #Quick testing\n",
    "# ## TO BE DELETED\n",
    "# wordcloud1 = tfidf(r\"C:\\Users\\vgarg\\Documents\\GitHub\\Recommendation-System-for-YT\\notebook\\eda\\youTubeSearchListGujarat.csv\",\n",
    "#       r\"C:\\Users\\vgarg\\Documents\\GitHub\\Recommendation-System-for-YT\\notebook\\eda\\Gujarat.png\")\n",
    "# plt.figure(figsize = (6,6), facecolor = None)\n",
    "# plt.imshow(wordcloud1)\n",
    "# plt.axis(\"off\")\n",
    "# plt.tight_layout(pad = 0)\n",
    "# plt.show()"
   ]
  },
  {
   "cell_type": "code",
   "execution_count": 68,
   "id": "satisfied-package",
   "metadata": {},
   "outputs": [],
   "source": [
    "states = ['Assam','Chattishgarh','Gujarat','Haryana','Karntaka','Kerala','MadyaPradesh',\n",
    "         'Maharastra','TamilNadu','Telangana','Tripura','UttarPradesh','WestBengal']\n",
    "zip_files = ['13IndianStateMapImage','13IndianStateYouTubeData']"
   ]
  },
  {
   "cell_type": "code",
   "execution_count": 69,
   "id": "defined-fabric",
   "metadata": {},
   "outputs": [
    {
     "name": "stdout",
     "output_type": "stream",
     "text": [
      "C:\\Users\\vgarg\\Documents\\GitHub\\Recommendation-System-for-YT\\notebook\\eda\n",
      "C:\\Users\\vgarg\\Documents\\GitHub\\Recommendation-System-for-YT\\notebook\n",
      "C:\\Users\\vgarg\\Documents\\GitHub\\Recommendation-System-for-YT\n",
      "C:\\Users\\vgarg\\Documents\\GitHub\\Recommendation-System-for-YT\\data\\raw\n"
     ]
    }
   ],
   "source": [
    "image_files,data_files = get_state_data(states,zip_files)"
   ]
  },
  {
   "cell_type": "code",
   "execution_count": null,
   "id": "amended-bailey",
   "metadata": {},
   "outputs": [
    {
     "name": "stdout",
     "output_type": "stream",
     "text": [
      "Data File:- C:\\Users\\vgarg\\Documents\\GitHub\\Recommendation-System-for-YT\\notebook\\eda\\youTubeSearchListAssam.csv \n",
      " Image File:- C:\\Users\\vgarg\\Documents\\GitHub\\Recommendation-System-for-YT\\notebook\\eda\\Assam.png\n",
      "Data Read\n",
      "Null values dropped\n",
      "Tf-idf Generated\n",
      "Sorting Complete\n",
      "Top 5 extraction done\n",
      "Keywords text file create\n",
      "Data File:- C:\\Users\\vgarg\\Documents\\GitHub\\Recommendation-System-for-YT\\notebook\\eda\\youTubeSearchListChattishgarh.csv \n",
      " Image File:- C:\\Users\\vgarg\\Documents\\GitHub\\Recommendation-System-for-YT\\notebook\\eda\\Chattishgarh.png\n",
      "Data Read\n",
      "Null values dropped\n",
      "Tf-idf Generated\n",
      "Sorting Complete\n",
      "Top 5 extraction done\n",
      "Keywords text file create\n",
      "Data File:- C:\\Users\\vgarg\\Documents\\GitHub\\Recommendation-System-for-YT\\notebook\\eda\\youTubeSearchListGujarat.csv \n",
      " Image File:- C:\\Users\\vgarg\\Documents\\GitHub\\Recommendation-System-for-YT\\notebook\\eda\\Gujarat.png\n",
      "Data Read\n",
      "Null values dropped\n",
      "Tf-idf Generated\n",
      "Sorting Complete\n",
      "Top 5 extraction done\n",
      "Keywords text file create\n",
      "Data File:- C:\\Users\\vgarg\\Documents\\GitHub\\Recommendation-System-for-YT\\notebook\\eda\\youTubeSearchListHaryana.csv \n",
      " Image File:- C:\\Users\\vgarg\\Documents\\GitHub\\Recommendation-System-for-YT\\notebook\\eda\\Haryana.png\n",
      "Data Read\n",
      "Null values dropped\n",
      "Tf-idf Generated\n",
      "Sorting Complete\n",
      "Top 5 extraction done\n",
      "Keywords text file create\n",
      "Data File:- C:\\Users\\vgarg\\Documents\\GitHub\\Recommendation-System-for-YT\\notebook\\eda\\youTubeSearchListKarntaka.csv \n",
      " Image File:- C:\\Users\\vgarg\\Documents\\GitHub\\Recommendation-System-for-YT\\notebook\\eda\\Karntaka.png\n",
      "Data Read\n",
      "Null values dropped\n",
      "Tf-idf Generated\n",
      "Sorting Complete\n",
      "Top 5 extraction done\n",
      "Keywords text file create\n",
      "Data File:- C:\\Users\\vgarg\\Documents\\GitHub\\Recommendation-System-for-YT\\notebook\\eda\\youTubeSearchListKerala.csv \n",
      " Image File:- C:\\Users\\vgarg\\Documents\\GitHub\\Recommendation-System-for-YT\\notebook\\eda\\Kerala.png\n",
      "Data Read\n",
      "Null values dropped\n",
      "Tf-idf Generated\n",
      "Sorting Complete\n",
      "Top 5 extraction done\n",
      "Keywords text file create\n",
      "Data File:- C:\\Users\\vgarg\\Documents\\GitHub\\Recommendation-System-for-YT\\notebook\\eda\\youTubeSearchListMadyaPradesh.csv \n",
      " Image File:- C:\\Users\\vgarg\\Documents\\GitHub\\Recommendation-System-for-YT\\notebook\\eda\\MadyaPradesh.png\n",
      "Data Read\n",
      "Null values dropped\n",
      "Tf-idf Generated\n",
      "Sorting Complete\n",
      "Top 5 extraction done\n",
      "Keywords text file create\n",
      "Data File:- C:\\Users\\vgarg\\Documents\\GitHub\\Recommendation-System-for-YT\\notebook\\eda\\youTubeSearchListMaharastra.csv \n",
      " Image File:- C:\\Users\\vgarg\\Documents\\GitHub\\Recommendation-System-for-YT\\notebook\\eda\\Maharastra.png\n",
      "Data Read\n",
      "Null values dropped\n",
      "Tf-idf Generated\n",
      "Sorting Complete\n",
      "Top 5 extraction done\n",
      "Keywords text file create\n",
      "Data File:- C:\\Users\\vgarg\\Documents\\GitHub\\Recommendation-System-for-YT\\notebook\\eda\\youTubeSearchListTamilNadu.csv \n",
      " Image File:- C:\\Users\\vgarg\\Documents\\GitHub\\Recommendation-System-for-YT\\notebook\\eda\\TamilNadu.png\n",
      "Data Read\n",
      "Null values dropped\n",
      "Tf-idf Generated\n",
      "Sorting Complete\n",
      "Top 5 extraction done\n",
      "Keywords text file create\n",
      "Data File:- C:\\Users\\vgarg\\Documents\\GitHub\\Recommendation-System-for-YT\\notebook\\eda\\youTubeSearchListTelangana.csv \n",
      " Image File:- C:\\Users\\vgarg\\Documents\\GitHub\\Recommendation-System-for-YT\\notebook\\eda\\Telangana.png\n",
      "Data Read\n",
      "Null values dropped\n",
      "Tf-idf Generated\n",
      "Sorting Complete\n",
      "Top 5 extraction done\n",
      "Keywords text file create\n",
      "Data File:- C:\\Users\\vgarg\\Documents\\GitHub\\Recommendation-System-for-YT\\notebook\\eda\\youTubeSearchListTripura.csv \n",
      " Image File:- C:\\Users\\vgarg\\Documents\\GitHub\\Recommendation-System-for-YT\\notebook\\eda\\Tripura.png\n",
      "Data Read\n",
      "Null values dropped\n",
      "Tf-idf Generated\n",
      "Sorting Complete\n",
      "Top 5 extraction done\n",
      "Keywords text file create\n",
      "Data File:- C:\\Users\\vgarg\\Documents\\GitHub\\Recommendation-System-for-YT\\notebook\\eda\\youTubeSearchListUttarPradesh.csv \n",
      " Image File:- C:\\Users\\vgarg\\Documents\\GitHub\\Recommendation-System-for-YT\\notebook\\eda\\UttarPradesh.png\n",
      "Data Read\n",
      "Null values dropped\n",
      "Tf-idf Generated\n",
      "Sorting Complete\n",
      "Top 5 extraction done\n",
      "Keywords text file create\n",
      "Data File:- C:\\Users\\vgarg\\Documents\\GitHub\\Recommendation-System-for-YT\\notebook\\eda\\youTubeSearchListWestBengal.csv \n",
      " Image File:- C:\\Users\\vgarg\\Documents\\GitHub\\Recommendation-System-for-YT\\notebook\\eda\\WestBengal.png\n",
      "Data Read\n",
      "Null values dropped\n"
     ]
    }
   ],
   "source": [
    "states_wordcloud = []\n",
    "for image_file, data_file in zip(image_files,data_files):\n",
    "    print( 'Data File:-', data_file, \"\\n\",'Image File:-', image_file)\n",
    "    states_wordcloud.append(tfidf(data_file,image_file))\n",
    "print(\"Total No of state for world cloud:-\",len(states_wordcloud))"
   ]
  },
  {
   "cell_type": "code",
   "execution_count": null,
   "id": "protective-benchmark",
   "metadata": {},
   "outputs": [],
   "source": [
    "# plot the WordCloud image    \n",
    "for state_wordcloud, state in zip(states_wordcloud, states):\n",
    "    plt.figure(figsize = (12,12), facecolor = None)\n",
    "    plt.imshow(state_wordcloud)\n",
    "    plt.axis(\"off\")\n",
    "    plt.tight_layout(pad = 0)\n",
    "    plt.title(state)\n",
    "    plt.show()\n",
    "# plt.imshow(states_wordcloud[1, interpolation='bilinear')"
   ]
  },
  {
   "cell_type": "code",
   "execution_count": null,
   "id": "3b6ebdc1",
   "metadata": {},
   "outputs": [],
   "source": [
    "# tfidf(filename,image)"
   ]
  },
  {
   "cell_type": "code",
   "execution_count": null,
   "id": "703d2c75",
   "metadata": {},
   "outputs": [],
   "source": [
    "# Just try two things to improve ths try to get high res images of states and have increase the wordcounts"
   ]
  },
  {
   "cell_type": "code",
   "execution_count": null,
   "id": "f1d1314f",
   "metadata": {},
   "outputs": [],
   "source": [
    "#No we need o have different paths for different images of the stated and then we can call them for a specific action"
   ]
  },
  {
   "cell_type": "code",
   "execution_count": null,
   "id": "bce4be5d",
   "metadata": {},
   "outputs": [],
   "source": []
  },
  {
   "cell_type": "code",
   "execution_count": null,
   "id": "ec0e45b3",
   "metadata": {},
   "outputs": [],
   "source": [
    "# The bottom part is not needed anymore"
   ]
  },
  {
   "cell_type": "markdown",
   "id": "lucky-marker",
   "metadata": {},
   "source": [
    "## Wordcloud based on top liked and disliked count for youtTube india data"
   ]
  },
  {
   "cell_type": "code",
   "execution_count": null,
   "id": "separate-shock",
   "metadata": {},
   "outputs": [],
   "source": []
  },
  {
   "cell_type": "code",
   "execution_count": null,
   "id": "local-mortgage",
   "metadata": {},
   "outputs": [],
   "source": [
    "\n",
    "# word count\n",
    "i = 0\n",
    "for i in range(2):\n",
    "    if i == 0:\n",
    "        df_eda.sort_values(['likeCount'], ascending=False,axis=0,inplace=True)\n",
    "    else:\n",
    "        df_eda.sort_values(['dislikeCount'], ascending=False,axis=0,inplace=True)\n",
    "    \n",
    "    comment_words = ''\n",
    "    stopwords = set(STOPWORDS)\n",
    "    \n",
    "    # iterate through the csv file\n",
    "    for val in df.description.iloc[0:10000]:\n",
    "         \n",
    "        # typecaste each val to string\n",
    "        val = str(val)\n",
    "     \n",
    "        # split the value\n",
    "        tokens = val.split()\n",
    "        \n",
    "        # Converts each token into lowercase\n",
    "        for i in range(len(tokens)):\n",
    "            tokens[i] = tokens[i].lower()\n",
    "         \n",
    "        comment_words += \" \".join(tokens)+\" \"\n",
    "     \n",
    "    wordcloud = WordCloud(width = 800, height = 800,\n",
    "                    background_color ='white',\n",
    "                    stopwords = stopwords,\n",
    "                    min_font_size = 10).generate(comment_words)\n",
    "     \n",
    "    # plot the WordCloud image                      \n",
    "    plt.figure(figsize = (8, 8), facecolor = None)\n",
    "    plt.imshow(wordcloud)\n",
    "    plt.axis(\"off\")\n",
    "    plt.tight_layout(pad = 0)\n",
    "    plt.title('Top Liked/Disliked Description')\n",
    "         \n",
    "plt.show()"
   ]
  },
  {
   "cell_type": "code",
   "execution_count": null,
   "id": "corrected-mission",
   "metadata": {},
   "outputs": [],
   "source": []
  },
  {
   "cell_type": "code",
   "execution_count": null,
   "id": "military-large",
   "metadata": {},
   "outputs": [],
   "source": []
  }
 ],
 "metadata": {
  "kernelspec": {
   "display_name": "Python 3",
   "language": "python",
   "name": "python3"
  },
  "language_info": {
   "codemirror_mode": {
    "name": "ipython",
    "version": 3
   },
   "file_extension": ".py",
   "mimetype": "text/x-python",
   "name": "python",
   "nbconvert_exporter": "python",
   "pygments_lexer": "ipython3",
   "version": "3.8.3"
  }
 },
 "nbformat": 4,
 "nbformat_minor": 5
}
